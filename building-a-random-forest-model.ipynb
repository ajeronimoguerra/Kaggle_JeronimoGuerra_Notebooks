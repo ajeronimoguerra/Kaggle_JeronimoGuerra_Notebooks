{
 "cells": [
  {
   "cell_type": "markdown",
   "id": "ab4fb196",
   "metadata": {
    "papermill": {
     "duration": 0.01314,
     "end_time": "2024-10-01T12:03:22.939995",
     "exception": false,
     "start_time": "2024-10-01T12:03:22.926855",
     "status": "completed"
    },
    "tags": []
   },
   "source": [
    "# Build a decision tree\n",
    "\n",
    "# Introduction\n",
    "\n",
    "A decision tree model can makes predictions for a target based on multiple features. Because decision trees are used across a wide array of industries, becoming proficient in the process of building one will help you expand your skill set in a widely-applicable way.\n",
    "\n",
    "In this activity, I'll work as a consultant for an airline. The airline is interested in predicting whether a future customer would be satisfied with their services given previous customer feedback about their flight experience. The airline would like to construct and evaluate a model that can accomplish this goal. Specifically, they are interested in knowing which features are most important to customer satisfaction.\n",
    "\n",
    "The data for this activity includes survey responses from 103.904 customers. It includes data points such as class, flight distance, and in-flight entertainment, among others. In this activity, my goal will be to utilize a decision tree model to predict whether or not a customer will be satisfied with their flight experience."
   ]
  },
  {
   "cell_type": "markdown",
   "id": "14cde4fa",
   "metadata": {
    "papermill": {
     "duration": 0.012417,
     "end_time": "2024-10-01T12:03:22.965456",
     "exception": false,
     "start_time": "2024-10-01T12:03:22.953039",
     "status": "completed"
    },
    "tags": []
   },
   "source": [
    "# Step 1: Imports"
   ]
  },
  {
   "cell_type": "markdown",
   "id": "0b8dc28a",
   "metadata": {
    "papermill": {
     "duration": 0.01303,
     "end_time": "2024-10-01T12:03:22.990633",
     "exception": false,
     "start_time": "2024-10-01T12:03:22.977603",
     "status": "completed"
    },
    "tags": []
   },
   "source": [
    "**Import packages**"
   ]
  },
  {
   "cell_type": "code",
   "execution_count": 1,
   "id": "22a2de48",
   "metadata": {
    "execution": {
     "iopub.execute_input": "2024-10-01T12:03:23.018844Z",
     "iopub.status.busy": "2024-10-01T12:03:23.018340Z",
     "iopub.status.idle": "2024-10-01T12:03:26.353099Z",
     "shell.execute_reply": "2024-10-01T12:03:26.351666Z"
    },
    "papermill": {
     "duration": 3.352536,
     "end_time": "2024-10-01T12:03:26.356221",
     "exception": false,
     "start_time": "2024-10-01T12:03:23.003685",
     "status": "completed"
    },
    "tags": []
   },
   "outputs": [],
   "source": [
    "# Standard operational package imports\n",
    "import numpy as np\n",
    "import pandas as pd\n",
    "\n",
    "# Important imports for modeling and evaluation\n",
    "from sklearn.model_selection import train_test_split\n",
    "from sklearn.model_selection import GridSearchCV\n",
    "from sklearn.tree import DecisionTreeClassifier\n",
    "from sklearn.tree import plot_tree\n",
    "import sklearn.metrics as metrics\n",
    "\n",
    "# Visualization package imports\n",
    "import matplotlib.pyplot as plt\n",
    "import seaborn as sns"
   ]
  },
  {
   "cell_type": "markdown",
   "id": "f1333f82",
   "metadata": {
    "papermill": {
     "duration": 0.011897,
     "end_time": "2024-10-01T12:03:26.380268",
     "exception": false,
     "start_time": "2024-10-01T12:03:26.368371",
     "status": "completed"
    },
    "tags": []
   },
   "source": [
    "**Load the dataset**\n",
    "\n",
    "Pandas is used to load the *airline-passenger-satisfaction/train.csv* dataset. The resulting pandas DataFrame is saved in a variable named *data*. "
   ]
  },
  {
   "cell_type": "code",
   "execution_count": 2,
   "id": "340bc826",
   "metadata": {
    "execution": {
     "iopub.execute_input": "2024-10-01T12:03:26.407366Z",
     "iopub.status.busy": "2024-10-01T12:03:26.406088Z",
     "iopub.status.idle": "2024-10-01T12:03:26.959463Z",
     "shell.execute_reply": "2024-10-01T12:03:26.958336Z"
    },
    "papermill": {
     "duration": 0.570061,
     "end_time": "2024-10-01T12:03:26.962466",
     "exception": false,
     "start_time": "2024-10-01T12:03:26.392405",
     "status": "completed"
    },
    "tags": []
   },
   "outputs": [],
   "source": [
    "data = pd.read_csv(\"/kaggle/input/airline-passenger-satisfaction/train.csv\")"
   ]
  },
  {
   "cell_type": "markdown",
   "id": "ac3a587c",
   "metadata": {
    "papermill": {
     "duration": 0.011934,
     "end_time": "2024-10-01T12:03:26.986656",
     "exception": false,
     "start_time": "2024-10-01T12:03:26.974722",
     "status": "completed"
    },
    "tags": []
   },
   "source": [
    "**Output the first 10 rows of data**"
   ]
  },
  {
   "cell_type": "code",
   "execution_count": 3,
   "id": "875e6026",
   "metadata": {
    "execution": {
     "iopub.execute_input": "2024-10-01T12:03:27.013815Z",
     "iopub.status.busy": "2024-10-01T12:03:27.012868Z",
     "iopub.status.idle": "2024-10-01T12:03:27.059241Z",
     "shell.execute_reply": "2024-10-01T12:03:27.057953Z"
    },
    "papermill": {
     "duration": 0.062793,
     "end_time": "2024-10-01T12:03:27.062131",
     "exception": false,
     "start_time": "2024-10-01T12:03:26.999338",
     "status": "completed"
    },
    "tags": []
   },
   "outputs": [
    {
     "data": {
      "text/html": [
       "<div>\n",
       "<style scoped>\n",
       "    .dataframe tbody tr th:only-of-type {\n",
       "        vertical-align: middle;\n",
       "    }\n",
       "\n",
       "    .dataframe tbody tr th {\n",
       "        vertical-align: top;\n",
       "    }\n",
       "\n",
       "    .dataframe thead th {\n",
       "        text-align: right;\n",
       "    }\n",
       "</style>\n",
       "<table border=\"1\" class=\"dataframe\">\n",
       "  <thead>\n",
       "    <tr style=\"text-align: right;\">\n",
       "      <th></th>\n",
       "      <th>Unnamed: 0</th>\n",
       "      <th>id</th>\n",
       "      <th>Gender</th>\n",
       "      <th>Customer Type</th>\n",
       "      <th>Age</th>\n",
       "      <th>Type of Travel</th>\n",
       "      <th>Class</th>\n",
       "      <th>Flight Distance</th>\n",
       "      <th>Inflight wifi service</th>\n",
       "      <th>Departure/Arrival time convenient</th>\n",
       "      <th>...</th>\n",
       "      <th>Inflight entertainment</th>\n",
       "      <th>On-board service</th>\n",
       "      <th>Leg room service</th>\n",
       "      <th>Baggage handling</th>\n",
       "      <th>Checkin service</th>\n",
       "      <th>Inflight service</th>\n",
       "      <th>Cleanliness</th>\n",
       "      <th>Departure Delay in Minutes</th>\n",
       "      <th>Arrival Delay in Minutes</th>\n",
       "      <th>satisfaction</th>\n",
       "    </tr>\n",
       "  </thead>\n",
       "  <tbody>\n",
       "    <tr>\n",
       "      <th>0</th>\n",
       "      <td>0</td>\n",
       "      <td>70172</td>\n",
       "      <td>Male</td>\n",
       "      <td>Loyal Customer</td>\n",
       "      <td>13</td>\n",
       "      <td>Personal Travel</td>\n",
       "      <td>Eco Plus</td>\n",
       "      <td>460</td>\n",
       "      <td>3</td>\n",
       "      <td>4</td>\n",
       "      <td>...</td>\n",
       "      <td>5</td>\n",
       "      <td>4</td>\n",
       "      <td>3</td>\n",
       "      <td>4</td>\n",
       "      <td>4</td>\n",
       "      <td>5</td>\n",
       "      <td>5</td>\n",
       "      <td>25</td>\n",
       "      <td>18.0</td>\n",
       "      <td>neutral or dissatisfied</td>\n",
       "    </tr>\n",
       "    <tr>\n",
       "      <th>1</th>\n",
       "      <td>1</td>\n",
       "      <td>5047</td>\n",
       "      <td>Male</td>\n",
       "      <td>disloyal Customer</td>\n",
       "      <td>25</td>\n",
       "      <td>Business travel</td>\n",
       "      <td>Business</td>\n",
       "      <td>235</td>\n",
       "      <td>3</td>\n",
       "      <td>2</td>\n",
       "      <td>...</td>\n",
       "      <td>1</td>\n",
       "      <td>1</td>\n",
       "      <td>5</td>\n",
       "      <td>3</td>\n",
       "      <td>1</td>\n",
       "      <td>4</td>\n",
       "      <td>1</td>\n",
       "      <td>1</td>\n",
       "      <td>6.0</td>\n",
       "      <td>neutral or dissatisfied</td>\n",
       "    </tr>\n",
       "    <tr>\n",
       "      <th>2</th>\n",
       "      <td>2</td>\n",
       "      <td>110028</td>\n",
       "      <td>Female</td>\n",
       "      <td>Loyal Customer</td>\n",
       "      <td>26</td>\n",
       "      <td>Business travel</td>\n",
       "      <td>Business</td>\n",
       "      <td>1142</td>\n",
       "      <td>2</td>\n",
       "      <td>2</td>\n",
       "      <td>...</td>\n",
       "      <td>5</td>\n",
       "      <td>4</td>\n",
       "      <td>3</td>\n",
       "      <td>4</td>\n",
       "      <td>4</td>\n",
       "      <td>4</td>\n",
       "      <td>5</td>\n",
       "      <td>0</td>\n",
       "      <td>0.0</td>\n",
       "      <td>satisfied</td>\n",
       "    </tr>\n",
       "    <tr>\n",
       "      <th>3</th>\n",
       "      <td>3</td>\n",
       "      <td>24026</td>\n",
       "      <td>Female</td>\n",
       "      <td>Loyal Customer</td>\n",
       "      <td>25</td>\n",
       "      <td>Business travel</td>\n",
       "      <td>Business</td>\n",
       "      <td>562</td>\n",
       "      <td>2</td>\n",
       "      <td>5</td>\n",
       "      <td>...</td>\n",
       "      <td>2</td>\n",
       "      <td>2</td>\n",
       "      <td>5</td>\n",
       "      <td>3</td>\n",
       "      <td>1</td>\n",
       "      <td>4</td>\n",
       "      <td>2</td>\n",
       "      <td>11</td>\n",
       "      <td>9.0</td>\n",
       "      <td>neutral or dissatisfied</td>\n",
       "    </tr>\n",
       "    <tr>\n",
       "      <th>4</th>\n",
       "      <td>4</td>\n",
       "      <td>119299</td>\n",
       "      <td>Male</td>\n",
       "      <td>Loyal Customer</td>\n",
       "      <td>61</td>\n",
       "      <td>Business travel</td>\n",
       "      <td>Business</td>\n",
       "      <td>214</td>\n",
       "      <td>3</td>\n",
       "      <td>3</td>\n",
       "      <td>...</td>\n",
       "      <td>3</td>\n",
       "      <td>3</td>\n",
       "      <td>4</td>\n",
       "      <td>4</td>\n",
       "      <td>3</td>\n",
       "      <td>3</td>\n",
       "      <td>3</td>\n",
       "      <td>0</td>\n",
       "      <td>0.0</td>\n",
       "      <td>satisfied</td>\n",
       "    </tr>\n",
       "    <tr>\n",
       "      <th>5</th>\n",
       "      <td>5</td>\n",
       "      <td>111157</td>\n",
       "      <td>Female</td>\n",
       "      <td>Loyal Customer</td>\n",
       "      <td>26</td>\n",
       "      <td>Personal Travel</td>\n",
       "      <td>Eco</td>\n",
       "      <td>1180</td>\n",
       "      <td>3</td>\n",
       "      <td>4</td>\n",
       "      <td>...</td>\n",
       "      <td>1</td>\n",
       "      <td>3</td>\n",
       "      <td>4</td>\n",
       "      <td>4</td>\n",
       "      <td>4</td>\n",
       "      <td>4</td>\n",
       "      <td>1</td>\n",
       "      <td>0</td>\n",
       "      <td>0.0</td>\n",
       "      <td>neutral or dissatisfied</td>\n",
       "    </tr>\n",
       "    <tr>\n",
       "      <th>6</th>\n",
       "      <td>6</td>\n",
       "      <td>82113</td>\n",
       "      <td>Male</td>\n",
       "      <td>Loyal Customer</td>\n",
       "      <td>47</td>\n",
       "      <td>Personal Travel</td>\n",
       "      <td>Eco</td>\n",
       "      <td>1276</td>\n",
       "      <td>2</td>\n",
       "      <td>4</td>\n",
       "      <td>...</td>\n",
       "      <td>2</td>\n",
       "      <td>3</td>\n",
       "      <td>3</td>\n",
       "      <td>4</td>\n",
       "      <td>3</td>\n",
       "      <td>5</td>\n",
       "      <td>2</td>\n",
       "      <td>9</td>\n",
       "      <td>23.0</td>\n",
       "      <td>neutral or dissatisfied</td>\n",
       "    </tr>\n",
       "    <tr>\n",
       "      <th>7</th>\n",
       "      <td>7</td>\n",
       "      <td>96462</td>\n",
       "      <td>Female</td>\n",
       "      <td>Loyal Customer</td>\n",
       "      <td>52</td>\n",
       "      <td>Business travel</td>\n",
       "      <td>Business</td>\n",
       "      <td>2035</td>\n",
       "      <td>4</td>\n",
       "      <td>3</td>\n",
       "      <td>...</td>\n",
       "      <td>5</td>\n",
       "      <td>5</td>\n",
       "      <td>5</td>\n",
       "      <td>5</td>\n",
       "      <td>4</td>\n",
       "      <td>5</td>\n",
       "      <td>4</td>\n",
       "      <td>4</td>\n",
       "      <td>0.0</td>\n",
       "      <td>satisfied</td>\n",
       "    </tr>\n",
       "    <tr>\n",
       "      <th>8</th>\n",
       "      <td>8</td>\n",
       "      <td>79485</td>\n",
       "      <td>Female</td>\n",
       "      <td>Loyal Customer</td>\n",
       "      <td>41</td>\n",
       "      <td>Business travel</td>\n",
       "      <td>Business</td>\n",
       "      <td>853</td>\n",
       "      <td>1</td>\n",
       "      <td>2</td>\n",
       "      <td>...</td>\n",
       "      <td>1</td>\n",
       "      <td>1</td>\n",
       "      <td>2</td>\n",
       "      <td>1</td>\n",
       "      <td>4</td>\n",
       "      <td>1</td>\n",
       "      <td>2</td>\n",
       "      <td>0</td>\n",
       "      <td>0.0</td>\n",
       "      <td>neutral or dissatisfied</td>\n",
       "    </tr>\n",
       "    <tr>\n",
       "      <th>9</th>\n",
       "      <td>9</td>\n",
       "      <td>65725</td>\n",
       "      <td>Male</td>\n",
       "      <td>disloyal Customer</td>\n",
       "      <td>20</td>\n",
       "      <td>Business travel</td>\n",
       "      <td>Eco</td>\n",
       "      <td>1061</td>\n",
       "      <td>3</td>\n",
       "      <td>3</td>\n",
       "      <td>...</td>\n",
       "      <td>2</td>\n",
       "      <td>2</td>\n",
       "      <td>3</td>\n",
       "      <td>4</td>\n",
       "      <td>4</td>\n",
       "      <td>3</td>\n",
       "      <td>2</td>\n",
       "      <td>0</td>\n",
       "      <td>0.0</td>\n",
       "      <td>neutral or dissatisfied</td>\n",
       "    </tr>\n",
       "  </tbody>\n",
       "</table>\n",
       "<p>10 rows × 25 columns</p>\n",
       "</div>"
      ],
      "text/plain": [
       "   Unnamed: 0      id  Gender      Customer Type  Age   Type of Travel  \\\n",
       "0           0   70172    Male     Loyal Customer   13  Personal Travel   \n",
       "1           1    5047    Male  disloyal Customer   25  Business travel   \n",
       "2           2  110028  Female     Loyal Customer   26  Business travel   \n",
       "3           3   24026  Female     Loyal Customer   25  Business travel   \n",
       "4           4  119299    Male     Loyal Customer   61  Business travel   \n",
       "5           5  111157  Female     Loyal Customer   26  Personal Travel   \n",
       "6           6   82113    Male     Loyal Customer   47  Personal Travel   \n",
       "7           7   96462  Female     Loyal Customer   52  Business travel   \n",
       "8           8   79485  Female     Loyal Customer   41  Business travel   \n",
       "9           9   65725    Male  disloyal Customer   20  Business travel   \n",
       "\n",
       "      Class  Flight Distance  Inflight wifi service  \\\n",
       "0  Eco Plus              460                      3   \n",
       "1  Business              235                      3   \n",
       "2  Business             1142                      2   \n",
       "3  Business              562                      2   \n",
       "4  Business              214                      3   \n",
       "5       Eco             1180                      3   \n",
       "6       Eco             1276                      2   \n",
       "7  Business             2035                      4   \n",
       "8  Business              853                      1   \n",
       "9       Eco             1061                      3   \n",
       "\n",
       "   Departure/Arrival time convenient  ...  Inflight entertainment  \\\n",
       "0                                  4  ...                       5   \n",
       "1                                  2  ...                       1   \n",
       "2                                  2  ...                       5   \n",
       "3                                  5  ...                       2   \n",
       "4                                  3  ...                       3   \n",
       "5                                  4  ...                       1   \n",
       "6                                  4  ...                       2   \n",
       "7                                  3  ...                       5   \n",
       "8                                  2  ...                       1   \n",
       "9                                  3  ...                       2   \n",
       "\n",
       "   On-board service  Leg room service  Baggage handling  Checkin service  \\\n",
       "0                 4                 3                 4                4   \n",
       "1                 1                 5                 3                1   \n",
       "2                 4                 3                 4                4   \n",
       "3                 2                 5                 3                1   \n",
       "4                 3                 4                 4                3   \n",
       "5                 3                 4                 4                4   \n",
       "6                 3                 3                 4                3   \n",
       "7                 5                 5                 5                4   \n",
       "8                 1                 2                 1                4   \n",
       "9                 2                 3                 4                4   \n",
       "\n",
       "   Inflight service  Cleanliness  Departure Delay in Minutes  \\\n",
       "0                 5            5                          25   \n",
       "1                 4            1                           1   \n",
       "2                 4            5                           0   \n",
       "3                 4            2                          11   \n",
       "4                 3            3                           0   \n",
       "5                 4            1                           0   \n",
       "6                 5            2                           9   \n",
       "7                 5            4                           4   \n",
       "8                 1            2                           0   \n",
       "9                 3            2                           0   \n",
       "\n",
       "   Arrival Delay in Minutes             satisfaction  \n",
       "0                      18.0  neutral or dissatisfied  \n",
       "1                       6.0  neutral or dissatisfied  \n",
       "2                       0.0                satisfied  \n",
       "3                       9.0  neutral or dissatisfied  \n",
       "4                       0.0                satisfied  \n",
       "5                       0.0  neutral or dissatisfied  \n",
       "6                      23.0  neutral or dissatisfied  \n",
       "7                       0.0                satisfied  \n",
       "8                       0.0  neutral or dissatisfied  \n",
       "9                       0.0  neutral or dissatisfied  \n",
       "\n",
       "[10 rows x 25 columns]"
      ]
     },
     "execution_count": 3,
     "metadata": {},
     "output_type": "execute_result"
    }
   ],
   "source": [
    "data.head(10)"
   ]
  },
  {
   "cell_type": "markdown",
   "id": "f0711f00",
   "metadata": {
    "papermill": {
     "duration": 0.012354,
     "end_time": "2024-10-01T12:03:27.087617",
     "exception": false,
     "start_time": "2024-10-01T12:03:27.075263",
     "status": "completed"
    },
    "tags": []
   },
   "source": [
    "# Step 2: Data exploration, data cleaning, and model preparation\n",
    "\n",
    "**Prepare the data**\n",
    "\n",
    "After loading the dataset, prepare the data to be suitable for decision tree classifiers. This includes:\n",
    "\n",
    "* Exploring the data\n",
    "* Checking for missing values\n",
    "* Encoding the data\n",
    "* Renaming a column\n",
    "* Creating the training and testing data"
   ]
  },
  {
   "cell_type": "markdown",
   "id": "f0960540",
   "metadata": {
    "papermill": {
     "duration": 0.012505,
     "end_time": "2024-10-01T12:03:27.112848",
     "exception": false,
     "start_time": "2024-10-01T12:03:27.100343",
     "status": "completed"
    },
    "tags": []
   },
   "source": [
    "**Explore the data**\n",
    "\n",
    "Check the data type of each column. Note that decision trees expect numeric data."
   ]
  },
  {
   "cell_type": "code",
   "execution_count": 4,
   "id": "b1416106",
   "metadata": {
    "execution": {
     "iopub.execute_input": "2024-10-01T12:03:27.140048Z",
     "iopub.status.busy": "2024-10-01T12:03:27.139580Z",
     "iopub.status.idle": "2024-10-01T12:03:27.147522Z",
     "shell.execute_reply": "2024-10-01T12:03:27.146411Z"
    },
    "papermill": {
     "duration": 0.024538,
     "end_time": "2024-10-01T12:03:27.150220",
     "exception": false,
     "start_time": "2024-10-01T12:03:27.125682",
     "status": "completed"
    },
    "tags": []
   },
   "outputs": [
    {
     "data": {
      "text/plain": [
       "Index(['Unnamed: 0', 'id', 'Gender', 'Customer Type', 'Age', 'Type of Travel',\n",
       "       'Class', 'Flight Distance', 'Inflight wifi service',\n",
       "       'Departure/Arrival time convenient', 'Ease of Online booking',\n",
       "       'Gate location', 'Food and drink', 'Online boarding', 'Seat comfort',\n",
       "       'Inflight entertainment', 'On-board service', 'Leg room service',\n",
       "       'Baggage handling', 'Checkin service', 'Inflight service',\n",
       "       'Cleanliness', 'Departure Delay in Minutes', 'Arrival Delay in Minutes',\n",
       "       'satisfaction'],\n",
       "      dtype='object')"
      ]
     },
     "execution_count": 4,
     "metadata": {},
     "output_type": "execute_result"
    }
   ],
   "source": [
    "data.columns"
   ]
  },
  {
   "cell_type": "code",
   "execution_count": 5,
   "id": "f9da4b06",
   "metadata": {
    "execution": {
     "iopub.execute_input": "2024-10-01T12:03:27.178236Z",
     "iopub.status.busy": "2024-10-01T12:03:27.177761Z",
     "iopub.status.idle": "2024-10-01T12:03:27.187739Z",
     "shell.execute_reply": "2024-10-01T12:03:27.186490Z"
    },
    "papermill": {
     "duration": 0.027085,
     "end_time": "2024-10-01T12:03:27.190271",
     "exception": false,
     "start_time": "2024-10-01T12:03:27.163186",
     "status": "completed"
    },
    "tags": []
   },
   "outputs": [
    {
     "data": {
      "text/plain": [
       "Unnamed: 0                             int64\n",
       "id                                     int64\n",
       "Gender                                object\n",
       "Customer Type                         object\n",
       "Age                                    int64\n",
       "Type of Travel                        object\n",
       "Class                                 object\n",
       "Flight Distance                        int64\n",
       "Inflight wifi service                  int64\n",
       "Departure/Arrival time convenient      int64\n",
       "Ease of Online booking                 int64\n",
       "Gate location                          int64\n",
       "Food and drink                         int64\n",
       "Online boarding                        int64\n",
       "Seat comfort                           int64\n",
       "Inflight entertainment                 int64\n",
       "On-board service                       int64\n",
       "Leg room service                       int64\n",
       "Baggage handling                       int64\n",
       "Checkin service                        int64\n",
       "Inflight service                       int64\n",
       "Cleanliness                            int64\n",
       "Departure Delay in Minutes             int64\n",
       "Arrival Delay in Minutes             float64\n",
       "satisfaction                          object\n",
       "dtype: object"
      ]
     },
     "execution_count": 5,
     "metadata": {},
     "output_type": "execute_result"
    }
   ],
   "source": [
    "data.dtypes"
   ]
  },
  {
   "cell_type": "markdown",
   "id": "361f47c0",
   "metadata": {
    "papermill": {
     "duration": 0.012851,
     "end_time": "2024-10-01T12:03:27.217050",
     "exception": false,
     "start_time": "2024-10-01T12:03:27.204199",
     "status": "completed"
    },
    "tags": []
   },
   "source": [
    "**Output unique values**\n",
    "\n",
    "The Class column is ordinal (meaning there is an inherent order that is significant). For example, airlines typically charge more for 'Business' than 'Eco Plus' and 'Eco'. Output the unique values in the Class column."
   ]
  },
  {
   "cell_type": "code",
   "execution_count": 6,
   "id": "dd3f88f8",
   "metadata": {
    "execution": {
     "iopub.execute_input": "2024-10-01T12:03:27.247099Z",
     "iopub.status.busy": "2024-10-01T12:03:27.245853Z",
     "iopub.status.idle": "2024-10-01T12:03:27.264833Z",
     "shell.execute_reply": "2024-10-01T12:03:27.263504Z"
    },
    "papermill": {
     "duration": 0.037718,
     "end_time": "2024-10-01T12:03:27.267882",
     "exception": false,
     "start_time": "2024-10-01T12:03:27.230164",
     "status": "completed"
    },
    "tags": []
   },
   "outputs": [
    {
     "name": "stdout",
     "output_type": "stream",
     "text": [
      "Unique classes: ['Eco Plus' 'Business' 'Eco']\n"
     ]
    }
   ],
   "source": [
    "unique_classes = data['Class'].unique()\n",
    "print(\"Unique classes:\", unique_classes)"
   ]
  },
  {
   "cell_type": "markdown",
   "id": "35b06e52",
   "metadata": {
    "papermill": {
     "duration": 0.013284,
     "end_time": "2024-10-01T12:03:27.294631",
     "exception": false,
     "start_time": "2024-10-01T12:03:27.281347",
     "status": "completed"
    },
    "tags": []
   },
   "source": [
    "**Check the counts of the predicted labels**\n",
    "\n",
    "In order to predict customer satisfaction, verify if the dataset is imbalanced. To do this, check the counts of each of the predicted labels."
   ]
  },
  {
   "cell_type": "code",
   "execution_count": 7,
   "id": "6f49831e",
   "metadata": {
    "execution": {
     "iopub.execute_input": "2024-10-01T12:03:27.325243Z",
     "iopub.status.busy": "2024-10-01T12:03:27.323779Z",
     "iopub.status.idle": "2024-10-01T12:03:27.343957Z",
     "shell.execute_reply": "2024-10-01T12:03:27.342633Z"
    },
    "papermill": {
     "duration": 0.037664,
     "end_time": "2024-10-01T12:03:27.346704",
     "exception": false,
     "start_time": "2024-10-01T12:03:27.309040",
     "status": "completed"
    },
    "tags": []
   },
   "outputs": [
    {
     "name": "stdout",
     "output_type": "stream",
     "text": [
      "Customer Satisfaction Counts:\n",
      " satisfaction\n",
      "neutral or dissatisfied    58879\n",
      "satisfied                  45025\n",
      "Name: count, dtype: int64\n"
     ]
    }
   ],
   "source": [
    "# Assuming the target variable is named 'satisfaction'\n",
    "satisfaction_counts = data['satisfaction'].value_counts(dropna=False)\n",
    "\n",
    "print(\"Customer Satisfaction Counts:\\n\", satisfaction_counts)"
   ]
  },
  {
   "cell_type": "code",
   "execution_count": 8,
   "id": "2146b76f",
   "metadata": {
    "execution": {
     "iopub.execute_input": "2024-10-01T12:03:27.375994Z",
     "iopub.status.busy": "2024-10-01T12:03:27.375509Z",
     "iopub.status.idle": "2024-10-01T12:03:27.383450Z",
     "shell.execute_reply": "2024-10-01T12:03:27.382189Z"
    },
    "papermill": {
     "duration": 0.025875,
     "end_time": "2024-10-01T12:03:27.386063",
     "exception": false,
     "start_time": "2024-10-01T12:03:27.360188",
     "status": "completed"
    },
    "tags": []
   },
   "outputs": [
    {
     "name": "stdout",
     "output_type": "stream",
     "text": [
      "satisfaction\n",
      "neutral or dissatisfied    56.666731\n",
      "satisfied                  43.333269\n",
      "Name: count, dtype: float64\n"
     ]
    }
   ],
   "source": [
    "satisfaction_counts_percentages = (satisfaction_counts / len(data)) * 100\n",
    "print(satisfaction_counts_percentages)"
   ]
  },
  {
   "cell_type": "markdown",
   "id": "0814332e",
   "metadata": {
    "papermill": {
     "duration": 0.01341,
     "end_time": "2024-10-01T12:03:27.413137",
     "exception": false,
     "start_time": "2024-10-01T12:03:27.399727",
     "status": "completed"
    },
    "tags": []
   },
   "source": [
    "**Check for missing values**\n",
    "\n",
    "The sklearn decision tree implementation does not support missing values. Check for missing values in the rows of the data."
   ]
  },
  {
   "cell_type": "code",
   "execution_count": 9,
   "id": "a070ae84",
   "metadata": {
    "execution": {
     "iopub.execute_input": "2024-10-01T12:03:27.443510Z",
     "iopub.status.busy": "2024-10-01T12:03:27.443055Z",
     "iopub.status.idle": "2024-10-01T12:03:27.508978Z",
     "shell.execute_reply": "2024-10-01T12:03:27.507190Z"
    },
    "papermill": {
     "duration": 0.08361,
     "end_time": "2024-10-01T12:03:27.511816",
     "exception": false,
     "start_time": "2024-10-01T12:03:27.428206",
     "status": "completed"
    },
    "tags": []
   },
   "outputs": [
    {
     "name": "stdout",
     "output_type": "stream",
     "text": [
      "Missing values:\n",
      " Unnamed: 0                             0\n",
      "id                                     0\n",
      "Gender                                 0\n",
      "Customer Type                          0\n",
      "Age                                    0\n",
      "Type of Travel                         0\n",
      "Class                                  0\n",
      "Flight Distance                        0\n",
      "Inflight wifi service                  0\n",
      "Departure/Arrival time convenient      0\n",
      "Ease of Online booking                 0\n",
      "Gate location                          0\n",
      "Food and drink                         0\n",
      "Online boarding                        0\n",
      "Seat comfort                           0\n",
      "Inflight entertainment                 0\n",
      "On-board service                       0\n",
      "Leg room service                       0\n",
      "Baggage handling                       0\n",
      "Checkin service                        0\n",
      "Inflight service                       0\n",
      "Cleanliness                            0\n",
      "Departure Delay in Minutes             0\n",
      "Arrival Delay in Minutes             310\n",
      "satisfaction                           0\n",
      "dtype: int64\n"
     ]
    }
   ],
   "source": [
    "# Check for missing values\n",
    "missing_values = data.isnull().sum()\n",
    "print(\"Missing values:\\n\", missing_values)"
   ]
  },
  {
   "cell_type": "markdown",
   "id": "6d5c82c9",
   "metadata": {
    "papermill": {
     "duration": 0.0134,
     "end_time": "2024-10-01T12:03:27.539040",
     "exception": false,
     "start_time": "2024-10-01T12:03:27.525640",
     "status": "completed"
    },
    "tags": []
   },
   "source": [
    "**Check the number of rows and columns in the dataset**"
   ]
  },
  {
   "cell_type": "code",
   "execution_count": 10,
   "id": "1e9782b1",
   "metadata": {
    "execution": {
     "iopub.execute_input": "2024-10-01T12:03:27.568352Z",
     "iopub.status.busy": "2024-10-01T12:03:27.567868Z",
     "iopub.status.idle": "2024-10-01T12:03:27.575679Z",
     "shell.execute_reply": "2024-10-01T12:03:27.574659Z"
    },
    "papermill": {
     "duration": 0.025499,
     "end_time": "2024-10-01T12:03:27.578172",
     "exception": false,
     "start_time": "2024-10-01T12:03:27.552673",
     "status": "completed"
    },
    "tags": []
   },
   "outputs": [
    {
     "data": {
      "text/plain": [
       "(103904, 25)"
      ]
     },
     "execution_count": 10,
     "metadata": {},
     "output_type": "execute_result"
    }
   ],
   "source": [
    "data.shape"
   ]
  },
  {
   "cell_type": "markdown",
   "id": "e5ab5958",
   "metadata": {
    "papermill": {
     "duration": 0.013803,
     "end_time": "2024-10-01T12:03:27.606249",
     "exception": false,
     "start_time": "2024-10-01T12:03:27.592446",
     "status": "completed"
    },
    "tags": []
   },
   "source": [
    "**Drop the rows with missing values**\n",
    "\n",
    "Drop the rows with missing values and save the resulting pandas DataFrame in a variable named data_subset."
   ]
  },
  {
   "cell_type": "code",
   "execution_count": 11,
   "id": "116c985a",
   "metadata": {
    "execution": {
     "iopub.execute_input": "2024-10-01T12:03:27.636207Z",
     "iopub.status.busy": "2024-10-01T12:03:27.635553Z",
     "iopub.status.idle": "2024-10-01T12:03:27.725390Z",
     "shell.execute_reply": "2024-10-01T12:03:27.724070Z"
    },
    "papermill": {
     "duration": 0.108037,
     "end_time": "2024-10-01T12:03:27.728146",
     "exception": false,
     "start_time": "2024-10-01T12:03:27.620109",
     "status": "completed"
    },
    "tags": []
   },
   "outputs": [],
   "source": [
    "data_subset = data.dropna(axis=0).reset_index(drop = True)"
   ]
  },
  {
   "cell_type": "markdown",
   "id": "281f39c2",
   "metadata": {
    "papermill": {
     "duration": 0.013303,
     "end_time": "2024-10-01T12:03:27.755655",
     "exception": false,
     "start_time": "2024-10-01T12:03:27.742352",
     "status": "completed"
    },
    "tags": []
   },
   "source": [
    "**Check for missing values**\n",
    "\n",
    "Check that df_subset does not contain any missing values."
   ]
  },
  {
   "cell_type": "code",
   "execution_count": 12,
   "id": "82e86cd4",
   "metadata": {
    "execution": {
     "iopub.execute_input": "2024-10-01T12:03:27.784847Z",
     "iopub.status.busy": "2024-10-01T12:03:27.784400Z",
     "iopub.status.idle": "2024-10-01T12:03:27.850229Z",
     "shell.execute_reply": "2024-10-01T12:03:27.848969Z"
    },
    "papermill": {
     "duration": 0.08389,
     "end_time": "2024-10-01T12:03:27.853238",
     "exception": false,
     "start_time": "2024-10-01T12:03:27.769348",
     "status": "completed"
    },
    "tags": []
   },
   "outputs": [
    {
     "name": "stdout",
     "output_type": "stream",
     "text": [
      "Missing values:\n",
      " Unnamed: 0                           0\n",
      "id                                   0\n",
      "Gender                               0\n",
      "Customer Type                        0\n",
      "Age                                  0\n",
      "Type of Travel                       0\n",
      "Class                                0\n",
      "Flight Distance                      0\n",
      "Inflight wifi service                0\n",
      "Departure/Arrival time convenient    0\n",
      "Ease of Online booking               0\n",
      "Gate location                        0\n",
      "Food and drink                       0\n",
      "Online boarding                      0\n",
      "Seat comfort                         0\n",
      "Inflight entertainment               0\n",
      "On-board service                     0\n",
      "Leg room service                     0\n",
      "Baggage handling                     0\n",
      "Checkin service                      0\n",
      "Inflight service                     0\n",
      "Cleanliness                          0\n",
      "Departure Delay in Minutes           0\n",
      "Arrival Delay in Minutes             0\n",
      "satisfaction                         0\n",
      "dtype: int64\n"
     ]
    }
   ],
   "source": [
    "missing_values = data_subset.isnull().sum()\n",
    "print(\"Missing values:\\n\", missing_values)"
   ]
  },
  {
   "cell_type": "markdown",
   "id": "26fdb19b",
   "metadata": {
    "papermill": {
     "duration": 0.013403,
     "end_time": "2024-10-01T12:03:27.880613",
     "exception": false,
     "start_time": "2024-10-01T12:03:27.867210",
     "status": "completed"
    },
    "tags": []
   },
   "source": [
    "**Check the number of rows and columns in the dataset again**\n",
    "\n",
    "Check how many rows and columns are remaining in the dataset."
   ]
  },
  {
   "cell_type": "code",
   "execution_count": 13,
   "id": "02e8b3d0",
   "metadata": {
    "execution": {
     "iopub.execute_input": "2024-10-01T12:03:27.910021Z",
     "iopub.status.busy": "2024-10-01T12:03:27.909539Z",
     "iopub.status.idle": "2024-10-01T12:03:27.917990Z",
     "shell.execute_reply": "2024-10-01T12:03:27.916323Z"
    },
    "papermill": {
     "duration": 0.026616,
     "end_time": "2024-10-01T12:03:27.921091",
     "exception": false,
     "start_time": "2024-10-01T12:03:27.894475",
     "status": "completed"
    },
    "tags": []
   },
   "outputs": [
    {
     "data": {
      "text/plain": [
       "(103594, 25)"
      ]
     },
     "execution_count": 13,
     "metadata": {},
     "output_type": "execute_result"
    }
   ],
   "source": [
    "data_subset.shape"
   ]
  },
  {
   "cell_type": "markdown",
   "id": "bbb24a34",
   "metadata": {
    "papermill": {
     "duration": 0.015024,
     "end_time": "2024-10-01T12:03:27.950337",
     "exception": false,
     "start_time": "2024-10-01T12:03:27.935313",
     "status": "completed"
    },
    "tags": []
   },
   "source": [
    "**Encode the data**\n",
    "\n",
    "Four columns (satisfaction, Customer Type, Type of Travel, Class) are the pandas dtype object. Decision trees need numeric columns. Start by converting the ordinal Class column into numeric."
   ]
  },
  {
   "cell_type": "code",
   "execution_count": 14,
   "id": "9047b4cc",
   "metadata": {
    "execution": {
     "iopub.execute_input": "2024-10-01T12:03:27.982151Z",
     "iopub.status.busy": "2024-10-01T12:03:27.981685Z",
     "iopub.status.idle": "2024-10-01T12:03:27.998054Z",
     "shell.execute_reply": "2024-10-01T12:03:27.996680Z"
    },
    "papermill": {
     "duration": 0.034218,
     "end_time": "2024-10-01T12:03:28.000642",
     "exception": false,
     "start_time": "2024-10-01T12:03:27.966424",
     "status": "completed"
    },
    "tags": []
   },
   "outputs": [
    {
     "name": "stdout",
     "output_type": "stream",
     "text": [
      "Unique classes: ['Eco Plus' 'Business' 'Eco']\n"
     ]
    }
   ],
   "source": [
    "unique_classes = data['Class'].unique()\n",
    "print(\"Unique classes:\", unique_classes)"
   ]
  },
  {
   "cell_type": "code",
   "execution_count": 15,
   "id": "5f923f18",
   "metadata": {
    "execution": {
     "iopub.execute_input": "2024-10-01T12:03:28.031513Z",
     "iopub.status.busy": "2024-10-01T12:03:28.031063Z",
     "iopub.status.idle": "2024-10-01T12:03:28.049816Z",
     "shell.execute_reply": "2024-10-01T12:03:28.048758Z"
    },
    "papermill": {
     "duration": 0.036977,
     "end_time": "2024-10-01T12:03:28.052340",
     "exception": false,
     "start_time": "2024-10-01T12:03:28.015363",
     "status": "completed"
    },
    "tags": []
   },
   "outputs": [],
   "source": [
    "data_subset['Class'] = data_subset['Class'].map({\"Business\": 3, \"Eco Plus\": 2, \"Eco\": 1}) "
   ]
  },
  {
   "cell_type": "markdown",
   "id": "79c1b9e2",
   "metadata": {
    "papermill": {
     "duration": 0.014535,
     "end_time": "2024-10-01T12:03:28.081092",
     "exception": false,
     "start_time": "2024-10-01T12:03:28.066557",
     "status": "completed"
    },
    "tags": []
   },
   "source": [
    "**Represent the data in the target variable numerically**\n",
    "\n",
    "To represent the data in the target variable numerically, assign \"satisfied\" to the label 1 and \"dissatisfied\" to the label 0 in the satisfaction column."
   ]
  },
  {
   "cell_type": "code",
   "execution_count": 16,
   "id": "c5a4b497",
   "metadata": {
    "execution": {
     "iopub.execute_input": "2024-10-01T12:03:28.112692Z",
     "iopub.status.busy": "2024-10-01T12:03:28.111637Z",
     "iopub.status.idle": "2024-10-01T12:03:28.129977Z",
     "shell.execute_reply": "2024-10-01T12:03:28.128747Z"
    },
    "papermill": {
     "duration": 0.03736,
     "end_time": "2024-10-01T12:03:28.132598",
     "exception": false,
     "start_time": "2024-10-01T12:03:28.095238",
     "status": "completed"
    },
    "tags": []
   },
   "outputs": [],
   "source": [
    "data_subset['satisfaction'] = data_subset['satisfaction'].map({\"satisfied\": 1, \"dissatisfied\": 0})"
   ]
  },
  {
   "cell_type": "markdown",
   "id": "fef44272",
   "metadata": {
    "papermill": {
     "duration": 0.013735,
     "end_time": "2024-10-01T12:03:28.160498",
     "exception": false,
     "start_time": "2024-10-01T12:03:28.146763",
     "status": "completed"
    },
    "tags": []
   },
   "source": [
    "**Convert categorical columns into numeric**\n",
    "\n",
    "There are other columns in the dataset that are still categorical. Be sure to convert categorical columns in the dataset into numeric."
   ]
  },
  {
   "cell_type": "code",
   "execution_count": 17,
   "id": "1b8fa172",
   "metadata": {
    "execution": {
     "iopub.execute_input": "2024-10-01T12:03:28.190253Z",
     "iopub.status.busy": "2024-10-01T12:03:28.189801Z",
     "iopub.status.idle": "2024-10-01T12:03:28.199585Z",
     "shell.execute_reply": "2024-10-01T12:03:28.198326Z"
    },
    "papermill": {
     "duration": 0.02762,
     "end_time": "2024-10-01T12:03:28.202088",
     "exception": false,
     "start_time": "2024-10-01T12:03:28.174468",
     "status": "completed"
    },
    "tags": []
   },
   "outputs": [
    {
     "data": {
      "text/plain": [
       "Unnamed: 0                             int64\n",
       "id                                     int64\n",
       "Gender                                object\n",
       "Customer Type                         object\n",
       "Age                                    int64\n",
       "Type of Travel                        object\n",
       "Class                                  int64\n",
       "Flight Distance                        int64\n",
       "Inflight wifi service                  int64\n",
       "Departure/Arrival time convenient      int64\n",
       "Ease of Online booking                 int64\n",
       "Gate location                          int64\n",
       "Food and drink                         int64\n",
       "Online boarding                        int64\n",
       "Seat comfort                           int64\n",
       "Inflight entertainment                 int64\n",
       "On-board service                       int64\n",
       "Leg room service                       int64\n",
       "Baggage handling                       int64\n",
       "Checkin service                        int64\n",
       "Inflight service                       int64\n",
       "Cleanliness                            int64\n",
       "Departure Delay in Minutes             int64\n",
       "Arrival Delay in Minutes             float64\n",
       "satisfaction                         float64\n",
       "dtype: object"
      ]
     },
     "execution_count": 17,
     "metadata": {},
     "output_type": "execute_result"
    }
   ],
   "source": [
    "data_subset.dtypes"
   ]
  },
  {
   "cell_type": "code",
   "execution_count": 18,
   "id": "08546556",
   "metadata": {
    "execution": {
     "iopub.execute_input": "2024-10-01T12:03:28.232771Z",
     "iopub.status.busy": "2024-10-01T12:03:28.231996Z",
     "iopub.status.idle": "2024-10-01T12:03:28.311719Z",
     "shell.execute_reply": "2024-10-01T12:03:28.310586Z"
    },
    "papermill": {
     "duration": 0.098288,
     "end_time": "2024-10-01T12:03:28.314700",
     "exception": false,
     "start_time": "2024-10-01T12:03:28.216412",
     "status": "completed"
    },
    "tags": []
   },
   "outputs": [],
   "source": [
    "data_subset = pd.get_dummies(data_subset, drop_first=True)"
   ]
  },
  {
   "cell_type": "markdown",
   "id": "6b34de79",
   "metadata": {
    "papermill": {
     "duration": 0.014044,
     "end_time": "2024-10-01T12:03:28.343088",
     "exception": false,
     "start_time": "2024-10-01T12:03:28.329044",
     "status": "completed"
    },
    "tags": []
   },
   "source": [
    "**Check column data types**\n",
    "\n",
    "Now that you have converted categorical columns into numeric, check your column data types."
   ]
  },
  {
   "cell_type": "code",
   "execution_count": 19,
   "id": "576d1420",
   "metadata": {
    "execution": {
     "iopub.execute_input": "2024-10-01T12:03:28.373443Z",
     "iopub.status.busy": "2024-10-01T12:03:28.372966Z",
     "iopub.status.idle": "2024-10-01T12:03:28.383124Z",
     "shell.execute_reply": "2024-10-01T12:03:28.381788Z"
    },
    "papermill": {
     "duration": 0.028394,
     "end_time": "2024-10-01T12:03:28.385727",
     "exception": false,
     "start_time": "2024-10-01T12:03:28.357333",
     "status": "completed"
    },
    "tags": []
   },
   "outputs": [
    {
     "data": {
      "text/plain": [
       "Unnamed: 0                             int64\n",
       "id                                     int64\n",
       "Age                                    int64\n",
       "Class                                  int64\n",
       "Flight Distance                        int64\n",
       "Inflight wifi service                  int64\n",
       "Departure/Arrival time convenient      int64\n",
       "Ease of Online booking                 int64\n",
       "Gate location                          int64\n",
       "Food and drink                         int64\n",
       "Online boarding                        int64\n",
       "Seat comfort                           int64\n",
       "Inflight entertainment                 int64\n",
       "On-board service                       int64\n",
       "Leg room service                       int64\n",
       "Baggage handling                       int64\n",
       "Checkin service                        int64\n",
       "Inflight service                       int64\n",
       "Cleanliness                            int64\n",
       "Departure Delay in Minutes             int64\n",
       "Arrival Delay in Minutes             float64\n",
       "satisfaction                         float64\n",
       "Gender_Male                             bool\n",
       "Customer Type_disloyal Customer         bool\n",
       "Type of Travel_Personal Travel          bool\n",
       "dtype: object"
      ]
     },
     "execution_count": 19,
     "metadata": {},
     "output_type": "execute_result"
    }
   ],
   "source": [
    "data_subset.dtypes"
   ]
  },
  {
   "cell_type": "markdown",
   "id": "ea39159e",
   "metadata": {
    "papermill": {
     "duration": 0.014206,
     "end_time": "2024-10-01T12:03:28.414506",
     "exception": false,
     "start_time": "2024-10-01T12:03:28.400300",
     "status": "completed"
    },
    "tags": []
   },
   "source": [
    "I will use the *Satisfaction* column to create the training and test data from random forest model. I need o check for *Nan* values in it"
   ]
  },
  {
   "cell_type": "code",
   "execution_count": 20,
   "id": "47696b1c",
   "metadata": {
    "execution": {
     "iopub.execute_input": "2024-10-01T12:03:28.446415Z",
     "iopub.status.busy": "2024-10-01T12:03:28.445973Z",
     "iopub.status.idle": "2024-10-01T12:03:28.453537Z",
     "shell.execute_reply": "2024-10-01T12:03:28.452367Z"
    },
    "papermill": {
     "duration": 0.026605,
     "end_time": "2024-10-01T12:03:28.456029",
     "exception": false,
     "start_time": "2024-10-01T12:03:28.429424",
     "status": "completed"
    },
    "tags": []
   },
   "outputs": [
    {
     "name": "stdout",
     "output_type": "stream",
     "text": [
      "Number of NaN values in satisfaction: 58697\n"
     ]
    }
   ],
   "source": [
    "nan_count = data_subset['satisfaction'].isnull().sum()\n",
    "print(\"Number of NaN values in satisfaction:\", nan_count)"
   ]
  },
  {
   "cell_type": "code",
   "execution_count": 21,
   "id": "38aab69d",
   "metadata": {
    "execution": {
     "iopub.execute_input": "2024-10-01T12:03:28.487746Z",
     "iopub.status.busy": "2024-10-01T12:03:28.486762Z",
     "iopub.status.idle": "2024-10-01T12:03:28.499207Z",
     "shell.execute_reply": "2024-10-01T12:03:28.498194Z"
    },
    "papermill": {
     "duration": 0.031372,
     "end_time": "2024-10-01T12:03:28.501961",
     "exception": false,
     "start_time": "2024-10-01T12:03:28.470589",
     "status": "completed"
    },
    "tags": []
   },
   "outputs": [],
   "source": [
    "data_subset = data_subset.dropna(subset=['satisfaction'])"
   ]
  },
  {
   "cell_type": "markdown",
   "id": "9f8a3074",
   "metadata": {
    "papermill": {
     "duration": 0.014213,
     "end_time": "2024-10-01T12:03:28.530613",
     "exception": false,
     "start_time": "2024-10-01T12:03:28.516400",
     "status": "completed"
    },
    "tags": []
   },
   "source": [
    "**Create the training and testing data**\n",
    "\n",
    "Put 75% of the data into a training set and the remaining 25% into a testing set."
   ]
  },
  {
   "cell_type": "code",
   "execution_count": 22,
   "id": "38a3d075",
   "metadata": {
    "execution": {
     "iopub.execute_input": "2024-10-01T12:03:28.561521Z",
     "iopub.status.busy": "2024-10-01T12:03:28.561103Z",
     "iopub.status.idle": "2024-10-01T12:03:28.584320Z",
     "shell.execute_reply": "2024-10-01T12:03:28.582800Z"
    },
    "papermill": {
     "duration": 0.041782,
     "end_time": "2024-10-01T12:03:28.587121",
     "exception": false,
     "start_time": "2024-10-01T12:03:28.545339",
     "status": "completed"
    },
    "tags": []
   },
   "outputs": [],
   "source": [
    "# Assuming your target variable is 'Customer Satisfaction'\n",
    "X = data_subset.copy()\n",
    "X = X.drop(\"satisfaction\", axis = 1)\n",
    "\n",
    "y = data_subset['satisfaction']\n",
    "\n",
    "X_train, X_test, y_train, y_test = train_test_split(X, y, test_size=0.25, random_state=0)"
   ]
  },
  {
   "cell_type": "markdown",
   "id": "f6612f49",
   "metadata": {
    "papermill": {
     "duration": 0.014289,
     "end_time": "2024-10-01T12:03:28.616046",
     "exception": false,
     "start_time": "2024-10-01T12:03:28.601757",
     "status": "completed"
    },
    "tags": []
   },
   "source": [
    "# Step 3: Model building\n",
    "\n",
    "**Fit a decision tree classifier model to the data**\n",
    "\n",
    "Make a decision tree instance called *decision_tree* and pass in *0* to the *random_state* parameter. Fit the model on the training set, use the *predict()* function on the testing set, and assign those predictions to the variable *data_pred*."
   ]
  },
  {
   "cell_type": "code",
   "execution_count": 23,
   "id": "63072798",
   "metadata": {
    "execution": {
     "iopub.execute_input": "2024-10-01T12:03:28.647770Z",
     "iopub.status.busy": "2024-10-01T12:03:28.646956Z",
     "iopub.status.idle": "2024-10-01T12:03:28.670218Z",
     "shell.execute_reply": "2024-10-01T12:03:28.668807Z"
    },
    "papermill": {
     "duration": 0.042892,
     "end_time": "2024-10-01T12:03:28.673384",
     "exception": false,
     "start_time": "2024-10-01T12:03:28.630492",
     "status": "completed"
    },
    "tags": []
   },
   "outputs": [],
   "source": [
    "decision_tree = DecisionTreeClassifier(random_state=0)\n",
    "\n",
    "decision_tree.fit(X_train, y_train)\n",
    "\n",
    "data_pred = decision_tree.predict(X_test)"
   ]
  }
 ],
 "metadata": {
  "kaggle": {
   "accelerator": "none",
   "dataSources": [
    {
     "datasetId": 522275,
     "sourceId": 959195,
     "sourceType": "datasetVersion"
    }
   ],
   "dockerImageVersionId": 30775,
   "isGpuEnabled": false,
   "isInternetEnabled": true,
   "language": "python",
   "sourceType": "notebook"
  },
  "kernelspec": {
   "display_name": "Python 3",
   "language": "python",
   "name": "python3"
  },
  "language_info": {
   "codemirror_mode": {
    "name": "ipython",
    "version": 3
   },
   "file_extension": ".py",
   "mimetype": "text/x-python",
   "name": "python",
   "nbconvert_exporter": "python",
   "pygments_lexer": "ipython3",
   "version": "3.10.14"
  },
  "papermill": {
   "default_parameters": {},
   "duration": 9.728574,
   "end_time": "2024-10-01T12:03:29.411575",
   "environment_variables": {},
   "exception": null,
   "input_path": "__notebook__.ipynb",
   "output_path": "__notebook__.ipynb",
   "parameters": {},
   "start_time": "2024-10-01T12:03:19.683001",
   "version": "2.6.0"
  }
 },
 "nbformat": 4,
 "nbformat_minor": 5
}
