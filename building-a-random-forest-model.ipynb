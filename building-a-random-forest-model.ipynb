{
 "cells": [
  {
   "cell_type": "markdown",
   "id": "1a01e738",
   "metadata": {
    "papermill": {
     "duration": 0.014924,
     "end_time": "2024-10-02T09:51:47.041835",
     "exception": false,
     "start_time": "2024-10-02T09:51:47.026911",
     "status": "completed"
    },
    "tags": []
   },
   "source": [
    "# Build a decision tree\n",
    "\n",
    "# Introduction\n",
    "\n",
    "A decision tree model can makes predictions for a target based on multiple features. Because decision trees are used across a wide array of industries, becoming proficient in the process of building one will help you expand your skill set in a widely-applicable way.\n",
    "\n",
    "In this activity, I'll work as a consultant for an airline. The airline is interested in predicting whether a future customer would be satisfied with their services given previous customer feedback about their flight experience. The airline would like to construct and evaluate a model that can accomplish this goal. Specifically, they are interested in knowing which features are most important to customer satisfaction.\n",
    "\n",
    "The data for this activity includes survey responses from 103.904 customers. It includes data points such as class, flight distance, and in-flight entertainment, among others. In this activity, my goal will be to utilize a decision tree model to predict whether or not a customer will be satisfied with their flight experience."
   ]
  },
  {
   "cell_type": "markdown",
   "id": "6241cce3",
   "metadata": {
    "papermill": {
     "duration": 0.013361,
     "end_time": "2024-10-02T09:51:47.069057",
     "exception": false,
     "start_time": "2024-10-02T09:51:47.055696",
     "status": "completed"
    },
    "tags": []
   },
   "source": [
    "# Step 1: Imports"
   ]
  },
  {
   "cell_type": "markdown",
   "id": "b7487b9b",
   "metadata": {
    "papermill": {
     "duration": 0.014701,
     "end_time": "2024-10-02T09:51:47.097493",
     "exception": false,
     "start_time": "2024-10-02T09:51:47.082792",
     "status": "completed"
    },
    "tags": []
   },
   "source": [
    "**Import packages**"
   ]
  },
  {
   "cell_type": "code",
   "execution_count": 1,
   "id": "0ca6d099",
   "metadata": {
    "execution": {
     "iopub.execute_input": "2024-10-02T09:51:47.130405Z",
     "iopub.status.busy": "2024-10-02T09:51:47.129812Z",
     "iopub.status.idle": "2024-10-02T09:51:50.323657Z",
     "shell.execute_reply": "2024-10-02T09:51:50.322426Z"
    },
    "papermill": {
     "duration": 3.213496,
     "end_time": "2024-10-02T09:51:50.326587",
     "exception": false,
     "start_time": "2024-10-02T09:51:47.113091",
     "status": "completed"
    },
    "tags": []
   },
   "outputs": [],
   "source": [
    "# Standard operational package imports\n",
    "import numpy as np\n",
    "import pandas as pd\n",
    "\n",
    "# Important imports for modeling and evaluation\n",
    "from sklearn.model_selection import train_test_split\n",
    "from sklearn.model_selection import GridSearchCV\n",
    "from sklearn.tree import DecisionTreeClassifier\n",
    "from sklearn.tree import plot_tree\n",
    "import sklearn.metrics as metrics\n",
    "\n",
    "# Visualization package imports\n",
    "import matplotlib.pyplot as plt\n",
    "import seaborn as sns"
   ]
  },
  {
   "cell_type": "markdown",
   "id": "dc69e0f0",
   "metadata": {
    "papermill": {
     "duration": 0.013494,
     "end_time": "2024-10-02T09:51:50.354200",
     "exception": false,
     "start_time": "2024-10-02T09:51:50.340706",
     "status": "completed"
    },
    "tags": []
   },
   "source": [
    "**Load the dataset**\n",
    "\n",
    "Pandas is used to load the *airline-passenger-satisfaction/train.csv* dataset. The resulting pandas DataFrame is saved in a variable named *data*. "
   ]
  },
  {
   "cell_type": "code",
   "execution_count": 2,
   "id": "39715391",
   "metadata": {
    "execution": {
     "iopub.execute_input": "2024-10-02T09:51:50.383732Z",
     "iopub.status.busy": "2024-10-02T09:51:50.383069Z",
     "iopub.status.idle": "2024-10-02T09:51:50.967570Z",
     "shell.execute_reply": "2024-10-02T09:51:50.966328Z"
    },
    "papermill": {
     "duration": 0.602536,
     "end_time": "2024-10-02T09:51:50.970579",
     "exception": false,
     "start_time": "2024-10-02T09:51:50.368043",
     "status": "completed"
    },
    "tags": []
   },
   "outputs": [],
   "source": [
    "data = pd.read_csv(\"/kaggle/input/airline-passenger-satisfaction/train.csv\")"
   ]
  },
  {
   "cell_type": "markdown",
   "id": "cbe5abf6",
   "metadata": {
    "papermill": {
     "duration": 0.013607,
     "end_time": "2024-10-02T09:51:50.997950",
     "exception": false,
     "start_time": "2024-10-02T09:51:50.984343",
     "status": "completed"
    },
    "tags": []
   },
   "source": [
    "**Output the first 10 rows of data**"
   ]
  },
  {
   "cell_type": "code",
   "execution_count": 3,
   "id": "44ba804a",
   "metadata": {
    "execution": {
     "iopub.execute_input": "2024-10-02T09:51:51.027307Z",
     "iopub.status.busy": "2024-10-02T09:51:51.026836Z",
     "iopub.status.idle": "2024-10-02T09:51:51.072642Z",
     "shell.execute_reply": "2024-10-02T09:51:51.071432Z"
    },
    "papermill": {
     "duration": 0.063737,
     "end_time": "2024-10-02T09:51:51.075409",
     "exception": false,
     "start_time": "2024-10-02T09:51:51.011672",
     "status": "completed"
    },
    "tags": []
   },
   "outputs": [
    {
     "data": {
      "text/html": [
       "<div>\n",
       "<style scoped>\n",
       "    .dataframe tbody tr th:only-of-type {\n",
       "        vertical-align: middle;\n",
       "    }\n",
       "\n",
       "    .dataframe tbody tr th {\n",
       "        vertical-align: top;\n",
       "    }\n",
       "\n",
       "    .dataframe thead th {\n",
       "        text-align: right;\n",
       "    }\n",
       "</style>\n",
       "<table border=\"1\" class=\"dataframe\">\n",
       "  <thead>\n",
       "    <tr style=\"text-align: right;\">\n",
       "      <th></th>\n",
       "      <th>Unnamed: 0</th>\n",
       "      <th>id</th>\n",
       "      <th>Gender</th>\n",
       "      <th>Customer Type</th>\n",
       "      <th>Age</th>\n",
       "      <th>Type of Travel</th>\n",
       "      <th>Class</th>\n",
       "      <th>Flight Distance</th>\n",
       "      <th>Inflight wifi service</th>\n",
       "      <th>Departure/Arrival time convenient</th>\n",
       "      <th>...</th>\n",
       "      <th>Inflight entertainment</th>\n",
       "      <th>On-board service</th>\n",
       "      <th>Leg room service</th>\n",
       "      <th>Baggage handling</th>\n",
       "      <th>Checkin service</th>\n",
       "      <th>Inflight service</th>\n",
       "      <th>Cleanliness</th>\n",
       "      <th>Departure Delay in Minutes</th>\n",
       "      <th>Arrival Delay in Minutes</th>\n",
       "      <th>satisfaction</th>\n",
       "    </tr>\n",
       "  </thead>\n",
       "  <tbody>\n",
       "    <tr>\n",
       "      <th>0</th>\n",
       "      <td>0</td>\n",
       "      <td>70172</td>\n",
       "      <td>Male</td>\n",
       "      <td>Loyal Customer</td>\n",
       "      <td>13</td>\n",
       "      <td>Personal Travel</td>\n",
       "      <td>Eco Plus</td>\n",
       "      <td>460</td>\n",
       "      <td>3</td>\n",
       "      <td>4</td>\n",
       "      <td>...</td>\n",
       "      <td>5</td>\n",
       "      <td>4</td>\n",
       "      <td>3</td>\n",
       "      <td>4</td>\n",
       "      <td>4</td>\n",
       "      <td>5</td>\n",
       "      <td>5</td>\n",
       "      <td>25</td>\n",
       "      <td>18.0</td>\n",
       "      <td>neutral or dissatisfied</td>\n",
       "    </tr>\n",
       "    <tr>\n",
       "      <th>1</th>\n",
       "      <td>1</td>\n",
       "      <td>5047</td>\n",
       "      <td>Male</td>\n",
       "      <td>disloyal Customer</td>\n",
       "      <td>25</td>\n",
       "      <td>Business travel</td>\n",
       "      <td>Business</td>\n",
       "      <td>235</td>\n",
       "      <td>3</td>\n",
       "      <td>2</td>\n",
       "      <td>...</td>\n",
       "      <td>1</td>\n",
       "      <td>1</td>\n",
       "      <td>5</td>\n",
       "      <td>3</td>\n",
       "      <td>1</td>\n",
       "      <td>4</td>\n",
       "      <td>1</td>\n",
       "      <td>1</td>\n",
       "      <td>6.0</td>\n",
       "      <td>neutral or dissatisfied</td>\n",
       "    </tr>\n",
       "    <tr>\n",
       "      <th>2</th>\n",
       "      <td>2</td>\n",
       "      <td>110028</td>\n",
       "      <td>Female</td>\n",
       "      <td>Loyal Customer</td>\n",
       "      <td>26</td>\n",
       "      <td>Business travel</td>\n",
       "      <td>Business</td>\n",
       "      <td>1142</td>\n",
       "      <td>2</td>\n",
       "      <td>2</td>\n",
       "      <td>...</td>\n",
       "      <td>5</td>\n",
       "      <td>4</td>\n",
       "      <td>3</td>\n",
       "      <td>4</td>\n",
       "      <td>4</td>\n",
       "      <td>4</td>\n",
       "      <td>5</td>\n",
       "      <td>0</td>\n",
       "      <td>0.0</td>\n",
       "      <td>satisfied</td>\n",
       "    </tr>\n",
       "    <tr>\n",
       "      <th>3</th>\n",
       "      <td>3</td>\n",
       "      <td>24026</td>\n",
       "      <td>Female</td>\n",
       "      <td>Loyal Customer</td>\n",
       "      <td>25</td>\n",
       "      <td>Business travel</td>\n",
       "      <td>Business</td>\n",
       "      <td>562</td>\n",
       "      <td>2</td>\n",
       "      <td>5</td>\n",
       "      <td>...</td>\n",
       "      <td>2</td>\n",
       "      <td>2</td>\n",
       "      <td>5</td>\n",
       "      <td>3</td>\n",
       "      <td>1</td>\n",
       "      <td>4</td>\n",
       "      <td>2</td>\n",
       "      <td>11</td>\n",
       "      <td>9.0</td>\n",
       "      <td>neutral or dissatisfied</td>\n",
       "    </tr>\n",
       "    <tr>\n",
       "      <th>4</th>\n",
       "      <td>4</td>\n",
       "      <td>119299</td>\n",
       "      <td>Male</td>\n",
       "      <td>Loyal Customer</td>\n",
       "      <td>61</td>\n",
       "      <td>Business travel</td>\n",
       "      <td>Business</td>\n",
       "      <td>214</td>\n",
       "      <td>3</td>\n",
       "      <td>3</td>\n",
       "      <td>...</td>\n",
       "      <td>3</td>\n",
       "      <td>3</td>\n",
       "      <td>4</td>\n",
       "      <td>4</td>\n",
       "      <td>3</td>\n",
       "      <td>3</td>\n",
       "      <td>3</td>\n",
       "      <td>0</td>\n",
       "      <td>0.0</td>\n",
       "      <td>satisfied</td>\n",
       "    </tr>\n",
       "    <tr>\n",
       "      <th>5</th>\n",
       "      <td>5</td>\n",
       "      <td>111157</td>\n",
       "      <td>Female</td>\n",
       "      <td>Loyal Customer</td>\n",
       "      <td>26</td>\n",
       "      <td>Personal Travel</td>\n",
       "      <td>Eco</td>\n",
       "      <td>1180</td>\n",
       "      <td>3</td>\n",
       "      <td>4</td>\n",
       "      <td>...</td>\n",
       "      <td>1</td>\n",
       "      <td>3</td>\n",
       "      <td>4</td>\n",
       "      <td>4</td>\n",
       "      <td>4</td>\n",
       "      <td>4</td>\n",
       "      <td>1</td>\n",
       "      <td>0</td>\n",
       "      <td>0.0</td>\n",
       "      <td>neutral or dissatisfied</td>\n",
       "    </tr>\n",
       "    <tr>\n",
       "      <th>6</th>\n",
       "      <td>6</td>\n",
       "      <td>82113</td>\n",
       "      <td>Male</td>\n",
       "      <td>Loyal Customer</td>\n",
       "      <td>47</td>\n",
       "      <td>Personal Travel</td>\n",
       "      <td>Eco</td>\n",
       "      <td>1276</td>\n",
       "      <td>2</td>\n",
       "      <td>4</td>\n",
       "      <td>...</td>\n",
       "      <td>2</td>\n",
       "      <td>3</td>\n",
       "      <td>3</td>\n",
       "      <td>4</td>\n",
       "      <td>3</td>\n",
       "      <td>5</td>\n",
       "      <td>2</td>\n",
       "      <td>9</td>\n",
       "      <td>23.0</td>\n",
       "      <td>neutral or dissatisfied</td>\n",
       "    </tr>\n",
       "    <tr>\n",
       "      <th>7</th>\n",
       "      <td>7</td>\n",
       "      <td>96462</td>\n",
       "      <td>Female</td>\n",
       "      <td>Loyal Customer</td>\n",
       "      <td>52</td>\n",
       "      <td>Business travel</td>\n",
       "      <td>Business</td>\n",
       "      <td>2035</td>\n",
       "      <td>4</td>\n",
       "      <td>3</td>\n",
       "      <td>...</td>\n",
       "      <td>5</td>\n",
       "      <td>5</td>\n",
       "      <td>5</td>\n",
       "      <td>5</td>\n",
       "      <td>4</td>\n",
       "      <td>5</td>\n",
       "      <td>4</td>\n",
       "      <td>4</td>\n",
       "      <td>0.0</td>\n",
       "      <td>satisfied</td>\n",
       "    </tr>\n",
       "    <tr>\n",
       "      <th>8</th>\n",
       "      <td>8</td>\n",
       "      <td>79485</td>\n",
       "      <td>Female</td>\n",
       "      <td>Loyal Customer</td>\n",
       "      <td>41</td>\n",
       "      <td>Business travel</td>\n",
       "      <td>Business</td>\n",
       "      <td>853</td>\n",
       "      <td>1</td>\n",
       "      <td>2</td>\n",
       "      <td>...</td>\n",
       "      <td>1</td>\n",
       "      <td>1</td>\n",
       "      <td>2</td>\n",
       "      <td>1</td>\n",
       "      <td>4</td>\n",
       "      <td>1</td>\n",
       "      <td>2</td>\n",
       "      <td>0</td>\n",
       "      <td>0.0</td>\n",
       "      <td>neutral or dissatisfied</td>\n",
       "    </tr>\n",
       "    <tr>\n",
       "      <th>9</th>\n",
       "      <td>9</td>\n",
       "      <td>65725</td>\n",
       "      <td>Male</td>\n",
       "      <td>disloyal Customer</td>\n",
       "      <td>20</td>\n",
       "      <td>Business travel</td>\n",
       "      <td>Eco</td>\n",
       "      <td>1061</td>\n",
       "      <td>3</td>\n",
       "      <td>3</td>\n",
       "      <td>...</td>\n",
       "      <td>2</td>\n",
       "      <td>2</td>\n",
       "      <td>3</td>\n",
       "      <td>4</td>\n",
       "      <td>4</td>\n",
       "      <td>3</td>\n",
       "      <td>2</td>\n",
       "      <td>0</td>\n",
       "      <td>0.0</td>\n",
       "      <td>neutral or dissatisfied</td>\n",
       "    </tr>\n",
       "  </tbody>\n",
       "</table>\n",
       "<p>10 rows × 25 columns</p>\n",
       "</div>"
      ],
      "text/plain": [
       "   Unnamed: 0      id  Gender      Customer Type  Age   Type of Travel  \\\n",
       "0           0   70172    Male     Loyal Customer   13  Personal Travel   \n",
       "1           1    5047    Male  disloyal Customer   25  Business travel   \n",
       "2           2  110028  Female     Loyal Customer   26  Business travel   \n",
       "3           3   24026  Female     Loyal Customer   25  Business travel   \n",
       "4           4  119299    Male     Loyal Customer   61  Business travel   \n",
       "5           5  111157  Female     Loyal Customer   26  Personal Travel   \n",
       "6           6   82113    Male     Loyal Customer   47  Personal Travel   \n",
       "7           7   96462  Female     Loyal Customer   52  Business travel   \n",
       "8           8   79485  Female     Loyal Customer   41  Business travel   \n",
       "9           9   65725    Male  disloyal Customer   20  Business travel   \n",
       "\n",
       "      Class  Flight Distance  Inflight wifi service  \\\n",
       "0  Eco Plus              460                      3   \n",
       "1  Business              235                      3   \n",
       "2  Business             1142                      2   \n",
       "3  Business              562                      2   \n",
       "4  Business              214                      3   \n",
       "5       Eco             1180                      3   \n",
       "6       Eco             1276                      2   \n",
       "7  Business             2035                      4   \n",
       "8  Business              853                      1   \n",
       "9       Eco             1061                      3   \n",
       "\n",
       "   Departure/Arrival time convenient  ...  Inflight entertainment  \\\n",
       "0                                  4  ...                       5   \n",
       "1                                  2  ...                       1   \n",
       "2                                  2  ...                       5   \n",
       "3                                  5  ...                       2   \n",
       "4                                  3  ...                       3   \n",
       "5                                  4  ...                       1   \n",
       "6                                  4  ...                       2   \n",
       "7                                  3  ...                       5   \n",
       "8                                  2  ...                       1   \n",
       "9                                  3  ...                       2   \n",
       "\n",
       "   On-board service  Leg room service  Baggage handling  Checkin service  \\\n",
       "0                 4                 3                 4                4   \n",
       "1                 1                 5                 3                1   \n",
       "2                 4                 3                 4                4   \n",
       "3                 2                 5                 3                1   \n",
       "4                 3                 4                 4                3   \n",
       "5                 3                 4                 4                4   \n",
       "6                 3                 3                 4                3   \n",
       "7                 5                 5                 5                4   \n",
       "8                 1                 2                 1                4   \n",
       "9                 2                 3                 4                4   \n",
       "\n",
       "   Inflight service  Cleanliness  Departure Delay in Minutes  \\\n",
       "0                 5            5                          25   \n",
       "1                 4            1                           1   \n",
       "2                 4            5                           0   \n",
       "3                 4            2                          11   \n",
       "4                 3            3                           0   \n",
       "5                 4            1                           0   \n",
       "6                 5            2                           9   \n",
       "7                 5            4                           4   \n",
       "8                 1            2                           0   \n",
       "9                 3            2                           0   \n",
       "\n",
       "   Arrival Delay in Minutes             satisfaction  \n",
       "0                      18.0  neutral or dissatisfied  \n",
       "1                       6.0  neutral or dissatisfied  \n",
       "2                       0.0                satisfied  \n",
       "3                       9.0  neutral or dissatisfied  \n",
       "4                       0.0                satisfied  \n",
       "5                       0.0  neutral or dissatisfied  \n",
       "6                      23.0  neutral or dissatisfied  \n",
       "7                       0.0                satisfied  \n",
       "8                       0.0  neutral or dissatisfied  \n",
       "9                       0.0  neutral or dissatisfied  \n",
       "\n",
       "[10 rows x 25 columns]"
      ]
     },
     "execution_count": 3,
     "metadata": {},
     "output_type": "execute_result"
    }
   ],
   "source": [
    "data.head(10)"
   ]
  },
  {
   "cell_type": "markdown",
   "id": "9e571984",
   "metadata": {
    "papermill": {
     "duration": 0.014435,
     "end_time": "2024-10-02T09:51:51.105053",
     "exception": false,
     "start_time": "2024-10-02T09:51:51.090618",
     "status": "completed"
    },
    "tags": []
   },
   "source": [
    "# Step 2: Data exploration, data cleaning, and model preparation\n",
    "\n",
    "**Prepare the data**\n",
    "\n",
    "After loading the dataset, prepare the data to be suitable for decision tree classifiers. This includes:\n",
    "\n",
    "* Exploring the data\n",
    "* Checking for missing values\n",
    "* Encoding the data\n",
    "* Renaming a column\n",
    "* Creating the training and testing data"
   ]
  },
  {
   "cell_type": "markdown",
   "id": "228d21d6",
   "metadata": {
    "papermill": {
     "duration": 0.015035,
     "end_time": "2024-10-02T09:51:51.135316",
     "exception": false,
     "start_time": "2024-10-02T09:51:51.120281",
     "status": "completed"
    },
    "tags": []
   },
   "source": [
    "**Explore the data**\n",
    "\n",
    "Check the data type of each column. Note that decision trees expect numeric data."
   ]
  },
  {
   "cell_type": "code",
   "execution_count": 4,
   "id": "dfc264ac",
   "metadata": {
    "execution": {
     "iopub.execute_input": "2024-10-02T09:51:51.166672Z",
     "iopub.status.busy": "2024-10-02T09:51:51.166139Z",
     "iopub.status.idle": "2024-10-02T09:51:51.174861Z",
     "shell.execute_reply": "2024-10-02T09:51:51.173537Z"
    },
    "papermill": {
     "duration": 0.027132,
     "end_time": "2024-10-02T09:51:51.177550",
     "exception": false,
     "start_time": "2024-10-02T09:51:51.150418",
     "status": "completed"
    },
    "tags": []
   },
   "outputs": [
    {
     "data": {
      "text/plain": [
       "Index(['Unnamed: 0', 'id', 'Gender', 'Customer Type', 'Age', 'Type of Travel',\n",
       "       'Class', 'Flight Distance', 'Inflight wifi service',\n",
       "       'Departure/Arrival time convenient', 'Ease of Online booking',\n",
       "       'Gate location', 'Food and drink', 'Online boarding', 'Seat comfort',\n",
       "       'Inflight entertainment', 'On-board service', 'Leg room service',\n",
       "       'Baggage handling', 'Checkin service', 'Inflight service',\n",
       "       'Cleanliness', 'Departure Delay in Minutes', 'Arrival Delay in Minutes',\n",
       "       'satisfaction'],\n",
       "      dtype='object')"
      ]
     },
     "execution_count": 4,
     "metadata": {},
     "output_type": "execute_result"
    }
   ],
   "source": [
    "data.columns"
   ]
  },
  {
   "cell_type": "code",
   "execution_count": 5,
   "id": "28f0b9ea",
   "metadata": {
    "execution": {
     "iopub.execute_input": "2024-10-02T09:51:51.209156Z",
     "iopub.status.busy": "2024-10-02T09:51:51.208697Z",
     "iopub.status.idle": "2024-10-02T09:51:51.218841Z",
     "shell.execute_reply": "2024-10-02T09:51:51.217700Z"
    },
    "papermill": {
     "duration": 0.028933,
     "end_time": "2024-10-02T09:51:51.221427",
     "exception": false,
     "start_time": "2024-10-02T09:51:51.192494",
     "status": "completed"
    },
    "tags": []
   },
   "outputs": [
    {
     "data": {
      "text/plain": [
       "Unnamed: 0                             int64\n",
       "id                                     int64\n",
       "Gender                                object\n",
       "Customer Type                         object\n",
       "Age                                    int64\n",
       "Type of Travel                        object\n",
       "Class                                 object\n",
       "Flight Distance                        int64\n",
       "Inflight wifi service                  int64\n",
       "Departure/Arrival time convenient      int64\n",
       "Ease of Online booking                 int64\n",
       "Gate location                          int64\n",
       "Food and drink                         int64\n",
       "Online boarding                        int64\n",
       "Seat comfort                           int64\n",
       "Inflight entertainment                 int64\n",
       "On-board service                       int64\n",
       "Leg room service                       int64\n",
       "Baggage handling                       int64\n",
       "Checkin service                        int64\n",
       "Inflight service                       int64\n",
       "Cleanliness                            int64\n",
       "Departure Delay in Minutes             int64\n",
       "Arrival Delay in Minutes             float64\n",
       "satisfaction                          object\n",
       "dtype: object"
      ]
     },
     "execution_count": 5,
     "metadata": {},
     "output_type": "execute_result"
    }
   ],
   "source": [
    "data.dtypes"
   ]
  },
  {
   "cell_type": "markdown",
   "id": "19e1229f",
   "metadata": {
    "papermill": {
     "duration": 0.01453,
     "end_time": "2024-10-02T09:51:51.252338",
     "exception": false,
     "start_time": "2024-10-02T09:51:51.237808",
     "status": "completed"
    },
    "tags": []
   },
   "source": [
    "**Output unique values**\n",
    "\n",
    "The Class column is ordinal (meaning there is an inherent order that is significant). For example, airlines typically charge more for 'Business' than 'Eco Plus' and 'Eco'. Output the unique values in the Class column."
   ]
  },
  {
   "cell_type": "code",
   "execution_count": 6,
   "id": "6aa249f2",
   "metadata": {
    "execution": {
     "iopub.execute_input": "2024-10-02T09:51:51.284703Z",
     "iopub.status.busy": "2024-10-02T09:51:51.283496Z",
     "iopub.status.idle": "2024-10-02T09:51:51.302754Z",
     "shell.execute_reply": "2024-10-02T09:51:51.301173Z"
    },
    "papermill": {
     "duration": 0.038295,
     "end_time": "2024-10-02T09:51:51.305369",
     "exception": false,
     "start_time": "2024-10-02T09:51:51.267074",
     "status": "completed"
    },
    "tags": []
   },
   "outputs": [
    {
     "name": "stdout",
     "output_type": "stream",
     "text": [
      "Unique classes: ['Eco Plus' 'Business' 'Eco']\n"
     ]
    }
   ],
   "source": [
    "unique_classes = data['Class'].unique()\n",
    "print(\"Unique classes:\", unique_classes)"
   ]
  },
  {
   "cell_type": "markdown",
   "id": "65584137",
   "metadata": {
    "papermill": {
     "duration": 0.014614,
     "end_time": "2024-10-02T09:51:51.334903",
     "exception": false,
     "start_time": "2024-10-02T09:51:51.320289",
     "status": "completed"
    },
    "tags": []
   },
   "source": [
    "**Check the counts of the predicted labels**\n",
    "\n",
    "In order to predict customer satisfaction, verify if the dataset is imbalanced. To do this, check the counts of each of the predicted labels."
   ]
  },
  {
   "cell_type": "code",
   "execution_count": 7,
   "id": "eaa42f30",
   "metadata": {
    "execution": {
     "iopub.execute_input": "2024-10-02T09:51:51.366742Z",
     "iopub.status.busy": "2024-10-02T09:51:51.366254Z",
     "iopub.status.idle": "2024-10-02T09:51:51.385761Z",
     "shell.execute_reply": "2024-10-02T09:51:51.384375Z"
    },
    "papermill": {
     "duration": 0.038553,
     "end_time": "2024-10-02T09:51:51.388458",
     "exception": false,
     "start_time": "2024-10-02T09:51:51.349905",
     "status": "completed"
    },
    "tags": []
   },
   "outputs": [
    {
     "name": "stdout",
     "output_type": "stream",
     "text": [
      "Customer Satisfaction Counts:\n",
      " satisfaction\n",
      "neutral or dissatisfied    58879\n",
      "satisfied                  45025\n",
      "Name: count, dtype: int64\n"
     ]
    }
   ],
   "source": [
    "# Assuming the target variable is named 'satisfaction'\n",
    "satisfaction_counts = data['satisfaction'].value_counts(dropna=False)\n",
    "\n",
    "print(\"Customer Satisfaction Counts:\\n\", satisfaction_counts)"
   ]
  },
  {
   "cell_type": "code",
   "execution_count": 8,
   "id": "93584083",
   "metadata": {
    "execution": {
     "iopub.execute_input": "2024-10-02T09:51:51.421196Z",
     "iopub.status.busy": "2024-10-02T09:51:51.420732Z",
     "iopub.status.idle": "2024-10-02T09:51:51.428158Z",
     "shell.execute_reply": "2024-10-02T09:51:51.426952Z"
    },
    "papermill": {
     "duration": 0.02749,
     "end_time": "2024-10-02T09:51:51.431211",
     "exception": false,
     "start_time": "2024-10-02T09:51:51.403721",
     "status": "completed"
    },
    "tags": []
   },
   "outputs": [
    {
     "name": "stdout",
     "output_type": "stream",
     "text": [
      "satisfaction\n",
      "neutral or dissatisfied    56.666731\n",
      "satisfied                  43.333269\n",
      "Name: count, dtype: float64\n"
     ]
    }
   ],
   "source": [
    "satisfaction_counts_percentages = (satisfaction_counts / len(data)) * 100\n",
    "print(satisfaction_counts_percentages)"
   ]
  },
  {
   "cell_type": "code",
   "execution_count": 9,
   "id": "009204fb",
   "metadata": {
    "execution": {
     "iopub.execute_input": "2024-10-02T09:51:51.463341Z",
     "iopub.status.busy": "2024-10-02T09:51:51.462920Z",
     "iopub.status.idle": "2024-10-02T09:51:51.642618Z",
     "shell.execute_reply": "2024-10-02T09:51:51.640758Z"
    },
    "papermill": {
     "duration": 0.201514,
     "end_time": "2024-10-02T09:51:51.647819",
     "exception": false,
     "start_time": "2024-10-02T09:51:51.446305",
     "status": "completed"
    },
    "tags": []
   },
   "outputs": [
    {
     "data": {
      "image/png": "[encoded data removed]",
      "text/plain": [
       "<Figure size 640x480 with 1 Axes>"
      ]
     },
     "metadata": {},
     "output_type": "display_data"
    }
   ],
   "source": [
    "plt.pie(data.satisfaction.value_counts(), labels = [\"Neutral or dissatisfied\", \"Satisfied\"], colors = sns.color_palette(\"YlOrBr\"), autopct = '%1.1f%%')\n",
    "pass"
   ]
  },
  {
   "cell_type": "markdown",
   "id": "5a69ab90",
   "metadata": {
    "papermill": {
     "duration": 0.031847,
     "end_time": "2024-10-02T09:51:51.712346",
     "exception": false,
     "start_time": "2024-10-02T09:51:51.680499",
     "status": "completed"
    },
    "tags": []
   },
   "source": [
    "**Check for missing values**\n",
    "\n",
    "The sklearn decision tree implementation does not support missing values. Check for missing values in the rows of the data."
   ]
  },
  {
   "cell_type": "code",
   "execution_count": 10,
   "id": "d7c6a2ef",
   "metadata": {
    "execution": {
     "iopub.execute_input": "2024-10-02T09:51:51.749720Z",
     "iopub.status.busy": "2024-10-02T09:51:51.749098Z",
     "iopub.status.idle": "2024-10-02T09:51:51.815851Z",
     "shell.execute_reply": "2024-10-02T09:51:51.814395Z"
    },
    "papermill": {
     "duration": 0.086577,
     "end_time": "2024-10-02T09:51:51.818807",
     "exception": false,
     "start_time": "2024-10-02T09:51:51.732230",
     "status": "completed"
    },
    "tags": []
   },
   "outputs": [
    {
     "name": "stdout",
     "output_type": "stream",
     "text": [
      "Missing values:\n",
      " Unnamed: 0                             0\n",
      "id                                     0\n",
      "Gender                                 0\n",
      "Customer Type                          0\n",
      "Age                                    0\n",
      "Type of Travel                         0\n",
      "Class                                  0\n",
      "Flight Distance                        0\n",
      "Inflight wifi service                  0\n",
      "Departure/Arrival time convenient      0\n",
      "Ease of Online booking                 0\n",
      "Gate location                          0\n",
      "Food and drink                         0\n",
      "Online boarding                        0\n",
      "Seat comfort                           0\n",
      "Inflight entertainment                 0\n",
      "On-board service                       0\n",
      "Leg room service                       0\n",
      "Baggage handling                       0\n",
      "Checkin service                        0\n",
      "Inflight service                       0\n",
      "Cleanliness                            0\n",
      "Departure Delay in Minutes             0\n",
      "Arrival Delay in Minutes             310\n",
      "satisfaction                           0\n",
      "dtype: int64\n"
     ]
    }
   ],
   "source": [
    "# Check for missing values\n",
    "missing_values = data.isnull().sum()\n",
    "print(\"Missing values:\\n\", missing_values)"
   ]
  },
  {
   "cell_type": "markdown",
   "id": "64672c4d",
   "metadata": {
    "papermill": {
     "duration": 0.015296,
     "end_time": "2024-10-02T09:51:51.849814",
     "exception": false,
     "start_time": "2024-10-02T09:51:51.834518",
     "status": "completed"
    },
    "tags": []
   },
   "source": [
    "**Check the number of rows and columns in the dataset**"
   ]
  },
  {
   "cell_type": "code",
   "execution_count": 11,
   "id": "b0545151",
   "metadata": {
    "execution": {
     "iopub.execute_input": "2024-10-02T09:51:51.883039Z",
     "iopub.status.busy": "2024-10-02T09:51:51.882542Z",
     "iopub.status.idle": "2024-10-02T09:51:51.890561Z",
     "shell.execute_reply": "2024-10-02T09:51:51.889348Z"
    },
    "papermill": {
     "duration": 0.027767,
     "end_time": "2024-10-02T09:51:51.893229",
     "exception": false,
     "start_time": "2024-10-02T09:51:51.865462",
     "status": "completed"
    },
    "tags": []
   },
   "outputs": [
    {
     "data": {
      "text/plain": [
       "(103904, 25)"
      ]
     },
     "execution_count": 11,
     "metadata": {},
     "output_type": "execute_result"
    }
   ],
   "source": [
    "data.shape"
   ]
  },
  {
   "cell_type": "markdown",
   "id": "eea495f6",
   "metadata": {
    "papermill": {
     "duration": 0.01636,
     "end_time": "2024-10-02T09:51:51.925656",
     "exception": false,
     "start_time": "2024-10-02T09:51:51.909296",
     "status": "completed"
    },
    "tags": []
   },
   "source": [
    "**Drop the rows with missing values**\n",
    "\n",
    "Drop the rows with missing values and save the resulting pandas DataFrame in a variable named data_subset."
   ]
  },
  {
   "cell_type": "code",
   "execution_count": 12,
   "id": "c99553cb",
   "metadata": {
    "execution": {
     "iopub.execute_input": "2024-10-02T09:51:51.959355Z",
     "iopub.status.busy": "2024-10-02T09:51:51.958470Z",
     "iopub.status.idle": "2024-10-02T09:51:52.046431Z",
     "shell.execute_reply": "2024-10-02T09:51:52.045361Z"
    },
    "papermill": {
     "duration": 0.107811,
     "end_time": "2024-10-02T09:51:52.049322",
     "exception": false,
     "start_time": "2024-10-02T09:51:51.941511",
     "status": "completed"
    },
    "tags": []
   },
   "outputs": [],
   "source": [
    "data_subset = data.dropna(axis=0).reset_index(drop = True)"
   ]
  },
  {
   "cell_type": "markdown",
   "id": "c736a402",
   "metadata": {
    "papermill": {
     "duration": 0.015812,
     "end_time": "2024-10-02T09:51:52.082428",
     "exception": false,
     "start_time": "2024-10-02T09:51:52.066616",
     "status": "completed"
    },
    "tags": []
   },
   "source": [
    "**Check for missing values**\n",
    "\n",
    "Check that df_subset does not contain any missing values."
   ]
  },
  {
   "cell_type": "code",
   "execution_count": 13,
   "id": "c9a47da2",
   "metadata": {
    "execution": {
     "iopub.execute_input": "2024-10-02T09:51:52.116074Z",
     "iopub.status.busy": "2024-10-02T09:51:52.115132Z",
     "iopub.status.idle": "2024-10-02T09:51:52.179585Z",
     "shell.execute_reply": "2024-10-02T09:51:52.178362Z"
    },
    "papermill": {
     "duration": 0.084433,
     "end_time": "2024-10-02T09:51:52.182525",
     "exception": false,
     "start_time": "2024-10-02T09:51:52.098092",
     "status": "completed"
    },
    "tags": []
   },
   "outputs": [
    {
     "name": "stdout",
     "output_type": "stream",
     "text": [
      "Missing values:\n",
      " Unnamed: 0                           0\n",
      "id                                   0\n",
      "Gender                               0\n",
      "Customer Type                        0\n",
      "Age                                  0\n",
      "Type of Travel                       0\n",
      "Class                                0\n",
      "Flight Distance                      0\n",
      "Inflight wifi service                0\n",
      "Departure/Arrival time convenient    0\n",
      "Ease of Online booking               0\n",
      "Gate location                        0\n",
      "Food and drink                       0\n",
      "Online boarding                      0\n",
      "Seat comfort                         0\n",
      "Inflight entertainment               0\n",
      "On-board service                     0\n",
      "Leg room service                     0\n",
      "Baggage handling                     0\n",
      "Checkin service                      0\n",
      "Inflight service                     0\n",
      "Cleanliness                          0\n",
      "Departure Delay in Minutes           0\n",
      "Arrival Delay in Minutes             0\n",
      "satisfaction                         0\n",
      "dtype: int64\n"
     ]
    }
   ],
   "source": [
    "missing_values = data_subset.isnull().sum()\n",
    "print(\"Missing values:\\n\", missing_values)"
   ]
  },
  {
   "cell_type": "markdown",
   "id": "4ffae605",
   "metadata": {
    "papermill": {
     "duration": 0.0203,
     "end_time": "2024-10-02T09:51:52.223987",
     "exception": false,
     "start_time": "2024-10-02T09:51:52.203687",
     "status": "completed"
    },
    "tags": []
   },
   "source": [
    "**Check the number of rows and columns in the dataset again**\n",
    "\n",
    "Check how many rows and columns are remaining in the dataset."
   ]
  },
  {
   "cell_type": "code",
   "execution_count": 14,
   "id": "e5ae5fd3",
   "metadata": {
    "execution": {
     "iopub.execute_input": "2024-10-02T09:51:52.266052Z",
     "iopub.status.busy": "2024-10-02T09:51:52.265603Z",
     "iopub.status.idle": "2024-10-02T09:51:52.272891Z",
     "shell.execute_reply": "2024-10-02T09:51:52.271756Z"
    },
    "papermill": {
     "duration": 0.027698,
     "end_time": "2024-10-02T09:51:52.275363",
     "exception": false,
     "start_time": "2024-10-02T09:51:52.247665",
     "status": "completed"
    },
    "tags": []
   },
   "outputs": [
    {
     "data": {
      "text/plain": [
       "(103594, 25)"
      ]
     },
     "execution_count": 14,
     "metadata": {},
     "output_type": "execute_result"
    }
   ],
   "source": [
    "data_subset.shape"
   ]
  },
  {
   "cell_type": "markdown",
   "id": "46ecee05",
   "metadata": {
    "papermill": {
     "duration": 0.018638,
     "end_time": "2024-10-02T09:51:52.310060",
     "exception": false,
     "start_time": "2024-10-02T09:51:52.291422",
     "status": "completed"
    },
    "tags": []
   },
   "source": [
    "**Encode the data**\n",
    "\n",
    "Four columns (satisfaction, Customer Type, Type of Travel, Class) are the pandas dtype object. Decision trees need numeric columns. Start by converting the ordinal Class column into numeric."
   ]
  },
  {
   "cell_type": "code",
   "execution_count": 15,
   "id": "1c5d3b56",
   "metadata": {
    "execution": {
     "iopub.execute_input": "2024-10-02T09:51:52.348801Z",
     "iopub.status.busy": "2024-10-02T09:51:52.348311Z",
     "iopub.status.idle": "2024-10-02T09:51:52.365245Z",
     "shell.execute_reply": "2024-10-02T09:51:52.363824Z"
    },
    "papermill": {
     "duration": 0.039582,
     "end_time": "2024-10-02T09:51:52.368494",
     "exception": false,
     "start_time": "2024-10-02T09:51:52.328912",
     "status": "completed"
    },
    "tags": []
   },
   "outputs": [
    {
     "name": "stdout",
     "output_type": "stream",
     "text": [
      "Unique classes: ['Eco Plus' 'Business' 'Eco']\n"
     ]
    }
   ],
   "source": [
    "unique_classes = data['Class'].unique()\n",
    "print(\"Unique classes:\", unique_classes)"
   ]
  },
  {
   "cell_type": "code",
   "execution_count": 16,
   "id": "4c537c7f",
   "metadata": {
    "execution": {
     "iopub.execute_input": "2024-10-02T09:51:52.420521Z",
     "iopub.status.busy": "2024-10-02T09:51:52.419876Z",
     "iopub.status.idle": "2024-10-02T09:51:52.446726Z",
     "shell.execute_reply": "2024-10-02T09:51:52.445070Z"
    },
    "papermill": {
     "duration": 0.056765,
     "end_time": "2024-10-02T09:51:52.450102",
     "exception": false,
     "start_time": "2024-10-02T09:51:52.393337",
     "status": "completed"
    },
    "tags": []
   },
   "outputs": [],
   "source": [
    "data_subset['Class'] = data_subset['Class'].map({\"Business\": 3, \"Eco Plus\": 2, \"Eco\": 1}) "
   ]
  },
  {
   "cell_type": "markdown",
   "id": "a42d1ad2",
   "metadata": {
    "papermill": {
     "duration": 0.018237,
     "end_time": "2024-10-02T09:51:52.492290",
     "exception": false,
     "start_time": "2024-10-02T09:51:52.474053",
     "status": "completed"
    },
    "tags": []
   },
   "source": [
    "**Represent the data in the target variable numerically**\n",
    "\n",
    "To represent the data in the target variable numerically, assign \"satisfied\" to the label 1 and \"dissatisfied\" to the label 0 in the satisfaction column."
   ]
  },
  {
   "cell_type": "code",
   "execution_count": 17,
   "id": "aeed51fd",
   "metadata": {
    "execution": {
     "iopub.execute_input": "2024-10-02T09:51:52.529146Z",
     "iopub.status.busy": "2024-10-02T09:51:52.528707Z",
     "iopub.status.idle": "2024-10-02T09:51:52.547600Z",
     "shell.execute_reply": "2024-10-02T09:51:52.546326Z"
    },
    "papermill": {
     "duration": 0.039714,
     "end_time": "2024-10-02T09:51:52.550314",
     "exception": false,
     "start_time": "2024-10-02T09:51:52.510600",
     "status": "completed"
    },
    "tags": []
   },
   "outputs": [],
   "source": [
    "data_subset['satisfaction'] = data_subset['satisfaction'].map({\"satisfied\": 1, \"dissatisfied\": 0})"
   ]
  },
  {
   "cell_type": "markdown",
   "id": "4fdbe69e",
   "metadata": {
    "papermill": {
     "duration": 0.016883,
     "end_time": "2024-10-02T09:51:52.584690",
     "exception": false,
     "start_time": "2024-10-02T09:51:52.567807",
     "status": "completed"
    },
    "tags": []
   },
   "source": [
    "**Convert categorical columns into numeric**\n",
    "\n",
    "There are other columns in the dataset that are still categorical. Be sure to convert categorical columns in the dataset into numeric."
   ]
  },
  {
   "cell_type": "code",
   "execution_count": 18,
   "id": "ca2cc881",
   "metadata": {
    "execution": {
     "iopub.execute_input": "2024-10-02T09:51:52.619300Z",
     "iopub.status.busy": "2024-10-02T09:51:52.618530Z",
     "iopub.status.idle": "2024-10-02T09:51:52.628191Z",
     "shell.execute_reply": "2024-10-02T09:51:52.627048Z"
    },
    "papermill": {
     "duration": 0.030155,
     "end_time": "2024-10-02T09:51:52.631040",
     "exception": false,
     "start_time": "2024-10-02T09:51:52.600885",
     "status": "completed"
    },
    "tags": []
   },
   "outputs": [
    {
     "data": {
      "text/plain": [
       "Unnamed: 0                             int64\n",
       "id                                     int64\n",
       "Gender                                object\n",
       "Customer Type                         object\n",
       "Age                                    int64\n",
       "Type of Travel                        object\n",
       "Class                                  int64\n",
       "Flight Distance                        int64\n",
       "Inflight wifi service                  int64\n",
       "Departure/Arrival time convenient      int64\n",
       "Ease of Online booking                 int64\n",
       "Gate location                          int64\n",
       "Food and drink                         int64\n",
       "Online boarding                        int64\n",
       "Seat comfort                           int64\n",
       "Inflight entertainment                 int64\n",
       "On-board service                       int64\n",
       "Leg room service                       int64\n",
       "Baggage handling                       int64\n",
       "Checkin service                        int64\n",
       "Inflight service                       int64\n",
       "Cleanliness                            int64\n",
       "Departure Delay in Minutes             int64\n",
       "Arrival Delay in Minutes             float64\n",
       "satisfaction                         float64\n",
       "dtype: object"
      ]
     },
     "execution_count": 18,
     "metadata": {},
     "output_type": "execute_result"
    }
   ],
   "source": [
    "data_subset.dtypes"
   ]
  },
  {
   "cell_type": "code",
   "execution_count": 19,
   "id": "f0d8cfb7",
   "metadata": {
    "execution": {
     "iopub.execute_input": "2024-10-02T09:51:52.667063Z",
     "iopub.status.busy": "2024-10-02T09:51:52.666405Z",
     "iopub.status.idle": "2024-10-02T09:51:52.749146Z",
     "shell.execute_reply": "2024-10-02T09:51:52.747724Z"
    },
    "papermill": {
     "duration": 0.104802,
     "end_time": "2024-10-02T09:51:52.752277",
     "exception": false,
     "start_time": "2024-10-02T09:51:52.647475",
     "status": "completed"
    },
    "tags": []
   },
   "outputs": [],
   "source": [
    "data_subset = pd.get_dummies(data_subset, drop_first=True)"
   ]
  },
  {
   "cell_type": "markdown",
   "id": "5f593b7d",
   "metadata": {
    "papermill": {
     "duration": 0.016955,
     "end_time": "2024-10-02T09:51:52.786363",
     "exception": false,
     "start_time": "2024-10-02T09:51:52.769408",
     "status": "completed"
    },
    "tags": []
   },
   "source": [
    "**Check column data types**\n",
    "\n",
    "Now that you have converted categorical columns into numeric, check your column data types."
   ]
  },
  {
   "cell_type": "code",
   "execution_count": 20,
   "id": "9fff4b8f",
   "metadata": {
    "execution": {
     "iopub.execute_input": "2024-10-02T09:51:52.822285Z",
     "iopub.status.busy": "2024-10-02T09:51:52.821683Z",
     "iopub.status.idle": "2024-10-02T09:51:52.841765Z",
     "shell.execute_reply": "2024-10-02T09:51:52.840437Z"
    },
    "papermill": {
     "duration": 0.04128,
     "end_time": "2024-10-02T09:51:52.844339",
     "exception": false,
     "start_time": "2024-10-02T09:51:52.803059",
     "status": "completed"
    },
    "tags": []
   },
   "outputs": [
    {
     "data": {
      "text/plain": [
       "Unnamed: 0                             int64\n",
       "id                                     int64\n",
       "Age                                    int64\n",
       "Class                                  int64\n",
       "Flight Distance                        int64\n",
       "Inflight wifi service                  int64\n",
       "Departure/Arrival time convenient      int64\n",
       "Ease of Online booking                 int64\n",
       "Gate location                          int64\n",
       "Food and drink                         int64\n",
       "Online boarding                        int64\n",
       "Seat comfort                           int64\n",
       "Inflight entertainment                 int64\n",
       "On-board service                       int64\n",
       "Leg room service                       int64\n",
       "Baggage handling                       int64\n",
       "Checkin service                        int64\n",
       "Inflight service                       int64\n",
       "Cleanliness                            int64\n",
       "Departure Delay in Minutes             int64\n",
       "Arrival Delay in Minutes             float64\n",
       "satisfaction                         float64\n",
       "Gender_Male                             bool\n",
       "Customer Type_disloyal Customer         bool\n",
       "Type of Travel_Personal Travel          bool\n",
       "dtype: object"
      ]
     },
     "execution_count": 20,
     "metadata": {},
     "output_type": "execute_result"
    }
   ],
   "source": [
    "data_subset.dtypes"
   ]
  },
  {
   "cell_type": "markdown",
   "id": "9012f396",
   "metadata": {
    "papermill": {
     "duration": 0.016473,
     "end_time": "2024-10-02T09:51:52.877802",
     "exception": false,
     "start_time": "2024-10-02T09:51:52.861329",
     "status": "completed"
    },
    "tags": []
   },
   "source": [
    "I will use the *Satisfaction* column to create the training and test data from random forest model. I need o check for *Nan* values in it"
   ]
  },
  {
   "cell_type": "code",
   "execution_count": 21,
   "id": "56bfe5ed",
   "metadata": {
    "execution": {
     "iopub.execute_input": "2024-10-02T09:51:52.914134Z",
     "iopub.status.busy": "2024-10-02T09:51:52.913665Z",
     "iopub.status.idle": "2024-10-02T09:51:52.921335Z",
     "shell.execute_reply": "2024-10-02T09:51:52.920124Z"
    },
    "papermill": {
     "duration": 0.03008,
     "end_time": "2024-10-02T09:51:52.924642",
     "exception": false,
     "start_time": "2024-10-02T09:51:52.894562",
     "status": "completed"
    },
    "tags": []
   },
   "outputs": [
    {
     "name": "stdout",
     "output_type": "stream",
     "text": [
      "Number of NaN values in satisfaction: 58697\n"
     ]
    }
   ],
   "source": [
    "nan_count = data_subset['satisfaction'].isnull().sum()\n",
    "print(\"Number of NaN values in satisfaction:\", nan_count)"
   ]
  },
  {
   "cell_type": "code",
   "execution_count": 22,
   "id": "df450e12",
   "metadata": {
    "execution": {
     "iopub.execute_input": "2024-10-02T09:51:52.965232Z",
     "iopub.status.busy": "2024-10-02T09:51:52.964661Z",
     "iopub.status.idle": "2024-10-02T09:51:52.979170Z",
     "shell.execute_reply": "2024-10-02T09:51:52.977948Z"
    },
    "papermill": {
     "duration": 0.035675,
     "end_time": "2024-10-02T09:51:52.981956",
     "exception": false,
     "start_time": "2024-10-02T09:51:52.946281",
     "status": "completed"
    },
    "tags": []
   },
   "outputs": [],
   "source": [
    "data_subset = data_subset.dropna(subset=['satisfaction'])"
   ]
  },
  {
   "cell_type": "markdown",
   "id": "f5158db2",
   "metadata": {
    "papermill": {
     "duration": 0.022056,
     "end_time": "2024-10-02T09:51:53.020976",
     "exception": false,
     "start_time": "2024-10-02T09:51:52.998920",
     "status": "completed"
    },
    "tags": []
   },
   "source": [
    "**Create the training and testing data**\n",
    "\n",
    "Put 75% of the data into a training set and the remaining 25% into a testing set."
   ]
  },
  {
   "cell_type": "code",
   "execution_count": 23,
   "id": "04ad7f0f",
   "metadata": {
    "execution": {
     "iopub.execute_input": "2024-10-02T09:51:53.062186Z",
     "iopub.status.busy": "2024-10-02T09:51:53.061736Z",
     "iopub.status.idle": "2024-10-02T09:51:53.085398Z",
     "shell.execute_reply": "2024-10-02T09:51:53.084102Z"
    },
    "papermill": {
     "duration": 0.045384,
     "end_time": "2024-10-02T09:51:53.088371",
     "exception": false,
     "start_time": "2024-10-02T09:51:53.042987",
     "status": "completed"
    },
    "tags": []
   },
   "outputs": [],
   "source": [
    "# Assuming your target variable is 'Customer Satisfaction'\n",
    "X = data_subset.copy()\n",
    "X = X.drop(\"satisfaction\", axis = 1)\n",
    "\n",
    "y = data_subset['satisfaction']\n",
    "\n",
    "X_train, X_test, y_train, y_test = train_test_split(X, y, test_size=0.25, random_state=0)"
   ]
  },
  {
   "cell_type": "markdown",
   "id": "89fb0452",
   "metadata": {
    "papermill": {
     "duration": 0.01629,
     "end_time": "2024-10-02T09:51:53.121467",
     "exception": false,
     "start_time": "2024-10-02T09:51:53.105177",
     "status": "completed"
    },
    "tags": []
   },
   "source": [
    "# Step 3: Model building\n",
    "\n",
    "**Fit a decision tree classifier model to the data**\n",
    "\n",
    "Make a decision tree instance called *decision_tree* and pass in *0* to the *random_state* parameter. Fit the model on the training set, use the *predict()* function on the testing set, and assign those predictions to the variable *data_pred*."
   ]
  },
  {
   "cell_type": "code",
   "execution_count": 24,
   "id": "8dc2b713",
   "metadata": {
    "execution": {
     "iopub.execute_input": "2024-10-02T09:51:53.163112Z",
     "iopub.status.busy": "2024-10-02T09:51:53.161912Z",
     "iopub.status.idle": "2024-10-02T09:51:53.187183Z",
     "shell.execute_reply": "2024-10-02T09:51:53.185916Z"
    },
    "papermill": {
     "duration": 0.051865,
     "end_time": "2024-10-02T09:51:53.190107",
     "exception": false,
     "start_time": "2024-10-02T09:51:53.138242",
     "status": "completed"
    },
    "tags": []
   },
   "outputs": [],
   "source": [
    "decision_tree = DecisionTreeClassifier(random_state=0)\n",
    "\n",
    "decision_tree.fit(X_train, y_train)\n",
    "\n",
    "data_pred = decision_tree.predict(X_test)"
   ]
  },
  {
   "cell_type": "markdown",
   "id": "c6e3b50c",
   "metadata": {
    "papermill": {
     "duration": 0.01624,
     "end_time": "2024-10-02T09:51:53.223577",
     "exception": false,
     "start_time": "2024-10-02T09:51:53.207337",
     "status": "completed"
    },
    "tags": []
   },
   "source": [
    "# Step 4: Results and evaluation\n",
    "\n",
    "Print out the decision tree model's accuracy, precision, recall, and F1 score."
   ]
  },
  {
   "cell_type": "code",
   "execution_count": 25,
   "id": "5ef25031",
   "metadata": {
    "execution": {
     "iopub.execute_input": "2024-10-02T09:51:53.262056Z",
     "iopub.status.busy": "2024-10-02T09:51:53.261236Z",
     "iopub.status.idle": "2024-10-02T09:51:53.291500Z",
     "shell.execute_reply": "2024-10-02T09:51:53.290245Z"
    },
    "papermill": {
     "duration": 0.052426,
     "end_time": "2024-10-02T09:51:53.294647",
     "exception": false,
     "start_time": "2024-10-02T09:51:53.242221",
     "status": "completed"
    },
    "tags": []
   },
   "outputs": [
    {
     "name": "stdout",
     "output_type": "stream",
     "text": [
      "Decision Tree\n",
      "Accuracy: 1.000000\n",
      "Precision: 1.000000\n",
      "Recall: 1.000000\n",
      "F1 Score: 1.000000\n"
     ]
    }
   ],
   "source": [
    "print(\"Decision Tree\")\n",
    "print(\"Accuracy:\", \"%.6f\" % metrics.accuracy_score(y_test, data_pred))\n",
    "print(\"Precision:\", \"%.6f\" % metrics.precision_score(y_test, data_pred))\n",
    "print(\"Recall:\", \"%.6f\" % metrics.recall_score(y_test, data_pred))\n",
    "print(\"F1 Score:\", \"%.6f\" % metrics.f1_score(y_test, data_pred))"
   ]
  },
  {
   "cell_type": "markdown",
   "id": "a51cb16b",
   "metadata": {
    "papermill": {
     "duration": 0.017291,
     "end_time": "2024-10-02T09:51:53.333511",
     "exception": false,
     "start_time": "2024-10-02T09:51:53.316220",
     "status": "completed"
    },
    "tags": []
   },
   "source": [
    "**Produce a confusion matrix**\n",
    "\n",
    "Data professionals often like to know the types of errors made by an algorithm. To obtain this information, produce a confusion matrix."
   ]
  },
  {
   "cell_type": "code",
   "execution_count": 26,
   "id": "901de400",
   "metadata": {
    "execution": {
     "iopub.execute_input": "2024-10-02T09:51:53.368879Z",
     "iopub.status.busy": "2024-10-02T09:51:53.368435Z",
     "iopub.status.idle": "2024-10-02T09:51:53.711833Z",
     "shell.execute_reply": "2024-10-02T09:51:53.710568Z"
    },
    "papermill": {
     "duration": 0.364323,
     "end_time": "2024-10-02T09:51:53.714659",
     "exception": false,
     "start_time": "2024-10-02T09:51:53.350336",
     "status": "completed"
    },
    "tags": []
   },
   "outputs": [
    {
     "data": {
      "text/plain": [
       "<sklearn.metrics._plot.confusion_matrix.ConfusionMatrixDisplay at 0x7b2c82f66170>"
      ]
     },
     "execution_count": 26,
     "metadata": {},
     "output_type": "execute_result"
    },
    {
     "data": {
      "image/png": "[encoded data removed]",
      "text/plain": [
       "<Figure size 640x480 with 2 Axes>"
      ]
     },
     "metadata": {},
     "output_type": "display_data"
    }
   ],
   "source": [
    "cm = metrics.confusion_matrix(y_test, data_pred, labels = decision_tree.classes_)\n",
    "disp = metrics.ConfusionMatrixDisplay(confusion_matrix = cm,display_labels = decision_tree.classes_)\n",
    "disp.plot()"
   ]
  },
  {
   "cell_type": "markdown",
   "id": "2f7f01df",
   "metadata": {
    "papermill": {
     "duration": 0.017709,
     "end_time": "2024-10-02T09:51:53.749795",
     "exception": false,
     "start_time": "2024-10-02T09:51:53.732086",
     "status": "completed"
    },
    "tags": []
   },
   "source": [
    "**Plot the decision tree**\n",
    "\n",
    "Examine the decision tree. Use *plot_tree* function to produce a visual representation of the tree to pinpoint where the splits in the data are occurring."
   ]
  },
  {
   "cell_type": "code",
   "execution_count": 27,
   "id": "92095f34",
   "metadata": {
    "execution": {
     "iopub.execute_input": "2024-10-02T09:51:53.787435Z",
     "iopub.status.busy": "2024-10-02T09:51:53.786502Z",
     "iopub.status.idle": "2024-10-02T09:51:54.050666Z",
     "shell.execute_reply": "2024-10-02T09:51:54.049307Z"
    },
    "papermill": {
     "duration": 0.286214,
     "end_time": "2024-10-02T09:51:54.053495",
     "exception": false,
     "start_time": "2024-10-02T09:51:53.767281",
     "status": "completed"
    },
    "tags": []
   },
   "outputs": [
    {
     "data": {
      "image/png": "[encoded data removed]",
      "text/plain": [
       "<Figure size 2000x1200 with 1 Axes>"
      ]
     },
     "metadata": {},
     "output_type": "display_data"
    }
   ],
   "source": [
    "plt.figure(figsize=(20,12))\n",
    "plot_tree(decision_tree, max_depth=2, fontsize=14, feature_names=X.columns);"
   ]
  }
 ],
 "metadata": {
  "kaggle": {
   "accelerator": "none",
   "dataSources": [
    {
     "datasetId": 522275,
     "sourceId": 959195,
     "sourceType": "datasetVersion"
    }
   ],
   "dockerImageVersionId": 30775,
   "isGpuEnabled": false,
   "isInternetEnabled": true,
   "language": "python",
   "sourceType": "notebook"
  },
  "kernelspec": {
   "display_name": "Python 3",
   "language": "python",
   "name": "python3"
  },
  "language_info": {
   "codemirror_mode": {
    "name": "ipython",
    "version": 3
   },
   "file_extension": ".py",
   "mimetype": "text/x-python",
   "name": "python",
   "nbconvert_exporter": "python",
   "pygments_lexer": "ipython3",
   "version": "3.10.14"
  },
  "papermill": {
   "default_parameters": {},
   "duration": 10.805019,
   "end_time": "2024-10-02T09:51:54.794683",
   "environment_variables": {},
   "exception": null,
   "input_path": "__notebook__.ipynb",
   "output_path": "__notebook__.ipynb",
   "parameters": {},
   "start_time": "2024-10-02T09:51:43.989664",
   "version": "2.6.0"
  }
 },
 "nbformat": 4,
 "nbformat_minor": 5
}
