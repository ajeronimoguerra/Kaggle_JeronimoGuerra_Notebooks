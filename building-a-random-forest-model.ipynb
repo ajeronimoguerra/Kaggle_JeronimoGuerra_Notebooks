{
 "cells": [
  {
   "cell_type": "markdown",
   "id": "eadb73bd",
   "metadata": {
    "papermill": {
     "duration": 0.014316,
     "end_time": "2024-10-01T16:55:04.074594",
     "exception": false,
     "start_time": "2024-10-01T16:55:04.060278",
     "status": "completed"
    },
    "tags": []
   },
   "source": [
    "# Build a decision tree\n",
    "\n",
    "# Introduction\n",
    "\n",
    "A decision tree model can makes predictions for a target based on multiple features. Because decision trees are used across a wide array of industries, becoming proficient in the process of building one will help you expand your skill set in a widely-applicable way.\n",
    "\n",
    "In this activity, I'll work as a consultant for an airline. The airline is interested in predicting whether a future customer would be satisfied with their services given previous customer feedback about their flight experience. The airline would like to construct and evaluate a model that can accomplish this goal. Specifically, they are interested in knowing which features are most important to customer satisfaction.\n",
    "\n",
    "The data for this activity includes survey responses from 103.904 customers. It includes data points such as class, flight distance, and in-flight entertainment, among others. In this activity, my goal will be to utilize a decision tree model to predict whether or not a customer will be satisfied with their flight experience."
   ]
  },
  {
   "cell_type": "markdown",
   "id": "6534db57",
   "metadata": {
    "papermill": {
     "duration": 0.013295,
     "end_time": "2024-10-01T16:55:04.101743",
     "exception": false,
     "start_time": "2024-10-01T16:55:04.088448",
     "status": "completed"
    },
    "tags": []
   },
   "source": [
    "# Step 1: Imports"
   ]
  },
  {
   "cell_type": "markdown",
   "id": "ffb89ead",
   "metadata": {
    "papermill": {
     "duration": 0.014043,
     "end_time": "2024-10-01T16:55:04.129305",
     "exception": false,
     "start_time": "2024-10-01T16:55:04.115262",
     "status": "completed"
    },
    "tags": []
   },
   "source": [
    "**Import packages**"
   ]
  },
  {
   "cell_type": "code",
   "execution_count": 1,
   "id": "883a7af3",
   "metadata": {
    "execution": {
     "iopub.execute_input": "2024-10-01T16:55:04.159997Z",
     "iopub.status.busy": "2024-10-01T16:55:04.159442Z",
     "iopub.status.idle": "2024-10-01T16:55:07.601350Z",
     "shell.execute_reply": "2024-10-01T16:55:07.600126Z"
    },
    "papermill": {
     "duration": 3.461118,
     "end_time": "2024-10-01T16:55:07.604257",
     "exception": false,
     "start_time": "2024-10-01T16:55:04.143139",
     "status": "completed"
    },
    "tags": []
   },
   "outputs": [],
   "source": [
    "# Standard operational package imports\n",
    "import numpy as np\n",
    "import pandas as pd\n",
    "\n",
    "# Important imports for modeling and evaluation\n",
    "from sklearn.model_selection import train_test_split\n",
    "from sklearn.model_selection import GridSearchCV\n",
    "from sklearn.tree import DecisionTreeClassifier\n",
    "from sklearn.tree import plot_tree\n",
    "import sklearn.metrics as metrics\n",
    "\n",
    "# Visualization package imports\n",
    "import matplotlib.pyplot as plt\n",
    "import seaborn as sns"
   ]
  },
  {
   "cell_type": "markdown",
   "id": "3d03d86f",
   "metadata": {
    "papermill": {
     "duration": 0.013156,
     "end_time": "2024-10-01T16:55:07.630877",
     "exception": false,
     "start_time": "2024-10-01T16:55:07.617721",
     "status": "completed"
    },
    "tags": []
   },
   "source": [
    "**Load the dataset**\n",
    "\n",
    "Pandas is used to load the *airline-passenger-satisfaction/train.csv* dataset. The resulting pandas DataFrame is saved in a variable named *data*. "
   ]
  },
  {
   "cell_type": "code",
   "execution_count": 2,
   "id": "0030127e",
   "metadata": {
    "execution": {
     "iopub.execute_input": "2024-10-01T16:55:07.660706Z",
     "iopub.status.busy": "2024-10-01T16:55:07.660111Z",
     "iopub.status.idle": "2024-10-01T16:55:08.294382Z",
     "shell.execute_reply": "2024-10-01T16:55:08.293154Z"
    },
    "papermill": {
     "duration": 0.652992,
     "end_time": "2024-10-01T16:55:08.297247",
     "exception": false,
     "start_time": "2024-10-01T16:55:07.644255",
     "status": "completed"
    },
    "tags": []
   },
   "outputs": [],
   "source": [
    "data = pd.read_csv(\"/kaggle/input/airline-passenger-satisfaction/train.csv\")"
   ]
  },
  {
   "cell_type": "markdown",
   "id": "e618fb81",
   "metadata": {
    "papermill": {
     "duration": 0.013006,
     "end_time": "2024-10-01T16:55:08.324055",
     "exception": false,
     "start_time": "2024-10-01T16:55:08.311049",
     "status": "completed"
    },
    "tags": []
   },
   "source": [
    "**Output the first 10 rows of data**"
   ]
  },
  {
   "cell_type": "code",
   "execution_count": 3,
   "id": "eb6c425c",
   "metadata": {
    "execution": {
     "iopub.execute_input": "2024-10-01T16:55:08.352568Z",
     "iopub.status.busy": "2024-10-01T16:55:08.352117Z",
     "iopub.status.idle": "2024-10-01T16:55:08.398506Z",
     "shell.execute_reply": "2024-10-01T16:55:08.397309Z"
    },
    "papermill": {
     "duration": 0.064362,
     "end_time": "2024-10-01T16:55:08.401630",
     "exception": false,
     "start_time": "2024-10-01T16:55:08.337268",
     "status": "completed"
    },
    "tags": []
   },
   "outputs": [
    {
     "data": {
      "text/html": [
       "<div>\n",
       "<style scoped>\n",
       "    .dataframe tbody tr th:only-of-type {\n",
       "        vertical-align: middle;\n",
       "    }\n",
       "\n",
       "    .dataframe tbody tr th {\n",
       "        vertical-align: top;\n",
       "    }\n",
       "\n",
       "    .dataframe thead th {\n",
       "        text-align: right;\n",
       "    }\n",
       "</style>\n",
       "<table border=\"1\" class=\"dataframe\">\n",
       "  <thead>\n",
       "    <tr style=\"text-align: right;\">\n",
       "      <th></th>\n",
       "      <th>Unnamed: 0</th>\n",
       "      <th>id</th>\n",
       "      <th>Gender</th>\n",
       "      <th>Customer Type</th>\n",
       "      <th>Age</th>\n",
       "      <th>Type of Travel</th>\n",
       "      <th>Class</th>\n",
       "      <th>Flight Distance</th>\n",
       "      <th>Inflight wifi service</th>\n",
       "      <th>Departure/Arrival time convenient</th>\n",
       "      <th>...</th>\n",
       "      <th>Inflight entertainment</th>\n",
       "      <th>On-board service</th>\n",
       "      <th>Leg room service</th>\n",
       "      <th>Baggage handling</th>\n",
       "      <th>Checkin service</th>\n",
       "      <th>Inflight service</th>\n",
       "      <th>Cleanliness</th>\n",
       "      <th>Departure Delay in Minutes</th>\n",
       "      <th>Arrival Delay in Minutes</th>\n",
       "      <th>satisfaction</th>\n",
       "    </tr>\n",
       "  </thead>\n",
       "  <tbody>\n",
       "    <tr>\n",
       "      <th>0</th>\n",
       "      <td>0</td>\n",
       "      <td>70172</td>\n",
       "      <td>Male</td>\n",
       "      <td>Loyal Customer</td>\n",
       "      <td>13</td>\n",
       "      <td>Personal Travel</td>\n",
       "      <td>Eco Plus</td>\n",
       "      <td>460</td>\n",
       "      <td>3</td>\n",
       "      <td>4</td>\n",
       "      <td>...</td>\n",
       "      <td>5</td>\n",
       "      <td>4</td>\n",
       "      <td>3</td>\n",
       "      <td>4</td>\n",
       "      <td>4</td>\n",
       "      <td>5</td>\n",
       "      <td>5</td>\n",
       "      <td>25</td>\n",
       "      <td>18.0</td>\n",
       "      <td>neutral or dissatisfied</td>\n",
       "    </tr>\n",
       "    <tr>\n",
       "      <th>1</th>\n",
       "      <td>1</td>\n",
       "      <td>5047</td>\n",
       "      <td>Male</td>\n",
       "      <td>disloyal Customer</td>\n",
       "      <td>25</td>\n",
       "      <td>Business travel</td>\n",
       "      <td>Business</td>\n",
       "      <td>235</td>\n",
       "      <td>3</td>\n",
       "      <td>2</td>\n",
       "      <td>...</td>\n",
       "      <td>1</td>\n",
       "      <td>1</td>\n",
       "      <td>5</td>\n",
       "      <td>3</td>\n",
       "      <td>1</td>\n",
       "      <td>4</td>\n",
       "      <td>1</td>\n",
       "      <td>1</td>\n",
       "      <td>6.0</td>\n",
       "      <td>neutral or dissatisfied</td>\n",
       "    </tr>\n",
       "    <tr>\n",
       "      <th>2</th>\n",
       "      <td>2</td>\n",
       "      <td>110028</td>\n",
       "      <td>Female</td>\n",
       "      <td>Loyal Customer</td>\n",
       "      <td>26</td>\n",
       "      <td>Business travel</td>\n",
       "      <td>Business</td>\n",
       "      <td>1142</td>\n",
       "      <td>2</td>\n",
       "      <td>2</td>\n",
       "      <td>...</td>\n",
       "      <td>5</td>\n",
       "      <td>4</td>\n",
       "      <td>3</td>\n",
       "      <td>4</td>\n",
       "      <td>4</td>\n",
       "      <td>4</td>\n",
       "      <td>5</td>\n",
       "      <td>0</td>\n",
       "      <td>0.0</td>\n",
       "      <td>satisfied</td>\n",
       "    </tr>\n",
       "    <tr>\n",
       "      <th>3</th>\n",
       "      <td>3</td>\n",
       "      <td>24026</td>\n",
       "      <td>Female</td>\n",
       "      <td>Loyal Customer</td>\n",
       "      <td>25</td>\n",
       "      <td>Business travel</td>\n",
       "      <td>Business</td>\n",
       "      <td>562</td>\n",
       "      <td>2</td>\n",
       "      <td>5</td>\n",
       "      <td>...</td>\n",
       "      <td>2</td>\n",
       "      <td>2</td>\n",
       "      <td>5</td>\n",
       "      <td>3</td>\n",
       "      <td>1</td>\n",
       "      <td>4</td>\n",
       "      <td>2</td>\n",
       "      <td>11</td>\n",
       "      <td>9.0</td>\n",
       "      <td>neutral or dissatisfied</td>\n",
       "    </tr>\n",
       "    <tr>\n",
       "      <th>4</th>\n",
       "      <td>4</td>\n",
       "      <td>119299</td>\n",
       "      <td>Male</td>\n",
       "      <td>Loyal Customer</td>\n",
       "      <td>61</td>\n",
       "      <td>Business travel</td>\n",
       "      <td>Business</td>\n",
       "      <td>214</td>\n",
       "      <td>3</td>\n",
       "      <td>3</td>\n",
       "      <td>...</td>\n",
       "      <td>3</td>\n",
       "      <td>3</td>\n",
       "      <td>4</td>\n",
       "      <td>4</td>\n",
       "      <td>3</td>\n",
       "      <td>3</td>\n",
       "      <td>3</td>\n",
       "      <td>0</td>\n",
       "      <td>0.0</td>\n",
       "      <td>satisfied</td>\n",
       "    </tr>\n",
       "    <tr>\n",
       "      <th>5</th>\n",
       "      <td>5</td>\n",
       "      <td>111157</td>\n",
       "      <td>Female</td>\n",
       "      <td>Loyal Customer</td>\n",
       "      <td>26</td>\n",
       "      <td>Personal Travel</td>\n",
       "      <td>Eco</td>\n",
       "      <td>1180</td>\n",
       "      <td>3</td>\n",
       "      <td>4</td>\n",
       "      <td>...</td>\n",
       "      <td>1</td>\n",
       "      <td>3</td>\n",
       "      <td>4</td>\n",
       "      <td>4</td>\n",
       "      <td>4</td>\n",
       "      <td>4</td>\n",
       "      <td>1</td>\n",
       "      <td>0</td>\n",
       "      <td>0.0</td>\n",
       "      <td>neutral or dissatisfied</td>\n",
       "    </tr>\n",
       "    <tr>\n",
       "      <th>6</th>\n",
       "      <td>6</td>\n",
       "      <td>82113</td>\n",
       "      <td>Male</td>\n",
       "      <td>Loyal Customer</td>\n",
       "      <td>47</td>\n",
       "      <td>Personal Travel</td>\n",
       "      <td>Eco</td>\n",
       "      <td>1276</td>\n",
       "      <td>2</td>\n",
       "      <td>4</td>\n",
       "      <td>...</td>\n",
       "      <td>2</td>\n",
       "      <td>3</td>\n",
       "      <td>3</td>\n",
       "      <td>4</td>\n",
       "      <td>3</td>\n",
       "      <td>5</td>\n",
       "      <td>2</td>\n",
       "      <td>9</td>\n",
       "      <td>23.0</td>\n",
       "      <td>neutral or dissatisfied</td>\n",
       "    </tr>\n",
       "    <tr>\n",
       "      <th>7</th>\n",
       "      <td>7</td>\n",
       "      <td>96462</td>\n",
       "      <td>Female</td>\n",
       "      <td>Loyal Customer</td>\n",
       "      <td>52</td>\n",
       "      <td>Business travel</td>\n",
       "      <td>Business</td>\n",
       "      <td>2035</td>\n",
       "      <td>4</td>\n",
       "      <td>3</td>\n",
       "      <td>...</td>\n",
       "      <td>5</td>\n",
       "      <td>5</td>\n",
       "      <td>5</td>\n",
       "      <td>5</td>\n",
       "      <td>4</td>\n",
       "      <td>5</td>\n",
       "      <td>4</td>\n",
       "      <td>4</td>\n",
       "      <td>0.0</td>\n",
       "      <td>satisfied</td>\n",
       "    </tr>\n",
       "    <tr>\n",
       "      <th>8</th>\n",
       "      <td>8</td>\n",
       "      <td>79485</td>\n",
       "      <td>Female</td>\n",
       "      <td>Loyal Customer</td>\n",
       "      <td>41</td>\n",
       "      <td>Business travel</td>\n",
       "      <td>Business</td>\n",
       "      <td>853</td>\n",
       "      <td>1</td>\n",
       "      <td>2</td>\n",
       "      <td>...</td>\n",
       "      <td>1</td>\n",
       "      <td>1</td>\n",
       "      <td>2</td>\n",
       "      <td>1</td>\n",
       "      <td>4</td>\n",
       "      <td>1</td>\n",
       "      <td>2</td>\n",
       "      <td>0</td>\n",
       "      <td>0.0</td>\n",
       "      <td>neutral or dissatisfied</td>\n",
       "    </tr>\n",
       "    <tr>\n",
       "      <th>9</th>\n",
       "      <td>9</td>\n",
       "      <td>65725</td>\n",
       "      <td>Male</td>\n",
       "      <td>disloyal Customer</td>\n",
       "      <td>20</td>\n",
       "      <td>Business travel</td>\n",
       "      <td>Eco</td>\n",
       "      <td>1061</td>\n",
       "      <td>3</td>\n",
       "      <td>3</td>\n",
       "      <td>...</td>\n",
       "      <td>2</td>\n",
       "      <td>2</td>\n",
       "      <td>3</td>\n",
       "      <td>4</td>\n",
       "      <td>4</td>\n",
       "      <td>3</td>\n",
       "      <td>2</td>\n",
       "      <td>0</td>\n",
       "      <td>0.0</td>\n",
       "      <td>neutral or dissatisfied</td>\n",
       "    </tr>\n",
       "  </tbody>\n",
       "</table>\n",
       "<p>10 rows × 25 columns</p>\n",
       "</div>"
      ],
      "text/plain": [
       "   Unnamed: 0      id  Gender      Customer Type  Age   Type of Travel  \\\n",
       "0           0   70172    Male     Loyal Customer   13  Personal Travel   \n",
       "1           1    5047    Male  disloyal Customer   25  Business travel   \n",
       "2           2  110028  Female     Loyal Customer   26  Business travel   \n",
       "3           3   24026  Female     Loyal Customer   25  Business travel   \n",
       "4           4  119299    Male     Loyal Customer   61  Business travel   \n",
       "5           5  111157  Female     Loyal Customer   26  Personal Travel   \n",
       "6           6   82113    Male     Loyal Customer   47  Personal Travel   \n",
       "7           7   96462  Female     Loyal Customer   52  Business travel   \n",
       "8           8   79485  Female     Loyal Customer   41  Business travel   \n",
       "9           9   65725    Male  disloyal Customer   20  Business travel   \n",
       "\n",
       "      Class  Flight Distance  Inflight wifi service  \\\n",
       "0  Eco Plus              460                      3   \n",
       "1  Business              235                      3   \n",
       "2  Business             1142                      2   \n",
       "3  Business              562                      2   \n",
       "4  Business              214                      3   \n",
       "5       Eco             1180                      3   \n",
       "6       Eco             1276                      2   \n",
       "7  Business             2035                      4   \n",
       "8  Business              853                      1   \n",
       "9       Eco             1061                      3   \n",
       "\n",
       "   Departure/Arrival time convenient  ...  Inflight entertainment  \\\n",
       "0                                  4  ...                       5   \n",
       "1                                  2  ...                       1   \n",
       "2                                  2  ...                       5   \n",
       "3                                  5  ...                       2   \n",
       "4                                  3  ...                       3   \n",
       "5                                  4  ...                       1   \n",
       "6                                  4  ...                       2   \n",
       "7                                  3  ...                       5   \n",
       "8                                  2  ...                       1   \n",
       "9                                  3  ...                       2   \n",
       "\n",
       "   On-board service  Leg room service  Baggage handling  Checkin service  \\\n",
       "0                 4                 3                 4                4   \n",
       "1                 1                 5                 3                1   \n",
       "2                 4                 3                 4                4   \n",
       "3                 2                 5                 3                1   \n",
       "4                 3                 4                 4                3   \n",
       "5                 3                 4                 4                4   \n",
       "6                 3                 3                 4                3   \n",
       "7                 5                 5                 5                4   \n",
       "8                 1                 2                 1                4   \n",
       "9                 2                 3                 4                4   \n",
       "\n",
       "   Inflight service  Cleanliness  Departure Delay in Minutes  \\\n",
       "0                 5            5                          25   \n",
       "1                 4            1                           1   \n",
       "2                 4            5                           0   \n",
       "3                 4            2                          11   \n",
       "4                 3            3                           0   \n",
       "5                 4            1                           0   \n",
       "6                 5            2                           9   \n",
       "7                 5            4                           4   \n",
       "8                 1            2                           0   \n",
       "9                 3            2                           0   \n",
       "\n",
       "   Arrival Delay in Minutes             satisfaction  \n",
       "0                      18.0  neutral or dissatisfied  \n",
       "1                       6.0  neutral or dissatisfied  \n",
       "2                       0.0                satisfied  \n",
       "3                       9.0  neutral or dissatisfied  \n",
       "4                       0.0                satisfied  \n",
       "5                       0.0  neutral or dissatisfied  \n",
       "6                      23.0  neutral or dissatisfied  \n",
       "7                       0.0                satisfied  \n",
       "8                       0.0  neutral or dissatisfied  \n",
       "9                       0.0  neutral or dissatisfied  \n",
       "\n",
       "[10 rows x 25 columns]"
      ]
     },
     "execution_count": 3,
     "metadata": {},
     "output_type": "execute_result"
    }
   ],
   "source": [
    "data.head(10)"
   ]
  },
  {
   "cell_type": "markdown",
   "id": "83a66f26",
   "metadata": {
    "papermill": {
     "duration": 0.014159,
     "end_time": "2024-10-01T16:55:08.429994",
     "exception": false,
     "start_time": "2024-10-01T16:55:08.415835",
     "status": "completed"
    },
    "tags": []
   },
   "source": [
    "# Step 2: Data exploration, data cleaning, and model preparation\n",
    "\n",
    "**Prepare the data**\n",
    "\n",
    "After loading the dataset, prepare the data to be suitable for decision tree classifiers. This includes:\n",
    "\n",
    "* Exploring the data\n",
    "* Checking for missing values\n",
    "* Encoding the data\n",
    "* Renaming a column\n",
    "* Creating the training and testing data"
   ]
  },
  {
   "cell_type": "markdown",
   "id": "7f8a8ba3",
   "metadata": {
    "papermill": {
     "duration": 0.013926,
     "end_time": "2024-10-01T16:55:08.458929",
     "exception": false,
     "start_time": "2024-10-01T16:55:08.445003",
     "status": "completed"
    },
    "tags": []
   },
   "source": [
    "**Explore the data**\n",
    "\n",
    "Check the data type of each column. Note that decision trees expect numeric data."
   ]
  },
  {
   "cell_type": "code",
   "execution_count": 4,
   "id": "30a5e9ab",
   "metadata": {
    "execution": {
     "iopub.execute_input": "2024-10-01T16:55:08.489263Z",
     "iopub.status.busy": "2024-10-01T16:55:08.488759Z",
     "iopub.status.idle": "2024-10-01T16:55:08.497162Z",
     "shell.execute_reply": "2024-10-01T16:55:08.496031Z"
    },
    "papermill": {
     "duration": 0.026846,
     "end_time": "2024-10-01T16:55:08.499804",
     "exception": false,
     "start_time": "2024-10-01T16:55:08.472958",
     "status": "completed"
    },
    "tags": []
   },
   "outputs": [
    {
     "data": {
      "text/plain": [
       "Index(['Unnamed: 0', 'id', 'Gender', 'Customer Type', 'Age', 'Type of Travel',\n",
       "       'Class', 'Flight Distance', 'Inflight wifi service',\n",
       "       'Departure/Arrival time convenient', 'Ease of Online booking',\n",
       "       'Gate location', 'Food and drink', 'Online boarding', 'Seat comfort',\n",
       "       'Inflight entertainment', 'On-board service', 'Leg room service',\n",
       "       'Baggage handling', 'Checkin service', 'Inflight service',\n",
       "       'Cleanliness', 'Departure Delay in Minutes', 'Arrival Delay in Minutes',\n",
       "       'satisfaction'],\n",
       "      dtype='object')"
      ]
     },
     "execution_count": 4,
     "metadata": {},
     "output_type": "execute_result"
    }
   ],
   "source": [
    "data.columns"
   ]
  },
  {
   "cell_type": "code",
   "execution_count": 5,
   "id": "11ef39cf",
   "metadata": {
    "execution": {
     "iopub.execute_input": "2024-10-01T16:55:08.530510Z",
     "iopub.status.busy": "2024-10-01T16:55:08.530079Z",
     "iopub.status.idle": "2024-10-01T16:55:08.540196Z",
     "shell.execute_reply": "2024-10-01T16:55:08.539033Z"
    },
    "papermill": {
     "duration": 0.028617,
     "end_time": "2024-10-01T16:55:08.542708",
     "exception": false,
     "start_time": "2024-10-01T16:55:08.514091",
     "status": "completed"
    },
    "tags": []
   },
   "outputs": [
    {
     "data": {
      "text/plain": [
       "Unnamed: 0                             int64\n",
       "id                                     int64\n",
       "Gender                                object\n",
       "Customer Type                         object\n",
       "Age                                    int64\n",
       "Type of Travel                        object\n",
       "Class                                 object\n",
       "Flight Distance                        int64\n",
       "Inflight wifi service                  int64\n",
       "Departure/Arrival time convenient      int64\n",
       "Ease of Online booking                 int64\n",
       "Gate location                          int64\n",
       "Food and drink                         int64\n",
       "Online boarding                        int64\n",
       "Seat comfort                           int64\n",
       "Inflight entertainment                 int64\n",
       "On-board service                       int64\n",
       "Leg room service                       int64\n",
       "Baggage handling                       int64\n",
       "Checkin service                        int64\n",
       "Inflight service                       int64\n",
       "Cleanliness                            int64\n",
       "Departure Delay in Minutes             int64\n",
       "Arrival Delay in Minutes             float64\n",
       "satisfaction                          object\n",
       "dtype: object"
      ]
     },
     "execution_count": 5,
     "metadata": {},
     "output_type": "execute_result"
    }
   ],
   "source": [
    "data.dtypes"
   ]
  },
  {
   "cell_type": "markdown",
   "id": "725d6df6",
   "metadata": {
    "papermill": {
     "duration": 0.013993,
     "end_time": "2024-10-01T16:55:08.571473",
     "exception": false,
     "start_time": "2024-10-01T16:55:08.557480",
     "status": "completed"
    },
    "tags": []
   },
   "source": [
    "**Output unique values**\n",
    "\n",
    "The Class column is ordinal (meaning there is an inherent order that is significant). For example, airlines typically charge more for 'Business' than 'Eco Plus' and 'Eco'. Output the unique values in the Class column."
   ]
  },
  {
   "cell_type": "code",
   "execution_count": 6,
   "id": "66120675",
   "metadata": {
    "execution": {
     "iopub.execute_input": "2024-10-01T16:55:08.604425Z",
     "iopub.status.busy": "2024-10-01T16:55:08.603087Z",
     "iopub.status.idle": "2024-10-01T16:55:08.623658Z",
     "shell.execute_reply": "2024-10-01T16:55:08.622102Z"
    },
    "papermill": {
     "duration": 0.040834,
     "end_time": "2024-10-01T16:55:08.627183",
     "exception": false,
     "start_time": "2024-10-01T16:55:08.586349",
     "status": "completed"
    },
    "tags": []
   },
   "outputs": [
    {
     "name": "stdout",
     "output_type": "stream",
     "text": [
      "Unique classes: ['Eco Plus' 'Business' 'Eco']\n"
     ]
    }
   ],
   "source": [
    "unique_classes = data['Class'].unique()\n",
    "print(\"Unique classes:\", unique_classes)"
   ]
  },
  {
   "cell_type": "markdown",
   "id": "9306e695",
   "metadata": {
    "papermill": {
     "duration": 0.014538,
     "end_time": "2024-10-01T16:55:08.656632",
     "exception": false,
     "start_time": "2024-10-01T16:55:08.642094",
     "status": "completed"
    },
    "tags": []
   },
   "source": [
    "**Check the counts of the predicted labels**\n",
    "\n",
    "In order to predict customer satisfaction, verify if the dataset is imbalanced. To do this, check the counts of each of the predicted labels."
   ]
  },
  {
   "cell_type": "code",
   "execution_count": 7,
   "id": "f8133834",
   "metadata": {
    "execution": {
     "iopub.execute_input": "2024-10-01T16:55:08.688367Z",
     "iopub.status.busy": "2024-10-01T16:55:08.687900Z",
     "iopub.status.idle": "2024-10-01T16:55:08.707427Z",
     "shell.execute_reply": "2024-10-01T16:55:08.706039Z"
    },
    "papermill": {
     "duration": 0.039398,
     "end_time": "2024-10-01T16:55:08.710918",
     "exception": false,
     "start_time": "2024-10-01T16:55:08.671520",
     "status": "completed"
    },
    "tags": []
   },
   "outputs": [
    {
     "name": "stdout",
     "output_type": "stream",
     "text": [
      "Customer Satisfaction Counts:\n",
      " satisfaction\n",
      "neutral or dissatisfied    58879\n",
      "satisfied                  45025\n",
      "Name: count, dtype: int64\n"
     ]
    }
   ],
   "source": [
    "# Assuming the target variable is named 'satisfaction'\n",
    "satisfaction_counts = data['satisfaction'].value_counts(dropna=False)\n",
    "\n",
    "print(\"Customer Satisfaction Counts:\\n\", satisfaction_counts)"
   ]
  },
  {
   "cell_type": "code",
   "execution_count": 8,
   "id": "8c8315cc",
   "metadata": {
    "execution": {
     "iopub.execute_input": "2024-10-01T16:55:08.743938Z",
     "iopub.status.busy": "2024-10-01T16:55:08.743495Z",
     "iopub.status.idle": "2024-10-01T16:55:08.750997Z",
     "shell.execute_reply": "2024-10-01T16:55:08.749741Z"
    },
    "papermill": {
     "duration": 0.027005,
     "end_time": "2024-10-01T16:55:08.754233",
     "exception": false,
     "start_time": "2024-10-01T16:55:08.727228",
     "status": "completed"
    },
    "tags": []
   },
   "outputs": [
    {
     "name": "stdout",
     "output_type": "stream",
     "text": [
      "satisfaction\n",
      "neutral or dissatisfied    56.666731\n",
      "satisfied                  43.333269\n",
      "Name: count, dtype: float64\n"
     ]
    }
   ],
   "source": [
    "satisfaction_counts_percentages = (satisfaction_counts / len(data)) * 100\n",
    "print(satisfaction_counts_percentages)"
   ]
  },
  {
   "cell_type": "markdown",
   "id": "b264ab5e",
   "metadata": {
    "papermill": {
     "duration": 0.014486,
     "end_time": "2024-10-01T16:55:08.783834",
     "exception": false,
     "start_time": "2024-10-01T16:55:08.769348",
     "status": "completed"
    },
    "tags": []
   },
   "source": [
    "**Check for missing values**\n",
    "\n",
    "The sklearn decision tree implementation does not support missing values. Check for missing values in the rows of the data."
   ]
  },
  {
   "cell_type": "code",
   "execution_count": 9,
   "id": "03f94423",
   "metadata": {
    "execution": {
     "iopub.execute_input": "2024-10-01T16:55:08.816127Z",
     "iopub.status.busy": "2024-10-01T16:55:08.814945Z",
     "iopub.status.idle": "2024-10-01T16:55:08.883575Z",
     "shell.execute_reply": "2024-10-01T16:55:08.882025Z"
    },
    "papermill": {
     "duration": 0.088165,
     "end_time": "2024-10-01T16:55:08.886704",
     "exception": false,
     "start_time": "2024-10-01T16:55:08.798539",
     "status": "completed"
    },
    "tags": []
   },
   "outputs": [
    {
     "name": "stdout",
     "output_type": "stream",
     "text": [
      "Missing values:\n",
      " Unnamed: 0                             0\n",
      "id                                     0\n",
      "Gender                                 0\n",
      "Customer Type                          0\n",
      "Age                                    0\n",
      "Type of Travel                         0\n",
      "Class                                  0\n",
      "Flight Distance                        0\n",
      "Inflight wifi service                  0\n",
      "Departure/Arrival time convenient      0\n",
      "Ease of Online booking                 0\n",
      "Gate location                          0\n",
      "Food and drink                         0\n",
      "Online boarding                        0\n",
      "Seat comfort                           0\n",
      "Inflight entertainment                 0\n",
      "On-board service                       0\n",
      "Leg room service                       0\n",
      "Baggage handling                       0\n",
      "Checkin service                        0\n",
      "Inflight service                       0\n",
      "Cleanliness                            0\n",
      "Departure Delay in Minutes             0\n",
      "Arrival Delay in Minutes             310\n",
      "satisfaction                           0\n",
      "dtype: int64\n"
     ]
    }
   ],
   "source": [
    "# Check for missing values\n",
    "missing_values = data.isnull().sum()\n",
    "print(\"Missing values:\\n\", missing_values)"
   ]
  },
  {
   "cell_type": "markdown",
   "id": "57a407c4",
   "metadata": {
    "papermill": {
     "duration": 0.014617,
     "end_time": "2024-10-01T16:55:08.917773",
     "exception": false,
     "start_time": "2024-10-01T16:55:08.903156",
     "status": "completed"
    },
    "tags": []
   },
   "source": [
    "**Check the number of rows and columns in the dataset**"
   ]
  },
  {
   "cell_type": "code",
   "execution_count": 10,
   "id": "a615ed5e",
   "metadata": {
    "execution": {
     "iopub.execute_input": "2024-10-01T16:55:08.949846Z",
     "iopub.status.busy": "2024-10-01T16:55:08.949393Z",
     "iopub.status.idle": "2024-10-01T16:55:08.957073Z",
     "shell.execute_reply": "2024-10-01T16:55:08.955875Z"
    },
    "papermill": {
     "duration": 0.026997,
     "end_time": "2024-10-01T16:55:08.959694",
     "exception": false,
     "start_time": "2024-10-01T16:55:08.932697",
     "status": "completed"
    },
    "tags": []
   },
   "outputs": [
    {
     "data": {
      "text/plain": [
       "(103904, 25)"
      ]
     },
     "execution_count": 10,
     "metadata": {},
     "output_type": "execute_result"
    }
   ],
   "source": [
    "data.shape"
   ]
  },
  {
   "cell_type": "markdown",
   "id": "0e16e562",
   "metadata": {
    "papermill": {
     "duration": 0.014919,
     "end_time": "2024-10-01T16:55:08.989767",
     "exception": false,
     "start_time": "2024-10-01T16:55:08.974848",
     "status": "completed"
    },
    "tags": []
   },
   "source": [
    "**Drop the rows with missing values**\n",
    "\n",
    "Drop the rows with missing values and save the resulting pandas DataFrame in a variable named data_subset."
   ]
  },
  {
   "cell_type": "code",
   "execution_count": 11,
   "id": "f0edc236",
   "metadata": {
    "execution": {
     "iopub.execute_input": "2024-10-01T16:55:09.022072Z",
     "iopub.status.busy": "2024-10-01T16:55:09.021581Z",
     "iopub.status.idle": "2024-10-01T16:55:09.112663Z",
     "shell.execute_reply": "2024-10-01T16:55:09.111351Z"
    },
    "papermill": {
     "duration": 0.110442,
     "end_time": "2024-10-01T16:55:09.115538",
     "exception": false,
     "start_time": "2024-10-01T16:55:09.005096",
     "status": "completed"
    },
    "tags": []
   },
   "outputs": [],
   "source": [
    "data_subset = data.dropna(axis=0).reset_index(drop = True)"
   ]
  },
  {
   "cell_type": "markdown",
   "id": "4a13196d",
   "metadata": {
    "papermill": {
     "duration": 0.023044,
     "end_time": "2024-10-01T16:55:09.159627",
     "exception": false,
     "start_time": "2024-10-01T16:55:09.136583",
     "status": "completed"
    },
    "tags": []
   },
   "source": [
    "**Check for missing values**\n",
    "\n",
    "Check that df_subset does not contain any missing values."
   ]
  },
  {
   "cell_type": "code",
   "execution_count": 12,
   "id": "8c82d292",
   "metadata": {
    "execution": {
     "iopub.execute_input": "2024-10-01T16:55:09.205371Z",
     "iopub.status.busy": "2024-10-01T16:55:09.204204Z",
     "iopub.status.idle": "2024-10-01T16:55:09.275902Z",
     "shell.execute_reply": "2024-10-01T16:55:09.273778Z"
    },
    "papermill": {
     "duration": 0.098056,
     "end_time": "2024-10-01T16:55:09.279392",
     "exception": false,
     "start_time": "2024-10-01T16:55:09.181336",
     "status": "completed"
    },
    "tags": []
   },
   "outputs": [
    {
     "name": "stdout",
     "output_type": "stream",
     "text": [
      "Missing values:\n",
      " Unnamed: 0                           0\n",
      "id                                   0\n",
      "Gender                               0\n",
      "Customer Type                        0\n",
      "Age                                  0\n",
      "Type of Travel                       0\n",
      "Class                                0\n",
      "Flight Distance                      0\n",
      "Inflight wifi service                0\n",
      "Departure/Arrival time convenient    0\n",
      "Ease of Online booking               0\n",
      "Gate location                        0\n",
      "Food and drink                       0\n",
      "Online boarding                      0\n",
      "Seat comfort                         0\n",
      "Inflight entertainment               0\n",
      "On-board service                     0\n",
      "Leg room service                     0\n",
      "Baggage handling                     0\n",
      "Checkin service                      0\n",
      "Inflight service                     0\n",
      "Cleanliness                          0\n",
      "Departure Delay in Minutes           0\n",
      "Arrival Delay in Minutes             0\n",
      "satisfaction                         0\n",
      "dtype: int64\n"
     ]
    }
   ],
   "source": [
    "missing_values = data_subset.isnull().sum()\n",
    "print(\"Missing values:\\n\", missing_values)"
   ]
  },
  {
   "cell_type": "markdown",
   "id": "96d46fa2",
   "metadata": {
    "papermill": {
     "duration": 0.025252,
     "end_time": "2024-10-01T16:55:09.326695",
     "exception": false,
     "start_time": "2024-10-01T16:55:09.301443",
     "status": "completed"
    },
    "tags": []
   },
   "source": [
    "**Check the number of rows and columns in the dataset again**\n",
    "\n",
    "Check how many rows and columns are remaining in the dataset."
   ]
  },
  {
   "cell_type": "code",
   "execution_count": 13,
   "id": "afef513a",
   "metadata": {
    "execution": {
     "iopub.execute_input": "2024-10-01T16:55:09.376507Z",
     "iopub.status.busy": "2024-10-01T16:55:09.375483Z",
     "iopub.status.idle": "2024-10-01T16:55:09.383805Z",
     "shell.execute_reply": "2024-10-01T16:55:09.382428Z"
    },
    "papermill": {
     "duration": 0.035754,
     "end_time": "2024-10-01T16:55:09.387231",
     "exception": false,
     "start_time": "2024-10-01T16:55:09.351477",
     "status": "completed"
    },
    "tags": []
   },
   "outputs": [
    {
     "data": {
      "text/plain": [
       "(103594, 25)"
      ]
     },
     "execution_count": 13,
     "metadata": {},
     "output_type": "execute_result"
    }
   ],
   "source": [
    "data_subset.shape"
   ]
  },
  {
   "cell_type": "markdown",
   "id": "397b9f61",
   "metadata": {
    "papermill": {
     "duration": 0.015158,
     "end_time": "2024-10-01T16:55:09.424585",
     "exception": false,
     "start_time": "2024-10-01T16:55:09.409427",
     "status": "completed"
    },
    "tags": []
   },
   "source": [
    "**Encode the data**\n",
    "\n",
    "Four columns (satisfaction, Customer Type, Type of Travel, Class) are the pandas dtype object. Decision trees need numeric columns. Start by converting the ordinal Class column into numeric."
   ]
  },
  {
   "cell_type": "code",
   "execution_count": 14,
   "id": "61c2fdd3",
   "metadata": {
    "execution": {
     "iopub.execute_input": "2024-10-01T16:55:09.460145Z",
     "iopub.status.busy": "2024-10-01T16:55:09.459540Z",
     "iopub.status.idle": "2024-10-01T16:55:09.479287Z",
     "shell.execute_reply": "2024-10-01T16:55:09.477640Z"
    },
    "papermill": {
     "duration": 0.041594,
     "end_time": "2024-10-01T16:55:09.483043",
     "exception": false,
     "start_time": "2024-10-01T16:55:09.441449",
     "status": "completed"
    },
    "tags": []
   },
   "outputs": [
    {
     "name": "stdout",
     "output_type": "stream",
     "text": [
      "Unique classes: ['Eco Plus' 'Business' 'Eco']\n"
     ]
    }
   ],
   "source": [
    "unique_classes = data['Class'].unique()\n",
    "print(\"Unique classes:\", unique_classes)"
   ]
  },
  {
   "cell_type": "code",
   "execution_count": 15,
   "id": "dc3640f4",
   "metadata": {
    "execution": {
     "iopub.execute_input": "2024-10-01T16:55:09.526635Z",
     "iopub.status.busy": "2024-10-01T16:55:09.526093Z",
     "iopub.status.idle": "2024-10-01T16:55:09.550662Z",
     "shell.execute_reply": "2024-10-01T16:55:09.549464Z"
    },
    "papermill": {
     "duration": 0.045955,
     "end_time": "2024-10-01T16:55:09.553303",
     "exception": false,
     "start_time": "2024-10-01T16:55:09.507348",
     "status": "completed"
    },
    "tags": []
   },
   "outputs": [],
   "source": [
    "data_subset['Class'] = data_subset['Class'].map({\"Business\": 3, \"Eco Plus\": 2, \"Eco\": 1}) "
   ]
  },
  {
   "cell_type": "markdown",
   "id": "b1cda774",
   "metadata": {
    "papermill": {
     "duration": 0.016383,
     "end_time": "2024-10-01T16:55:09.586324",
     "exception": false,
     "start_time": "2024-10-01T16:55:09.569941",
     "status": "completed"
    },
    "tags": []
   },
   "source": [
    "**Represent the data in the target variable numerically**\n",
    "\n",
    "To represent the data in the target variable numerically, assign \"satisfied\" to the label 1 and \"dissatisfied\" to the label 0 in the satisfaction column."
   ]
  },
  {
   "cell_type": "code",
   "execution_count": 16,
   "id": "be0e5d37",
   "metadata": {
    "execution": {
     "iopub.execute_input": "2024-10-01T16:55:09.619731Z",
     "iopub.status.busy": "2024-10-01T16:55:09.619287Z",
     "iopub.status.idle": "2024-10-01T16:55:09.637755Z",
     "shell.execute_reply": "2024-10-01T16:55:09.636623Z"
    },
    "papermill": {
     "duration": 0.038039,
     "end_time": "2024-10-01T16:55:09.640415",
     "exception": false,
     "start_time": "2024-10-01T16:55:09.602376",
     "status": "completed"
    },
    "tags": []
   },
   "outputs": [],
   "source": [
    "data_subset['satisfaction'] = data_subset['satisfaction'].map({\"satisfied\": 1, \"dissatisfied\": 0})"
   ]
  },
  {
   "cell_type": "markdown",
   "id": "b37a1b75",
   "metadata": {
    "papermill": {
     "duration": 0.016129,
     "end_time": "2024-10-01T16:55:09.672478",
     "exception": false,
     "start_time": "2024-10-01T16:55:09.656349",
     "status": "completed"
    },
    "tags": []
   },
   "source": [
    "**Convert categorical columns into numeric**\n",
    "\n",
    "There are other columns in the dataset that are still categorical. Be sure to convert categorical columns in the dataset into numeric."
   ]
  },
  {
   "cell_type": "code",
   "execution_count": 17,
   "id": "3b0228c0",
   "metadata": {
    "execution": {
     "iopub.execute_input": "2024-10-01T16:55:09.705699Z",
     "iopub.status.busy": "2024-10-01T16:55:09.705275Z",
     "iopub.status.idle": "2024-10-01T16:55:09.715419Z",
     "shell.execute_reply": "2024-10-01T16:55:09.714208Z"
    },
    "papermill": {
     "duration": 0.029628,
     "end_time": "2024-10-01T16:55:09.717947",
     "exception": false,
     "start_time": "2024-10-01T16:55:09.688319",
     "status": "completed"
    },
    "tags": []
   },
   "outputs": [
    {
     "data": {
      "text/plain": [
       "Unnamed: 0                             int64\n",
       "id                                     int64\n",
       "Gender                                object\n",
       "Customer Type                         object\n",
       "Age                                    int64\n",
       "Type of Travel                        object\n",
       "Class                                  int64\n",
       "Flight Distance                        int64\n",
       "Inflight wifi service                  int64\n",
       "Departure/Arrival time convenient      int64\n",
       "Ease of Online booking                 int64\n",
       "Gate location                          int64\n",
       "Food and drink                         int64\n",
       "Online boarding                        int64\n",
       "Seat comfort                           int64\n",
       "Inflight entertainment                 int64\n",
       "On-board service                       int64\n",
       "Leg room service                       int64\n",
       "Baggage handling                       int64\n",
       "Checkin service                        int64\n",
       "Inflight service                       int64\n",
       "Cleanliness                            int64\n",
       "Departure Delay in Minutes             int64\n",
       "Arrival Delay in Minutes             float64\n",
       "satisfaction                         float64\n",
       "dtype: object"
      ]
     },
     "execution_count": 17,
     "metadata": {},
     "output_type": "execute_result"
    }
   ],
   "source": [
    "data_subset.dtypes"
   ]
  },
  {
   "cell_type": "code",
   "execution_count": 18,
   "id": "86c63437",
   "metadata": {
    "execution": {
     "iopub.execute_input": "2024-10-01T16:55:09.751281Z",
     "iopub.status.busy": "2024-10-01T16:55:09.750816Z",
     "iopub.status.idle": "2024-10-01T16:55:09.827284Z",
     "shell.execute_reply": "2024-10-01T16:55:09.826116Z"
    },
    "papermill": {
     "duration": 0.096226,
     "end_time": "2024-10-01T16:55:09.830210",
     "exception": false,
     "start_time": "2024-10-01T16:55:09.733984",
     "status": "completed"
    },
    "tags": []
   },
   "outputs": [],
   "source": [
    "data_subset = pd.get_dummies(data_subset, drop_first=True)"
   ]
  },
  {
   "cell_type": "markdown",
   "id": "51800806",
   "metadata": {
    "papermill": {
     "duration": 0.015217,
     "end_time": "2024-10-01T16:55:09.861263",
     "exception": false,
     "start_time": "2024-10-01T16:55:09.846046",
     "status": "completed"
    },
    "tags": []
   },
   "source": [
    "**Check column data types**\n",
    "\n",
    "Now that you have converted categorical columns into numeric, check your column data types."
   ]
  },
  {
   "cell_type": "code",
   "execution_count": 19,
   "id": "28ba4f72",
   "metadata": {
    "execution": {
     "iopub.execute_input": "2024-10-01T16:55:09.894313Z",
     "iopub.status.busy": "2024-10-01T16:55:09.893840Z",
     "iopub.status.idle": "2024-10-01T16:55:09.904090Z",
     "shell.execute_reply": "2024-10-01T16:55:09.902658Z"
    },
    "papermill": {
     "duration": 0.029783,
     "end_time": "2024-10-01T16:55:09.906643",
     "exception": false,
     "start_time": "2024-10-01T16:55:09.876860",
     "status": "completed"
    },
    "tags": []
   },
   "outputs": [
    {
     "data": {
      "text/plain": [
       "Unnamed: 0                             int64\n",
       "id                                     int64\n",
       "Age                                    int64\n",
       "Class                                  int64\n",
       "Flight Distance                        int64\n",
       "Inflight wifi service                  int64\n",
       "Departure/Arrival time convenient      int64\n",
       "Ease of Online booking                 int64\n",
       "Gate location                          int64\n",
       "Food and drink                         int64\n",
       "Online boarding                        int64\n",
       "Seat comfort                           int64\n",
       "Inflight entertainment                 int64\n",
       "On-board service                       int64\n",
       "Leg room service                       int64\n",
       "Baggage handling                       int64\n",
       "Checkin service                        int64\n",
       "Inflight service                       int64\n",
       "Cleanliness                            int64\n",
       "Departure Delay in Minutes             int64\n",
       "Arrival Delay in Minutes             float64\n",
       "satisfaction                         float64\n",
       "Gender_Male                             bool\n",
       "Customer Type_disloyal Customer         bool\n",
       "Type of Travel_Personal Travel          bool\n",
       "dtype: object"
      ]
     },
     "execution_count": 19,
     "metadata": {},
     "output_type": "execute_result"
    }
   ],
   "source": [
    "data_subset.dtypes"
   ]
  },
  {
   "cell_type": "markdown",
   "id": "e1929d27",
   "metadata": {
    "papermill": {
     "duration": 0.015989,
     "end_time": "2024-10-01T16:55:09.938546",
     "exception": false,
     "start_time": "2024-10-01T16:55:09.922557",
     "status": "completed"
    },
    "tags": []
   },
   "source": [
    "I will use the *Satisfaction* column to create the training and test data from random forest model. I need o check for *Nan* values in it"
   ]
  },
  {
   "cell_type": "code",
   "execution_count": 20,
   "id": "70dc51ec",
   "metadata": {
    "execution": {
     "iopub.execute_input": "2024-10-01T16:55:09.972115Z",
     "iopub.status.busy": "2024-10-01T16:55:09.971643Z",
     "iopub.status.idle": "2024-10-01T16:55:09.979037Z",
     "shell.execute_reply": "2024-10-01T16:55:09.977801Z"
    },
    "papermill": {
     "duration": 0.026995,
     "end_time": "2024-10-01T16:55:09.981461",
     "exception": false,
     "start_time": "2024-10-01T16:55:09.954466",
     "status": "completed"
    },
    "tags": []
   },
   "outputs": [
    {
     "name": "stdout",
     "output_type": "stream",
     "text": [
      "Number of NaN values in satisfaction: 58697\n"
     ]
    }
   ],
   "source": [
    "nan_count = data_subset['satisfaction'].isnull().sum()\n",
    "print(\"Number of NaN values in satisfaction:\", nan_count)"
   ]
  },
  {
   "cell_type": "code",
   "execution_count": 21,
   "id": "3371de5f",
   "metadata": {
    "execution": {
     "iopub.execute_input": "2024-10-01T16:55:10.014969Z",
     "iopub.status.busy": "2024-10-01T16:55:10.014550Z",
     "iopub.status.idle": "2024-10-01T16:55:10.027214Z",
     "shell.execute_reply": "2024-10-01T16:55:10.025848Z"
    },
    "papermill": {
     "duration": 0.032452,
     "end_time": "2024-10-01T16:55:10.029764",
     "exception": false,
     "start_time": "2024-10-01T16:55:09.997312",
     "status": "completed"
    },
    "tags": []
   },
   "outputs": [],
   "source": [
    "data_subset = data_subset.dropna(subset=['satisfaction'])"
   ]
  },
  {
   "cell_type": "markdown",
   "id": "a8baf9bd",
   "metadata": {
    "papermill": {
     "duration": 0.016094,
     "end_time": "2024-10-01T16:55:10.062276",
     "exception": false,
     "start_time": "2024-10-01T16:55:10.046182",
     "status": "completed"
    },
    "tags": []
   },
   "source": [
    "**Create the training and testing data**\n",
    "\n",
    "Put 75% of the data into a training set and the remaining 25% into a testing set."
   ]
  },
  {
   "cell_type": "code",
   "execution_count": 22,
   "id": "4b8af223",
   "metadata": {
    "execution": {
     "iopub.execute_input": "2024-10-01T16:55:10.095858Z",
     "iopub.status.busy": "2024-10-01T16:55:10.095437Z",
     "iopub.status.idle": "2024-10-01T16:55:10.118746Z",
     "shell.execute_reply": "2024-10-01T16:55:10.117381Z"
    },
    "papermill": {
     "duration": 0.043481,
     "end_time": "2024-10-01T16:55:10.121647",
     "exception": false,
     "start_time": "2024-10-01T16:55:10.078166",
     "status": "completed"
    },
    "tags": []
   },
   "outputs": [],
   "source": [
    "# Assuming your target variable is 'Customer Satisfaction'\n",
    "X = data_subset.copy()\n",
    "X = X.drop(\"satisfaction\", axis = 1)\n",
    "\n",
    "y = data_subset['satisfaction']\n",
    "\n",
    "X_train, X_test, y_train, y_test = train_test_split(X, y, test_size=0.25, random_state=0)"
   ]
  },
  {
   "cell_type": "markdown",
   "id": "be90e56b",
   "metadata": {
    "papermill": {
     "duration": 0.015426,
     "end_time": "2024-10-01T16:55:10.153090",
     "exception": false,
     "start_time": "2024-10-01T16:55:10.137664",
     "status": "completed"
    },
    "tags": []
   },
   "source": [
    "# Step 3: Model building\n",
    "\n",
    "**Fit a decision tree classifier model to the data**\n",
    "\n",
    "Make a decision tree instance called *decision_tree* and pass in *0* to the *random_state* parameter. Fit the model on the training set, use the *predict()* function on the testing set, and assign those predictions to the variable *data_pred*."
   ]
  },
  {
   "cell_type": "code",
   "execution_count": 23,
   "id": "cb4d7993",
   "metadata": {
    "execution": {
     "iopub.execute_input": "2024-10-01T16:55:10.188609Z",
     "iopub.status.busy": "2024-10-01T16:55:10.187987Z",
     "iopub.status.idle": "2024-10-01T16:55:10.210651Z",
     "shell.execute_reply": "2024-10-01T16:55:10.209463Z"
    },
    "papermill": {
     "duration": 0.04381,
     "end_time": "2024-10-01T16:55:10.213632",
     "exception": false,
     "start_time": "2024-10-01T16:55:10.169822",
     "status": "completed"
    },
    "tags": []
   },
   "outputs": [],
   "source": [
    "decision_tree = DecisionTreeClassifier(random_state=0)\n",
    "\n",
    "decision_tree.fit(X_train, y_train)\n",
    "\n",
    "data_pred = decision_tree.predict(X_test)"
   ]
  },
  {
   "cell_type": "markdown",
   "id": "e969ab5f",
   "metadata": {
    "papermill": {
     "duration": 0.01558,
     "end_time": "2024-10-01T16:55:10.245519",
     "exception": false,
     "start_time": "2024-10-01T16:55:10.229939",
     "status": "completed"
    },
    "tags": []
   },
   "source": [
    "# Step 4: Results and evaluation\n",
    "\n",
    "Print out the decision tree model's accuracy, precision, recall, and F1 score."
   ]
  },
  {
   "cell_type": "code",
   "execution_count": 24,
   "id": "6497ddce",
   "metadata": {
    "execution": {
     "iopub.execute_input": "2024-10-01T16:55:10.279622Z",
     "iopub.status.busy": "2024-10-01T16:55:10.279204Z",
     "iopub.status.idle": "2024-10-01T16:55:10.311504Z",
     "shell.execute_reply": "2024-10-01T16:55:10.310079Z"
    },
    "papermill": {
     "duration": 0.052511,
     "end_time": "2024-10-01T16:55:10.314200",
     "exception": false,
     "start_time": "2024-10-01T16:55:10.261689",
     "status": "completed"
    },
    "tags": []
   },
   "outputs": [
    {
     "name": "stdout",
     "output_type": "stream",
     "text": [
      "Decision Tree\n",
      "Accuracy: 1.000000\n",
      "Precision: 1.000000\n",
      "Recall: 1.000000\n",
      "F1 Score: 1.000000\n"
     ]
    }
   ],
   "source": [
    "print(\"Decision Tree\")\n",
    "print(\"Accuracy:\", \"%.6f\" % metrics.accuracy_score(y_test, data_pred))\n",
    "print(\"Precision:\", \"%.6f\" % metrics.precision_score(y_test, data_pred))\n",
    "print(\"Recall:\", \"%.6f\" % metrics.recall_score(y_test, data_pred))\n",
    "print(\"F1 Score:\", \"%.6f\" % metrics.f1_score(y_test, data_pred))"
   ]
  },
  {
   "cell_type": "markdown",
   "id": "37bb5498",
   "metadata": {
    "papermill": {
     "duration": 0.015685,
     "end_time": "2024-10-01T16:55:10.345967",
     "exception": false,
     "start_time": "2024-10-01T16:55:10.330282",
     "status": "completed"
    },
    "tags": []
   },
   "source": [
    "**Produce a confusion matrix**\n",
    "\n",
    "Data professionals often like to know the types of errors made by an algorithm. To obtain this information, produce a confusion matrix."
   ]
  },
  {
   "cell_type": "code",
   "execution_count": 25,
   "id": "46519f33",
   "metadata": {
    "execution": {
     "iopub.execute_input": "2024-10-01T16:55:10.379865Z",
     "iopub.status.busy": "2024-10-01T16:55:10.379405Z",
     "iopub.status.idle": "2024-10-01T16:55:10.705579Z",
     "shell.execute_reply": "2024-10-01T16:55:10.704352Z"
    },
    "papermill": {
     "duration": 0.346478,
     "end_time": "2024-10-01T16:55:10.708380",
     "exception": false,
     "start_time": "2024-10-01T16:55:10.361902",
     "status": "completed"
    },
    "tags": []
   },
   "outputs": [
    {
     "data": {
      "text/plain": [
       "<sklearn.metrics._plot.confusion_matrix.ConfusionMatrixDisplay at 0x7b79a8ceae30>"
      ]
     },
     "execution_count": 25,
     "metadata": {},
     "output_type": "execute_result"
    },
    {
     "data": {
      "image/png": "[encoded data removed]",
      "text/plain": [
       "<Figure size 640x480 with 2 Axes>"
      ]
     },
     "metadata": {},
     "output_type": "display_data"
    }
   ],
   "source": [
    "cm = metrics.confusion_matrix(y_test, data_pred, labels = decision_tree.classes_)\n",
    "disp = metrics.ConfusionMatrixDisplay(confusion_matrix = cm,display_labels = decision_tree.classes_)\n",
    "disp.plot()"
   ]
  },
  {
   "cell_type": "markdown",
   "id": "b90cc529",
   "metadata": {
    "papermill": {
     "duration": 0.016247,
     "end_time": "2024-10-01T16:55:10.741430",
     "exception": false,
     "start_time": "2024-10-01T16:55:10.725183",
     "status": "completed"
    },
    "tags": []
   },
   "source": [
    "**Plot the decision tree**\n",
    "\n",
    "Examine the decision tree. Use *plot_tree* function to produce a visual representation of the tree to pinpoint where the splits in the data are occurring."
   ]
  },
  {
   "cell_type": "code",
   "execution_count": 26,
   "id": "7f67bda9",
   "metadata": {
    "execution": {
     "iopub.execute_input": "2024-10-01T16:55:10.777372Z",
     "iopub.status.busy": "2024-10-01T16:55:10.776171Z",
     "iopub.status.idle": "2024-10-01T16:55:11.021681Z",
     "shell.execute_reply": "2024-10-01T16:55:11.020401Z"
    },
    "papermill": {
     "duration": 0.266503,
     "end_time": "2024-10-01T16:55:11.024499",
     "exception": false,
     "start_time": "2024-10-01T16:55:10.757996",
     "status": "completed"
    },
    "tags": []
   },
   "outputs": [
    {
     "data": {
      "image/png": "[encoded data removed]",
      "text/plain": [
       "<Figure size 2000x1200 with 1 Axes>"
      ]
     },
     "metadata": {},
     "output_type": "display_data"
    }
   ],
   "source": [
    "plt.figure(figsize=(20,12))\n",
    "plot_tree(decision_tree, max_depth=2, fontsize=14, feature_names=X.columns);"
   ]
  }
 ],
 "metadata": {
  "kaggle": {
   "accelerator": "none",
   "dataSources": [
    {
     "datasetId": 522275,
     "sourceId": 959195,
     "sourceType": "datasetVersion"
    }
   ],
   "dockerImageVersionId": 30775,
   "isGpuEnabled": false,
   "isInternetEnabled": true,
   "language": "python",
   "sourceType": "notebook"
  },
  "kernelspec": {
   "display_name": "Python 3",
   "language": "python",
   "name": "python3"
  },
  "language_info": {
   "codemirror_mode": {
    "name": "ipython",
    "version": 3
   },
   "file_extension": ".py",
   "mimetype": "text/x-python",
   "name": "python",
   "nbconvert_exporter": "python",
   "pygments_lexer": "ipython3",
   "version": "3.10.14"
  },
  "papermill": {
   "default_parameters": {},
   "duration": 10.814345,
   "end_time": "2024-10-01T16:55:11.764687",
   "environment_variables": {},
   "exception": null,
   "input_path": "__notebook__.ipynb",
   "output_path": "__notebook__.ipynb",
   "parameters": {},
   "start_time": "2024-10-01T16:55:00.950342",
   "version": "2.6.0"
  }
 },
 "nbformat": 4,
 "nbformat_minor": 5
}
