{
 "cells": [
  {
   "cell_type": "markdown",
   "id": "b2154a75",
   "metadata": {
    "papermill": {
     "duration": 0.009879,
     "end_time": "2024-10-02T11:04:39.257917",
     "exception": false,
     "start_time": "2024-10-02T11:04:39.248038",
     "status": "completed"
    },
    "tags": []
   },
   "source": [
    "# National Basketball Association (NBA),\n",
    "**a professional North American basketball league**"
   ]
  },
  {
   "cell_type": "markdown",
   "id": "2df4f8fc",
   "metadata": {
    "papermill": {
     "duration": 0.008873,
     "end_time": "2024-10-02T11:04:39.276110",
     "exception": false,
     "start_time": "2024-10-02T11:04:39.267237",
     "status": "completed"
    },
    "tags": []
   },
   "source": [
    "In this activity, I'll be working for a firm that provides insights to the National Basketball Association (NBA), a professional North American basketball league. I will help NBA managers and coaches identify which players are most likely to thrive in the high-pressure environment of professional basketball and help the team be successful over time"
   ]
  },
  {
   "cell_type": "markdown",
   "id": "62e1af99",
   "metadata": {
    "papermill": {
     "duration": 0.009615,
     "end_time": "2024-10-02T11:04:39.294798",
     "exception": false,
     "start_time": "2024-10-02T11:04:39.285183",
     "status": "completed"
    },
    "tags": []
   },
   "source": [
    "# Data Dictionary\n",
    "\n",
    "This activity uses a dataset called \n",
    "nba-players.csv\n",
    ". It represents 22 columns of United States National Basketball Association (NBA) player performance records per game for one season, including stats like average number of 3-point baskets made per game, and average number of offensive rebounds per game. \n",
    "\n",
    "The dataset contains:\n",
    "\n",
    "**1,340 rows** – each row is a different NBA player’s stats per game across one season\n",
    "\n",
    "**22 columns**"
   ]
  },
  {
   "cell_type": "markdown",
   "id": "80d156ba",
   "metadata": {
    "papermill": {
     "duration": 0.008758,
     "end_time": "2024-10-02T11:04:39.312631",
     "exception": false,
     "start_time": "2024-10-02T11:04:39.303873",
     "status": "completed"
    },
    "tags": []
   },
   "source": [
    "# Step 1: Imports"
   ]
  },
  {
   "cell_type": "code",
   "execution_count": 1,
   "id": "79df69d4",
   "metadata": {
    "execution": {
     "iopub.execute_input": "2024-10-02T11:04:39.332947Z",
     "iopub.status.busy": "2024-10-02T11:04:39.332004Z",
     "iopub.status.idle": "2024-10-02T11:04:41.255605Z",
     "shell.execute_reply": "2024-10-02T11:04:41.254740Z"
    },
    "papermill": {
     "duration": 1.936414,
     "end_time": "2024-10-02T11:04:41.258036",
     "exception": false,
     "start_time": "2024-10-02T11:04:39.321622",
     "status": "completed"
    },
    "tags": []
   },
   "outputs": [],
   "source": [
    "# Import pandas.\n",
    "\n",
    "import numpy as np\n",
    "import pandas as pd\n",
    "from sklearn import naive_bayes\n",
    "from sklearn import model_selection\n",
    "from sklearn import metrics"
   ]
  },
  {
   "cell_type": "code",
   "execution_count": 2,
   "id": "2d3b4482",
   "metadata": {
    "execution": {
     "iopub.execute_input": "2024-10-02T11:04:41.278942Z",
     "iopub.status.busy": "2024-10-02T11:04:41.278387Z",
     "iopub.status.idle": "2024-10-02T11:04:41.304000Z",
     "shell.execute_reply": "2024-10-02T11:04:41.303143Z"
    },
    "papermill": {
     "duration": 0.038835,
     "end_time": "2024-10-02T11:04:41.306346",
     "exception": false,
     "start_time": "2024-10-02T11:04:41.267511",
     "status": "completed"
    },
    "tags": []
   },
   "outputs": [],
   "source": [
    "# RUN THIS CELL TO IMPORT YOUR DATA.\n",
    "# Save in a variable named `data`.\n",
    "\n",
    "data = pd.read_csv(\"/kaggle/input/nba-dataset/NBA.csv\")"
   ]
  },
  {
   "cell_type": "markdown",
   "id": "8c0d06b6",
   "metadata": {
    "papermill": {
     "duration": 0.009394,
     "end_time": "2024-10-02T11:04:41.325121",
     "exception": false,
     "start_time": "2024-10-02T11:04:41.315727",
     "status": "completed"
    },
    "tags": []
   },
   "source": [
    "# Step 2: Data exploration"
   ]
  },
  {
   "cell_type": "markdown",
   "id": "1661e156",
   "metadata": {
    "papermill": {
     "duration": 0.008973,
     "end_time": "2024-10-02T11:04:41.343189",
     "exception": false,
     "start_time": "2024-10-02T11:04:41.334216",
     "status": "completed"
    },
    "tags": []
   },
   "source": [
    "Display the first 10 rows of the data to get a sense of what it entails."
   ]
  },
  {
   "cell_type": "code",
   "execution_count": 3,
   "id": "30abc4b2",
   "metadata": {
    "execution": {
     "iopub.execute_input": "2024-10-02T11:04:41.364744Z",
     "iopub.status.busy": "2024-10-02T11:04:41.363974Z",
     "iopub.status.idle": "2024-10-02T11:04:41.408940Z",
     "shell.execute_reply": "2024-10-02T11:04:41.407911Z"
    },
    "papermill": {
     "duration": 0.057402,
     "end_time": "2024-10-02T11:04:41.411013",
     "exception": false,
     "start_time": "2024-10-02T11:04:41.353611",
     "status": "completed"
    },
    "tags": []
   },
   "outputs": [
    {
     "data": {
      "text/html": [
       "<div>\n",
       "<style scoped>\n",
       "    .dataframe tbody tr th:only-of-type {\n",
       "        vertical-align: middle;\n",
       "    }\n",
       "\n",
       "    .dataframe tbody tr th {\n",
       "        vertical-align: top;\n",
       "    }\n",
       "\n",
       "    .dataframe thead th {\n",
       "        text-align: right;\n",
       "    }\n",
       "</style>\n",
       "<table border=\"1\" class=\"dataframe\">\n",
       "  <thead>\n",
       "    <tr style=\"text-align: right;\">\n",
       "      <th></th>\n",
       "      <th>Unnamed: 0</th>\n",
       "      <th>name</th>\n",
       "      <th>gp</th>\n",
       "      <th>min</th>\n",
       "      <th>pts</th>\n",
       "      <th>fgm</th>\n",
       "      <th>fga</th>\n",
       "      <th>fg</th>\n",
       "      <th>3p_made</th>\n",
       "      <th>3pa</th>\n",
       "      <th>...</th>\n",
       "      <th>fta</th>\n",
       "      <th>ft</th>\n",
       "      <th>oreb</th>\n",
       "      <th>dreb</th>\n",
       "      <th>reb</th>\n",
       "      <th>ast</th>\n",
       "      <th>stl</th>\n",
       "      <th>blk</th>\n",
       "      <th>tov</th>\n",
       "      <th>target_5yrs</th>\n",
       "    </tr>\n",
       "  </thead>\n",
       "  <tbody>\n",
       "    <tr>\n",
       "      <th>0</th>\n",
       "      <td>0</td>\n",
       "      <td>Brandon Ingram</td>\n",
       "      <td>36</td>\n",
       "      <td>27.4</td>\n",
       "      <td>7.4</td>\n",
       "      <td>2.6</td>\n",
       "      <td>7.6</td>\n",
       "      <td>34.7</td>\n",
       "      <td>0.5</td>\n",
       "      <td>2.1</td>\n",
       "      <td>...</td>\n",
       "      <td>2.3</td>\n",
       "      <td>69.9</td>\n",
       "      <td>0.7</td>\n",
       "      <td>3.4</td>\n",
       "      <td>4.1</td>\n",
       "      <td>1.9</td>\n",
       "      <td>0.4</td>\n",
       "      <td>0.4</td>\n",
       "      <td>1.3</td>\n",
       "      <td>0</td>\n",
       "    </tr>\n",
       "    <tr>\n",
       "      <th>1</th>\n",
       "      <td>1</td>\n",
       "      <td>Andrew Harrison</td>\n",
       "      <td>35</td>\n",
       "      <td>26.9</td>\n",
       "      <td>7.2</td>\n",
       "      <td>2.0</td>\n",
       "      <td>6.7</td>\n",
       "      <td>29.6</td>\n",
       "      <td>0.7</td>\n",
       "      <td>2.8</td>\n",
       "      <td>...</td>\n",
       "      <td>3.4</td>\n",
       "      <td>76.5</td>\n",
       "      <td>0.5</td>\n",
       "      <td>2.0</td>\n",
       "      <td>2.4</td>\n",
       "      <td>3.7</td>\n",
       "      <td>1.1</td>\n",
       "      <td>0.5</td>\n",
       "      <td>1.6</td>\n",
       "      <td>0</td>\n",
       "    </tr>\n",
       "    <tr>\n",
       "      <th>2</th>\n",
       "      <td>2</td>\n",
       "      <td>JaKarr Sampson</td>\n",
       "      <td>74</td>\n",
       "      <td>15.3</td>\n",
       "      <td>5.2</td>\n",
       "      <td>2.0</td>\n",
       "      <td>4.7</td>\n",
       "      <td>42.2</td>\n",
       "      <td>0.4</td>\n",
       "      <td>1.7</td>\n",
       "      <td>...</td>\n",
       "      <td>1.3</td>\n",
       "      <td>67.0</td>\n",
       "      <td>0.5</td>\n",
       "      <td>1.7</td>\n",
       "      <td>2.2</td>\n",
       "      <td>1.0</td>\n",
       "      <td>0.5</td>\n",
       "      <td>0.3</td>\n",
       "      <td>1.0</td>\n",
       "      <td>0</td>\n",
       "    </tr>\n",
       "    <tr>\n",
       "      <th>3</th>\n",
       "      <td>3</td>\n",
       "      <td>Malik Sealy</td>\n",
       "      <td>58</td>\n",
       "      <td>11.6</td>\n",
       "      <td>5.7</td>\n",
       "      <td>2.3</td>\n",
       "      <td>5.5</td>\n",
       "      <td>42.6</td>\n",
       "      <td>0.1</td>\n",
       "      <td>0.5</td>\n",
       "      <td>...</td>\n",
       "      <td>1.3</td>\n",
       "      <td>68.9</td>\n",
       "      <td>1.0</td>\n",
       "      <td>0.9</td>\n",
       "      <td>1.9</td>\n",
       "      <td>0.8</td>\n",
       "      <td>0.6</td>\n",
       "      <td>0.1</td>\n",
       "      <td>1.0</td>\n",
       "      <td>1</td>\n",
       "    </tr>\n",
       "    <tr>\n",
       "      <th>4</th>\n",
       "      <td>4</td>\n",
       "      <td>Matt Geiger</td>\n",
       "      <td>48</td>\n",
       "      <td>11.5</td>\n",
       "      <td>4.5</td>\n",
       "      <td>1.6</td>\n",
       "      <td>3.0</td>\n",
       "      <td>52.4</td>\n",
       "      <td>0.0</td>\n",
       "      <td>0.1</td>\n",
       "      <td>...</td>\n",
       "      <td>1.9</td>\n",
       "      <td>67.4</td>\n",
       "      <td>1.0</td>\n",
       "      <td>1.5</td>\n",
       "      <td>2.5</td>\n",
       "      <td>0.3</td>\n",
       "      <td>0.3</td>\n",
       "      <td>0.4</td>\n",
       "      <td>0.8</td>\n",
       "      <td>1</td>\n",
       "    </tr>\n",
       "    <tr>\n",
       "      <th>5</th>\n",
       "      <td>5</td>\n",
       "      <td>Tony Bennett</td>\n",
       "      <td>75</td>\n",
       "      <td>11.4</td>\n",
       "      <td>3.7</td>\n",
       "      <td>1.5</td>\n",
       "      <td>3.5</td>\n",
       "      <td>42.3</td>\n",
       "      <td>0.3</td>\n",
       "      <td>1.1</td>\n",
       "      <td>...</td>\n",
       "      <td>0.5</td>\n",
       "      <td>73.2</td>\n",
       "      <td>0.2</td>\n",
       "      <td>0.7</td>\n",
       "      <td>0.8</td>\n",
       "      <td>1.8</td>\n",
       "      <td>0.4</td>\n",
       "      <td>0.0</td>\n",
       "      <td>0.7</td>\n",
       "      <td>0</td>\n",
       "    </tr>\n",
       "    <tr>\n",
       "      <th>6</th>\n",
       "      <td>6</td>\n",
       "      <td>Don MacLean</td>\n",
       "      <td>62</td>\n",
       "      <td>10.9</td>\n",
       "      <td>6.6</td>\n",
       "      <td>2.5</td>\n",
       "      <td>5.8</td>\n",
       "      <td>43.5</td>\n",
       "      <td>0.0</td>\n",
       "      <td>0.1</td>\n",
       "      <td>...</td>\n",
       "      <td>1.8</td>\n",
       "      <td>81.1</td>\n",
       "      <td>0.5</td>\n",
       "      <td>1.4</td>\n",
       "      <td>2.0</td>\n",
       "      <td>0.6</td>\n",
       "      <td>0.2</td>\n",
       "      <td>0.1</td>\n",
       "      <td>0.7</td>\n",
       "      <td>1</td>\n",
       "    </tr>\n",
       "    <tr>\n",
       "      <th>7</th>\n",
       "      <td>7</td>\n",
       "      <td>Tracy Murray</td>\n",
       "      <td>48</td>\n",
       "      <td>10.3</td>\n",
       "      <td>5.7</td>\n",
       "      <td>2.3</td>\n",
       "      <td>5.4</td>\n",
       "      <td>41.5</td>\n",
       "      <td>0.4</td>\n",
       "      <td>1.5</td>\n",
       "      <td>...</td>\n",
       "      <td>0.8</td>\n",
       "      <td>87.5</td>\n",
       "      <td>0.8</td>\n",
       "      <td>0.9</td>\n",
       "      <td>1.7</td>\n",
       "      <td>0.2</td>\n",
       "      <td>0.2</td>\n",
       "      <td>0.1</td>\n",
       "      <td>0.7</td>\n",
       "      <td>1</td>\n",
       "    </tr>\n",
       "    <tr>\n",
       "      <th>8</th>\n",
       "      <td>8</td>\n",
       "      <td>Duane Cooper</td>\n",
       "      <td>65</td>\n",
       "      <td>9.9</td>\n",
       "      <td>2.4</td>\n",
       "      <td>1.0</td>\n",
       "      <td>2.4</td>\n",
       "      <td>39.2</td>\n",
       "      <td>0.1</td>\n",
       "      <td>0.5</td>\n",
       "      <td>...</td>\n",
       "      <td>0.5</td>\n",
       "      <td>71.4</td>\n",
       "      <td>0.2</td>\n",
       "      <td>0.6</td>\n",
       "      <td>0.8</td>\n",
       "      <td>2.3</td>\n",
       "      <td>0.3</td>\n",
       "      <td>0.0</td>\n",
       "      <td>1.1</td>\n",
       "      <td>0</td>\n",
       "    </tr>\n",
       "    <tr>\n",
       "      <th>9</th>\n",
       "      <td>9</td>\n",
       "      <td>Dave Johnson</td>\n",
       "      <td>42</td>\n",
       "      <td>8.5</td>\n",
       "      <td>3.7</td>\n",
       "      <td>1.4</td>\n",
       "      <td>3.5</td>\n",
       "      <td>38.3</td>\n",
       "      <td>0.1</td>\n",
       "      <td>0.3</td>\n",
       "      <td>...</td>\n",
       "      <td>1.4</td>\n",
       "      <td>67.8</td>\n",
       "      <td>0.4</td>\n",
       "      <td>0.7</td>\n",
       "      <td>1.1</td>\n",
       "      <td>0.3</td>\n",
       "      <td>0.2</td>\n",
       "      <td>0.0</td>\n",
       "      <td>0.7</td>\n",
       "      <td>0</td>\n",
       "    </tr>\n",
       "  </tbody>\n",
       "</table>\n",
       "<p>10 rows × 22 columns</p>\n",
       "</div>"
      ],
      "text/plain": [
       "   Unnamed: 0             name  gp   min  pts  fgm  fga    fg  3p_made  3pa  \\\n",
       "0           0   Brandon Ingram  36  27.4  7.4  2.6  7.6  34.7      0.5  2.1   \n",
       "1           1  Andrew Harrison  35  26.9  7.2  2.0  6.7  29.6      0.7  2.8   \n",
       "2           2   JaKarr Sampson  74  15.3  5.2  2.0  4.7  42.2      0.4  1.7   \n",
       "3           3      Malik Sealy  58  11.6  5.7  2.3  5.5  42.6      0.1  0.5   \n",
       "4           4      Matt Geiger  48  11.5  4.5  1.6  3.0  52.4      0.0  0.1   \n",
       "5           5     Tony Bennett  75  11.4  3.7  1.5  3.5  42.3      0.3  1.1   \n",
       "6           6      Don MacLean  62  10.9  6.6  2.5  5.8  43.5      0.0  0.1   \n",
       "7           7     Tracy Murray  48  10.3  5.7  2.3  5.4  41.5      0.4  1.5   \n",
       "8           8     Duane Cooper  65   9.9  2.4  1.0  2.4  39.2      0.1  0.5   \n",
       "9           9     Dave Johnson  42   8.5  3.7  1.4  3.5  38.3      0.1  0.3   \n",
       "\n",
       "   ...  fta    ft  oreb  dreb  reb  ast  stl  blk  tov  target_5yrs  \n",
       "0  ...  2.3  69.9   0.7   3.4  4.1  1.9  0.4  0.4  1.3            0  \n",
       "1  ...  3.4  76.5   0.5   2.0  2.4  3.7  1.1  0.5  1.6            0  \n",
       "2  ...  1.3  67.0   0.5   1.7  2.2  1.0  0.5  0.3  1.0            0  \n",
       "3  ...  1.3  68.9   1.0   0.9  1.9  0.8  0.6  0.1  1.0            1  \n",
       "4  ...  1.9  67.4   1.0   1.5  2.5  0.3  0.3  0.4  0.8            1  \n",
       "5  ...  0.5  73.2   0.2   0.7  0.8  1.8  0.4  0.0  0.7            0  \n",
       "6  ...  1.8  81.1   0.5   1.4  2.0  0.6  0.2  0.1  0.7            1  \n",
       "7  ...  0.8  87.5   0.8   0.9  1.7  0.2  0.2  0.1  0.7            1  \n",
       "8  ...  0.5  71.4   0.2   0.6  0.8  2.3  0.3  0.0  1.1            0  \n",
       "9  ...  1.4  67.8   0.4   0.7  1.1  0.3  0.2  0.0  0.7            0  \n",
       "\n",
       "[10 rows x 22 columns]"
      ]
     },
     "execution_count": 3,
     "metadata": {},
     "output_type": "execute_result"
    }
   ],
   "source": [
    "data.head(10)"
   ]
  },
  {
   "cell_type": "markdown",
   "id": "f9f08bfd",
   "metadata": {
    "papermill": {
     "duration": 0.009285,
     "end_time": "2024-10-02T11:04:41.430536",
     "exception": false,
     "start_time": "2024-10-02T11:04:41.421251",
     "status": "completed"
    },
    "tags": []
   },
   "source": [
    "Display the number of rows and the number of columns to get a sense of how much data is available to you."
   ]
  },
  {
   "cell_type": "code",
   "execution_count": 4,
   "id": "d4b7c887",
   "metadata": {
    "execution": {
     "iopub.execute_input": "2024-10-02T11:04:41.451302Z",
     "iopub.status.busy": "2024-10-02T11:04:41.450652Z",
     "iopub.status.idle": "2024-10-02T11:04:41.456832Z",
     "shell.execute_reply": "2024-10-02T11:04:41.455916Z"
    },
    "papermill": {
     "duration": 0.018999,
     "end_time": "2024-10-02T11:04:41.459017",
     "exception": false,
     "start_time": "2024-10-02T11:04:41.440018",
     "status": "completed"
    },
    "tags": []
   },
   "outputs": [
    {
     "data": {
      "text/plain": [
       "(1340, 22)"
      ]
     },
     "execution_count": 4,
     "metadata": {},
     "output_type": "execute_result"
    }
   ],
   "source": [
    "data.shape"
   ]
  },
  {
   "cell_type": "markdown",
   "id": "041feedf",
   "metadata": {
    "papermill": {
     "duration": 0.009392,
     "end_time": "2024-10-02T11:04:41.478148",
     "exception": false,
     "start_time": "2024-10-02T11:04:41.468756",
     "status": "completed"
    },
    "tags": []
   },
   "source": [
    "Display all column names to get a sense of the kinds of metadata available about each player. Use the columns property in pandas."
   ]
  },
  {
   "cell_type": "code",
   "execution_count": 5,
   "id": "51afbe09",
   "metadata": {
    "execution": {
     "iopub.execute_input": "2024-10-02T11:04:41.499396Z",
     "iopub.status.busy": "2024-10-02T11:04:41.498511Z",
     "iopub.status.idle": "2024-10-02T11:04:41.505071Z",
     "shell.execute_reply": "2024-10-02T11:04:41.504168Z"
    },
    "papermill": {
     "duration": 0.019195,
     "end_time": "2024-10-02T11:04:41.507055",
     "exception": false,
     "start_time": "2024-10-02T11:04:41.487860",
     "status": "completed"
    },
    "tags": []
   },
   "outputs": [
    {
     "data": {
      "text/plain": [
       "Index(['Unnamed: 0', 'name', 'gp', 'min', 'pts', 'fgm', 'fga', 'fg', '3p_made',\n",
       "       '3pa', '3p', 'ftm', 'fta', 'ft', 'oreb', 'dreb', 'reb', 'ast', 'stl',\n",
       "       'blk', 'tov', 'target_5yrs'],\n",
       "      dtype='object')"
      ]
     },
     "execution_count": 5,
     "metadata": {},
     "output_type": "execute_result"
    }
   ],
   "source": [
    "data.columns"
   ]
  },
  {
   "cell_type": "markdown",
   "id": "cf9bd629",
   "metadata": {
    "papermill": {
     "duration": 0.009421,
     "end_time": "2024-10-02T11:04:41.526205",
     "exception": false,
     "start_time": "2024-10-02T11:04:41.516784",
     "status": "completed"
    },
    "tags": []
   },
   "source": [
    "Display a summary of the data to get additional information about the DataFrame, including the types of data in the columns."
   ]
  },
  {
   "cell_type": "code",
   "execution_count": 6,
   "id": "98b79bf6",
   "metadata": {
    "execution": {
     "iopub.execute_input": "2024-10-02T11:04:41.547433Z",
     "iopub.status.busy": "2024-10-02T11:04:41.546687Z",
     "iopub.status.idle": "2024-10-02T11:04:41.568091Z",
     "shell.execute_reply": "2024-10-02T11:04:41.566923Z"
    },
    "papermill": {
     "duration": 0.034801,
     "end_time": "2024-10-02T11:04:41.570645",
     "exception": false,
     "start_time": "2024-10-02T11:04:41.535844",
     "status": "completed"
    },
    "tags": []
   },
   "outputs": [
    {
     "name": "stdout",
     "output_type": "stream",
     "text": [
      "<class 'pandas.core.frame.DataFrame'>\n",
      "RangeIndex: 1340 entries, 0 to 1339\n",
      "Data columns (total 22 columns):\n",
      " #   Column       Non-Null Count  Dtype  \n",
      "---  ------       --------------  -----  \n",
      " 0   Unnamed: 0   1340 non-null   int64  \n",
      " 1   name         1340 non-null   object \n",
      " 2   gp           1340 non-null   int64  \n",
      " 3   min          1340 non-null   float64\n",
      " 4   pts          1340 non-null   float64\n",
      " 5   fgm          1340 non-null   float64\n",
      " 6   fga          1340 non-null   float64\n",
      " 7   fg           1340 non-null   float64\n",
      " 8   3p_made      1340 non-null   float64\n",
      " 9   3pa          1340 non-null   float64\n",
      " 10  3p           1340 non-null   float64\n",
      " 11  ftm          1340 non-null   float64\n",
      " 12  fta          1340 non-null   float64\n",
      " 13  ft           1340 non-null   float64\n",
      " 14  oreb         1340 non-null   float64\n",
      " 15  dreb         1340 non-null   float64\n",
      " 16  reb          1340 non-null   float64\n",
      " 17  ast          1340 non-null   float64\n",
      " 18  stl          1340 non-null   float64\n",
      " 19  blk          1340 non-null   float64\n",
      " 20  tov          1340 non-null   float64\n",
      " 21  target_5yrs  1340 non-null   int64  \n",
      "dtypes: float64(18), int64(3), object(1)\n",
      "memory usage: 230.4+ KB\n"
     ]
    }
   ],
   "source": [
    "data.info()"
   ]
  },
  {
   "cell_type": "markdown",
   "id": "e4ede26e",
   "metadata": {
    "papermill": {
     "duration": 0.009561,
     "end_time": "2024-10-02T11:04:41.590246",
     "exception": false,
     "start_time": "2024-10-02T11:04:41.580685",
     "status": "completed"
    },
    "tags": []
   },
   "source": [
    "The columns with integer numbers are gp=number of games and the last column about the target_5yrs. All the others columns are floating-point numbers with double-precision."
   ]
  },
  {
   "cell_type": "markdown",
   "id": "7c380b9a",
   "metadata": {
    "papermill": {
     "duration": 0.009583,
     "end_time": "2024-10-02T11:04:41.609570",
     "exception": false,
     "start_time": "2024-10-02T11:04:41.599987",
     "status": "completed"
    },
    "tags": []
   },
   "source": [
    "# Check for missing values"
   ]
  },
  {
   "cell_type": "code",
   "execution_count": 7,
   "id": "3c20230a",
   "metadata": {
    "execution": {
     "iopub.execute_input": "2024-10-02T11:04:41.630824Z",
     "iopub.status.busy": "2024-10-02T11:04:41.630430Z",
     "iopub.status.idle": "2024-10-02T11:04:41.650358Z",
     "shell.execute_reply": "2024-10-02T11:04:41.649397Z"
    },
    "papermill": {
     "duration": 0.033323,
     "end_time": "2024-10-02T11:04:41.652627",
     "exception": false,
     "start_time": "2024-10-02T11:04:41.619304",
     "status": "completed"
    },
    "tags": []
   },
   "outputs": [
    {
     "name": "stdout",
     "output_type": "stream",
     "text": [
      "Number of missing values per column:\n",
      " Unnamed: 0     0\n",
      "name           0\n",
      "gp             0\n",
      "min            0\n",
      "pts            0\n",
      "fgm            0\n",
      "fga            0\n",
      "fg             0\n",
      "3p_made        0\n",
      "3pa            0\n",
      "3p             0\n",
      "ftm            0\n",
      "fta            0\n",
      "ft             0\n",
      "oreb           0\n",
      "dreb           0\n",
      "reb            0\n",
      "ast            0\n",
      "stl            0\n",
      "blk            0\n",
      "tov            0\n",
      "target_5yrs    0\n",
      "dtype: int64\n",
      "Missing value indicator:\n",
      "       Unnamed: 0   name     gp    min    pts    fgm    fga     fg  3p_made  \\\n",
      "0          False  False  False  False  False  False  False  False    False   \n",
      "1          False  False  False  False  False  False  False  False    False   \n",
      "2          False  False  False  False  False  False  False  False    False   \n",
      "3          False  False  False  False  False  False  False  False    False   \n",
      "4          False  False  False  False  False  False  False  False    False   \n",
      "...          ...    ...    ...    ...    ...    ...    ...    ...      ...   \n",
      "1335       False  False  False  False  False  False  False  False    False   \n",
      "1336       False  False  False  False  False  False  False  False    False   \n",
      "1337       False  False  False  False  False  False  False  False    False   \n",
      "1338       False  False  False  False  False  False  False  False    False   \n",
      "1339       False  False  False  False  False  False  False  False    False   \n",
      "\n",
      "        3pa  ...    fta     ft   oreb   dreb    reb    ast    stl    blk  \\\n",
      "0     False  ...  False  False  False  False  False  False  False  False   \n",
      "1     False  ...  False  False  False  False  False  False  False  False   \n",
      "2     False  ...  False  False  False  False  False  False  False  False   \n",
      "3     False  ...  False  False  False  False  False  False  False  False   \n",
      "4     False  ...  False  False  False  False  False  False  False  False   \n",
      "...     ...  ...    ...    ...    ...    ...    ...    ...    ...    ...   \n",
      "1335  False  ...  False  False  False  False  False  False  False  False   \n",
      "1336  False  ...  False  False  False  False  False  False  False  False   \n",
      "1337  False  ...  False  False  False  False  False  False  False  False   \n",
      "1338  False  ...  False  False  False  False  False  False  False  False   \n",
      "1339  False  ...  False  False  False  False  False  False  False  False   \n",
      "\n",
      "        tov  target_5yrs  \n",
      "0     False        False  \n",
      "1     False        False  \n",
      "2     False        False  \n",
      "3     False        False  \n",
      "4     False        False  \n",
      "...     ...          ...  \n",
      "1335  False        False  \n",
      "1336  False        False  \n",
      "1337  False        False  \n",
      "1338  False        False  \n",
      "1339  False        False  \n",
      "\n",
      "[1340 rows x 22 columns]\n",
      "Total number of missing values: 0\n"
     ]
    }
   ],
   "source": [
    "# Display the number of missing values in each column.\n",
    "# Check whether each value is missing.\n",
    "#Aggregate the number of missing values per column.\n",
    "\n",
    "\n",
    "# 1. Display the number of missing values in each column\n",
    "missing_values_per_column = data.isnull().sum()\n",
    "print(\"Number of missing values per column:\\n\", missing_values_per_column)\n",
    "\n",
    "# 2. Check whether each value is missing\n",
    "missing_values_indicator = data.isnull()\n",
    "print(\"Missing value indicator:\\n\", missing_values_indicator)\n",
    "\n",
    "# 3. Aggregate the number of missing values per column (alternative method)\n",
    "total_missing_values = missing_values_indicator.sum().sum()\n",
    "print(\"Total number of missing values:\", total_missing_values)"
   ]
  },
  {
   "cell_type": "markdown",
   "id": "3fdfde1b",
   "metadata": {
    "papermill": {
     "duration": 0.00981,
     "end_time": "2024-10-02T11:04:41.672508",
     "exception": false,
     "start_time": "2024-10-02T11:04:41.662698",
     "status": "completed"
    },
    "tags": []
   },
   "source": [
    "Checking for missing values in your data is crucial for several reasons:\n",
    "\n",
    "1. Data Quality: Missing data can significantly impact the accuracy and reliability of your analysis. If not addressed, it can lead to biased results and incorrect conclusions.\n",
    "1. Data Cleaning: Identifying and handling missing values is a fundamental step in data cleaning and preparation. This process ensures that your data is consistent and suitable for further analysis.\n",
    "1. Model Performance: Many machine learning algorithms are sensitive to missing data. If not properly handled, it can degrade the performance of your models.\n",
    "1. Bias and Inconsistency: Missing values can introduce bias into your analysis, especially if the missingness is related to other variables. For example, if missing values are more common in a particular group, it can lead to biased results.\n",
    "1. Data Interpretation: Understanding the patterns of missing data can provide insights into the data collection process and potential issues. For instance, if many values are missing for a specific variable, it might indicate a problem with the data collection method."
   ]
  },
  {
   "cell_type": "markdown",
   "id": "72fe6014",
   "metadata": {
    "papermill": {
     "duration": 0.009769,
     "end_time": "2024-10-02T11:04:41.692173",
     "exception": false,
     "start_time": "2024-10-02T11:04:41.682404",
     "status": "completed"
    },
    "tags": []
   },
   "source": [
    "# Step 3: Statistical tests"
   ]
  },
  {
   "cell_type": "markdown",
   "id": "665a84f0",
   "metadata": {
    "papermill": {
     "duration": 0.009648,
     "end_time": "2024-10-02T11:04:41.711777",
     "exception": false,
     "start_time": "2024-10-02T11:04:41.702129",
     "status": "completed"
    },
    "tags": []
   },
   "source": [
    "To understand how balanced the dataset is in terms of class, display the percentage of values that belong to each class in the target column. In this context, class 1 indicates an NBA career duration of at least five years, while class 0 indicates an NBA career duration of less than five years."
   ]
  },
  {
   "cell_type": "code",
   "execution_count": 8,
   "id": "54697df3",
   "metadata": {
    "execution": {
     "iopub.execute_input": "2024-10-02T11:04:41.733780Z",
     "iopub.status.busy": "2024-10-02T11:04:41.732894Z",
     "iopub.status.idle": "2024-10-02T11:04:41.741470Z",
     "shell.execute_reply": "2024-10-02T11:04:41.740509Z"
    },
    "papermill": {
     "duration": 0.022106,
     "end_time": "2024-10-02T11:04:41.743778",
     "exception": false,
     "start_time": "2024-10-02T11:04:41.721672",
     "status": "completed"
    },
    "tags": []
   },
   "outputs": [
    {
     "name": "stdout",
     "output_type": "stream",
     "text": [
      "Class Distribution:\n",
      "target_5yrs\n",
      "1    62.014925\n",
      "0    37.985075\n",
      "Name: count, dtype: float64\n"
     ]
    }
   ],
   "source": [
    "# Display percentage (%) of values for each class (1, 0) represented in the target column of this dataset.\n",
    "\n",
    "# Count the occurrences of each class in the target column\n",
    "class_counts = data['target_5yrs'].value_counts()\n",
    "\n",
    "# Calculate the percentage of each class\n",
    "class_percentages = class_counts / len(data)*100\n",
    "\n",
    "print(\"Class Distribution:\")\n",
    "print(class_percentages)"
   ]
  },
  {
   "cell_type": "markdown",
   "id": "3be0b403",
   "metadata": {
    "papermill": {
     "duration": 0.009888,
     "end_time": "2024-10-02T11:04:41.763928",
     "exception": false,
     "start_time": "2024-10-02T11:04:41.754040",
     "status": "completed"
    },
    "tags": []
   },
   "source": [
    "* About 62% of the values in the target columm belong to class 1, and about 38% of the values belong to class 0. In other words, about 62% of players represented by this data have an NBA career duration of at least five years, and about 38% do not.\n",
    "* The dataset is not perfectly balanced, but an exact 50-50 split is a rare occurance in datasets, and a 62-38 split is not too imbalanced. However, if the majority class made up 90% or more of the dataset, then that would be of concern, and it would be prudent to address that issue through techniques like upsampling and downsampling."
   ]
  },
  {
   "cell_type": "markdown",
   "id": "3b125c14",
   "metadata": {
    "papermill": {
     "duration": 0.009741,
     "end_time": "2024-10-02T11:04:41.783764",
     "exception": false,
     "start_time": "2024-10-02T11:04:41.774023",
     "status": "completed"
    },
    "tags": []
   },
   "source": [
    "# Step 4: Results and evaluation"
   ]
  },
  {
   "cell_type": "markdown",
   "id": "e62d889c",
   "metadata": {
    "papermill": {
     "duration": 0.00973,
     "end_time": "2024-10-02T11:04:41.803447",
     "exception": false,
     "start_time": "2024-10-02T11:04:41.793717",
     "status": "completed"
    },
    "tags": []
   },
   "source": [
    "* You should avoid selecting the name column as a feature. A player's name is not helpful in determining their career duration. Moreover, it may not be ethical or fair to predict a player's career duration based on a name.\n",
    "* The number of games a player has played in may not be as important in determining their career duration as the number of points they have earned. While you could say that someone who has played in more games may have more practice and experience, the points they earn during the games they played in would speak more to their performance as a player. This, in turn, would influence their career duration. So, the gp column on its own may not be a helpful feature. However, gp and pts could be combined to get the total number of points earned across the games played, and that result could be a helpful feature. That approach can be implemented later in the feature engineering process—in feature extraction.\n",
    "* If the number of points earned across games will be extracted as a feature, then that could be combined with the number of minutes played across games (min * gp) to extract another feature. This could be a measure of players' efficiency and could help in predicting players' career duration. min on its own may not be useful as a feature for the same reason as gp.\n",
    "* There are three different columns that give information about field goals. The percent of field goals a player makes (fg) says more about their performance than the number of field goals they make (fgm) or the number of field goals they attempt (fga). The percent gives more context, as it takes into account both how many field goals a player successfully made and how many field goals they attempted in total. This allows for a more meaningful comparison between players. The same logic applies to the percent of three-point field goals made, as well as the percent of free throws made.\n",
    "* There are columns for the number offensive rebounds (oreb), the number of defensive rebounds (dreb), and the number of rebounds overall (reb). Because the overall number of rebounds should already incorporate both offensive and defensive rebounds, it would make sense to use the overall as a feature.\n",
    "* The number of assists (ast), steals (stl), blocks (blk), and turnovers (tov) also provide information about how well players are performing in games, and thus, could be helpful in predicting how long players last in the league.\n",
    "\n",
    "Therefore, at this stage of the feature engineering process, it would be most effective to select the following columns:\n",
    "\n",
    "gp, min, pts, fg, 3p, ft, reb, ast, stl, blk, tov."
   ]
  },
  {
   "cell_type": "markdown",
   "id": "2b552f27",
   "metadata": {
    "papermill": {
     "duration": 0.009796,
     "end_time": "2024-10-02T11:04:41.823204",
     "exception": false,
     "start_time": "2024-10-02T11:04:41.813408",
     "status": "completed"
    },
    "tags": []
   },
   "source": [
    "Perform feature engineering, with the goal of identifying and creating features that will serve as useful predictors for the target variable, *target_5yrs*."
   ]
  },
  {
   "cell_type": "code",
   "execution_count": 9,
   "id": "73608f2f",
   "metadata": {
    "execution": {
     "iopub.execute_input": "2024-10-02T11:04:41.846032Z",
     "iopub.status.busy": "2024-10-02T11:04:41.845304Z",
     "iopub.status.idle": "2024-10-02T11:04:41.851149Z",
     "shell.execute_reply": "2024-10-02T11:04:41.850227Z"
    },
    "papermill": {
     "duration": 0.019952,
     "end_time": "2024-10-02T11:04:41.853208",
     "exception": false,
     "start_time": "2024-10-02T11:04:41.833256",
     "status": "completed"
    },
    "tags": []
   },
   "outputs": [],
   "source": [
    "# Select the columns to proceed with and save the DataFrame in new variable `selected_data`.\n",
    "# Include the target column, `target_5yrs`.\n",
    "selected_data = data[[\"gp\", \"min\", \"pts\", \"fg\", \"3p\", \"ft\", \"reb\", \"ast\", \"stl\", \"blk\", \"tov\", \"target_5yrs\"]]"
   ]
  },
  {
   "cell_type": "markdown",
   "id": "69e573c5",
   "metadata": {
    "papermill": {
     "duration": 0.009787,
     "end_time": "2024-10-02T11:04:41.873032",
     "exception": false,
     "start_time": "2024-10-02T11:04:41.863245",
     "status": "completed"
    },
    "tags": []
   },
   "source": [
    "**Feature transformation**\n",
    "\n",
    "An important aspect of feature transformation is feature encoding. If there are categorical columns that you would want to use as features, those columns should be transformed to be numerical. This technique is also known as feature encoding."
   ]
  },
  {
   "cell_type": "markdown",
   "id": "5694a8a7",
   "metadata": {
    "papermill": {
     "duration": 0.009794,
     "end_time": "2024-10-02T11:04:41.893293",
     "exception": false,
     "start_time": "2024-10-02T11:04:41.883499",
     "status": "completed"
    },
    "tags": []
   },
   "source": [
    "### Feature extraction"
   ]
  },
  {
   "cell_type": "code",
   "execution_count": 10,
   "id": "b758500d",
   "metadata": {
    "execution": {
     "iopub.execute_input": "2024-10-02T11:04:41.915225Z",
     "iopub.status.busy": "2024-10-02T11:04:41.914567Z",
     "iopub.status.idle": "2024-10-02T11:04:41.932021Z",
     "shell.execute_reply": "2024-10-02T11:04:41.931053Z"
    },
    "papermill": {
     "duration": 0.031079,
     "end_time": "2024-10-02T11:04:41.934464",
     "exception": false,
     "start_time": "2024-10-02T11:04:41.903385",
     "status": "completed"
    },
    "tags": []
   },
   "outputs": [
    {
     "data": {
      "text/html": [
       "<div>\n",
       "<style scoped>\n",
       "    .dataframe tbody tr th:only-of-type {\n",
       "        vertical-align: middle;\n",
       "    }\n",
       "\n",
       "    .dataframe tbody tr th {\n",
       "        vertical-align: top;\n",
       "    }\n",
       "\n",
       "    .dataframe thead th {\n",
       "        text-align: right;\n",
       "    }\n",
       "</style>\n",
       "<table border=\"1\" class=\"dataframe\">\n",
       "  <thead>\n",
       "    <tr style=\"text-align: right;\">\n",
       "      <th></th>\n",
       "      <th>gp</th>\n",
       "      <th>min</th>\n",
       "      <th>pts</th>\n",
       "      <th>fg</th>\n",
       "      <th>3p</th>\n",
       "      <th>ft</th>\n",
       "      <th>reb</th>\n",
       "      <th>ast</th>\n",
       "      <th>stl</th>\n",
       "      <th>blk</th>\n",
       "      <th>tov</th>\n",
       "      <th>target_5yrs</th>\n",
       "    </tr>\n",
       "  </thead>\n",
       "  <tbody>\n",
       "    <tr>\n",
       "      <th>0</th>\n",
       "      <td>36</td>\n",
       "      <td>27.4</td>\n",
       "      <td>7.4</td>\n",
       "      <td>34.7</td>\n",
       "      <td>25.0</td>\n",
       "      <td>69.9</td>\n",
       "      <td>4.1</td>\n",
       "      <td>1.9</td>\n",
       "      <td>0.4</td>\n",
       "      <td>0.4</td>\n",
       "      <td>1.3</td>\n",
       "      <td>0</td>\n",
       "    </tr>\n",
       "    <tr>\n",
       "      <th>1</th>\n",
       "      <td>35</td>\n",
       "      <td>26.9</td>\n",
       "      <td>7.2</td>\n",
       "      <td>29.6</td>\n",
       "      <td>23.5</td>\n",
       "      <td>76.5</td>\n",
       "      <td>2.4</td>\n",
       "      <td>3.7</td>\n",
       "      <td>1.1</td>\n",
       "      <td>0.5</td>\n",
       "      <td>1.6</td>\n",
       "      <td>0</td>\n",
       "    </tr>\n",
       "    <tr>\n",
       "      <th>2</th>\n",
       "      <td>74</td>\n",
       "      <td>15.3</td>\n",
       "      <td>5.2</td>\n",
       "      <td>42.2</td>\n",
       "      <td>24.4</td>\n",
       "      <td>67.0</td>\n",
       "      <td>2.2</td>\n",
       "      <td>1.0</td>\n",
       "      <td>0.5</td>\n",
       "      <td>0.3</td>\n",
       "      <td>1.0</td>\n",
       "      <td>0</td>\n",
       "    </tr>\n",
       "    <tr>\n",
       "      <th>3</th>\n",
       "      <td>58</td>\n",
       "      <td>11.6</td>\n",
       "      <td>5.7</td>\n",
       "      <td>42.6</td>\n",
       "      <td>22.6</td>\n",
       "      <td>68.9</td>\n",
       "      <td>1.9</td>\n",
       "      <td>0.8</td>\n",
       "      <td>0.6</td>\n",
       "      <td>0.1</td>\n",
       "      <td>1.0</td>\n",
       "      <td>1</td>\n",
       "    </tr>\n",
       "    <tr>\n",
       "      <th>4</th>\n",
       "      <td>48</td>\n",
       "      <td>11.5</td>\n",
       "      <td>4.5</td>\n",
       "      <td>52.4</td>\n",
       "      <td>0.0</td>\n",
       "      <td>67.4</td>\n",
       "      <td>2.5</td>\n",
       "      <td>0.3</td>\n",
       "      <td>0.3</td>\n",
       "      <td>0.4</td>\n",
       "      <td>0.8</td>\n",
       "      <td>1</td>\n",
       "    </tr>\n",
       "  </tbody>\n",
       "</table>\n",
       "</div>"
      ],
      "text/plain": [
       "   gp   min  pts    fg    3p    ft  reb  ast  stl  blk  tov  target_5yrs\n",
       "0  36  27.4  7.4  34.7  25.0  69.9  4.1  1.9  0.4  0.4  1.3            0\n",
       "1  35  26.9  7.2  29.6  23.5  76.5  2.4  3.7  1.1  0.5  1.6            0\n",
       "2  74  15.3  5.2  42.2  24.4  67.0  2.2  1.0  0.5  0.3  1.0            0\n",
       "3  58  11.6  5.7  42.6  22.6  68.9  1.9  0.8  0.6  0.1  1.0            1\n",
       "4  48  11.5  4.5  52.4   0.0  67.4  2.5  0.3  0.3  0.4  0.8            1"
      ]
     },
     "execution_count": 10,
     "metadata": {},
     "output_type": "execute_result"
    }
   ],
   "source": [
    "# Display the first few rows of `selected_data` for reference.\n",
    "selected_data.head()"
   ]
  },
  {
   "cell_type": "markdown",
   "id": "29cebb14",
   "metadata": {
    "papermill": {
     "duration": 0.010238,
     "end_time": "2024-10-02T11:04:41.955324",
     "exception": false,
     "start_time": "2024-10-02T11:04:41.945086",
     "status": "completed"
    },
    "tags": []
   },
   "source": [
    "The gp, pts, min columns lend themselves to feature extraction.\n",
    "* gp represents the total number of games a player has played in, and pts represents the average number of points the player has earned per game. It might be helpful to combine these columns to get the total number of points the player has earned across the games and use the result as a new feature, which could be added into a new column named total_points. The total points earned by a player can reflect their performance and shape their career longevity.\n",
    "* The min column represents the average number of minutes played per game. total_points could be combined with min and gp to extract a new feature: points earned per minute. This can be considered a measure of player efficiency, which could shape career duration. This feature can be added into a column named efficiency."
   ]
  },
  {
   "cell_type": "code",
   "execution_count": 11,
   "id": "02826ac0",
   "metadata": {
    "execution": {
     "iopub.execute_input": "2024-10-02T11:04:41.978156Z",
     "iopub.status.busy": "2024-10-02T11:04:41.977505Z",
     "iopub.status.idle": "2024-10-02T11:04:42.000841Z",
     "shell.execute_reply": "2024-10-02T11:04:41.999889Z"
    },
    "papermill": {
     "duration": 0.03701,
     "end_time": "2024-10-02T11:04:42.002817",
     "exception": false,
     "start_time": "2024-10-02T11:04:41.965807",
     "status": "completed"
    },
    "tags": []
   },
   "outputs": [
    {
     "data": {
      "text/html": [
       "<div>\n",
       "<style scoped>\n",
       "    .dataframe tbody tr th:only-of-type {\n",
       "        vertical-align: middle;\n",
       "    }\n",
       "\n",
       "    .dataframe tbody tr th {\n",
       "        vertical-align: top;\n",
       "    }\n",
       "\n",
       "    .dataframe thead th {\n",
       "        text-align: right;\n",
       "    }\n",
       "</style>\n",
       "<table border=\"1\" class=\"dataframe\">\n",
       "  <thead>\n",
       "    <tr style=\"text-align: right;\">\n",
       "      <th></th>\n",
       "      <th>gp</th>\n",
       "      <th>min</th>\n",
       "      <th>pts</th>\n",
       "      <th>fg</th>\n",
       "      <th>3p</th>\n",
       "      <th>ft</th>\n",
       "      <th>reb</th>\n",
       "      <th>ast</th>\n",
       "      <th>stl</th>\n",
       "      <th>blk</th>\n",
       "      <th>tov</th>\n",
       "      <th>target_5yrs</th>\n",
       "      <th>total_points</th>\n",
       "      <th>efficiency</th>\n",
       "    </tr>\n",
       "  </thead>\n",
       "  <tbody>\n",
       "    <tr>\n",
       "      <th>0</th>\n",
       "      <td>36</td>\n",
       "      <td>27.4</td>\n",
       "      <td>7.4</td>\n",
       "      <td>34.7</td>\n",
       "      <td>25.0</td>\n",
       "      <td>69.9</td>\n",
       "      <td>4.1</td>\n",
       "      <td>1.9</td>\n",
       "      <td>0.4</td>\n",
       "      <td>0.4</td>\n",
       "      <td>1.3</td>\n",
       "      <td>0</td>\n",
       "      <td>266.4</td>\n",
       "      <td>0.270073</td>\n",
       "    </tr>\n",
       "    <tr>\n",
       "      <th>1</th>\n",
       "      <td>35</td>\n",
       "      <td>26.9</td>\n",
       "      <td>7.2</td>\n",
       "      <td>29.6</td>\n",
       "      <td>23.5</td>\n",
       "      <td>76.5</td>\n",
       "      <td>2.4</td>\n",
       "      <td>3.7</td>\n",
       "      <td>1.1</td>\n",
       "      <td>0.5</td>\n",
       "      <td>1.6</td>\n",
       "      <td>0</td>\n",
       "      <td>252.0</td>\n",
       "      <td>0.267658</td>\n",
       "    </tr>\n",
       "    <tr>\n",
       "      <th>2</th>\n",
       "      <td>74</td>\n",
       "      <td>15.3</td>\n",
       "      <td>5.2</td>\n",
       "      <td>42.2</td>\n",
       "      <td>24.4</td>\n",
       "      <td>67.0</td>\n",
       "      <td>2.2</td>\n",
       "      <td>1.0</td>\n",
       "      <td>0.5</td>\n",
       "      <td>0.3</td>\n",
       "      <td>1.0</td>\n",
       "      <td>0</td>\n",
       "      <td>384.8</td>\n",
       "      <td>0.339869</td>\n",
       "    </tr>\n",
       "    <tr>\n",
       "      <th>3</th>\n",
       "      <td>58</td>\n",
       "      <td>11.6</td>\n",
       "      <td>5.7</td>\n",
       "      <td>42.6</td>\n",
       "      <td>22.6</td>\n",
       "      <td>68.9</td>\n",
       "      <td>1.9</td>\n",
       "      <td>0.8</td>\n",
       "      <td>0.6</td>\n",
       "      <td>0.1</td>\n",
       "      <td>1.0</td>\n",
       "      <td>1</td>\n",
       "      <td>330.6</td>\n",
       "      <td>0.491379</td>\n",
       "    </tr>\n",
       "    <tr>\n",
       "      <th>4</th>\n",
       "      <td>48</td>\n",
       "      <td>11.5</td>\n",
       "      <td>4.5</td>\n",
       "      <td>52.4</td>\n",
       "      <td>0.0</td>\n",
       "      <td>67.4</td>\n",
       "      <td>2.5</td>\n",
       "      <td>0.3</td>\n",
       "      <td>0.3</td>\n",
       "      <td>0.4</td>\n",
       "      <td>0.8</td>\n",
       "      <td>1</td>\n",
       "      <td>216.0</td>\n",
       "      <td>0.391304</td>\n",
       "    </tr>\n",
       "  </tbody>\n",
       "</table>\n",
       "</div>"
      ],
      "text/plain": [
       "   gp   min  pts    fg    3p    ft  reb  ast  stl  blk  tov  target_5yrs  \\\n",
       "0  36  27.4  7.4  34.7  25.0  69.9  4.1  1.9  0.4  0.4  1.3            0   \n",
       "1  35  26.9  7.2  29.6  23.5  76.5  2.4  3.7  1.1  0.5  1.6            0   \n",
       "2  74  15.3  5.2  42.2  24.4  67.0  2.2  1.0  0.5  0.3  1.0            0   \n",
       "3  58  11.6  5.7  42.6  22.6  68.9  1.9  0.8  0.6  0.1  1.0            1   \n",
       "4  48  11.5  4.5  52.4   0.0  67.4  2.5  0.3  0.3  0.4  0.8            1   \n",
       "\n",
       "   total_points  efficiency  \n",
       "0         266.4    0.270073  \n",
       "1         252.0    0.267658  \n",
       "2         384.8    0.339869  \n",
       "3         330.6    0.491379  \n",
       "4         216.0    0.391304  "
      ]
     },
     "execution_count": 11,
     "metadata": {},
     "output_type": "execute_result"
    }
   ],
   "source": [
    "# Extract two features that would help predict target_5yrs.\n",
    "# Create a new variable named `extracted_data`.\n",
    "\n",
    "# Make a copy of `selected_data` \n",
    "extracted_data = selected_data.copy()\n",
    "\n",
    "# Add a new column named `total_points`; \n",
    "# Calculate total points earned by multiplying the number of games played by the average number of points earned per game\n",
    "extracted_data[\"total_points\"] = extracted_data[\"gp\"] * extracted_data[\"pts\"]\n",
    "\n",
    "# Add a new column named `efficiency`. Calculate efficiency by dividing the total points earned by the total number \n",
    "# of minutes played, which yields points per minute. (Note that `min` represents avg. minutes per game.)\n",
    "extracted_data[\"efficiency\"] = extracted_data[\"total_points\"] / (extracted_data[\"min\"] * extracted_data[\"gp\"])\n",
    "\n",
    "# Display the first few rows of `extracted_data` to confirm that the new columns were added.\n",
    "extracted_data.head()"
   ]
  },
  {
   "cell_type": "code",
   "execution_count": 12,
   "id": "0c7065c5",
   "metadata": {
    "execution": {
     "iopub.execute_input": "2024-10-02T11:04:42.026421Z",
     "iopub.status.busy": "2024-10-02T11:04:42.025691Z",
     "iopub.status.idle": "2024-10-02T11:04:42.044195Z",
     "shell.execute_reply": "2024-10-02T11:04:42.043262Z"
    },
    "papermill": {
     "duration": 0.032664,
     "end_time": "2024-10-02T11:04:42.046298",
     "exception": false,
     "start_time": "2024-10-02T11:04:42.013634",
     "status": "completed"
    },
    "tags": []
   },
   "outputs": [
    {
     "data": {
      "text/html": [
       "<div>\n",
       "<style scoped>\n",
       "    .dataframe tbody tr th:only-of-type {\n",
       "        vertical-align: middle;\n",
       "    }\n",
       "\n",
       "    .dataframe tbody tr th {\n",
       "        vertical-align: top;\n",
       "    }\n",
       "\n",
       "    .dataframe thead th {\n",
       "        text-align: right;\n",
       "    }\n",
       "</style>\n",
       "<table border=\"1\" class=\"dataframe\">\n",
       "  <thead>\n",
       "    <tr style=\"text-align: right;\">\n",
       "      <th></th>\n",
       "      <th>fg</th>\n",
       "      <th>3p</th>\n",
       "      <th>ft</th>\n",
       "      <th>reb</th>\n",
       "      <th>ast</th>\n",
       "      <th>stl</th>\n",
       "      <th>blk</th>\n",
       "      <th>tov</th>\n",
       "      <th>target_5yrs</th>\n",
       "      <th>total_points</th>\n",
       "      <th>efficiency</th>\n",
       "    </tr>\n",
       "  </thead>\n",
       "  <tbody>\n",
       "    <tr>\n",
       "      <th>0</th>\n",
       "      <td>34.7</td>\n",
       "      <td>25.0</td>\n",
       "      <td>69.9</td>\n",
       "      <td>4.1</td>\n",
       "      <td>1.9</td>\n",
       "      <td>0.4</td>\n",
       "      <td>0.4</td>\n",
       "      <td>1.3</td>\n",
       "      <td>0</td>\n",
       "      <td>266.4</td>\n",
       "      <td>0.270073</td>\n",
       "    </tr>\n",
       "    <tr>\n",
       "      <th>1</th>\n",
       "      <td>29.6</td>\n",
       "      <td>23.5</td>\n",
       "      <td>76.5</td>\n",
       "      <td>2.4</td>\n",
       "      <td>3.7</td>\n",
       "      <td>1.1</td>\n",
       "      <td>0.5</td>\n",
       "      <td>1.6</td>\n",
       "      <td>0</td>\n",
       "      <td>252.0</td>\n",
       "      <td>0.267658</td>\n",
       "    </tr>\n",
       "    <tr>\n",
       "      <th>2</th>\n",
       "      <td>42.2</td>\n",
       "      <td>24.4</td>\n",
       "      <td>67.0</td>\n",
       "      <td>2.2</td>\n",
       "      <td>1.0</td>\n",
       "      <td>0.5</td>\n",
       "      <td>0.3</td>\n",
       "      <td>1.0</td>\n",
       "      <td>0</td>\n",
       "      <td>384.8</td>\n",
       "      <td>0.339869</td>\n",
       "    </tr>\n",
       "    <tr>\n",
       "      <th>3</th>\n",
       "      <td>42.6</td>\n",
       "      <td>22.6</td>\n",
       "      <td>68.9</td>\n",
       "      <td>1.9</td>\n",
       "      <td>0.8</td>\n",
       "      <td>0.6</td>\n",
       "      <td>0.1</td>\n",
       "      <td>1.0</td>\n",
       "      <td>1</td>\n",
       "      <td>330.6</td>\n",
       "      <td>0.491379</td>\n",
       "    </tr>\n",
       "    <tr>\n",
       "      <th>4</th>\n",
       "      <td>52.4</td>\n",
       "      <td>0.0</td>\n",
       "      <td>67.4</td>\n",
       "      <td>2.5</td>\n",
       "      <td>0.3</td>\n",
       "      <td>0.3</td>\n",
       "      <td>0.4</td>\n",
       "      <td>0.8</td>\n",
       "      <td>1</td>\n",
       "      <td>216.0</td>\n",
       "      <td>0.391304</td>\n",
       "    </tr>\n",
       "  </tbody>\n",
       "</table>\n",
       "</div>"
      ],
      "text/plain": [
       "     fg    3p    ft  reb  ast  stl  blk  tov  target_5yrs  total_points  \\\n",
       "0  34.7  25.0  69.9  4.1  1.9  0.4  0.4  1.3            0         266.4   \n",
       "1  29.6  23.5  76.5  2.4  3.7  1.1  0.5  1.6            0         252.0   \n",
       "2  42.2  24.4  67.0  2.2  1.0  0.5  0.3  1.0            0         384.8   \n",
       "3  42.6  22.6  68.9  1.9  0.8  0.6  0.1  1.0            1         330.6   \n",
       "4  52.4   0.0  67.4  2.5  0.3  0.3  0.4  0.8            1         216.0   \n",
       "\n",
       "   efficiency  \n",
       "0    0.270073  \n",
       "1    0.267658  \n",
       "2    0.339869  \n",
       "3    0.491379  \n",
       "4    0.391304  "
      ]
     },
     "execution_count": 12,
     "metadata": {},
     "output_type": "execute_result"
    }
   ],
   "source": [
    "# Remove any columns from `extracted_data` that are no longer needed.\n",
    "\n",
    "# Remove `gp`, `pts`, and `min` from `extracted_data`.\n",
    "extracted_data = extracted_data.drop(columns=[\"gp\", \"pts\", \"min\"])\n",
    "\n",
    "# Display the first few rows of `extracted_data` to ensure that column drops took place.\n",
    "\n",
    "extracted_data.head()"
   ]
  },
  {
   "cell_type": "markdown",
   "id": "2d5b9e28",
   "metadata": {
    "papermill": {
     "duration": 0.010599,
     "end_time": "2024-10-02T11:04:42.067825",
     "exception": false,
     "start_time": "2024-10-02T11:04:42.057226",
     "status": "completed"
    },
    "tags": []
   },
   "source": [
    "# Step 5: Model preparation\n",
    "\n",
    "**Isolate your target and predictor variables**\n",
    "\n",
    "Separately define the target variable (target_5yrs) and the features."
   ]
  },
  {
   "cell_type": "code",
   "execution_count": 13,
   "id": "a33c940b",
   "metadata": {
    "execution": {
     "iopub.execute_input": "2024-10-02T11:04:42.090949Z",
     "iopub.status.busy": "2024-10-02T11:04:42.090539Z",
     "iopub.status.idle": "2024-10-02T11:04:42.096433Z",
     "shell.execute_reply": "2024-10-02T11:04:42.095625Z"
    },
    "papermill": {
     "duration": 0.019798,
     "end_time": "2024-10-02T11:04:42.098345",
     "exception": false,
     "start_time": "2024-10-02T11:04:42.078547",
     "status": "completed"
    },
    "tags": []
   },
   "outputs": [],
   "source": [
    "# Define the y (target) variable.\n",
    "\n",
    "y = extracted_data['target_5yrs']\n",
    "\n",
    "# Define the X (predictor) variables.\n",
    "\n",
    "X = extracted_data.drop('target_5yrs', axis = 1)"
   ]
  },
  {
   "cell_type": "markdown",
   "id": "72ec6034",
   "metadata": {
    "papermill": {
     "duration": 0.01063,
     "end_time": "2024-10-02T11:04:42.119925",
     "exception": false,
     "start_time": "2024-10-02T11:04:42.109295",
     "status": "completed"
    },
    "tags": []
   },
   "source": [
    "Display the first 10 rows of your target and predictor variables. This will help you get a sense of how the data is structured."
   ]
  },
  {
   "cell_type": "code",
   "execution_count": 14,
   "id": "74a1d4e1",
   "metadata": {
    "execution": {
     "iopub.execute_input": "2024-10-02T11:04:42.143658Z",
     "iopub.status.busy": "2024-10-02T11:04:42.142786Z",
     "iopub.status.idle": "2024-10-02T11:04:42.149863Z",
     "shell.execute_reply": "2024-10-02T11:04:42.148951Z"
    },
    "papermill": {
     "duration": 0.021202,
     "end_time": "2024-10-02T11:04:42.151948",
     "exception": false,
     "start_time": "2024-10-02T11:04:42.130746",
     "status": "completed"
    },
    "tags": []
   },
   "outputs": [
    {
     "data": {
      "text/plain": [
       "0    0\n",
       "1    0\n",
       "2    0\n",
       "3    1\n",
       "4    1\n",
       "5    0\n",
       "6    1\n",
       "7    1\n",
       "8    0\n",
       "9    0\n",
       "Name: target_5yrs, dtype: int64"
      ]
     },
     "execution_count": 14,
     "metadata": {},
     "output_type": "execute_result"
    }
   ],
   "source": [
    "y.head(10)"
   ]
  },
  {
   "cell_type": "markdown",
   "id": "86ca0d7e",
   "metadata": {
    "papermill": {
     "duration": 0.010815,
     "end_time": "2024-10-02T11:04:42.173937",
     "exception": false,
     "start_time": "2024-10-02T11:04:42.163122",
     "status": "completed"
    },
    "tags": []
   },
   "source": [
    "Given that the target variable contains both 1 and 0 indicates that it is binary and requires a model suitable for binary classification."
   ]
  },
  {
   "cell_type": "markdown",
   "id": "83bbcf0f",
   "metadata": {
    "papermill": {
     "duration": 0.01072,
     "end_time": "2024-10-02T11:04:42.195642",
     "exception": false,
     "start_time": "2024-10-02T11:04:42.184922",
     "status": "completed"
    },
    "tags": []
   },
   "source": [
    "**Perform a split operation on your data**\n",
    "\n",
    "Divide your data into a training set (75% of data) and test set (25% of data). This is an important step in the process, as it allows you to reserve a part of the data that the model has not observed. This tests how well the model generalizes—or performs—on new data."
   ]
  },
  {
   "cell_type": "code",
   "execution_count": 15,
   "id": "2eb964cd",
   "metadata": {
    "execution": {
     "iopub.execute_input": "2024-10-02T11:04:42.220255Z",
     "iopub.status.busy": "2024-10-02T11:04:42.219344Z",
     "iopub.status.idle": "2024-10-02T11:04:42.228968Z",
     "shell.execute_reply": "2024-10-02T11:04:42.228052Z"
    },
    "papermill": {
     "duration": 0.024364,
     "end_time": "2024-10-02T11:04:42.230978",
     "exception": false,
     "start_time": "2024-10-02T11:04:42.206614",
     "status": "completed"
    },
    "tags": []
   },
   "outputs": [],
   "source": [
    "# Perform the split operation on your data.\n",
    "# Assign the outputs as follows: X_train, X_test, y_train, y_test.\n",
    "X_train, X_test, y_train, y_test = model_selection.train_test_split(X, y, test_size=0.25, random_state=0)"
   ]
  },
  {
   "cell_type": "markdown",
   "id": "8a667b83",
   "metadata": {
    "papermill": {
     "duration": 0.010807,
     "end_time": "2024-10-02T11:04:42.252854",
     "exception": false,
     "start_time": "2024-10-02T11:04:42.242047",
     "status": "completed"
    },
    "tags": []
   },
   "source": [
    "# Print the shape of each output\n",
    "\n",
    "Print the shape of each output from your train-test split. This will verify that the split operated as expected."
   ]
  },
  {
   "cell_type": "code",
   "execution_count": 16,
   "id": "3e075c4f",
   "metadata": {
    "execution": {
     "iopub.execute_input": "2024-10-02T11:04:42.276741Z",
     "iopub.status.busy": "2024-10-02T11:04:42.276340Z",
     "iopub.status.idle": "2024-10-02T11:04:42.281786Z",
     "shell.execute_reply": "2024-10-02T11:04:42.280884Z"
    },
    "papermill": {
     "duration": 0.020238,
     "end_time": "2024-10-02T11:04:42.284238",
     "exception": false,
     "start_time": "2024-10-02T11:04:42.264000",
     "status": "completed"
    },
    "tags": []
   },
   "outputs": [
    {
     "name": "stdout",
     "output_type": "stream",
     "text": [
      "(1005, 10)\n",
      "(335, 10)\n",
      "(1005,)\n",
      "(335,)\n"
     ]
    }
   ],
   "source": [
    "# Print the shape (rows, columns) of the output from the train-test split.\n",
    "\n",
    "# Print the shape of X_train.\n",
    "print(X_train.shape)\n",
    "\n",
    "# Print the shape of X_test.\n",
    "print(X_test.shape)\n",
    "\n",
    "# Print the shape of y_train.\n",
    "print(y_train.shape)\n",
    "\n",
    "# Print the shape of y_test.\n",
    "print(y_test.shape)"
   ]
  },
  {
   "cell_type": "markdown",
   "id": "7ffca8a8",
   "metadata": {
    "papermill": {
     "duration": 0.010746,
     "end_time": "2024-10-02T11:04:42.306188",
     "exception": false,
     "start_time": "2024-10-02T11:04:42.295442",
     "status": "completed"
    },
    "tags": []
   },
   "source": [
    "Each training DataFrame contains 1,005 rows, while each test DataFrame contains 335 rows. Additionally, there are 10 columns in each X DataFrame, with only one column in each y DataFrame.\n",
    "\n",
    "The effect of the train-test split showed an approximately 75% training and 25% test split."
   ]
  },
  {
   "cell_type": "markdown",
   "id": "05cb4a67",
   "metadata": {
    "papermill": {
     "duration": 0.010773,
     "end_time": "2024-10-02T11:04:42.327881",
     "exception": false,
     "start_time": "2024-10-02T11:04:42.317108",
     "status": "completed"
    },
    "tags": []
   },
   "source": [
    "# Step 6: Model building\n",
    "\n",
    "Using the assumption that your features are normally distributed and continuous, the Gaussian Naive Bayes algorithm is most appropriate for this data. While my data may not perfectly adhere to these assumptions, this model will still yield the most usable and accurate results.\n",
    "\n",
    "By creating this model, I will be drawing on my feature engineering work by training the classifier on the X_train DataFrame. I will use this to predict target_5yrs from y_train.\n",
    "\n",
    "Start by defining nb to be the relevant algorithm from sklearn.naive_bayes. Then fit my model to the training data. Use this fitted model to create predictions for the test data."
   ]
  },
  {
   "cell_type": "code",
   "execution_count": 17,
   "id": "08e34d5a",
   "metadata": {
    "execution": {
     "iopub.execute_input": "2024-10-02T11:04:42.351544Z",
     "iopub.status.busy": "2024-10-02T11:04:42.351173Z",
     "iopub.status.idle": "2024-10-02T11:04:42.363275Z",
     "shell.execute_reply": "2024-10-02T11:04:42.362463Z"
    },
    "papermill": {
     "duration": 0.026424,
     "end_time": "2024-10-02T11:04:42.365277",
     "exception": false,
     "start_time": "2024-10-02T11:04:42.338853",
     "status": "completed"
    },
    "tags": []
   },
   "outputs": [],
   "source": [
    "# Assign `nb` to be the appropriate implementation of Naive Bayes.\n",
    "nb = naive_bayes.GaussianNB()\n",
    "\n",
    "# Fit the model on your training data.\n",
    "nb.fit(X_train, y_train)\n",
    "\n",
    "# Apply your model to predict on your test data. Call this \"y_pred\".\n",
    "y_pred = nb.predict(X_test)"
   ]
  },
  {
   "cell_type": "markdown",
   "id": "d194b387",
   "metadata": {
    "papermill": {
     "duration": 0.010825,
     "end_time": "2024-10-02T11:04:42.387281",
     "exception": false,
     "start_time": "2024-10-02T11:04:42.376456",
     "status": "completed"
    },
    "tags": []
   },
   "source": [
    "# Step 7: Results and evaluation"
   ]
  },
  {
   "cell_type": "code",
   "execution_count": 18,
   "id": "6198102b",
   "metadata": {
    "execution": {
     "iopub.execute_input": "2024-10-02T11:04:42.411344Z",
     "iopub.status.busy": "2024-10-02T11:04:42.410482Z",
     "iopub.status.idle": "2024-10-02T11:04:42.426942Z",
     "shell.execute_reply": "2024-10-02T11:04:42.425909Z"
    },
    "papermill": {
     "duration": 0.030742,
     "end_time": "2024-10-02T11:04:42.429078",
     "exception": false,
     "start_time": "2024-10-02T11:04:42.398336",
     "status": "completed"
    },
    "tags": []
   },
   "outputs": [
    {
     "name": "stdout",
     "output_type": "stream",
     "text": [
      "accuracy score:\n",
      "0.6895522388059702\n",
      "precision score:\n",
      "0.8405797101449275\n",
      "recall score:\n",
      "0.5858585858585859\n",
      "f1 score:\n",
      "0.6904761904761905\n"
     ]
    },
    {
     "data": {
      "text/plain": [
       "(None, None)"
      ]
     },
     "execution_count": 18,
     "metadata": {},
     "output_type": "execute_result"
    }
   ],
   "source": [
    "# Print your accuracy score.\n",
    "print('accuracy score:'), print(metrics.accuracy_score(y_test, y_pred))\n",
    "\n",
    "# Print your precision score.\n",
    "print('precision score:'), print(metrics.precision_score(y_test, y_pred))\n",
    "\n",
    "# Print your recall score.\n",
    "print('recall score:'), print(metrics.recall_score(y_test, y_pred))\n",
    "\n",
    "# Print your f1 score.\n",
    "print('f1 score:'), print(metrics.f1_score(y_test, y_pred))"
   ]
  },
  {
   "cell_type": "markdown",
   "id": "29fb40c3",
   "metadata": {
    "papermill": {
     "duration": 0.011075,
     "end_time": "2024-10-02T11:04:42.451581",
     "exception": false,
     "start_time": "2024-10-02T11:04:42.440506",
     "status": "completed"
    },
    "tags": []
   },
   "source": [
    "The accuracy score for this model is 0.6896, or 69.0% accurate.\n",
    "\n",
    "In classification problems, accuracy is useful to know but may not be the best metric by which to evaluate this model. While accuracy is often the most intuitive metric, it is a poor evaluation metric in some cases. In particular, if you have imbalanced classes, a model could appear accurate but be poor at balancing false positives and false negatives.\n",
    "\n",
    "Precision and recall scores are both useful to evaluate the correct predictive capability of a model because they balance the false positives and false negatives inherent in prediction.\n",
    "\n",
    "The model shows a precision score of 0.8406, suggesting the model is quite good at predicting true positives—meaning the player will play longer than five years—while balancing false positives. The recall score of 0.5859 shows worse performance in predicting true negatives—where the player will not play for five years or more—while balancing false negatives.These two metrics combined can give a better assessment of model performance than accuracy does alone.\n",
    "\n",
    "The F1 score balances the precision and recall performance to give a combined assessment of how well this model delivers predictions. In this case, the F1 score is 0.6905, which suggests reasonable predictive power in this model."
   ]
  },
  {
   "cell_type": "markdown",
   "id": "a9dc3f0c",
   "metadata": {
    "papermill": {
     "duration": 0.011001,
     "end_time": "2024-10-02T11:04:42.474025",
     "exception": false,
     "start_time": "2024-10-02T11:04:42.463024",
     "status": "completed"
    },
    "tags": []
   },
   "source": [
    "**Gain clarity with the confusion matrix**"
   ]
  },
  {
   "cell_type": "code",
   "execution_count": 19,
   "id": "d46ef347",
   "metadata": {
    "execution": {
     "iopub.execute_input": "2024-10-02T11:04:42.498389Z",
     "iopub.status.busy": "2024-10-02T11:04:42.497507Z",
     "iopub.status.idle": "2024-10-02T11:04:42.863400Z",
     "shell.execute_reply": "2024-10-02T11:04:42.862397Z"
    },
    "papermill": {
     "duration": 0.380408,
     "end_time": "2024-10-02T11:04:42.865624",
     "exception": false,
     "start_time": "2024-10-02T11:04:42.485216",
     "status": "completed"
    },
    "tags": []
   },
   "outputs": [
    {
     "data": {
      "text/plain": [
       "<sklearn.metrics._plot.confusion_matrix.ConfusionMatrixDisplay at 0x78834b30b3d0>"
      ]
     },
     "execution_count": 19,
     "metadata": {},
     "output_type": "execute_result"
    },
    {
     "data": {
      "image/png": "[encoded data removed]",
      "text/plain": [
       "<Figure size 640x480 with 2 Axes>"
      ]
     },
     "metadata": {},
     "output_type": "display_data"
    }
   ],
   "source": [
    "# Construct and display your confusion matrix.\n",
    "\n",
    "# Construct the confusion matrix for your predicted and test values.\n",
    "cm = metrics.confusion_matrix(y_test, y_pred)\n",
    "\n",
    "# Create the display for your confusion matrix.\n",
    "disp = metrics.ConfusionMatrixDisplay(confusion_matrix=cm, display_labels=nb.classes_)\n",
    "\n",
    "# Plot the visual in-line.\n",
    "disp.plot()"
   ]
  },
  {
   "cell_type": "markdown",
   "id": "6936d0a4",
   "metadata": {
    "papermill": {
     "duration": 0.011404,
     "end_time": "2024-10-02T11:04:42.888730",
     "exception": false,
     "start_time": "2024-10-02T11:04:42.877326",
     "status": "completed"
    },
    "tags": []
   },
   "source": [
    "* The top left to bottom right diagonal in the confusion matrix represents the correct predictions, and the ratio of these squares showcases the accuracy.\n",
    " \n",
    "* The concentration of true positives stands out relative to false positives. This ratio is why the precision score is so high (0.8406).\n",
    "\n",
    "* True negatives and false negatives are closer in number, which explains the worse recall score."
   ]
  },
  {
   "cell_type": "markdown",
   "id": "a5b19649",
   "metadata": {
    "papermill": {
     "duration": 0.011352,
     "end_time": "2024-10-02T11:04:42.911675",
     "exception": false,
     "start_time": "2024-10-02T11:04:42.900323",
     "status": "completed"
    },
    "tags": []
   },
   "source": [
    "# Considerations\n",
    "\n",
    "* The evaluation of the model is important to inform if the model has delivered accurate predictions.\n",
    "* Splitting the data was important for ensuring that there was new data for the model to test its predictive performance.\n",
    "* Each metric provided an evaluation from a different standpoint, and accuracy alone was not a strong way to evaluate the model.\n",
    "* Effective assessments balance the true/false positives versus true/false negatives through the confusion matrix and F1 score.\n",
    "\n",
    "* Showcase the data used to create the prediction and the performance of the model overall.\n",
    "* Review the sample output of the features and the confusion matrix to indicate the model's performance.\n",
    "* Highlight the metric values, emphasizing the F1 score.\n",
    "\n",
    "* The model created provides some value in predicting an NBA player's chances of playing for five years or more.\n",
    "* Notably, the model performed better at predicting true positives than it did at predicting true negatives. In other words, it more accurately identified those players who will likely play for more than five years than it did those who likely will not."
   ]
  }
 ],
 "metadata": {
  "kaggle": {
   "accelerator": "none",
   "dataSources": [
    {
     "datasetId": 5437981,
     "sourceId": 9023545,
     "sourceType": "datasetVersion"
    }
   ],
   "dockerImageVersionId": 30775,
   "isGpuEnabled": false,
   "isInternetEnabled": true,
   "language": "python",
   "sourceType": "notebook"
  },
  "kernelspec": {
   "display_name": "Python 3",
   "language": "python",
   "name": "python3"
  },
  "language_info": {
   "codemirror_mode": {
    "name": "ipython",
    "version": 3
   },
   "file_extension": ".py",
   "mimetype": "text/x-python",
   "name": "python",
   "nbconvert_exporter": "python",
   "pygments_lexer": "ipython3",
   "version": "3.10.14"
  },
  "papermill": {
   "default_parameters": {},
   "duration": 6.659393,
   "end_time": "2024-10-02T11:04:43.442938",
   "environment_variables": {},
   "exception": null,
   "input_path": "__notebook__.ipynb",
   "output_path": "__notebook__.ipynb",
   "parameters": {},
   "start_time": "2024-10-02T11:04:36.783545",
   "version": "2.6.0"
  }
 },
 "nbformat": 4,
 "nbformat_minor": 5
}
