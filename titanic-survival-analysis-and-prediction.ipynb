{
 "cells": [
  {
   "cell_type": "markdown",
   "id": "f65c4125",
   "metadata": {
    "papermill": {
     "duration": 0.006587,
     "end_time": "2024-11-05T16:26:05.290071",
     "exception": false,
     "start_time": "2024-11-05T16:26:05.283484",
     "status": "completed"
    },
    "tags": []
   },
   "source": [
    "# Titanic Survival Analysis and Prediction"
   ]
  },
  {
   "cell_type": "markdown",
   "id": "89dc1b76",
   "metadata": {
    "papermill": {
     "duration": 0.005628,
     "end_time": "2024-11-05T16:26:05.301956",
     "exception": false,
     "start_time": "2024-11-05T16:26:05.296328",
     "status": "completed"
    },
    "tags": []
   },
   "source": [
    "This is a comprehensive Python solution for the Titanic competition.\n",
    "\n",
    "# Introduction\n",
    "\n",
    "In this notebook, we delve into the infamous Titanic tragedy and utilize machine learning to predict passenger survival. We'll employ a combination of data cleaning, feature engineering, and advanced modeling techniques to uncover hidden insights and build a robust predictive model. Our analysis will focus on leveraging to improve accuracy and gain valuable knowledge from the historical data."
   ]
  },
  {
   "cell_type": "markdown",
   "id": "342f9021",
   "metadata": {
    "papermill": {
     "duration": 0.005931,
     "end_time": "2024-11-05T16:26:05.313916",
     "exception": false,
     "start_time": "2024-11-05T16:26:05.307985",
     "status": "completed"
    },
    "tags": []
   },
   "source": [
    "# 1. Required libraries"
   ]
  },
  {
   "cell_type": "code",
   "execution_count": 1,
   "id": "90702d16",
   "metadata": {
    "execution": {
     "iopub.execute_input": "2024-11-05T16:26:05.327647Z",
     "iopub.status.busy": "2024-11-05T16:26:05.327170Z",
     "iopub.status.idle": "2024-11-05T16:26:09.195781Z",
     "shell.execute_reply": "2024-11-05T16:26:09.194525Z"
    },
    "papermill": {
     "duration": 3.879023,
     "end_time": "2024-11-05T16:26:09.198805",
     "exception": false,
     "start_time": "2024-11-05T16:26:05.319782",
     "status": "completed"
    },
    "tags": []
   },
   "outputs": [],
   "source": [
    "import pandas as pd\n",
    "import numpy as np\n",
    "import matplotlib.pyplot as plt\n",
    "import seaborn as sns\n",
    "from sklearn.model_selection import cross_val_score\n",
    "from sklearn.preprocessing import StandardScaler\n",
    "from sklearn.ensemble import RandomForestClassifier\n",
    "from sklearn.metrics import accuracy_score, confusion_matrix"
   ]
  },
  {
   "cell_type": "markdown",
   "id": "6c8b4ae4",
   "metadata": {
    "papermill": {
     "duration": 0.005464,
     "end_time": "2024-11-05T16:26:09.210253",
     "exception": false,
     "start_time": "2024-11-05T16:26:09.204789",
     "status": "completed"
    },
    "tags": []
   },
   "source": [
    "# 2. Data files loading"
   ]
  },
  {
   "cell_type": "markdown",
   "id": "be45204d",
   "metadata": {
    "papermill": {
     "duration": 0.005334,
     "end_time": "2024-11-05T16:26:09.221320",
     "exception": false,
     "start_time": "2024-11-05T16:26:09.215986",
     "status": "completed"
    },
    "tags": []
   },
   "source": [
    "Download the competition data files (train.csv and test.csv) and place them in the same directory as the script."
   ]
  },
  {
   "cell_type": "code",
   "execution_count": 2,
   "id": "ecd0a5e4",
   "metadata": {
    "execution": {
     "iopub.execute_input": "2024-11-05T16:26:09.235203Z",
     "iopub.status.busy": "2024-11-05T16:26:09.234544Z",
     "iopub.status.idle": "2024-11-05T16:26:09.276902Z",
     "shell.execute_reply": "2024-11-05T16:26:09.275612Z"
    },
    "papermill": {
     "duration": 0.052573,
     "end_time": "2024-11-05T16:26:09.279934",
     "exception": false,
     "start_time": "2024-11-05T16:26:09.227361",
     "status": "completed"
    },
    "tags": []
   },
   "outputs": [],
   "source": [
    "# Load the data\n",
    "train_data = pd.read_csv(\"/kaggle/input/titanic/train.csv\")\n",
    "test_data = pd.read_csv(\"/kaggle/input/titanic/test.csv\")"
   ]
  },
  {
   "cell_type": "markdown",
   "id": "3039eca8",
   "metadata": {
    "papermill": {
     "duration": 0.00544,
     "end_time": "2024-11-05T16:26:09.291390",
     "exception": false,
     "start_time": "2024-11-05T16:26:09.285950",
     "status": "completed"
    },
    "tags": []
   },
   "source": [
    "# 3. Data Exploration (explore_data function):"
   ]
  },
  {
   "cell_type": "markdown",
   "id": "933bb784",
   "metadata": {
    "papermill": {
     "duration": 0.005402,
     "end_time": "2024-11-05T16:26:09.303572",
     "exception": false,
     "start_time": "2024-11-05T16:26:09.298170",
     "status": "completed"
    },
    "tags": []
   },
   "source": [
    "**3.1 Shows basic dataset information**"
   ]
  },
  {
   "cell_type": "code",
   "execution_count": 3,
   "id": "9c0480bb",
   "metadata": {
    "execution": {
     "iopub.execute_input": "2024-11-05T16:26:09.317218Z",
     "iopub.status.busy": "2024-11-05T16:26:09.316733Z",
     "iopub.status.idle": "2024-11-05T16:26:09.324083Z",
     "shell.execute_reply": "2024-11-05T16:26:09.322716Z"
    },
    "papermill": {
     "duration": 0.017287,
     "end_time": "2024-11-05T16:26:09.326728",
     "exception": false,
     "start_time": "2024-11-05T16:26:09.309441",
     "status": "completed"
    },
    "tags": []
   },
   "outputs": [
    {
     "name": "stdout",
     "output_type": "stream",
     "text": [
      "\n",
      "Dataset Shape - train_data: (891, 12)\n",
      "\n",
      "Dataset Shape - test_data: (418, 11)\n"
     ]
    }
   ],
   "source": [
    " print(\"\\nDataset Shape - train_data:\", train_data.shape)\n",
    "print(\"\\nDataset Shape - test_data:\", test_data.shape)"
   ]
  },
  {
   "cell_type": "code",
   "execution_count": 4,
   "id": "4446f333",
   "metadata": {
    "execution": {
     "iopub.execute_input": "2024-11-05T16:26:09.341348Z",
     "iopub.status.busy": "2024-11-05T16:26:09.340508Z",
     "iopub.status.idle": "2024-11-05T16:26:09.372971Z",
     "shell.execute_reply": "2024-11-05T16:26:09.371569Z"
    },
    "papermill": {
     "duration": 0.042795,
     "end_time": "2024-11-05T16:26:09.375824",
     "exception": false,
     "start_time": "2024-11-05T16:26:09.333029",
     "status": "completed"
    },
    "tags": []
   },
   "outputs": [
    {
     "data": {
      "text/html": [
       "<div>\n",
       "<style scoped>\n",
       "    .dataframe tbody tr th:only-of-type {\n",
       "        vertical-align: middle;\n",
       "    }\n",
       "\n",
       "    .dataframe tbody tr th {\n",
       "        vertical-align: top;\n",
       "    }\n",
       "\n",
       "    .dataframe thead th {\n",
       "        text-align: right;\n",
       "    }\n",
       "</style>\n",
       "<table border=\"1\" class=\"dataframe\">\n",
       "  <thead>\n",
       "    <tr style=\"text-align: right;\">\n",
       "      <th></th>\n",
       "      <th>PassengerId</th>\n",
       "      <th>Survived</th>\n",
       "      <th>Pclass</th>\n",
       "      <th>Name</th>\n",
       "      <th>Sex</th>\n",
       "      <th>Age</th>\n",
       "      <th>SibSp</th>\n",
       "      <th>Parch</th>\n",
       "      <th>Ticket</th>\n",
       "      <th>Fare</th>\n",
       "      <th>Cabin</th>\n",
       "      <th>Embarked</th>\n",
       "    </tr>\n",
       "  </thead>\n",
       "  <tbody>\n",
       "    <tr>\n",
       "      <th>0</th>\n",
       "      <td>1</td>\n",
       "      <td>0</td>\n",
       "      <td>3</td>\n",
       "      <td>Braund, Mr. Owen Harris</td>\n",
       "      <td>male</td>\n",
       "      <td>22.0</td>\n",
       "      <td>1</td>\n",
       "      <td>0</td>\n",
       "      <td>A/5 21171</td>\n",
       "      <td>7.2500</td>\n",
       "      <td>NaN</td>\n",
       "      <td>S</td>\n",
       "    </tr>\n",
       "    <tr>\n",
       "      <th>1</th>\n",
       "      <td>2</td>\n",
       "      <td>1</td>\n",
       "      <td>1</td>\n",
       "      <td>Cumings, Mrs. John Bradley (Florence Briggs Th...</td>\n",
       "      <td>female</td>\n",
       "      <td>38.0</td>\n",
       "      <td>1</td>\n",
       "      <td>0</td>\n",
       "      <td>PC 17599</td>\n",
       "      <td>71.2833</td>\n",
       "      <td>C85</td>\n",
       "      <td>C</td>\n",
       "    </tr>\n",
       "    <tr>\n",
       "      <th>2</th>\n",
       "      <td>3</td>\n",
       "      <td>1</td>\n",
       "      <td>3</td>\n",
       "      <td>Heikkinen, Miss. Laina</td>\n",
       "      <td>female</td>\n",
       "      <td>26.0</td>\n",
       "      <td>0</td>\n",
       "      <td>0</td>\n",
       "      <td>STON/O2. 3101282</td>\n",
       "      <td>7.9250</td>\n",
       "      <td>NaN</td>\n",
       "      <td>S</td>\n",
       "    </tr>\n",
       "    <tr>\n",
       "      <th>3</th>\n",
       "      <td>4</td>\n",
       "      <td>1</td>\n",
       "      <td>1</td>\n",
       "      <td>Futrelle, Mrs. Jacques Heath (Lily May Peel)</td>\n",
       "      <td>female</td>\n",
       "      <td>35.0</td>\n",
       "      <td>1</td>\n",
       "      <td>0</td>\n",
       "      <td>113803</td>\n",
       "      <td>53.1000</td>\n",
       "      <td>C123</td>\n",
       "      <td>S</td>\n",
       "    </tr>\n",
       "    <tr>\n",
       "      <th>4</th>\n",
       "      <td>5</td>\n",
       "      <td>0</td>\n",
       "      <td>3</td>\n",
       "      <td>Allen, Mr. William Henry</td>\n",
       "      <td>male</td>\n",
       "      <td>35.0</td>\n",
       "      <td>0</td>\n",
       "      <td>0</td>\n",
       "      <td>373450</td>\n",
       "      <td>8.0500</td>\n",
       "      <td>NaN</td>\n",
       "      <td>S</td>\n",
       "    </tr>\n",
       "  </tbody>\n",
       "</table>\n",
       "</div>"
      ],
      "text/plain": [
       "   PassengerId  Survived  Pclass  \\\n",
       "0            1         0       3   \n",
       "1            2         1       1   \n",
       "2            3         1       3   \n",
       "3            4         1       1   \n",
       "4            5         0       3   \n",
       "\n",
       "                                                Name     Sex   Age  SibSp  \\\n",
       "0                            Braund, Mr. Owen Harris    male  22.0      1   \n",
       "1  Cumings, Mrs. John Bradley (Florence Briggs Th...  female  38.0      1   \n",
       "2                             Heikkinen, Miss. Laina  female  26.0      0   \n",
       "3       Futrelle, Mrs. Jacques Heath (Lily May Peel)  female  35.0      1   \n",
       "4                           Allen, Mr. William Henry    male  35.0      0   \n",
       "\n",
       "   Parch            Ticket     Fare Cabin Embarked  \n",
       "0      0         A/5 21171   7.2500   NaN        S  \n",
       "1      0          PC 17599  71.2833   C85        C  \n",
       "2      0  STON/O2. 3101282   7.9250   NaN        S  \n",
       "3      0            113803  53.1000  C123        S  \n",
       "4      0            373450   8.0500   NaN        S  "
      ]
     },
     "execution_count": 4,
     "metadata": {},
     "output_type": "execute_result"
    }
   ],
   "source": [
    "train_data.head()"
   ]
  },
  {
   "cell_type": "code",
   "execution_count": 5,
   "id": "a07e244a",
   "metadata": {
    "execution": {
     "iopub.execute_input": "2024-11-05T16:26:09.391680Z",
     "iopub.status.busy": "2024-11-05T16:26:09.391239Z",
     "iopub.status.idle": "2024-11-05T16:26:09.410424Z",
     "shell.execute_reply": "2024-11-05T16:26:09.409099Z"
    },
    "papermill": {
     "duration": 0.02983,
     "end_time": "2024-11-05T16:26:09.413403",
     "exception": false,
     "start_time": "2024-11-05T16:26:09.383573",
     "status": "completed"
    },
    "tags": []
   },
   "outputs": [
    {
     "data": {
      "text/html": [
       "<div>\n",
       "<style scoped>\n",
       "    .dataframe tbody tr th:only-of-type {\n",
       "        vertical-align: middle;\n",
       "    }\n",
       "\n",
       "    .dataframe tbody tr th {\n",
       "        vertical-align: top;\n",
       "    }\n",
       "\n",
       "    .dataframe thead th {\n",
       "        text-align: right;\n",
       "    }\n",
       "</style>\n",
       "<table border=\"1\" class=\"dataframe\">\n",
       "  <thead>\n",
       "    <tr style=\"text-align: right;\">\n",
       "      <th></th>\n",
       "      <th>PassengerId</th>\n",
       "      <th>Pclass</th>\n",
       "      <th>Name</th>\n",
       "      <th>Sex</th>\n",
       "      <th>Age</th>\n",
       "      <th>SibSp</th>\n",
       "      <th>Parch</th>\n",
       "      <th>Ticket</th>\n",
       "      <th>Fare</th>\n",
       "      <th>Cabin</th>\n",
       "      <th>Embarked</th>\n",
       "    </tr>\n",
       "  </thead>\n",
       "  <tbody>\n",
       "    <tr>\n",
       "      <th>0</th>\n",
       "      <td>892</td>\n",
       "      <td>3</td>\n",
       "      <td>Kelly, Mr. James</td>\n",
       "      <td>male</td>\n",
       "      <td>34.5</td>\n",
       "      <td>0</td>\n",
       "      <td>0</td>\n",
       "      <td>330911</td>\n",
       "      <td>7.8292</td>\n",
       "      <td>NaN</td>\n",
       "      <td>Q</td>\n",
       "    </tr>\n",
       "    <tr>\n",
       "      <th>1</th>\n",
       "      <td>893</td>\n",
       "      <td>3</td>\n",
       "      <td>Wilkes, Mrs. James (Ellen Needs)</td>\n",
       "      <td>female</td>\n",
       "      <td>47.0</td>\n",
       "      <td>1</td>\n",
       "      <td>0</td>\n",
       "      <td>363272</td>\n",
       "      <td>7.0000</td>\n",
       "      <td>NaN</td>\n",
       "      <td>S</td>\n",
       "    </tr>\n",
       "    <tr>\n",
       "      <th>2</th>\n",
       "      <td>894</td>\n",
       "      <td>2</td>\n",
       "      <td>Myles, Mr. Thomas Francis</td>\n",
       "      <td>male</td>\n",
       "      <td>62.0</td>\n",
       "      <td>0</td>\n",
       "      <td>0</td>\n",
       "      <td>240276</td>\n",
       "      <td>9.6875</td>\n",
       "      <td>NaN</td>\n",
       "      <td>Q</td>\n",
       "    </tr>\n",
       "    <tr>\n",
       "      <th>3</th>\n",
       "      <td>895</td>\n",
       "      <td>3</td>\n",
       "      <td>Wirz, Mr. Albert</td>\n",
       "      <td>male</td>\n",
       "      <td>27.0</td>\n",
       "      <td>0</td>\n",
       "      <td>0</td>\n",
       "      <td>315154</td>\n",
       "      <td>8.6625</td>\n",
       "      <td>NaN</td>\n",
       "      <td>S</td>\n",
       "    </tr>\n",
       "    <tr>\n",
       "      <th>4</th>\n",
       "      <td>896</td>\n",
       "      <td>3</td>\n",
       "      <td>Hirvonen, Mrs. Alexander (Helga E Lindqvist)</td>\n",
       "      <td>female</td>\n",
       "      <td>22.0</td>\n",
       "      <td>1</td>\n",
       "      <td>1</td>\n",
       "      <td>3101298</td>\n",
       "      <td>12.2875</td>\n",
       "      <td>NaN</td>\n",
       "      <td>S</td>\n",
       "    </tr>\n",
       "  </tbody>\n",
       "</table>\n",
       "</div>"
      ],
      "text/plain": [
       "   PassengerId  Pclass                                          Name     Sex  \\\n",
       "0          892       3                              Kelly, Mr. James    male   \n",
       "1          893       3              Wilkes, Mrs. James (Ellen Needs)  female   \n",
       "2          894       2                     Myles, Mr. Thomas Francis    male   \n",
       "3          895       3                              Wirz, Mr. Albert    male   \n",
       "4          896       3  Hirvonen, Mrs. Alexander (Helga E Lindqvist)  female   \n",
       "\n",
       "    Age  SibSp  Parch   Ticket     Fare Cabin Embarked  \n",
       "0  34.5      0      0   330911   7.8292   NaN        Q  \n",
       "1  47.0      1      0   363272   7.0000   NaN        S  \n",
       "2  62.0      0      0   240276   9.6875   NaN        Q  \n",
       "3  27.0      0      0   315154   8.6625   NaN        S  \n",
       "4  22.0      1      1  3101298  12.2875   NaN        S  "
      ]
     },
     "execution_count": 5,
     "metadata": {},
     "output_type": "execute_result"
    }
   ],
   "source": [
    "test_data.head()"
   ]
  },
  {
   "cell_type": "code",
   "execution_count": 6,
   "id": "d897fea9",
   "metadata": {
    "execution": {
     "iopub.execute_input": "2024-11-05T16:26:09.430140Z",
     "iopub.status.busy": "2024-11-05T16:26:09.429060Z",
     "iopub.status.idle": "2024-11-05T16:26:09.461604Z",
     "shell.execute_reply": "2024-11-05T16:26:09.460227Z"
    },
    "papermill": {
     "duration": 0.043658,
     "end_time": "2024-11-05T16:26:09.464524",
     "exception": false,
     "start_time": "2024-11-05T16:26:09.420866",
     "status": "completed"
    },
    "tags": []
   },
   "outputs": [
    {
     "name": "stdout",
     "output_type": "stream",
     "text": [
      "<class 'pandas.core.frame.DataFrame'>\n",
      "RangeIndex: 891 entries, 0 to 890\n",
      "Data columns (total 12 columns):\n",
      " #   Column       Non-Null Count  Dtype  \n",
      "---  ------       --------------  -----  \n",
      " 0   PassengerId  891 non-null    int64  \n",
      " 1   Survived     891 non-null    int64  \n",
      " 2   Pclass       891 non-null    int64  \n",
      " 3   Name         891 non-null    object \n",
      " 4   Sex          891 non-null    object \n",
      " 5   Age          714 non-null    float64\n",
      " 6   SibSp        891 non-null    int64  \n",
      " 7   Parch        891 non-null    int64  \n",
      " 8   Ticket       891 non-null    object \n",
      " 9   Fare         891 non-null    float64\n",
      " 10  Cabin        204 non-null    object \n",
      " 11  Embarked     889 non-null    object \n",
      "dtypes: float64(2), int64(5), object(5)\n",
      "memory usage: 83.7+ KB\n"
     ]
    }
   ],
   "source": [
    "train_data.info()"
   ]
  },
  {
   "cell_type": "code",
   "execution_count": 7,
   "id": "97d57297",
   "metadata": {
    "execution": {
     "iopub.execute_input": "2024-11-05T16:26:09.480238Z",
     "iopub.status.busy": "2024-11-05T16:26:09.479780Z",
     "iopub.status.idle": "2024-11-05T16:26:09.492469Z",
     "shell.execute_reply": "2024-11-05T16:26:09.491331Z"
    },
    "papermill": {
     "duration": 0.02444,
     "end_time": "2024-11-05T16:26:09.496038",
     "exception": false,
     "start_time": "2024-11-05T16:26:09.471598",
     "status": "completed"
    },
    "tags": []
   },
   "outputs": [
    {
     "name": "stdout",
     "output_type": "stream",
     "text": [
      "<class 'pandas.core.frame.DataFrame'>\n",
      "RangeIndex: 418 entries, 0 to 417\n",
      "Data columns (total 11 columns):\n",
      " #   Column       Non-Null Count  Dtype  \n",
      "---  ------       --------------  -----  \n",
      " 0   PassengerId  418 non-null    int64  \n",
      " 1   Pclass       418 non-null    int64  \n",
      " 2   Name         418 non-null    object \n",
      " 3   Sex          418 non-null    object \n",
      " 4   Age          332 non-null    float64\n",
      " 5   SibSp        418 non-null    int64  \n",
      " 6   Parch        418 non-null    int64  \n",
      " 7   Ticket       418 non-null    object \n",
      " 8   Fare         417 non-null    float64\n",
      " 9   Cabin        91 non-null     object \n",
      " 10  Embarked     418 non-null    object \n",
      "dtypes: float64(2), int64(4), object(5)\n",
      "memory usage: 36.0+ KB\n"
     ]
    }
   ],
   "source": [
    "test_data.info()"
   ]
  },
  {
   "cell_type": "code",
   "execution_count": 8,
   "id": "c6ca5286",
   "metadata": {
    "execution": {
     "iopub.execute_input": "2024-11-05T16:26:09.511899Z",
     "iopub.status.busy": "2024-11-05T16:26:09.511451Z",
     "iopub.status.idle": "2024-11-05T16:26:09.520206Z",
     "shell.execute_reply": "2024-11-05T16:26:09.518942Z"
    },
    "papermill": {
     "duration": 0.020231,
     "end_time": "2024-11-05T16:26:09.523394",
     "exception": false,
     "start_time": "2024-11-05T16:26:09.503163",
     "status": "completed"
    },
    "tags": []
   },
   "outputs": [
    {
     "name": "stdout",
     "output_type": "stream",
     "text": [
      "\n",
      "Missing Values train_data:\n",
      "PassengerId      0\n",
      "Survived         0\n",
      "Pclass           0\n",
      "Name             0\n",
      "Sex              0\n",
      "Age            177\n",
      "SibSp            0\n",
      "Parch            0\n",
      "Ticket           0\n",
      "Fare             0\n",
      "Cabin          687\n",
      "Embarked         2\n",
      "dtype: int64\n"
     ]
    }
   ],
   "source": [
    "print(\"\\nMissing Values train_data:\")\n",
    "print(train_data.isnull().sum())"
   ]
  },
  {
   "cell_type": "code",
   "execution_count": 9,
   "id": "06a162ca",
   "metadata": {
    "execution": {
     "iopub.execute_input": "2024-11-05T16:26:09.539684Z",
     "iopub.status.busy": "2024-11-05T16:26:09.539267Z",
     "iopub.status.idle": "2024-11-05T16:26:09.547447Z",
     "shell.execute_reply": "2024-11-05T16:26:09.546255Z"
    },
    "papermill": {
     "duration": 0.019683,
     "end_time": "2024-11-05T16:26:09.550446",
     "exception": false,
     "start_time": "2024-11-05T16:26:09.530763",
     "status": "completed"
    },
    "tags": []
   },
   "outputs": [
    {
     "name": "stdout",
     "output_type": "stream",
     "text": [
      "\n",
      "Missing Values test_data:\n",
      "PassengerId      0\n",
      "Pclass           0\n",
      "Name             0\n",
      "Sex              0\n",
      "Age             86\n",
      "SibSp            0\n",
      "Parch            0\n",
      "Ticket           0\n",
      "Fare             1\n",
      "Cabin          327\n",
      "Embarked         0\n",
      "dtype: int64\n"
     ]
    }
   ],
   "source": [
    "print(\"\\nMissing Values test_data:\")\n",
    "print(test_data.isnull().sum())"
   ]
  },
  {
   "cell_type": "markdown",
   "id": "a800468f",
   "metadata": {
    "papermill": {
     "duration": 0.006708,
     "end_time": "2024-11-05T16:26:09.564433",
     "exception": false,
     "start_time": "2024-11-05T16:26:09.557725",
     "status": "completed"
    },
    "tags": []
   },
   "source": [
    "**3.2 Analyzes survival rates by different features**"
   ]
  },
  {
   "cell_type": "markdown",
   "id": "300bb481",
   "metadata": {
    "papermill": {
     "duration": 0.006877,
     "end_time": "2024-11-05T16:26:09.578468",
     "exception": false,
     "start_time": "2024-11-05T16:26:09.571591",
     "status": "completed"
    },
    "tags": []
   },
   "source": [
    "**3.3 Creates visualizations of key relationships**"
   ]
  }
 ],
 "metadata": {
  "kaggle": {
   "accelerator": "none",
   "dataSources": [
    {
     "databundleVersionId": 26502,
     "sourceId": 3136,
     "sourceType": "competition"
    }
   ],
   "dockerImageVersionId": 30786,
   "isGpuEnabled": false,
   "isInternetEnabled": true,
   "language": "python",
   "sourceType": "notebook"
  },
  "kernelspec": {
   "display_name": "Python 3",
   "language": "python",
   "name": "python3"
  },
  "language_info": {
   "codemirror_mode": {
    "name": "ipython",
    "version": 3
   },
   "file_extension": ".py",
   "mimetype": "text/x-python",
   "name": "python",
   "nbconvert_exporter": "python",
   "pygments_lexer": "ipython3",
   "version": "3.10.14"
  },
  "papermill": {
   "default_parameters": {},
   "duration": 8.948887,
   "end_time": "2024-11-05T16:26:10.308974",
   "environment_variables": {},
   "exception": null,
   "input_path": "__notebook__.ipynb",
   "output_path": "__notebook__.ipynb",
   "parameters": {},
   "start_time": "2024-11-05T16:26:01.360087",
   "version": "2.6.0"
  }
 },
 "nbformat": 4,
 "nbformat_minor": 5
}
