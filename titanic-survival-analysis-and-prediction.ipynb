{
 "cells": [
  {
   "cell_type": "markdown",
   "id": "d83d1454",
   "metadata": {
    "papermill": {
     "duration": 0.002831,
     "end_time": "2024-11-05T13:11:35.439847",
     "exception": false,
     "start_time": "2024-11-05T13:11:35.437016",
     "status": "completed"
    },
    "tags": []
   },
   "source": [
    "# Titanic Survival Analysis and Prediction"
   ]
  },
  {
   "cell_type": "markdown",
   "id": "2ca2e704",
   "metadata": {
    "papermill": {
     "duration": 0.002607,
     "end_time": "2024-11-05T13:11:35.446737",
     "exception": false,
     "start_time": "2024-11-05T13:11:35.444130",
     "status": "completed"
    },
    "tags": []
   },
   "source": [
    "This is a comprehensive Python solution for the Titanic competition."
   ]
  },
  {
   "cell_type": "markdown",
   "id": "badd0870",
   "metadata": {
    "papermill": {
     "duration": 0.002209,
     "end_time": "2024-11-05T13:11:35.451449",
     "exception": false,
     "start_time": "2024-11-05T13:11:35.449240",
     "status": "completed"
    },
    "tags": []
   },
   "source": [
    "# 1. Required libraries"
   ]
  },
  {
   "cell_type": "code",
   "execution_count": 1,
   "id": "4a9daa90",
   "metadata": {
    "execution": {
     "iopub.execute_input": "2024-11-05T13:11:35.458304Z",
     "iopub.status.busy": "2024-11-05T13:11:35.457762Z",
     "iopub.status.idle": "2024-11-05T13:11:38.828176Z",
     "shell.execute_reply": "2024-11-05T13:11:38.826998Z"
    },
    "papermill": {
     "duration": 3.376973,
     "end_time": "2024-11-05T13:11:38.830864",
     "exception": false,
     "start_time": "2024-11-05T13:11:35.453891",
     "status": "completed"
    },
    "tags": []
   },
   "outputs": [],
   "source": [
    "import pandas as pd\n",
    "import numpy as np\n",
    "import matplotlib.pyplot as plt\n",
    "import seaborn as sns\n",
    "from sklearn.model_selection import cross_val_score\n",
    "from sklearn.preprocessing import StandardScaler\n",
    "from sklearn.ensemble import RandomForestClassifier\n",
    "from sklearn.metrics import accuracy_score, confusion_matrix"
   ]
  },
  {
   "cell_type": "markdown",
   "id": "7d255a6c",
   "metadata": {
    "papermill": {
     "duration": 0.002141,
     "end_time": "2024-11-05T13:11:38.835478",
     "exception": false,
     "start_time": "2024-11-05T13:11:38.833337",
     "status": "completed"
    },
    "tags": []
   },
   "source": [
    "# 2. Data files loading"
   ]
  },
  {
   "cell_type": "markdown",
   "id": "adf424bf",
   "metadata": {
    "papermill": {
     "duration": 0.002017,
     "end_time": "2024-11-05T13:11:38.839742",
     "exception": false,
     "start_time": "2024-11-05T13:11:38.837725",
     "status": "completed"
    },
    "tags": []
   },
   "source": [
    "Download the competition data files (train.csv and test.csv) and place them in the same directory as the script."
   ]
  },
  {
   "cell_type": "code",
   "execution_count": 2,
   "id": "d1d78bbc",
   "metadata": {
    "execution": {
     "iopub.execute_input": "2024-11-05T13:11:38.845996Z",
     "iopub.status.busy": "2024-11-05T13:11:38.845405Z",
     "iopub.status.idle": "2024-11-05T13:11:38.875838Z",
     "shell.execute_reply": "2024-11-05T13:11:38.874644Z"
    },
    "papermill": {
     "duration": 0.036525,
     "end_time": "2024-11-05T13:11:38.878434",
     "exception": false,
     "start_time": "2024-11-05T13:11:38.841909",
     "status": "completed"
    },
    "tags": []
   },
   "outputs": [],
   "source": [
    "# Load the data\n",
    "train_data = pd.read_csv(\"/kaggle/input/titanic/train.csv\")\n",
    "test_data = pd.read_csv(\"/kaggle/input/titanic/test.csv\")"
   ]
  }
 ],
 "metadata": {
  "kaggle": {
   "accelerator": "none",
   "dataSources": [
    {
     "databundleVersionId": 26502,
     "sourceId": 3136,
     "sourceType": "competition"
    }
   ],
   "isGpuEnabled": false,
   "isInternetEnabled": true,
   "language": "python",
   "sourceType": "notebook"
  },
  "kernelspec": {
   "display_name": "Python 3",
   "language": "python",
   "name": "python3"
  },
  "language_info": {
   "codemirror_mode": {
    "name": "ipython",
    "version": 3
   },
   "file_extension": ".py",
   "mimetype": "text/x-python",
   "name": "python",
   "nbconvert_exporter": "python",
   "pygments_lexer": "ipython3",
   "version": "3.10.14"
  },
  "papermill": {
   "default_parameters": {},
   "duration": 7.066242,
   "end_time": "2024-11-05T13:11:39.503179",
   "environment_variables": {},
   "exception": null,
   "input_path": "__notebook__.ipynb",
   "output_path": "__notebook__.ipynb",
   "parameters": {},
   "start_time": "2024-11-05T13:11:32.436937",
   "version": "2.6.0"
  }
 },
 "nbformat": 4,
 "nbformat_minor": 5
}
