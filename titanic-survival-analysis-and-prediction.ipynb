{
 "cells": [
  {
   "cell_type": "markdown",
   "id": "39db6350",
   "metadata": {
    "papermill": {
     "duration": 0.006696,
     "end_time": "2024-11-07T13:08:33.472981",
     "exception": false,
     "start_time": "2024-11-07T13:08:33.466285",
     "status": "completed"
    },
    "tags": []
   },
   "source": [
    "# Titanic Survival Analysis and Prediction"
   ]
  },
  {
   "cell_type": "markdown",
   "id": "5e01cbc0",
   "metadata": {
    "papermill": {
     "duration": 0.005577,
     "end_time": "2024-11-07T13:08:33.484650",
     "exception": false,
     "start_time": "2024-11-07T13:08:33.479073",
     "status": "completed"
    },
    "tags": []
   },
   "source": [
    "This is a comprehensive Python solution for the Titanic competition.\n",
    "\n",
    "# Introduction\n",
    "\n",
    "In this notebook, we delve into the infamous Titanic tragedy and utilize machine learning to predict passenger survival. We'll employ a combination of data cleaning, feature engineering, and advanced modeling techniques to uncover hidden insights and build a robust predictive model. Our analysis will focus on leveraging to improve accuracy and gain valuable knowledge from the historical data."
   ]
  },
  {
   "cell_type": "markdown",
   "id": "117529fa",
   "metadata": {
    "papermill": {
     "duration": 0.005694,
     "end_time": "2024-11-07T13:08:33.496618",
     "exception": false,
     "start_time": "2024-11-07T13:08:33.490924",
     "status": "completed"
    },
    "tags": []
   },
   "source": [
    "# Required libraries"
   ]
  },
  {
   "cell_type": "code",
   "execution_count": 1,
   "id": "a6517ecd",
   "metadata": {
    "execution": {
     "iopub.execute_input": "2024-11-07T13:08:33.511920Z",
     "iopub.status.busy": "2024-11-07T13:08:33.510878Z",
     "iopub.status.idle": "2024-11-07T13:08:36.644309Z",
     "shell.execute_reply": "2024-11-07T13:08:36.642903Z"
    },
    "papermill": {
     "duration": 3.144923,
     "end_time": "2024-11-07T13:08:36.647374",
     "exception": false,
     "start_time": "2024-11-07T13:08:33.502451",
     "status": "completed"
    },
    "tags": []
   },
   "outputs": [],
   "source": [
    "import pandas as pd\n",
    "import numpy as np\n",
    "import matplotlib.pyplot as plt\n",
    "import seaborn as sns\n",
    "from sklearn.model_selection import cross_val_score\n",
    "from sklearn.preprocessing import StandardScaler\n",
    "from sklearn.ensemble import RandomForestClassifier\n",
    "from sklearn.metrics import accuracy_score, confusion_matrix\n",
    "from sklearn.model_selection import train_test_split"
   ]
  },
  {
   "cell_type": "markdown",
   "id": "c0616b8e",
   "metadata": {
    "papermill": {
     "duration": 0.005604,
     "end_time": "2024-11-07T13:08:36.659494",
     "exception": false,
     "start_time": "2024-11-07T13:08:36.653890",
     "status": "completed"
    },
    "tags": []
   },
   "source": [
    "# 1. Load the Data"
   ]
  },
  {
   "cell_type": "markdown",
   "id": "47e71c72",
   "metadata": {
    "papermill": {
     "duration": 0.006526,
     "end_time": "2024-11-07T13:08:36.672024",
     "exception": false,
     "start_time": "2024-11-07T13:08:36.665498",
     "status": "completed"
    },
    "tags": []
   },
   "source": [
    "Download the competition data files (train.csv and test.csv) and place them in the same directory as the script."
   ]
  },
  {
   "cell_type": "code",
   "execution_count": 2,
   "id": "1f38fc26",
   "metadata": {
    "execution": {
     "iopub.execute_input": "2024-11-07T13:08:36.686069Z",
     "iopub.status.busy": "2024-11-07T13:08:36.684811Z",
     "iopub.status.idle": "2024-11-07T13:08:36.713106Z",
     "shell.execute_reply": "2024-11-07T13:08:36.712051Z"
    },
    "papermill": {
     "duration": 0.037804,
     "end_time": "2024-11-07T13:08:36.715504",
     "exception": false,
     "start_time": "2024-11-07T13:08:36.677700",
     "status": "completed"
    },
    "tags": []
   },
   "outputs": [],
   "source": [
    "# Load the data\n",
    "train_data = pd.read_csv(\"/kaggle/input/titanic/train.csv\")\n",
    "test_data = pd.read_csv(\"/kaggle/input/titanic/test.csv\")"
   ]
  },
  {
   "cell_type": "markdown",
   "id": "fe281bc3",
   "metadata": {
    "papermill": {
     "duration": 0.005499,
     "end_time": "2024-11-07T13:08:36.727069",
     "exception": false,
     "start_time": "2024-11-07T13:08:36.721570",
     "status": "completed"
    },
    "tags": []
   },
   "source": [
    "**train.csv** dataset will contain the details of a subset of the passengers on board  and importantly, will reveal whether they survived or not, also known as the “ground truth”.\n",
    "\n",
    "**test.csv** dataset contains similar information but does not disclose the “ground truth” for each passenger."
   ]
  },
  {
   "cell_type": "markdown",
   "id": "c387f609",
   "metadata": {
    "papermill": {
     "duration": 0.00558,
     "end_time": "2024-11-07T13:08:36.738457",
     "exception": false,
     "start_time": "2024-11-07T13:08:36.732877",
     "status": "completed"
    },
    "tags": []
   },
   "source": [
    "# Inspect the data to understand the features available."
   ]
  },
  {
   "cell_type": "code",
   "execution_count": 3,
   "id": "738d6f0f",
   "metadata": {
    "execution": {
     "iopub.execute_input": "2024-11-07T13:08:36.752398Z",
     "iopub.status.busy": "2024-11-07T13:08:36.751962Z",
     "iopub.status.idle": "2024-11-07T13:08:36.757620Z",
     "shell.execute_reply": "2024-11-07T13:08:36.756615Z"
    },
    "papermill": {
     "duration": 0.01569,
     "end_time": "2024-11-07T13:08:36.759986",
     "exception": false,
     "start_time": "2024-11-07T13:08:36.744296",
     "status": "completed"
    },
    "tags": []
   },
   "outputs": [
    {
     "name": "stdout",
     "output_type": "stream",
     "text": [
      "\n",
      "Dataset Shape - train_data: (891, 12)\n",
      "\n",
      "Dataset Shape - test_data: (418, 11)\n"
     ]
    }
   ],
   "source": [
    "print(\"\\nDataset Shape - train_data:\", train_data.shape)\n",
    "print(\"\\nDataset Shape - test_data:\", test_data.shape)"
   ]
  },
  {
   "cell_type": "code",
   "execution_count": 4,
   "id": "175f19c5",
   "metadata": {
    "execution": {
     "iopub.execute_input": "2024-11-07T13:08:36.773576Z",
     "iopub.status.busy": "2024-11-07T13:08:36.773159Z",
     "iopub.status.idle": "2024-11-07T13:08:36.799657Z",
     "shell.execute_reply": "2024-11-07T13:08:36.798497Z"
    },
    "papermill": {
     "duration": 0.035891,
     "end_time": "2024-11-07T13:08:36.801894",
     "exception": false,
     "start_time": "2024-11-07T13:08:36.766003",
     "status": "completed"
    },
    "tags": []
   },
   "outputs": [
    {
     "data": {
      "text/html": [
       "<div>\n",
       "<style scoped>\n",
       "    .dataframe tbody tr th:only-of-type {\n",
       "        vertical-align: middle;\n",
       "    }\n",
       "\n",
       "    .dataframe tbody tr th {\n",
       "        vertical-align: top;\n",
       "    }\n",
       "\n",
       "    .dataframe thead th {\n",
       "        text-align: right;\n",
       "    }\n",
       "</style>\n",
       "<table border=\"1\" class=\"dataframe\">\n",
       "  <thead>\n",
       "    <tr style=\"text-align: right;\">\n",
       "      <th></th>\n",
       "      <th>PassengerId</th>\n",
       "      <th>Survived</th>\n",
       "      <th>Pclass</th>\n",
       "      <th>Name</th>\n",
       "      <th>Sex</th>\n",
       "      <th>Age</th>\n",
       "      <th>SibSp</th>\n",
       "      <th>Parch</th>\n",
       "      <th>Ticket</th>\n",
       "      <th>Fare</th>\n",
       "      <th>Cabin</th>\n",
       "      <th>Embarked</th>\n",
       "    </tr>\n",
       "  </thead>\n",
       "  <tbody>\n",
       "    <tr>\n",
       "      <th>0</th>\n",
       "      <td>1</td>\n",
       "      <td>0</td>\n",
       "      <td>3</td>\n",
       "      <td>Braund, Mr. Owen Harris</td>\n",
       "      <td>male</td>\n",
       "      <td>22.0</td>\n",
       "      <td>1</td>\n",
       "      <td>0</td>\n",
       "      <td>A/5 21171</td>\n",
       "      <td>7.2500</td>\n",
       "      <td>NaN</td>\n",
       "      <td>S</td>\n",
       "    </tr>\n",
       "    <tr>\n",
       "      <th>1</th>\n",
       "      <td>2</td>\n",
       "      <td>1</td>\n",
       "      <td>1</td>\n",
       "      <td>Cumings, Mrs. John Bradley (Florence Briggs Th...</td>\n",
       "      <td>female</td>\n",
       "      <td>38.0</td>\n",
       "      <td>1</td>\n",
       "      <td>0</td>\n",
       "      <td>PC 17599</td>\n",
       "      <td>71.2833</td>\n",
       "      <td>C85</td>\n",
       "      <td>C</td>\n",
       "    </tr>\n",
       "    <tr>\n",
       "      <th>2</th>\n",
       "      <td>3</td>\n",
       "      <td>1</td>\n",
       "      <td>3</td>\n",
       "      <td>Heikkinen, Miss. Laina</td>\n",
       "      <td>female</td>\n",
       "      <td>26.0</td>\n",
       "      <td>0</td>\n",
       "      <td>0</td>\n",
       "      <td>STON/O2. 3101282</td>\n",
       "      <td>7.9250</td>\n",
       "      <td>NaN</td>\n",
       "      <td>S</td>\n",
       "    </tr>\n",
       "    <tr>\n",
       "      <th>3</th>\n",
       "      <td>4</td>\n",
       "      <td>1</td>\n",
       "      <td>1</td>\n",
       "      <td>Futrelle, Mrs. Jacques Heath (Lily May Peel)</td>\n",
       "      <td>female</td>\n",
       "      <td>35.0</td>\n",
       "      <td>1</td>\n",
       "      <td>0</td>\n",
       "      <td>113803</td>\n",
       "      <td>53.1000</td>\n",
       "      <td>C123</td>\n",
       "      <td>S</td>\n",
       "    </tr>\n",
       "    <tr>\n",
       "      <th>4</th>\n",
       "      <td>5</td>\n",
       "      <td>0</td>\n",
       "      <td>3</td>\n",
       "      <td>Allen, Mr. William Henry</td>\n",
       "      <td>male</td>\n",
       "      <td>35.0</td>\n",
       "      <td>0</td>\n",
       "      <td>0</td>\n",
       "      <td>373450</td>\n",
       "      <td>8.0500</td>\n",
       "      <td>NaN</td>\n",
       "      <td>S</td>\n",
       "    </tr>\n",
       "  </tbody>\n",
       "</table>\n",
       "</div>"
      ],
      "text/plain": [
       "   PassengerId  Survived  Pclass  \\\n",
       "0            1         0       3   \n",
       "1            2         1       1   \n",
       "2            3         1       3   \n",
       "3            4         1       1   \n",
       "4            5         0       3   \n",
       "\n",
       "                                                Name     Sex   Age  SibSp  \\\n",
       "0                            Braund, Mr. Owen Harris    male  22.0      1   \n",
       "1  Cumings, Mrs. John Bradley (Florence Briggs Th...  female  38.0      1   \n",
       "2                             Heikkinen, Miss. Laina  female  26.0      0   \n",
       "3       Futrelle, Mrs. Jacques Heath (Lily May Peel)  female  35.0      1   \n",
       "4                           Allen, Mr. William Henry    male  35.0      0   \n",
       "\n",
       "   Parch            Ticket     Fare Cabin Embarked  \n",
       "0      0         A/5 21171   7.2500   NaN        S  \n",
       "1      0          PC 17599  71.2833   C85        C  \n",
       "2      0  STON/O2. 3101282   7.9250   NaN        S  \n",
       "3      0            113803  53.1000  C123        S  \n",
       "4      0            373450   8.0500   NaN        S  "
      ]
     },
     "execution_count": 4,
     "metadata": {},
     "output_type": "execute_result"
    }
   ],
   "source": [
    "train_data.head()"
   ]
  },
  {
   "cell_type": "code",
   "execution_count": 5,
   "id": "6e619fef",
   "metadata": {
    "execution": {
     "iopub.execute_input": "2024-11-07T13:08:36.816221Z",
     "iopub.status.busy": "2024-11-07T13:08:36.815808Z",
     "iopub.status.idle": "2024-11-07T13:08:36.831076Z",
     "shell.execute_reply": "2024-11-07T13:08:36.829874Z"
    },
    "papermill": {
     "duration": 0.025148,
     "end_time": "2024-11-07T13:08:36.833333",
     "exception": false,
     "start_time": "2024-11-07T13:08:36.808185",
     "status": "completed"
    },
    "tags": []
   },
   "outputs": [
    {
     "data": {
      "text/html": [
       "<div>\n",
       "<style scoped>\n",
       "    .dataframe tbody tr th:only-of-type {\n",
       "        vertical-align: middle;\n",
       "    }\n",
       "\n",
       "    .dataframe tbody tr th {\n",
       "        vertical-align: top;\n",
       "    }\n",
       "\n",
       "    .dataframe thead th {\n",
       "        text-align: right;\n",
       "    }\n",
       "</style>\n",
       "<table border=\"1\" class=\"dataframe\">\n",
       "  <thead>\n",
       "    <tr style=\"text-align: right;\">\n",
       "      <th></th>\n",
       "      <th>PassengerId</th>\n",
       "      <th>Pclass</th>\n",
       "      <th>Name</th>\n",
       "      <th>Sex</th>\n",
       "      <th>Age</th>\n",
       "      <th>SibSp</th>\n",
       "      <th>Parch</th>\n",
       "      <th>Ticket</th>\n",
       "      <th>Fare</th>\n",
       "      <th>Cabin</th>\n",
       "      <th>Embarked</th>\n",
       "    </tr>\n",
       "  </thead>\n",
       "  <tbody>\n",
       "    <tr>\n",
       "      <th>0</th>\n",
       "      <td>892</td>\n",
       "      <td>3</td>\n",
       "      <td>Kelly, Mr. James</td>\n",
       "      <td>male</td>\n",
       "      <td>34.5</td>\n",
       "      <td>0</td>\n",
       "      <td>0</td>\n",
       "      <td>330911</td>\n",
       "      <td>7.8292</td>\n",
       "      <td>NaN</td>\n",
       "      <td>Q</td>\n",
       "    </tr>\n",
       "    <tr>\n",
       "      <th>1</th>\n",
       "      <td>893</td>\n",
       "      <td>3</td>\n",
       "      <td>Wilkes, Mrs. James (Ellen Needs)</td>\n",
       "      <td>female</td>\n",
       "      <td>47.0</td>\n",
       "      <td>1</td>\n",
       "      <td>0</td>\n",
       "      <td>363272</td>\n",
       "      <td>7.0000</td>\n",
       "      <td>NaN</td>\n",
       "      <td>S</td>\n",
       "    </tr>\n",
       "    <tr>\n",
       "      <th>2</th>\n",
       "      <td>894</td>\n",
       "      <td>2</td>\n",
       "      <td>Myles, Mr. Thomas Francis</td>\n",
       "      <td>male</td>\n",
       "      <td>62.0</td>\n",
       "      <td>0</td>\n",
       "      <td>0</td>\n",
       "      <td>240276</td>\n",
       "      <td>9.6875</td>\n",
       "      <td>NaN</td>\n",
       "      <td>Q</td>\n",
       "    </tr>\n",
       "    <tr>\n",
       "      <th>3</th>\n",
       "      <td>895</td>\n",
       "      <td>3</td>\n",
       "      <td>Wirz, Mr. Albert</td>\n",
       "      <td>male</td>\n",
       "      <td>27.0</td>\n",
       "      <td>0</td>\n",
       "      <td>0</td>\n",
       "      <td>315154</td>\n",
       "      <td>8.6625</td>\n",
       "      <td>NaN</td>\n",
       "      <td>S</td>\n",
       "    </tr>\n",
       "    <tr>\n",
       "      <th>4</th>\n",
       "      <td>896</td>\n",
       "      <td>3</td>\n",
       "      <td>Hirvonen, Mrs. Alexander (Helga E Lindqvist)</td>\n",
       "      <td>female</td>\n",
       "      <td>22.0</td>\n",
       "      <td>1</td>\n",
       "      <td>1</td>\n",
       "      <td>3101298</td>\n",
       "      <td>12.2875</td>\n",
       "      <td>NaN</td>\n",
       "      <td>S</td>\n",
       "    </tr>\n",
       "  </tbody>\n",
       "</table>\n",
       "</div>"
      ],
      "text/plain": [
       "   PassengerId  Pclass                                          Name     Sex  \\\n",
       "0          892       3                              Kelly, Mr. James    male   \n",
       "1          893       3              Wilkes, Mrs. James (Ellen Needs)  female   \n",
       "2          894       2                     Myles, Mr. Thomas Francis    male   \n",
       "3          895       3                              Wirz, Mr. Albert    male   \n",
       "4          896       3  Hirvonen, Mrs. Alexander (Helga E Lindqvist)  female   \n",
       "\n",
       "    Age  SibSp  Parch   Ticket     Fare Cabin Embarked  \n",
       "0  34.5      0      0   330911   7.8292   NaN        Q  \n",
       "1  47.0      1      0   363272   7.0000   NaN        S  \n",
       "2  62.0      0      0   240276   9.6875   NaN        Q  \n",
       "3  27.0      0      0   315154   8.6625   NaN        S  \n",
       "4  22.0      1      1  3101298  12.2875   NaN        S  "
      ]
     },
     "execution_count": 5,
     "metadata": {},
     "output_type": "execute_result"
    }
   ],
   "source": [
    "test_data.head()"
   ]
  },
  {
   "cell_type": "markdown",
   "id": "6001dcf8",
   "metadata": {
    "papermill": {
     "duration": 0.006064,
     "end_time": "2024-11-07T13:08:36.845926",
     "exception": false,
     "start_time": "2024-11-07T13:08:36.839862",
     "status": "completed"
    },
    "tags": []
   },
   "source": [
    "# 2. Preprocess the Data"
   ]
  },
  {
   "cell_type": "markdown",
   "id": "2590f522",
   "metadata": {
    "papermill": {
     "duration": 0.006027,
     "end_time": "2024-11-07T13:08:36.858144",
     "exception": false,
     "start_time": "2024-11-07T13:08:36.852117",
     "status": "completed"
    },
    "tags": []
   },
   "source": [
    "Handle missing values, encode categorical variables, and engineer new features."
   ]
  },
  {
   "cell_type": "code",
   "execution_count": 6,
   "id": "a11559e8",
   "metadata": {
    "execution": {
     "iopub.execute_input": "2024-11-07T13:08:36.872499Z",
     "iopub.status.busy": "2024-11-07T13:08:36.872088Z",
     "iopub.status.idle": "2024-11-07T13:08:36.896702Z",
     "shell.execute_reply": "2024-11-07T13:08:36.895583Z"
    },
    "papermill": {
     "duration": 0.034524,
     "end_time": "2024-11-07T13:08:36.899156",
     "exception": false,
     "start_time": "2024-11-07T13:08:36.864632",
     "status": "completed"
    },
    "tags": []
   },
   "outputs": [
    {
     "name": "stdout",
     "output_type": "stream",
     "text": [
      "<class 'pandas.core.frame.DataFrame'>\n",
      "RangeIndex: 891 entries, 0 to 890\n",
      "Data columns (total 12 columns):\n",
      " #   Column       Non-Null Count  Dtype  \n",
      "---  ------       --------------  -----  \n",
      " 0   PassengerId  891 non-null    int64  \n",
      " 1   Survived     891 non-null    int64  \n",
      " 2   Pclass       891 non-null    int64  \n",
      " 3   Name         891 non-null    object \n",
      " 4   Sex          891 non-null    object \n",
      " 5   Age          714 non-null    float64\n",
      " 6   SibSp        891 non-null    int64  \n",
      " 7   Parch        891 non-null    int64  \n",
      " 8   Ticket       891 non-null    object \n",
      " 9   Fare         891 non-null    float64\n",
      " 10  Cabin        204 non-null    object \n",
      " 11  Embarked     889 non-null    object \n",
      "dtypes: float64(2), int64(5), object(5)\n",
      "memory usage: 83.7+ KB\n"
     ]
    }
   ],
   "source": [
    "train_data.info()"
   ]
  },
  {
   "cell_type": "code",
   "execution_count": 7,
   "id": "66a98a8d",
   "metadata": {
    "execution": {
     "iopub.execute_input": "2024-11-07T13:08:36.914679Z",
     "iopub.status.busy": "2024-11-07T13:08:36.913802Z",
     "iopub.status.idle": "2024-11-07T13:08:36.925877Z",
     "shell.execute_reply": "2024-11-07T13:08:36.924724Z"
    },
    "papermill": {
     "duration": 0.022338,
     "end_time": "2024-11-07T13:08:36.928186",
     "exception": false,
     "start_time": "2024-11-07T13:08:36.905848",
     "status": "completed"
    },
    "tags": []
   },
   "outputs": [
    {
     "name": "stdout",
     "output_type": "stream",
     "text": [
      "<class 'pandas.core.frame.DataFrame'>\n",
      "RangeIndex: 418 entries, 0 to 417\n",
      "Data columns (total 11 columns):\n",
      " #   Column       Non-Null Count  Dtype  \n",
      "---  ------       --------------  -----  \n",
      " 0   PassengerId  418 non-null    int64  \n",
      " 1   Pclass       418 non-null    int64  \n",
      " 2   Name         418 non-null    object \n",
      " 3   Sex          418 non-null    object \n",
      " 4   Age          332 non-null    float64\n",
      " 5   SibSp        418 non-null    int64  \n",
      " 6   Parch        418 non-null    int64  \n",
      " 7   Ticket       418 non-null    object \n",
      " 8   Fare         417 non-null    float64\n",
      " 9   Cabin        91 non-null     object \n",
      " 10  Embarked     418 non-null    object \n",
      "dtypes: float64(2), int64(4), object(5)\n",
      "memory usage: 36.0+ KB\n"
     ]
    }
   ],
   "source": [
    "test_data.info()"
   ]
  },
  {
   "cell_type": "code",
   "execution_count": 8,
   "id": "e3a338ca",
   "metadata": {
    "execution": {
     "iopub.execute_input": "2024-11-07T13:08:36.943295Z",
     "iopub.status.busy": "2024-11-07T13:08:36.942869Z",
     "iopub.status.idle": "2024-11-07T13:08:36.950168Z",
     "shell.execute_reply": "2024-11-07T13:08:36.949082Z"
    },
    "papermill": {
     "duration": 0.017801,
     "end_time": "2024-11-07T13:08:36.952759",
     "exception": false,
     "start_time": "2024-11-07T13:08:36.934958",
     "status": "completed"
    },
    "tags": []
   },
   "outputs": [
    {
     "name": "stdout",
     "output_type": "stream",
     "text": [
      "\n",
      "Missing Values train_data:\n",
      "PassengerId      0\n",
      "Survived         0\n",
      "Pclass           0\n",
      "Name             0\n",
      "Sex              0\n",
      "Age            177\n",
      "SibSp            0\n",
      "Parch            0\n",
      "Ticket           0\n",
      "Fare             0\n",
      "Cabin          687\n",
      "Embarked         2\n",
      "dtype: int64\n"
     ]
    }
   ],
   "source": [
    "print(\"\\nMissing Values train_data:\")\n",
    "print(train_data.isnull().sum())"
   ]
  },
  {
   "cell_type": "code",
   "execution_count": 9,
   "id": "460ac7f0",
   "metadata": {
    "execution": {
     "iopub.execute_input": "2024-11-07T13:08:36.968877Z",
     "iopub.status.busy": "2024-11-07T13:08:36.967682Z",
     "iopub.status.idle": "2024-11-07T13:08:36.976089Z",
     "shell.execute_reply": "2024-11-07T13:08:36.974862Z"
    },
    "papermill": {
     "duration": 0.018666,
     "end_time": "2024-11-07T13:08:36.978112",
     "exception": false,
     "start_time": "2024-11-07T13:08:36.959446",
     "status": "completed"
    },
    "tags": []
   },
   "outputs": [
    {
     "name": "stdout",
     "output_type": "stream",
     "text": [
      "\n",
      "Missing Values test_data:\n",
      "PassengerId      0\n",
      "Pclass           0\n",
      "Name             0\n",
      "Sex              0\n",
      "Age             86\n",
      "SibSp            0\n",
      "Parch            0\n",
      "Ticket           0\n",
      "Fare             1\n",
      "Cabin          327\n",
      "Embarked         0\n",
      "dtype: int64\n"
     ]
    }
   ],
   "source": [
    "print(\"\\nMissing Values test_data:\")\n",
    "print(test_data.isnull().sum())"
   ]
  },
  {
   "cell_type": "markdown",
   "id": "1b1ca7f4",
   "metadata": {
    "papermill": {
     "duration": 0.006438,
     "end_time": "2024-11-07T13:08:36.991616",
     "exception": false,
     "start_time": "2024-11-07T13:08:36.985178",
     "status": "completed"
    },
    "tags": []
   },
   "source": [
    "This is a crucial step that can significantly impact model performance"
   ]
  },
  {
   "cell_type": "code",
   "execution_count": 10,
   "id": "0b7fb7fb",
   "metadata": {
    "execution": {
     "iopub.execute_input": "2024-11-07T13:08:37.007295Z",
     "iopub.status.busy": "2024-11-07T13:08:37.006456Z",
     "iopub.status.idle": "2024-11-07T13:08:37.013996Z",
     "shell.execute_reply": "2024-11-07T13:08:37.012871Z"
    },
    "papermill": {
     "duration": 0.017728,
     "end_time": "2024-11-07T13:08:37.015998",
     "exception": false,
     "start_time": "2024-11-07T13:08:36.998270",
     "status": "completed"
    },
    "tags": []
   },
   "outputs": [],
   "source": [
    "#Preprocess the data\n",
    "def preprocess_data(df):\n",
    "    # Handle missing values\n",
    "    df['Age'] = df['Age'].fillna(df['Age'].median())\n",
    "    df['Embarked'] = df['Embarked'].fillna(df['Embarked'].mode()[0])\n",
    "    df['Fare'] = df['Fare'].fillna(df['Fare'].median())\n",
    "\n",
    "    # Create new features\n",
    "    df['FamilySize'] = df['SibSp'] + df['Parch'] + 1\n",
    "    df['IsAlone'] = (df['FamilySize'] == 1).astype(int)\n",
    "\n",
    "    # Encode categorical variables\n",
    "    df['Sex'] = df['Sex'].map({'male': 0, 'female': 1})\n",
    "    df['Embarked'] = df['Embarked'].map({'S': 0, 'C': 1, 'Q': 2})\n",
    "\n",
    "    return df"
   ]
  },
  {
   "cell_type": "markdown",
   "id": "0883b3e6",
   "metadata": {
    "papermill": {
     "duration": 0.006423,
     "end_time": "2024-11-07T13:08:37.029438",
     "exception": false,
     "start_time": "2024-11-07T13:08:37.023015",
     "status": "completed"
    },
    "tags": []
   },
   "source": [
    "* Meaning of the 'IsAlone' column: The 'IsAlone' column is a new feature that we created in the preprocess_data function. It's derived from the 'FamilySize' feature.\n",
    "* The 'SibSp' column represents the number of siblings/spouses the passenger had aboard the Titanic, and the 'Parch' column represents the number of parents/children the passenger had aboard.\n",
    "* By adding 1 to the sum of 'SibSp' and 'Parch', we get the total family size, including the passenger themselves.\n",
    "* The 'IsAlone' feature is a binary (0 or 1) indicator of whether the passenger was traveling alone (1) or not (0).\n",
    "* The rationale behind including this feature is that traveling alone may have been a factor in a passenger's likelihood of survival. Passengers who were traveling with family members may have had a better chance of being assigned to a lifeboat, for example."
   ]
  },
  {
   "cell_type": "code",
   "execution_count": 11,
   "id": "a5b7eee9",
   "metadata": {
    "execution": {
     "iopub.execute_input": "2024-11-07T13:08:37.044456Z",
     "iopub.status.busy": "2024-11-07T13:08:37.044050Z",
     "iopub.status.idle": "2024-11-07T13:08:37.060729Z",
     "shell.execute_reply": "2024-11-07T13:08:37.059841Z"
    },
    "papermill": {
     "duration": 0.02712,
     "end_time": "2024-11-07T13:08:37.063207",
     "exception": false,
     "start_time": "2024-11-07T13:08:37.036087",
     "status": "completed"
    },
    "tags": []
   },
   "outputs": [],
   "source": [
    "train_data = preprocess_data(train_data)\n",
    "test_data = preprocess_data(test_data)"
   ]
  },
  {
   "cell_type": "markdown",
   "id": "ff048983",
   "metadata": {
    "papermill": {
     "duration": 0.006414,
     "end_time": "2024-11-07T13:08:37.076557",
     "exception": false,
     "start_time": "2024-11-07T13:08:37.070143",
     "status": "completed"
    },
    "tags": []
   },
   "source": [
    "In the preprocess_data function, we handle missing values and create new features, such as FamilySize and IsAlone. We also encode categorical variables like Sex and Embarked."
   ]
  },
  {
   "cell_type": "code",
   "execution_count": 12,
   "id": "c4afc4e7",
   "metadata": {
    "execution": {
     "iopub.execute_input": "2024-11-07T13:08:37.091663Z",
     "iopub.status.busy": "2024-11-07T13:08:37.091235Z",
     "iopub.status.idle": "2024-11-07T13:08:37.098701Z",
     "shell.execute_reply": "2024-11-07T13:08:37.097606Z"
    },
    "papermill": {
     "duration": 0.017911,
     "end_time": "2024-11-07T13:08:37.101138",
     "exception": false,
     "start_time": "2024-11-07T13:08:37.083227",
     "status": "completed"
    },
    "tags": []
   },
   "outputs": [
    {
     "name": "stdout",
     "output_type": "stream",
     "text": [
      "\n",
      "Missing Values train_data:\n",
      "PassengerId      0\n",
      "Survived         0\n",
      "Pclass           0\n",
      "Name             0\n",
      "Sex              0\n",
      "Age              0\n",
      "SibSp            0\n",
      "Parch            0\n",
      "Ticket           0\n",
      "Fare             0\n",
      "Cabin          687\n",
      "Embarked         0\n",
      "FamilySize       0\n",
      "IsAlone          0\n",
      "dtype: int64\n"
     ]
    }
   ],
   "source": [
    "print(\"\\nMissing Values train_data:\")\n",
    "print(train_data.isnull().sum())"
   ]
  },
  {
   "cell_type": "code",
   "execution_count": 13,
   "id": "92529ff9",
   "metadata": {
    "execution": {
     "iopub.execute_input": "2024-11-07T13:08:37.116612Z",
     "iopub.status.busy": "2024-11-07T13:08:37.116177Z",
     "iopub.status.idle": "2024-11-07T13:08:37.123414Z",
     "shell.execute_reply": "2024-11-07T13:08:37.122245Z"
    },
    "papermill": {
     "duration": 0.017841,
     "end_time": "2024-11-07T13:08:37.125915",
     "exception": false,
     "start_time": "2024-11-07T13:08:37.108074",
     "status": "completed"
    },
    "tags": []
   },
   "outputs": [
    {
     "name": "stdout",
     "output_type": "stream",
     "text": [
      "PassengerId      0\n",
      "Pclass           0\n",
      "Name             0\n",
      "Sex              0\n",
      "Age              0\n",
      "SibSp            0\n",
      "Parch            0\n",
      "Ticket           0\n",
      "Fare             0\n",
      "Cabin          327\n",
      "Embarked         0\n",
      "FamilySize       0\n",
      "IsAlone          0\n",
      "dtype: int64\n"
     ]
    }
   ],
   "source": [
    "print(test_data.isnull().sum())"
   ]
  },
  {
   "cell_type": "markdown",
   "id": "e2e612eb",
   "metadata": {
    "papermill": {
     "duration": 0.006588,
     "end_time": "2024-11-07T13:08:37.139501",
     "exception": false,
     "start_time": "2024-11-07T13:08:37.132913",
     "status": "completed"
    },
    "tags": []
   },
   "source": [
    "* The 'Cabin' column likely contains a lot of missing values, and simply filling them in with a default value may not be the best approach. Missing cabin information can be an important feature for the model to learn from.\n",
    "* Including the 'Cabin' column as-is, without any preprocessing, can sometimes be beneficial for the model to learn from the missing data pattern."
   ]
  },
  {
   "cell_type": "markdown",
   "id": "e8b3d142",
   "metadata": {
    "papermill": {
     "duration": 0.006695,
     "end_time": "2024-11-07T13:08:37.153300",
     "exception": false,
     "start_time": "2024-11-07T13:08:37.146605",
     "status": "completed"
    },
    "tags": []
   },
   "source": [
    "# 3. Split the Data"
   ]
  },
  {
   "cell_type": "markdown",
   "id": "cc3662df",
   "metadata": {
    "papermill": {
     "duration": 0.006546,
     "end_time": "2024-11-07T13:08:37.166733",
     "exception": false,
     "start_time": "2024-11-07T13:08:37.160187",
     "status": "completed"
    },
    "tags": []
   },
   "source": [
    "Divide the training data into training and validation sets."
   ]
  },
  {
   "cell_type": "code",
   "execution_count": 14,
   "id": "6813aa97",
   "metadata": {
    "execution": {
     "iopub.execute_input": "2024-11-07T13:08:37.182499Z",
     "iopub.status.busy": "2024-11-07T13:08:37.182097Z",
     "iopub.status.idle": "2024-11-07T13:08:37.197510Z",
     "shell.execute_reply": "2024-11-07T13:08:37.196370Z"
    },
    "papermill": {
     "duration": 0.02646,
     "end_time": "2024-11-07T13:08:37.200209",
     "exception": false,
     "start_time": "2024-11-07T13:08:37.173749",
     "status": "completed"
    },
    "tags": []
   },
   "outputs": [],
   "source": [
    "# 3. Split the data into training and validation sets\n",
    "X_train, X_val, y_train, y_val = train_test_split(\n",
    "    train_data.drop('Survived', axis=1),\n",
    "    train_data['Survived'],\n",
    "    test_size=0.2,\n",
    "    random_state=42\n",
    ")"
   ]
  }
 ],
 "metadata": {
  "kaggle": {
   "accelerator": "none",
   "dataSources": [
    {
     "databundleVersionId": 26502,
     "sourceId": 3136,
     "sourceType": "competition"
    }
   ],
   "dockerImageVersionId": 30786,
   "isGpuEnabled": false,
   "isInternetEnabled": true,
   "language": "python",
   "sourceType": "notebook"
  },
  "kernelspec": {
   "display_name": "Python 3",
   "language": "python",
   "name": "python3"
  },
  "language_info": {
   "codemirror_mode": {
    "name": "ipython",
    "version": 3
   },
   "file_extension": ".py",
   "mimetype": "text/x-python",
   "name": "python",
   "nbconvert_exporter": "python",
   "pygments_lexer": "ipython3",
   "version": "3.10.14"
  },
  "papermill": {
   "default_parameters": {},
   "duration": 7.030722,
   "end_time": "2024-11-07T13:08:37.827782",
   "environment_variables": {},
   "exception": null,
   "input_path": "__notebook__.ipynb",
   "output_path": "__notebook__.ipynb",
   "parameters": {},
   "start_time": "2024-11-07T13:08:30.797060",
   "version": "2.6.0"
  }
 },
 "nbformat": 4,
 "nbformat_minor": 5
}
