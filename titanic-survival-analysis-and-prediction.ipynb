{
 "cells": [
  {
   "cell_type": "markdown",
   "id": "5b2e3a0d",
   "metadata": {
    "papermill": {
     "duration": 0.008234,
     "end_time": "2024-11-07T17:30:34.826676",
     "exception": false,
     "start_time": "2024-11-07T17:30:34.818442",
     "status": "completed"
    },
    "tags": []
   },
   "source": [
    "# Titanic Survival Analysis and Prediction"
   ]
  },
  {
   "cell_type": "markdown",
   "id": "d171cebf",
   "metadata": {
    "papermill": {
     "duration": 0.008214,
     "end_time": "2024-11-07T17:30:34.842535",
     "exception": false,
     "start_time": "2024-11-07T17:30:34.834321",
     "status": "completed"
    },
    "tags": []
   },
   "source": [
    "This is a comprehensive Python solution for the Titanic competition.\n",
    "\n",
    "# Introduction\n",
    "\n",
    "In this notebook, we delve into the infamous Titanic tragedy and utilize machine learning to predict passenger survival. We'll employ a combination of data cleaning, feature engineering, and advanced modeling techniques to uncover hidden insights and build a robust predictive model. Our analysis will focus on leveraging to improve accuracy and gain valuable knowledge from the historical data."
   ]
  },
  {
   "cell_type": "markdown",
   "id": "3d987290",
   "metadata": {
    "papermill": {
     "duration": 0.007171,
     "end_time": "2024-11-07T17:30:34.857313",
     "exception": false,
     "start_time": "2024-11-07T17:30:34.850142",
     "status": "completed"
    },
    "tags": []
   },
   "source": [
    "# Required libraries"
   ]
  },
  {
   "cell_type": "code",
   "execution_count": 1,
   "id": "a7d856b6",
   "metadata": {
    "execution": {
     "iopub.execute_input": "2024-11-07T17:30:34.874224Z",
     "iopub.status.busy": "2024-11-07T17:30:34.873769Z",
     "iopub.status.idle": "2024-11-07T17:30:37.658174Z",
     "shell.execute_reply": "2024-11-07T17:30:37.656754Z"
    },
    "papermill": {
     "duration": 2.796206,
     "end_time": "2024-11-07T17:30:37.661149",
     "exception": false,
     "start_time": "2024-11-07T17:30:34.864943",
     "status": "completed"
    },
    "tags": []
   },
   "outputs": [],
   "source": [
    "import pandas as pd\n",
    "from sklearn.model_selection import train_test_split\n",
    "from sklearn.ensemble import RandomForestClassifier\n",
    "from sklearn.metrics import accuracy_score, classification_report\n",
    "from sklearn.preprocessing import LabelEncoder"
   ]
  },
  {
   "cell_type": "markdown",
   "id": "d160654f",
   "metadata": {
    "papermill": {
     "duration": 0.007141,
     "end_time": "2024-11-07T17:30:37.676873",
     "exception": false,
     "start_time": "2024-11-07T17:30:37.669732",
     "status": "completed"
    },
    "tags": []
   },
   "source": [
    "# 1. Load the Data"
   ]
  },
  {
   "cell_type": "markdown",
   "id": "3d35a386",
   "metadata": {
    "papermill": {
     "duration": 0.007126,
     "end_time": "2024-11-07T17:30:37.691628",
     "exception": false,
     "start_time": "2024-11-07T17:30:37.684502",
     "status": "completed"
    },
    "tags": []
   },
   "source": [
    "Download the competition data files (train.csv and test.csv) and place them in the same directory as the script."
   ]
  },
  {
   "cell_type": "code",
   "execution_count": 2,
   "id": "1891aac3",
   "metadata": {
    "execution": {
     "iopub.execute_input": "2024-11-07T17:30:37.708523Z",
     "iopub.status.busy": "2024-11-07T17:30:37.707919Z",
     "iopub.status.idle": "2024-11-07T17:30:37.737309Z",
     "shell.execute_reply": "2024-11-07T17:30:37.735883Z"
    },
    "papermill": {
     "duration": 0.040963,
     "end_time": "2024-11-07T17:30:37.740078",
     "exception": false,
     "start_time": "2024-11-07T17:30:37.699115",
     "status": "completed"
    },
    "tags": []
   },
   "outputs": [],
   "source": [
    "# Load the data\n",
    "train_data = pd.read_csv(\"/kaggle/input/titanic/train.csv\")\n",
    "test_data = pd.read_csv(\"/kaggle/input/titanic/test.csv\")"
   ]
  },
  {
   "cell_type": "markdown",
   "id": "dbb3e173",
   "metadata": {
    "papermill": {
     "duration": 0.007859,
     "end_time": "2024-11-07T17:30:37.755576",
     "exception": false,
     "start_time": "2024-11-07T17:30:37.747717",
     "status": "completed"
    },
    "tags": []
   },
   "source": [
    "**train.csv** dataset will contain the details of a subset of the passengers on board  and importantly, will reveal whether they survived or not, also known as the “ground truth”.\n",
    "\n",
    "**test.csv** dataset contains similar information but does not disclose the “ground truth” for each passenger."
   ]
  },
  {
   "cell_type": "markdown",
   "id": "06facaf1",
   "metadata": {
    "papermill": {
     "duration": 0.007417,
     "end_time": "2024-11-07T17:30:37.770661",
     "exception": false,
     "start_time": "2024-11-07T17:30:37.763244",
     "status": "completed"
    },
    "tags": []
   },
   "source": [
    "# Inspect the data to understand the features available."
   ]
  },
  {
   "cell_type": "code",
   "execution_count": 3,
   "id": "2b9b0444",
   "metadata": {
    "execution": {
     "iopub.execute_input": "2024-11-07T17:30:37.787688Z",
     "iopub.status.busy": "2024-11-07T17:30:37.787249Z",
     "iopub.status.idle": "2024-11-07T17:30:37.793786Z",
     "shell.execute_reply": "2024-11-07T17:30:37.792698Z"
    },
    "papermill": {
     "duration": 0.017825,
     "end_time": "2024-11-07T17:30:37.796145",
     "exception": false,
     "start_time": "2024-11-07T17:30:37.778320",
     "status": "completed"
    },
    "tags": []
   },
   "outputs": [
    {
     "name": "stdout",
     "output_type": "stream",
     "text": [
      "\n",
      "Dataset Shape - train_data: (891, 12)\n",
      "\n",
      "Dataset Shape - test_data: (418, 11)\n"
     ]
    }
   ],
   "source": [
    "print(\"\\nDataset Shape - train_data:\", train_data.shape)\n",
    "print(\"\\nDataset Shape - test_data:\", test_data.shape)"
   ]
  },
  {
   "cell_type": "code",
   "execution_count": 4,
   "id": "7494940d",
   "metadata": {
    "execution": {
     "iopub.execute_input": "2024-11-07T17:30:37.814418Z",
     "iopub.status.busy": "2024-11-07T17:30:37.813659Z",
     "iopub.status.idle": "2024-11-07T17:30:37.841152Z",
     "shell.execute_reply": "2024-11-07T17:30:37.839868Z"
    },
    "papermill": {
     "duration": 0.039413,
     "end_time": "2024-11-07T17:30:37.843607",
     "exception": false,
     "start_time": "2024-11-07T17:30:37.804194",
     "status": "completed"
    },
    "tags": []
   },
   "outputs": [
    {
     "data": {
      "text/html": [
       "<div>\n",
       "<style scoped>\n",
       "    .dataframe tbody tr th:only-of-type {\n",
       "        vertical-align: middle;\n",
       "    }\n",
       "\n",
       "    .dataframe tbody tr th {\n",
       "        vertical-align: top;\n",
       "    }\n",
       "\n",
       "    .dataframe thead th {\n",
       "        text-align: right;\n",
       "    }\n",
       "</style>\n",
       "<table border=\"1\" class=\"dataframe\">\n",
       "  <thead>\n",
       "    <tr style=\"text-align: right;\">\n",
       "      <th></th>\n",
       "      <th>PassengerId</th>\n",
       "      <th>Survived</th>\n",
       "      <th>Pclass</th>\n",
       "      <th>Name</th>\n",
       "      <th>Sex</th>\n",
       "      <th>Age</th>\n",
       "      <th>SibSp</th>\n",
       "      <th>Parch</th>\n",
       "      <th>Ticket</th>\n",
       "      <th>Fare</th>\n",
       "      <th>Cabin</th>\n",
       "      <th>Embarked</th>\n",
       "    </tr>\n",
       "  </thead>\n",
       "  <tbody>\n",
       "    <tr>\n",
       "      <th>0</th>\n",
       "      <td>1</td>\n",
       "      <td>0</td>\n",
       "      <td>3</td>\n",
       "      <td>Braund, Mr. Owen Harris</td>\n",
       "      <td>male</td>\n",
       "      <td>22.0</td>\n",
       "      <td>1</td>\n",
       "      <td>0</td>\n",
       "      <td>A/5 21171</td>\n",
       "      <td>7.2500</td>\n",
       "      <td>NaN</td>\n",
       "      <td>S</td>\n",
       "    </tr>\n",
       "    <tr>\n",
       "      <th>1</th>\n",
       "      <td>2</td>\n",
       "      <td>1</td>\n",
       "      <td>1</td>\n",
       "      <td>Cumings, Mrs. John Bradley (Florence Briggs Th...</td>\n",
       "      <td>female</td>\n",
       "      <td>38.0</td>\n",
       "      <td>1</td>\n",
       "      <td>0</td>\n",
       "      <td>PC 17599</td>\n",
       "      <td>71.2833</td>\n",
       "      <td>C85</td>\n",
       "      <td>C</td>\n",
       "    </tr>\n",
       "    <tr>\n",
       "      <th>2</th>\n",
       "      <td>3</td>\n",
       "      <td>1</td>\n",
       "      <td>3</td>\n",
       "      <td>Heikkinen, Miss. Laina</td>\n",
       "      <td>female</td>\n",
       "      <td>26.0</td>\n",
       "      <td>0</td>\n",
       "      <td>0</td>\n",
       "      <td>STON/O2. 3101282</td>\n",
       "      <td>7.9250</td>\n",
       "      <td>NaN</td>\n",
       "      <td>S</td>\n",
       "    </tr>\n",
       "    <tr>\n",
       "      <th>3</th>\n",
       "      <td>4</td>\n",
       "      <td>1</td>\n",
       "      <td>1</td>\n",
       "      <td>Futrelle, Mrs. Jacques Heath (Lily May Peel)</td>\n",
       "      <td>female</td>\n",
       "      <td>35.0</td>\n",
       "      <td>1</td>\n",
       "      <td>0</td>\n",
       "      <td>113803</td>\n",
       "      <td>53.1000</td>\n",
       "      <td>C123</td>\n",
       "      <td>S</td>\n",
       "    </tr>\n",
       "    <tr>\n",
       "      <th>4</th>\n",
       "      <td>5</td>\n",
       "      <td>0</td>\n",
       "      <td>3</td>\n",
       "      <td>Allen, Mr. William Henry</td>\n",
       "      <td>male</td>\n",
       "      <td>35.0</td>\n",
       "      <td>0</td>\n",
       "      <td>0</td>\n",
       "      <td>373450</td>\n",
       "      <td>8.0500</td>\n",
       "      <td>NaN</td>\n",
       "      <td>S</td>\n",
       "    </tr>\n",
       "  </tbody>\n",
       "</table>\n",
       "</div>"
      ],
      "text/plain": [
       "   PassengerId  Survived  Pclass  \\\n",
       "0            1         0       3   \n",
       "1            2         1       1   \n",
       "2            3         1       3   \n",
       "3            4         1       1   \n",
       "4            5         0       3   \n",
       "\n",
       "                                                Name     Sex   Age  SibSp  \\\n",
       "0                            Braund, Mr. Owen Harris    male  22.0      1   \n",
       "1  Cumings, Mrs. John Bradley (Florence Briggs Th...  female  38.0      1   \n",
       "2                             Heikkinen, Miss. Laina  female  26.0      0   \n",
       "3       Futrelle, Mrs. Jacques Heath (Lily May Peel)  female  35.0      1   \n",
       "4                           Allen, Mr. William Henry    male  35.0      0   \n",
       "\n",
       "   Parch            Ticket     Fare Cabin Embarked  \n",
       "0      0         A/5 21171   7.2500   NaN        S  \n",
       "1      0          PC 17599  71.2833   C85        C  \n",
       "2      0  STON/O2. 3101282   7.9250   NaN        S  \n",
       "3      0            113803  53.1000  C123        S  \n",
       "4      0            373450   8.0500   NaN        S  "
      ]
     },
     "execution_count": 4,
     "metadata": {},
     "output_type": "execute_result"
    }
   ],
   "source": [
    "train_data.head()"
   ]
  },
  {
   "cell_type": "code",
   "execution_count": 5,
   "id": "68a29e57",
   "metadata": {
    "execution": {
     "iopub.execute_input": "2024-11-07T17:30:37.861282Z",
     "iopub.status.busy": "2024-11-07T17:30:37.860843Z",
     "iopub.status.idle": "2024-11-07T17:30:37.876782Z",
     "shell.execute_reply": "2024-11-07T17:30:37.875654Z"
    },
    "papermill": {
     "duration": 0.02756,
     "end_time": "2024-11-07T17:30:37.879104",
     "exception": false,
     "start_time": "2024-11-07T17:30:37.851544",
     "status": "completed"
    },
    "tags": []
   },
   "outputs": [
    {
     "data": {
      "text/html": [
       "<div>\n",
       "<style scoped>\n",
       "    .dataframe tbody tr th:only-of-type {\n",
       "        vertical-align: middle;\n",
       "    }\n",
       "\n",
       "    .dataframe tbody tr th {\n",
       "        vertical-align: top;\n",
       "    }\n",
       "\n",
       "    .dataframe thead th {\n",
       "        text-align: right;\n",
       "    }\n",
       "</style>\n",
       "<table border=\"1\" class=\"dataframe\">\n",
       "  <thead>\n",
       "    <tr style=\"text-align: right;\">\n",
       "      <th></th>\n",
       "      <th>PassengerId</th>\n",
       "      <th>Pclass</th>\n",
       "      <th>Name</th>\n",
       "      <th>Sex</th>\n",
       "      <th>Age</th>\n",
       "      <th>SibSp</th>\n",
       "      <th>Parch</th>\n",
       "      <th>Ticket</th>\n",
       "      <th>Fare</th>\n",
       "      <th>Cabin</th>\n",
       "      <th>Embarked</th>\n",
       "    </tr>\n",
       "  </thead>\n",
       "  <tbody>\n",
       "    <tr>\n",
       "      <th>0</th>\n",
       "      <td>892</td>\n",
       "      <td>3</td>\n",
       "      <td>Kelly, Mr. James</td>\n",
       "      <td>male</td>\n",
       "      <td>34.5</td>\n",
       "      <td>0</td>\n",
       "      <td>0</td>\n",
       "      <td>330911</td>\n",
       "      <td>7.8292</td>\n",
       "      <td>NaN</td>\n",
       "      <td>Q</td>\n",
       "    </tr>\n",
       "    <tr>\n",
       "      <th>1</th>\n",
       "      <td>893</td>\n",
       "      <td>3</td>\n",
       "      <td>Wilkes, Mrs. James (Ellen Needs)</td>\n",
       "      <td>female</td>\n",
       "      <td>47.0</td>\n",
       "      <td>1</td>\n",
       "      <td>0</td>\n",
       "      <td>363272</td>\n",
       "      <td>7.0000</td>\n",
       "      <td>NaN</td>\n",
       "      <td>S</td>\n",
       "    </tr>\n",
       "    <tr>\n",
       "      <th>2</th>\n",
       "      <td>894</td>\n",
       "      <td>2</td>\n",
       "      <td>Myles, Mr. Thomas Francis</td>\n",
       "      <td>male</td>\n",
       "      <td>62.0</td>\n",
       "      <td>0</td>\n",
       "      <td>0</td>\n",
       "      <td>240276</td>\n",
       "      <td>9.6875</td>\n",
       "      <td>NaN</td>\n",
       "      <td>Q</td>\n",
       "    </tr>\n",
       "    <tr>\n",
       "      <th>3</th>\n",
       "      <td>895</td>\n",
       "      <td>3</td>\n",
       "      <td>Wirz, Mr. Albert</td>\n",
       "      <td>male</td>\n",
       "      <td>27.0</td>\n",
       "      <td>0</td>\n",
       "      <td>0</td>\n",
       "      <td>315154</td>\n",
       "      <td>8.6625</td>\n",
       "      <td>NaN</td>\n",
       "      <td>S</td>\n",
       "    </tr>\n",
       "    <tr>\n",
       "      <th>4</th>\n",
       "      <td>896</td>\n",
       "      <td>3</td>\n",
       "      <td>Hirvonen, Mrs. Alexander (Helga E Lindqvist)</td>\n",
       "      <td>female</td>\n",
       "      <td>22.0</td>\n",
       "      <td>1</td>\n",
       "      <td>1</td>\n",
       "      <td>3101298</td>\n",
       "      <td>12.2875</td>\n",
       "      <td>NaN</td>\n",
       "      <td>S</td>\n",
       "    </tr>\n",
       "  </tbody>\n",
       "</table>\n",
       "</div>"
      ],
      "text/plain": [
       "   PassengerId  Pclass                                          Name     Sex  \\\n",
       "0          892       3                              Kelly, Mr. James    male   \n",
       "1          893       3              Wilkes, Mrs. James (Ellen Needs)  female   \n",
       "2          894       2                     Myles, Mr. Thomas Francis    male   \n",
       "3          895       3                              Wirz, Mr. Albert    male   \n",
       "4          896       3  Hirvonen, Mrs. Alexander (Helga E Lindqvist)  female   \n",
       "\n",
       "    Age  SibSp  Parch   Ticket     Fare Cabin Embarked  \n",
       "0  34.5      0      0   330911   7.8292   NaN        Q  \n",
       "1  47.0      1      0   363272   7.0000   NaN        S  \n",
       "2  62.0      0      0   240276   9.6875   NaN        Q  \n",
       "3  27.0      0      0   315154   8.6625   NaN        S  \n",
       "4  22.0      1      1  3101298  12.2875   NaN        S  "
      ]
     },
     "execution_count": 5,
     "metadata": {},
     "output_type": "execute_result"
    }
   ],
   "source": [
    "test_data.head()"
   ]
  },
  {
   "cell_type": "markdown",
   "id": "9a1f0cde",
   "metadata": {
    "papermill": {
     "duration": 0.007716,
     "end_time": "2024-11-07T17:30:37.894991",
     "exception": false,
     "start_time": "2024-11-07T17:30:37.887275",
     "status": "completed"
    },
    "tags": []
   },
   "source": [
    "# 2. Preprocess the Data"
   ]
  },
  {
   "cell_type": "markdown",
   "id": "449c9fa2",
   "metadata": {
    "papermill": {
     "duration": 0.007701,
     "end_time": "2024-11-07T17:30:37.910814",
     "exception": false,
     "start_time": "2024-11-07T17:30:37.903113",
     "status": "completed"
    },
    "tags": []
   },
   "source": [
    "Handle missing values, encode categorical variables, and engineer new features."
   ]
  },
  {
   "cell_type": "code",
   "execution_count": 6,
   "id": "4816f61c",
   "metadata": {
    "execution": {
     "iopub.execute_input": "2024-11-07T17:30:37.928597Z",
     "iopub.status.busy": "2024-11-07T17:30:37.928166Z",
     "iopub.status.idle": "2024-11-07T17:30:37.955507Z",
     "shell.execute_reply": "2024-11-07T17:30:37.953915Z"
    },
    "papermill": {
     "duration": 0.039443,
     "end_time": "2024-11-07T17:30:37.958265",
     "exception": false,
     "start_time": "2024-11-07T17:30:37.918822",
     "status": "completed"
    },
    "tags": []
   },
   "outputs": [
    {
     "name": "stdout",
     "output_type": "stream",
     "text": [
      "<class 'pandas.core.frame.DataFrame'>\n",
      "RangeIndex: 891 entries, 0 to 890\n",
      "Data columns (total 12 columns):\n",
      " #   Column       Non-Null Count  Dtype  \n",
      "---  ------       --------------  -----  \n",
      " 0   PassengerId  891 non-null    int64  \n",
      " 1   Survived     891 non-null    int64  \n",
      " 2   Pclass       891 non-null    int64  \n",
      " 3   Name         891 non-null    object \n",
      " 4   Sex          891 non-null    object \n",
      " 5   Age          714 non-null    float64\n",
      " 6   SibSp        891 non-null    int64  \n",
      " 7   Parch        891 non-null    int64  \n",
      " 8   Ticket       891 non-null    object \n",
      " 9   Fare         891 non-null    float64\n",
      " 10  Cabin        204 non-null    object \n",
      " 11  Embarked     889 non-null    object \n",
      "dtypes: float64(2), int64(5), object(5)\n",
      "memory usage: 83.7+ KB\n"
     ]
    }
   ],
   "source": [
    "train_data.info()"
   ]
  },
  {
   "cell_type": "code",
   "execution_count": 7,
   "id": "f8b9c724",
   "metadata": {
    "execution": {
     "iopub.execute_input": "2024-11-07T17:30:37.978286Z",
     "iopub.status.busy": "2024-11-07T17:30:37.976909Z",
     "iopub.status.idle": "2024-11-07T17:30:37.990169Z",
     "shell.execute_reply": "2024-11-07T17:30:37.988673Z"
    },
    "papermill": {
     "duration": 0.02589,
     "end_time": "2024-11-07T17:30:37.993073",
     "exception": false,
     "start_time": "2024-11-07T17:30:37.967183",
     "status": "completed"
    },
    "tags": []
   },
   "outputs": [
    {
     "name": "stdout",
     "output_type": "stream",
     "text": [
      "<class 'pandas.core.frame.DataFrame'>\n",
      "RangeIndex: 418 entries, 0 to 417\n",
      "Data columns (total 11 columns):\n",
      " #   Column       Non-Null Count  Dtype  \n",
      "---  ------       --------------  -----  \n",
      " 0   PassengerId  418 non-null    int64  \n",
      " 1   Pclass       418 non-null    int64  \n",
      " 2   Name         418 non-null    object \n",
      " 3   Sex          418 non-null    object \n",
      " 4   Age          332 non-null    float64\n",
      " 5   SibSp        418 non-null    int64  \n",
      " 6   Parch        418 non-null    int64  \n",
      " 7   Ticket       418 non-null    object \n",
      " 8   Fare         417 non-null    float64\n",
      " 9   Cabin        91 non-null     object \n",
      " 10  Embarked     418 non-null    object \n",
      "dtypes: float64(2), int64(4), object(5)\n",
      "memory usage: 36.0+ KB\n"
     ]
    }
   ],
   "source": [
    "test_data.info()"
   ]
  },
  {
   "cell_type": "code",
   "execution_count": 8,
   "id": "74632520",
   "metadata": {
    "execution": {
     "iopub.execute_input": "2024-11-07T17:30:38.012655Z",
     "iopub.status.busy": "2024-11-07T17:30:38.011897Z",
     "iopub.status.idle": "2024-11-07T17:30:38.019740Z",
     "shell.execute_reply": "2024-11-07T17:30:38.018556Z"
    },
    "papermill": {
     "duration": 0.020612,
     "end_time": "2024-11-07T17:30:38.022447",
     "exception": false,
     "start_time": "2024-11-07T17:30:38.001835",
     "status": "completed"
    },
    "tags": []
   },
   "outputs": [
    {
     "name": "stdout",
     "output_type": "stream",
     "text": [
      "\n",
      "Missing Values train_data:\n",
      "PassengerId      0\n",
      "Survived         0\n",
      "Pclass           0\n",
      "Name             0\n",
      "Sex              0\n",
      "Age            177\n",
      "SibSp            0\n",
      "Parch            0\n",
      "Ticket           0\n",
      "Fare             0\n",
      "Cabin          687\n",
      "Embarked         2\n",
      "dtype: int64\n"
     ]
    }
   ],
   "source": [
    "print(\"\\nMissing Values train_data:\")\n",
    "print(train_data.isnull().sum())"
   ]
  },
  {
   "cell_type": "code",
   "execution_count": 9,
   "id": "e26591bf",
   "metadata": {
    "execution": {
     "iopub.execute_input": "2024-11-07T17:30:38.041250Z",
     "iopub.status.busy": "2024-11-07T17:30:38.040795Z",
     "iopub.status.idle": "2024-11-07T17:30:38.048582Z",
     "shell.execute_reply": "2024-11-07T17:30:38.047457Z"
    },
    "papermill": {
     "duration": 0.02046,
     "end_time": "2024-11-07T17:30:38.051261",
     "exception": false,
     "start_time": "2024-11-07T17:30:38.030801",
     "status": "completed"
    },
    "tags": []
   },
   "outputs": [
    {
     "name": "stdout",
     "output_type": "stream",
     "text": [
      "\n",
      "Missing Values test_data:\n",
      "PassengerId      0\n",
      "Pclass           0\n",
      "Name             0\n",
      "Sex              0\n",
      "Age             86\n",
      "SibSp            0\n",
      "Parch            0\n",
      "Ticket           0\n",
      "Fare             1\n",
      "Cabin          327\n",
      "Embarked         0\n",
      "dtype: int64\n"
     ]
    }
   ],
   "source": [
    "print(\"\\nMissing Values test_data:\")\n",
    "print(test_data.isnull().sum())"
   ]
  },
  {
   "cell_type": "markdown",
   "id": "45af655d",
   "metadata": {
    "papermill": {
     "duration": 0.00846,
     "end_time": "2024-11-07T17:30:38.068701",
     "exception": false,
     "start_time": "2024-11-07T17:30:38.060241",
     "status": "completed"
    },
    "tags": []
   },
   "source": [
    "This is a crucial step that can significantly impact model performance"
   ]
  },
  {
   "cell_type": "code",
   "execution_count": 10,
   "id": "93bd6f82",
   "metadata": {
    "execution": {
     "iopub.execute_input": "2024-11-07T17:30:38.088269Z",
     "iopub.status.busy": "2024-11-07T17:30:38.087744Z",
     "iopub.status.idle": "2024-11-07T17:30:38.098298Z",
     "shell.execute_reply": "2024-11-07T17:30:38.097229Z"
    },
    "papermill": {
     "duration": 0.023583,
     "end_time": "2024-11-07T17:30:38.100879",
     "exception": false,
     "start_time": "2024-11-07T17:30:38.077296",
     "status": "completed"
    },
    "tags": []
   },
   "outputs": [],
   "source": [
    "def preprocess_data(df):\n",
    "    # Handle missing values\n",
    "    df['Age'] = df['Age'].fillna(df['Age'].median())\n",
    "    df['Embarked'] = df['Embarked'].fillna(df['Embarked'].mode()[0])\n",
    "    df['Fare'] = df['Fare'].fillna(df['Fare'].median())\n",
    "\n",
    "    # Convert non-numeric columns to numeric\n",
    "    non_numeric_cols = df.select_dtypes(include=['object']).columns\n",
    "    for col in non_numeric_cols:\n",
    "        try:\n",
    "            df[col] = df[col].astype(float)\n",
    "        except ValueError:\n",
    "            # If conversion to float fails, use label encoding\n",
    "            label_encoder = LabelEncoder()\n",
    "            df[col] = label_encoder.fit_transform(df[col])\n",
    "\n",
    "    # Encode categorical variables\n",
    "    label_encoder = LabelEncoder()\n",
    "    df['Sex'] = label_encoder.fit_transform(df['Sex'])\n",
    "    df['Embarked'] = label_encoder.fit_transform(df['Embarked'])\n",
    "\n",
    "    # One-hot encode the 'Name' column\n",
    "    df = pd.get_dummies(df, columns=['Name'])\n",
    "\n",
    "    # Convert data types\n",
    "    df['Pclass'] = df['Pclass'].astype(int)\n",
    "    df['SibSp'] = df['SibSp'].astype(int)\n",
    "    df['Parch'] = df['Parch'].astype(int)\n",
    "    df['Fare'] = df['Fare'].astype(float)\n",
    "\n",
    "    # Create new features\n",
    "    df['FamilySize'] = df['SibSp'] + df['Parch'] + 1\n",
    "    df['IsAlone'] = (df['FamilySize'] == 1).astype(int)\n",
    "\n",
    "    return df"
   ]
  },
  {
   "cell_type": "markdown",
   "id": "24d420ed",
   "metadata": {
    "papermill": {
     "duration": 0.008208,
     "end_time": "2024-11-07T17:30:38.117745",
     "exception": false,
     "start_time": "2024-11-07T17:30:38.109537",
     "status": "completed"
    },
    "tags": []
   },
   "source": [
    "Let's go through the updated `preprocess_data()` function step-by-step:\n",
    "\n",
    "1. **Handle missing values**:\n",
    "   - `df['Age'] = df['Age'].fillna(df['Age'].median())`: Fills in any missing 'Age' values with the median age from the dataset.\n",
    "   - `df['Embarked'] = df['Embarked'].fillna(df['Embarked'].mode()[0])`: Fills in any missing 'Embarked' values with the most common (mode) embarkation point.\n",
    "   - `df['Fare'] = df['Fare'].fillna(df['Fare'].median())`: Fills in any missing 'Fare' values with the median fare from the dataset.\n",
    "\n",
    "2. **Convert non-numeric columns to numeric**:\n",
    "   - `non_numeric_cols = df.select_dtypes(include=['object']).columns`: Identifies any columns with non-numeric (object) data types.\n",
    "   - `for col in non_numeric_cols:`: Iterates through each non-numeric column.\n",
    "   - `try: df[col] = df[col].astype(float)`: Attempts to convert the column to a float data type.\n",
    "   - `except ValueError:`: If the conversion to float fails, it enters this block.\n",
    "   - `label_encoder = LabelEncoder()`: Creates a label encoder object to convert categorical variables to numerical values.\n",
    "   - `df[col] = label_encoder.fit_transform(df[col])`: Encodes the non-numeric column using the label encoder.\n",
    "\n",
    "   This section is the key change from the previous version. It now handles non-numeric columns in two ways:\n",
    "   1. It first attempts to convert the column to float. This will work for columns that contain numeric-like strings (e.g., '1.0', '2.5').\n",
    "   2. If the conversion to float fails, it uses label encoding to assign a unique numerical label to each unique string value in the column.\n",
    "\n",
    "   This ensures that all columns are properly converted to numeric values, even if some of the original string values cannot be directly converted to floats.\n",
    "\n",
    "3. **Encode categorical variables**:\n",
    "   - `label_encoder = LabelEncoder()`: Creates a label encoder object to convert categorical variables to numerical values.\n",
    "   - `df['Sex'] = label_encoder.fit_transform(df['Sex'])`: Encodes the 'Sex' column using the label encoder.\n",
    "   - `df['Embarked'] = label_encoder.fit_transform(df['Embarked'])`: Encodes the 'Embarked' column using the label encoder.\n",
    "\n",
    "4. **One-hot encode the 'Name' column**:\n",
    "   - `df = pd.get_dummies(df, columns=['Name'])`: Creates new binary columns for each unique value in the 'Name' column, indicating the presence or absence of that name.\n",
    "\n",
    "5. **Convert data types**:\n",
    "   - `df['Pclass'] = df['Pclass'].astype(int)`: Converts the 'Pclass' column to integer data type.\n",
    "   - `df['SibSp'] = df['SibSp'].astype(int)`: Converts the 'SibSp' column to integer data type.\n",
    "   - `df['Parch'] = df['Parch'].astype(int)`: Converts the 'Parch' column to integer data type.\n",
    "   - `df['Fare'] = df['Fare'].astype(float)`: Converts the 'Fare' column to float data type.\n",
    "\n",
    "6. **Create new features**:\n",
    "   - `df['FamilySize'] = df['SibSp'] + df['Parch'] + 1`: Creates a new 'FamilySize' feature by summing the 'SibSp' and 'Parch' columns and adding 1 (for the passenger themselves).\n",
    "   - `df['IsAlone'] = (df['FamilySize'] == 1).astype(int)`: Creates a new binary 'IsAlone' feature, where 1 indicates the passenger was traveling alone.\n",
    "\n",
    "Finally, the function returns the preprocessed dataframe."
   ]
  },
  {
   "cell_type": "markdown",
   "id": "a6c7be0d",
   "metadata": {
    "papermill": {
     "duration": 0.008593,
     "end_time": "2024-11-07T17:30:38.134764",
     "exception": false,
     "start_time": "2024-11-07T17:30:38.126171",
     "status": "completed"
    },
    "tags": []
   },
   "source": [
    "* Meaning of the 'IsAlone' column: The 'IsAlone' column is a new feature that we created in the preprocess_data function. It's derived from the 'FamilySize' feature.\n",
    "* The 'SibSp' column represents the number of siblings/spouses the passenger had aboard the Titanic, and the 'Parch' column represents the number of parents/children the passenger had aboard.\n",
    "* By adding 1 to the sum of 'SibSp' and 'Parch', we get the total family size, including the passenger themselves.\n",
    "* The 'IsAlone' feature is a binary (0 or 1) indicator of whether the passenger was traveling alone (1) or not (0).\n",
    "* The rationale behind including this feature is that traveling alone may have been a factor in a passenger's likelihood of survival. Passengers who were traveling with family members may have had a better chance of being assigned to a lifeboat, for example."
   ]
  },
  {
   "cell_type": "markdown",
   "id": "a7f2cce0",
   "metadata": {
    "papermill": {
     "duration": 0.008168,
     "end_time": "2024-11-07T17:30:38.151520",
     "exception": false,
     "start_time": "2024-11-07T17:30:38.143352",
     "status": "completed"
    },
    "tags": []
   },
   "source": [
    "* The 'Cabin' column likely contains a lot of missing values, and simply filling them in with a default value may not be the best approach. Missing cabin information can be an important feature for the model to learn from.\n",
    "* Including the 'Cabin' column as-is, without any preprocessing, can sometimes be beneficial for the model to learn from the missing data pattern.\n",
    "* The LabelEncoder from scikit-learn is used to convert the string categorical variables into numerical values that the Random Forest Classifier can understand."
   ]
  },
  {
   "cell_type": "code",
   "execution_count": 11,
   "id": "e0dcc338",
   "metadata": {
    "execution": {
     "iopub.execute_input": "2024-11-07T17:30:38.170596Z",
     "iopub.status.busy": "2024-11-07T17:30:38.170143Z",
     "iopub.status.idle": "2024-11-07T17:30:38.212870Z",
     "shell.execute_reply": "2024-11-07T17:30:38.211622Z"
    },
    "papermill": {
     "duration": 0.055622,
     "end_time": "2024-11-07T17:30:38.215767",
     "exception": false,
     "start_time": "2024-11-07T17:30:38.160145",
     "status": "completed"
    },
    "tags": []
   },
   "outputs": [],
   "source": [
    "train_data = preprocess_data(train_data)\n",
    "test_data = preprocess_data(test_data)"
   ]
  },
  {
   "cell_type": "markdown",
   "id": "57c8a4a9",
   "metadata": {
    "papermill": {
     "duration": 0.008196,
     "end_time": "2024-11-07T17:30:38.232681",
     "exception": false,
     "start_time": "2024-11-07T17:30:38.224485",
     "status": "completed"
    },
    "tags": []
   },
   "source": [
    "In the preprocess_data function, we handle missing values and create new features, such as FamilySize and IsAlone. We also encode categorical variables like Sex and Embarked."
   ]
  },
  {
   "cell_type": "code",
   "execution_count": 12,
   "id": "f6b9e807",
   "metadata": {
    "execution": {
     "iopub.execute_input": "2024-11-07T17:30:38.252557Z",
     "iopub.status.busy": "2024-11-07T17:30:38.252109Z",
     "iopub.status.idle": "2024-11-07T17:30:38.262922Z",
     "shell.execute_reply": "2024-11-07T17:30:38.260780Z"
    },
    "papermill": {
     "duration": 0.023959,
     "end_time": "2024-11-07T17:30:38.265788",
     "exception": false,
     "start_time": "2024-11-07T17:30:38.241829",
     "status": "completed"
    },
    "tags": []
   },
   "outputs": [
    {
     "name": "stdout",
     "output_type": "stream",
     "text": [
      "\n",
      "Missing Values train_data:\n",
      "PassengerId    0\n",
      "Survived       0\n",
      "Pclass         0\n",
      "Sex            0\n",
      "Age            0\n",
      "              ..\n",
      "Name_888       0\n",
      "Name_889       0\n",
      "Name_890       0\n",
      "FamilySize     0\n",
      "IsAlone        0\n",
      "Length: 904, dtype: int64\n"
     ]
    }
   ],
   "source": [
    "print(\"\\nMissing Values train_data:\")\n",
    "print(train_data.isnull().sum())"
   ]
  },
  {
   "cell_type": "code",
   "execution_count": 13,
   "id": "9d549a28",
   "metadata": {
    "execution": {
     "iopub.execute_input": "2024-11-07T17:30:38.284908Z",
     "iopub.status.busy": "2024-11-07T17:30:38.284467Z",
     "iopub.status.idle": "2024-11-07T17:30:38.293269Z",
     "shell.execute_reply": "2024-11-07T17:30:38.292161Z"
    },
    "papermill": {
     "duration": 0.021326,
     "end_time": "2024-11-07T17:30:38.295892",
     "exception": false,
     "start_time": "2024-11-07T17:30:38.274566",
     "status": "completed"
    },
    "tags": []
   },
   "outputs": [
    {
     "name": "stdout",
     "output_type": "stream",
     "text": [
      "PassengerId    0\n",
      "Pclass         0\n",
      "Sex            0\n",
      "Age            0\n",
      "SibSp          0\n",
      "              ..\n",
      "Name_415       0\n",
      "Name_416       0\n",
      "Name_417       0\n",
      "FamilySize     0\n",
      "IsAlone        0\n",
      "Length: 430, dtype: int64\n"
     ]
    }
   ],
   "source": [
    "print(test_data.isnull().sum())"
   ]
  },
  {
   "cell_type": "markdown",
   "id": "66a54dac",
   "metadata": {
    "papermill": {
     "duration": 0.008805,
     "end_time": "2024-11-07T17:30:38.313994",
     "exception": false,
     "start_time": "2024-11-07T17:30:38.305189",
     "status": "completed"
    },
    "tags": []
   },
   "source": [
    "* The 'Cabin' column likely contains a lot of missing values, and simply filling them in with a default value may not be the best approach. Missing cabin information can be an important feature for the model to learn from.\n",
    "* Including the 'Cabin' column as-is, without any preprocessing, can sometimes be beneficial for the model to learn from the missing data pattern."
   ]
  },
  {
   "cell_type": "markdown",
   "id": "c2c5ea79",
   "metadata": {
    "papermill": {
     "duration": 0.008341,
     "end_time": "2024-11-07T17:30:38.331198",
     "exception": false,
     "start_time": "2024-11-07T17:30:38.322857",
     "status": "completed"
    },
    "tags": []
   },
   "source": [
    "# 3. Split the Data"
   ]
  },
  {
   "cell_type": "markdown",
   "id": "c0c0739c",
   "metadata": {
    "papermill": {
     "duration": 0.008451,
     "end_time": "2024-11-07T17:30:38.348299",
     "exception": false,
     "start_time": "2024-11-07T17:30:38.339848",
     "status": "completed"
    },
    "tags": []
   },
   "source": [
    "Divide the training data into training and validation sets."
   ]
  },
  {
   "cell_type": "code",
   "execution_count": 14,
   "id": "4809079f",
   "metadata": {
    "execution": {
     "iopub.execute_input": "2024-11-07T17:30:38.367346Z",
     "iopub.status.busy": "2024-11-07T17:30:38.366897Z",
     "iopub.status.idle": "2024-11-07T17:30:38.382050Z",
     "shell.execute_reply": "2024-11-07T17:30:38.380795Z"
    },
    "papermill": {
     "duration": 0.028266,
     "end_time": "2024-11-07T17:30:38.385209",
     "exception": false,
     "start_time": "2024-11-07T17:30:38.356943",
     "status": "completed"
    },
    "tags": []
   },
   "outputs": [],
   "source": [
    "# 3. Split the data into training and validation sets\n",
    "X_train, X_val, y_train, y_val = train_test_split(\n",
    "    train_data.drop('Survived', axis=1),\n",
    "    train_data['Survived'],\n",
    "    test_size=0.2,\n",
    "    random_state=42\n",
    ")"
   ]
  },
  {
   "cell_type": "markdown",
   "id": "aead401e",
   "metadata": {
    "papermill": {
     "duration": 0.00885,
     "end_time": "2024-11-07T17:30:38.403647",
     "exception": false,
     "start_time": "2024-11-07T17:30:38.394797",
     "status": "completed"
    },
    "tags": []
   },
   "source": [
    "Spliting the training data into training and validation sets using train_test_split from scikit-learn. This will allow us to evaluate our model's performance during development."
   ]
  },
  {
   "cell_type": "markdown",
   "id": "703432dc",
   "metadata": {
    "papermill": {
     "duration": 0.008383,
     "end_time": "2024-11-07T17:30:38.421210",
     "exception": false,
     "start_time": "2024-11-07T17:30:38.412827",
     "status": "completed"
    },
    "tags": []
   },
   "source": [
    "# 4. Train a Machine Learning Model"
   ]
  },
  {
   "cell_type": "markdown",
   "id": "4244fb3e",
   "metadata": {
    "papermill": {
     "duration": 0.008363,
     "end_time": "2024-11-07T17:30:38.438265",
     "exception": false,
     "start_time": "2024-11-07T17:30:38.429902",
     "status": "completed"
    },
    "tags": []
   },
   "source": [
    "* Choose an appropriate model, such as a decision tree, random forest, or logistic regression.\n",
    "* Fit the model to the training data."
   ]
  },
  {
   "cell_type": "code",
   "execution_count": 15,
   "id": "ed800baa",
   "metadata": {
    "execution": {
     "iopub.execute_input": "2024-11-07T17:30:38.457952Z",
     "iopub.status.busy": "2024-11-07T17:30:38.457040Z",
     "iopub.status.idle": "2024-11-07T17:30:38.920253Z",
     "shell.execute_reply": "2024-11-07T17:30:38.919107Z"
    },
    "papermill": {
     "duration": 0.475798,
     "end_time": "2024-11-07T17:30:38.922672",
     "exception": false,
     "start_time": "2024-11-07T17:30:38.446874",
     "status": "completed"
    },
    "tags": []
   },
   "outputs": [
    {
     "data": {
      "text/html": [
       "<style>#sk-container-id-1 {color: black;background-color: white;}#sk-container-id-1 pre{padding: 0;}#sk-container-id-1 div.sk-toggleable {background-color: white;}#sk-container-id-1 label.sk-toggleable__label {cursor: pointer;display: block;width: 100%;margin-bottom: 0;padding: 0.3em;box-sizing: border-box;text-align: center;}#sk-container-id-1 label.sk-toggleable__label-arrow:before {content: \"▸\";float: left;margin-right: 0.25em;color: #696969;}#sk-container-id-1 label.sk-toggleable__label-arrow:hover:before {color: black;}#sk-container-id-1 div.sk-estimator:hover label.sk-toggleable__label-arrow:before {color: black;}#sk-container-id-1 div.sk-toggleable__content {max-height: 0;max-width: 0;overflow: hidden;text-align: left;background-color: #f0f8ff;}#sk-container-id-1 div.sk-toggleable__content pre {margin: 0.2em;color: black;border-radius: 0.25em;background-color: #f0f8ff;}#sk-container-id-1 input.sk-toggleable__control:checked~div.sk-toggleable__content {max-height: 200px;max-width: 100%;overflow: auto;}#sk-container-id-1 input.sk-toggleable__control:checked~label.sk-toggleable__label-arrow:before {content: \"▾\";}#sk-container-id-1 div.sk-estimator input.sk-toggleable__control:checked~label.sk-toggleable__label {background-color: #d4ebff;}#sk-container-id-1 div.sk-label input.sk-toggleable__control:checked~label.sk-toggleable__label {background-color: #d4ebff;}#sk-container-id-1 input.sk-hidden--visually {border: 0;clip: rect(1px 1px 1px 1px);clip: rect(1px, 1px, 1px, 1px);height: 1px;margin: -1px;overflow: hidden;padding: 0;position: absolute;width: 1px;}#sk-container-id-1 div.sk-estimator {font-family: monospace;background-color: #f0f8ff;border: 1px dotted black;border-radius: 0.25em;box-sizing: border-box;margin-bottom: 0.5em;}#sk-container-id-1 div.sk-estimator:hover {background-color: #d4ebff;}#sk-container-id-1 div.sk-parallel-item::after {content: \"\";width: 100%;border-bottom: 1px solid gray;flex-grow: 1;}#sk-container-id-1 div.sk-label:hover label.sk-toggleable__label {background-color: #d4ebff;}#sk-container-id-1 div.sk-serial::before {content: \"\";position: absolute;border-left: 1px solid gray;box-sizing: border-box;top: 0;bottom: 0;left: 50%;z-index: 0;}#sk-container-id-1 div.sk-serial {display: flex;flex-direction: column;align-items: center;background-color: white;padding-right: 0.2em;padding-left: 0.2em;position: relative;}#sk-container-id-1 div.sk-item {position: relative;z-index: 1;}#sk-container-id-1 div.sk-parallel {display: flex;align-items: stretch;justify-content: center;background-color: white;position: relative;}#sk-container-id-1 div.sk-item::before, #sk-container-id-1 div.sk-parallel-item::before {content: \"\";position: absolute;border-left: 1px solid gray;box-sizing: border-box;top: 0;bottom: 0;left: 50%;z-index: -1;}#sk-container-id-1 div.sk-parallel-item {display: flex;flex-direction: column;z-index: 1;position: relative;background-color: white;}#sk-container-id-1 div.sk-parallel-item:first-child::after {align-self: flex-end;width: 50%;}#sk-container-id-1 div.sk-parallel-item:last-child::after {align-self: flex-start;width: 50%;}#sk-container-id-1 div.sk-parallel-item:only-child::after {width: 0;}#sk-container-id-1 div.sk-dashed-wrapped {border: 1px dashed gray;margin: 0 0.4em 0.5em 0.4em;box-sizing: border-box;padding-bottom: 0.4em;background-color: white;}#sk-container-id-1 div.sk-label label {font-family: monospace;font-weight: bold;display: inline-block;line-height: 1.2em;}#sk-container-id-1 div.sk-label-container {text-align: center;}#sk-container-id-1 div.sk-container {/* jupyter's `normalize.less` sets `[hidden] { display: none; }` but bootstrap.min.css set `[hidden] { display: none !important; }` so we also need the `!important` here to be able to override the default hidden behavior on the sphinx rendered scikit-learn.org. See: https://github.com/scikit-learn/scikit-learn/issues/21755 */display: inline-block !important;position: relative;}#sk-container-id-1 div.sk-text-repr-fallback {display: none;}</style><div id=\"sk-container-id-1\" class=\"sk-top-container\"><div class=\"sk-text-repr-fallback\"><pre>RandomForestClassifier(random_state=42)</pre><b>In a Jupyter environment, please rerun this cell to show the HTML representation or trust the notebook. <br />On GitHub, the HTML representation is unable to render, please try loading this page with nbviewer.org.</b></div><div class=\"sk-container\" hidden><div class=\"sk-item\"><div class=\"sk-estimator sk-toggleable\"><input class=\"sk-toggleable__control sk-hidden--visually\" id=\"sk-estimator-id-1\" type=\"checkbox\" checked><label for=\"sk-estimator-id-1\" class=\"sk-toggleable__label sk-toggleable__label-arrow\">RandomForestClassifier</label><div class=\"sk-toggleable__content\"><pre>RandomForestClassifier(random_state=42)</pre></div></div></div></div></div>"
      ],
      "text/plain": [
       "RandomForestClassifier(random_state=42)"
      ]
     },
     "execution_count": 15,
     "metadata": {},
     "output_type": "execute_result"
    }
   ],
   "source": [
    "# 4. Train a machine learning model\n",
    "model = RandomForestClassifier(n_estimators=100, random_state=42)\n",
    "model.fit(X_train, y_train)"
   ]
  },
  {
   "cell_type": "markdown",
   "id": "c84676c6",
   "metadata": {
    "papermill": {
     "duration": 0.008495,
     "end_time": "2024-11-07T17:30:38.940029",
     "exception": false,
     "start_time": "2024-11-07T17:30:38.931534",
     "status": "completed"
    },
    "tags": []
   },
   "source": [
    "We create a Random Forest Classifier and fit it to the training data."
   ]
  },
  {
   "cell_type": "markdown",
   "id": "3d88a91b",
   "metadata": {
    "papermill": {
     "duration": 0.008576,
     "end_time": "2024-11-07T17:30:38.957597",
     "exception": false,
     "start_time": "2024-11-07T17:30:38.949021",
     "status": "completed"
    },
    "tags": []
   },
   "source": [
    "# 5. Evaluate the Model"
   ]
  },
  {
   "cell_type": "markdown",
   "id": "cb4795be",
   "metadata": {
    "papermill": {
     "duration": 0.009454,
     "end_time": "2024-11-07T17:30:38.975961",
     "exception": false,
     "start_time": "2024-11-07T17:30:38.966507",
     "status": "completed"
    },
    "tags": []
   },
   "source": [
    "* Use the validation set to evaluate the model's accuracy.\n",
    "* Iterate on the preprocessing and model selection as needed."
   ]
  },
  {
   "cell_type": "code",
   "execution_count": 16,
   "id": "e9df1938",
   "metadata": {
    "execution": {
     "iopub.execute_input": "2024-11-07T17:30:38.996206Z",
     "iopub.status.busy": "2024-11-07T17:30:38.995700Z",
     "iopub.status.idle": "2024-11-07T17:30:39.028896Z",
     "shell.execute_reply": "2024-11-07T17:30:39.027657Z"
    },
    "papermill": {
     "duration": 0.046735,
     "end_time": "2024-11-07T17:30:39.031794",
     "exception": false,
     "start_time": "2024-11-07T17:30:38.985059",
     "status": "completed"
    },
    "tags": []
   },
   "outputs": [
    {
     "name": "stdout",
     "output_type": "stream",
     "text": [
      "Validation Accuracy: 0.8100558659217877\n",
      "Classification Report:\n",
      "               precision    recall  f1-score   support\n",
      "\n",
      "           0       0.81      0.89      0.85       105\n",
      "           1       0.81      0.70      0.75        74\n",
      "\n",
      "    accuracy                           0.81       179\n",
      "   macro avg       0.81      0.79      0.80       179\n",
      "weighted avg       0.81      0.81      0.81       179\n",
      "\n"
     ]
    }
   ],
   "source": [
    "# 5. Evaluate the model\n",
    "y_pred = model.predict(X_val)\n",
    "print(\"Validation Accuracy:\", accuracy_score(y_val, y_pred))\n",
    "print(\"Classification Report:\\n\", classification_report(y_val, y_pred))"
   ]
  }
 ],
 "metadata": {
  "kaggle": {
   "accelerator": "none",
   "dataSources": [
    {
     "databundleVersionId": 26502,
     "sourceId": 3136,
     "sourceType": "competition"
    }
   ],
   "dockerImageVersionId": 30786,
   "isGpuEnabled": false,
   "isInternetEnabled": true,
   "language": "python",
   "sourceType": "notebook"
  },
  "kernelspec": {
   "display_name": "Python 3",
   "language": "python",
   "name": "python3"
  },
  "language_info": {
   "codemirror_mode": {
    "name": "ipython",
    "version": 3
   },
   "file_extension": ".py",
   "mimetype": "text/x-python",
   "name": "python",
   "nbconvert_exporter": "python",
   "pygments_lexer": "ipython3",
   "version": "3.10.14"
  },
  "papermill": {
   "default_parameters": {},
   "duration": 7.879863,
   "end_time": "2024-11-07T17:30:39.662746",
   "environment_variables": {},
   "exception": null,
   "input_path": "__notebook__.ipynb",
   "output_path": "__notebook__.ipynb",
   "parameters": {},
   "start_time": "2024-11-07T17:30:31.782883",
   "version": "2.6.0"
  }
 },
 "nbformat": 4,
 "nbformat_minor": 5
}
