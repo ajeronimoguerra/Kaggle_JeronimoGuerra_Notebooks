{
 "cells": [
  {
   "cell_type": "markdown",
   "id": "2264ac9d",
   "metadata": {
    "papermill": {
     "duration": 0.007669,
     "end_time": "2025-03-12T15:12:20.750380",
     "exception": false,
     "start_time": "2025-03-12T15:12:20.742711",
     "status": "completed"
    },
    "tags": []
   },
   "source": [
    "# About the Dataset\n",
    "\n",
    "This dataset contains house sale prices for King County, which includes Seattle. It includes homes sold between May 2014 and May 2015. It was taken from [here](https://www.kaggle.com/harlfoxem/housesalesprediction?utm_medium=Exinfluencer&utm_source=Exinfluencer&utm_content=000026UJ&utm_term=10006555&utm_id=NA-SkillsNetwork-wwwcourseraorg-SkillsNetworkCoursesIBMDeveloperSkillsNetworkDA0101ENSkillsNetwork20235326-2022-01-01). It was also slightly modified for the purposes of this course. "
   ]
  },
  {
   "cell_type": "markdown",
   "id": "0a4aef49",
   "metadata": {
    "papermill": {
     "duration": 0.006388,
     "end_time": "2025-03-12T15:12:20.763916",
     "exception": false,
     "start_time": "2025-03-12T15:12:20.757528",
     "status": "completed"
    },
    "tags": []
   },
   "source": [
    "# Import the required libraries"
   ]
  },
  {
   "cell_type": "code",
   "execution_count": 1,
   "id": "463e82b8",
   "metadata": {
    "execution": {
     "iopub.execute_input": "2025-03-12T15:12:20.779076Z",
     "iopub.status.busy": "2025-03-12T15:12:20.778655Z",
     "iopub.status.idle": "2025-03-12T15:12:24.162964Z",
     "shell.execute_reply": "2025-03-12T15:12:24.161834Z"
    },
    "papermill": {
     "duration": 3.394195,
     "end_time": "2025-03-12T15:12:24.164785",
     "exception": false,
     "start_time": "2025-03-12T15:12:20.770590",
     "status": "completed"
    },
    "tags": []
   },
   "outputs": [],
   "source": [
    "import pandas as pd\n",
    "import matplotlib.pyplot as plt\n",
    "import numpy as np\n",
    "import seaborn as sns\n",
    "from sklearn.pipeline import Pipeline\n",
    "from sklearn.preprocessing import StandardScaler,PolynomialFeatures\n",
    "from sklearn.linear_model import LinearRegression\n",
    "%matplotlib inline"
   ]
  },
  {
   "cell_type": "markdown",
   "id": "0349d01b",
   "metadata": {
    "papermill": {
     "duration": 0.006329,
     "end_time": "2025-03-12T15:12:24.178041",
     "exception": false,
     "start_time": "2025-03-12T15:12:24.171712",
     "status": "completed"
    },
    "tags": []
   },
   "source": [
    "# Module 1: Importing Data Sets"
   ]
  },
  {
   "cell_type": "code",
   "execution_count": 2,
   "id": "161c56f7",
   "metadata": {
    "execution": {
     "iopub.execute_input": "2025-03-12T15:12:24.193690Z",
     "iopub.status.busy": "2025-03-12T15:12:24.193163Z",
     "iopub.status.idle": "2025-03-12T15:12:24.943241Z",
     "shell.execute_reply": "2025-03-12T15:12:24.941950Z"
    },
    "papermill": {
     "duration": 0.760519,
     "end_time": "2025-03-12T15:12:24.945233",
     "exception": false,
     "start_time": "2025-03-12T15:12:24.184714",
     "status": "completed"
    },
    "tags": []
   },
   "outputs": [
    {
     "data": {
      "text/html": [
       "<div>\n",
       "<style scoped>\n",
       "    .dataframe tbody tr th:only-of-type {\n",
       "        vertical-align: middle;\n",
       "    }\n",
       "\n",
       "    .dataframe tbody tr th {\n",
       "        vertical-align: top;\n",
       "    }\n",
       "\n",
       "    .dataframe thead th {\n",
       "        text-align: right;\n",
       "    }\n",
       "</style>\n",
       "<table border=\"1\" class=\"dataframe\">\n",
       "  <thead>\n",
       "    <tr style=\"text-align: right;\">\n",
       "      <th></th>\n",
       "      <th>Unnamed: 0</th>\n",
       "      <th>id</th>\n",
       "      <th>date</th>\n",
       "      <th>price</th>\n",
       "      <th>bedrooms</th>\n",
       "      <th>bathrooms</th>\n",
       "      <th>sqft_living</th>\n",
       "      <th>sqft_lot</th>\n",
       "      <th>floors</th>\n",
       "      <th>waterfront</th>\n",
       "      <th>...</th>\n",
       "      <th>grade</th>\n",
       "      <th>sqft_above</th>\n",
       "      <th>sqft_basement</th>\n",
       "      <th>yr_built</th>\n",
       "      <th>yr_renovated</th>\n",
       "      <th>zipcode</th>\n",
       "      <th>lat</th>\n",
       "      <th>long</th>\n",
       "      <th>sqft_living15</th>\n",
       "      <th>sqft_lot15</th>\n",
       "    </tr>\n",
       "  </thead>\n",
       "  <tbody>\n",
       "    <tr>\n",
       "      <th>0</th>\n",
       "      <td>0</td>\n",
       "      <td>7129300520</td>\n",
       "      <td>20141013T000000</td>\n",
       "      <td>221900.0</td>\n",
       "      <td>3.0</td>\n",
       "      <td>1.00</td>\n",
       "      <td>1180</td>\n",
       "      <td>5650</td>\n",
       "      <td>1.0</td>\n",
       "      <td>0</td>\n",
       "      <td>...</td>\n",
       "      <td>7</td>\n",
       "      <td>1180</td>\n",
       "      <td>0</td>\n",
       "      <td>1955</td>\n",
       "      <td>0</td>\n",
       "      <td>98178</td>\n",
       "      <td>47.5112</td>\n",
       "      <td>-122.257</td>\n",
       "      <td>1340</td>\n",
       "      <td>5650</td>\n",
       "    </tr>\n",
       "    <tr>\n",
       "      <th>1</th>\n",
       "      <td>1</td>\n",
       "      <td>6414100192</td>\n",
       "      <td>20141209T000000</td>\n",
       "      <td>538000.0</td>\n",
       "      <td>3.0</td>\n",
       "      <td>2.25</td>\n",
       "      <td>2570</td>\n",
       "      <td>7242</td>\n",
       "      <td>2.0</td>\n",
       "      <td>0</td>\n",
       "      <td>...</td>\n",
       "      <td>7</td>\n",
       "      <td>2170</td>\n",
       "      <td>400</td>\n",
       "      <td>1951</td>\n",
       "      <td>1991</td>\n",
       "      <td>98125</td>\n",
       "      <td>47.7210</td>\n",
       "      <td>-122.319</td>\n",
       "      <td>1690</td>\n",
       "      <td>7639</td>\n",
       "    </tr>\n",
       "    <tr>\n",
       "      <th>2</th>\n",
       "      <td>2</td>\n",
       "      <td>5631500400</td>\n",
       "      <td>20150225T000000</td>\n",
       "      <td>180000.0</td>\n",
       "      <td>2.0</td>\n",
       "      <td>1.00</td>\n",
       "      <td>770</td>\n",
       "      <td>10000</td>\n",
       "      <td>1.0</td>\n",
       "      <td>0</td>\n",
       "      <td>...</td>\n",
       "      <td>6</td>\n",
       "      <td>770</td>\n",
       "      <td>0</td>\n",
       "      <td>1933</td>\n",
       "      <td>0</td>\n",
       "      <td>98028</td>\n",
       "      <td>47.7379</td>\n",
       "      <td>-122.233</td>\n",
       "      <td>2720</td>\n",
       "      <td>8062</td>\n",
       "    </tr>\n",
       "    <tr>\n",
       "      <th>3</th>\n",
       "      <td>3</td>\n",
       "      <td>2487200875</td>\n",
       "      <td>20141209T000000</td>\n",
       "      <td>604000.0</td>\n",
       "      <td>4.0</td>\n",
       "      <td>3.00</td>\n",
       "      <td>1960</td>\n",
       "      <td>5000</td>\n",
       "      <td>1.0</td>\n",
       "      <td>0</td>\n",
       "      <td>...</td>\n",
       "      <td>7</td>\n",
       "      <td>1050</td>\n",
       "      <td>910</td>\n",
       "      <td>1965</td>\n",
       "      <td>0</td>\n",
       "      <td>98136</td>\n",
       "      <td>47.5208</td>\n",
       "      <td>-122.393</td>\n",
       "      <td>1360</td>\n",
       "      <td>5000</td>\n",
       "    </tr>\n",
       "    <tr>\n",
       "      <th>4</th>\n",
       "      <td>4</td>\n",
       "      <td>1954400510</td>\n",
       "      <td>20150218T000000</td>\n",
       "      <td>510000.0</td>\n",
       "      <td>3.0</td>\n",
       "      <td>2.00</td>\n",
       "      <td>1680</td>\n",
       "      <td>8080</td>\n",
       "      <td>1.0</td>\n",
       "      <td>0</td>\n",
       "      <td>...</td>\n",
       "      <td>8</td>\n",
       "      <td>1680</td>\n",
       "      <td>0</td>\n",
       "      <td>1987</td>\n",
       "      <td>0</td>\n",
       "      <td>98074</td>\n",
       "      <td>47.6168</td>\n",
       "      <td>-122.045</td>\n",
       "      <td>1800</td>\n",
       "      <td>7503</td>\n",
       "    </tr>\n",
       "  </tbody>\n",
       "</table>\n",
       "<p>5 rows × 22 columns</p>\n",
       "</div>"
      ],
      "text/plain": [
       "   Unnamed: 0          id             date     price  bedrooms  bathrooms  \\\n",
       "0           0  7129300520  20141013T000000  221900.0       3.0       1.00   \n",
       "1           1  6414100192  20141209T000000  538000.0       3.0       2.25   \n",
       "2           2  5631500400  20150225T000000  180000.0       2.0       1.00   \n",
       "3           3  2487200875  20141209T000000  604000.0       4.0       3.00   \n",
       "4           4  1954400510  20150218T000000  510000.0       3.0       2.00   \n",
       "\n",
       "   sqft_living  sqft_lot  floors  waterfront  ...  grade  sqft_above  \\\n",
       "0         1180      5650     1.0           0  ...      7        1180   \n",
       "1         2570      7242     2.0           0  ...      7        2170   \n",
       "2          770     10000     1.0           0  ...      6         770   \n",
       "3         1960      5000     1.0           0  ...      7        1050   \n",
       "4         1680      8080     1.0           0  ...      8        1680   \n",
       "\n",
       "   sqft_basement  yr_built  yr_renovated  zipcode      lat     long  \\\n",
       "0              0      1955             0    98178  47.5112 -122.257   \n",
       "1            400      1951          1991    98125  47.7210 -122.319   \n",
       "2              0      1933             0    98028  47.7379 -122.233   \n",
       "3            910      1965             0    98136  47.5208 -122.393   \n",
       "4              0      1987             0    98074  47.6168 -122.045   \n",
       "\n",
       "   sqft_living15  sqft_lot15  \n",
       "0           1340        5650  \n",
       "1           1690        7639  \n",
       "2           2720        8062  \n",
       "3           1360        5000  \n",
       "4           1800        7503  \n",
       "\n",
       "[5 rows x 22 columns]"
      ]
     },
     "execution_count": 2,
     "metadata": {},
     "output_type": "execute_result"
    }
   ],
   "source": [
    "file_name='https://cf-courses-data.s3.us.cloud-object-storage.appdomain.cloud/IBMDeveloperSkillsNetwork-DA0101EN-SkillsNetwork/labs/FinalModule_Coursera/data/kc_house_data_NaN.csv'\n",
    "df=pd.read_csv(file_name)\n",
    "df.head()"
   ]
  },
  {
   "cell_type": "code",
   "execution_count": 3,
   "id": "6e578734",
   "metadata": {
    "execution": {
     "iopub.execute_input": "2025-03-12T15:12:24.962387Z",
     "iopub.status.busy": "2025-03-12T15:12:24.961984Z",
     "iopub.status.idle": "2025-03-12T15:12:24.989779Z",
     "shell.execute_reply": "2025-03-12T15:12:24.988222Z"
    },
    "papermill": {
     "duration": 0.039011,
     "end_time": "2025-03-12T15:12:24.992323",
     "exception": false,
     "start_time": "2025-03-12T15:12:24.953312",
     "status": "completed"
    },
    "tags": []
   },
   "outputs": [
    {
     "name": "stdout",
     "output_type": "stream",
     "text": [
      "<class 'pandas.core.frame.DataFrame'>\n",
      "RangeIndex: 21613 entries, 0 to 21612\n",
      "Data columns (total 22 columns):\n",
      " #   Column         Non-Null Count  Dtype  \n",
      "---  ------         --------------  -----  \n",
      " 0   Unnamed: 0     21613 non-null  int64  \n",
      " 1   id             21613 non-null  int64  \n",
      " 2   date           21613 non-null  object \n",
      " 3   price          21613 non-null  float64\n",
      " 4   bedrooms       21600 non-null  float64\n",
      " 5   bathrooms      21603 non-null  float64\n",
      " 6   sqft_living    21613 non-null  int64  \n",
      " 7   sqft_lot       21613 non-null  int64  \n",
      " 8   floors         21613 non-null  float64\n",
      " 9   waterfront     21613 non-null  int64  \n",
      " 10  view           21613 non-null  int64  \n",
      " 11  condition      21613 non-null  int64  \n",
      " 12  grade          21613 non-null  int64  \n",
      " 13  sqft_above     21613 non-null  int64  \n",
      " 14  sqft_basement  21613 non-null  int64  \n",
      " 15  yr_built       21613 non-null  int64  \n",
      " 16  yr_renovated   21613 non-null  int64  \n",
      " 17  zipcode        21613 non-null  int64  \n",
      " 18  lat            21613 non-null  float64\n",
      " 19  long           21613 non-null  float64\n",
      " 20  sqft_living15  21613 non-null  int64  \n",
      " 21  sqft_lot15     21613 non-null  int64  \n",
      "dtypes: float64(6), int64(15), object(1)\n",
      "memory usage: 3.6+ MB\n"
     ]
    }
   ],
   "source": [
    "df.info()"
   ]
  },
  {
   "cell_type": "code",
   "execution_count": 4,
   "id": "0daa4a47",
   "metadata": {
    "execution": {
     "iopub.execute_input": "2025-03-12T15:12:25.008446Z",
     "iopub.status.busy": "2025-03-12T15:12:25.008083Z",
     "iopub.status.idle": "2025-03-12T15:12:25.082920Z",
     "shell.execute_reply": "2025-03-12T15:12:25.081769Z"
    },
    "papermill": {
     "duration": 0.084859,
     "end_time": "2025-03-12T15:12:25.084972",
     "exception": false,
     "start_time": "2025-03-12T15:12:25.000113",
     "status": "completed"
    },
    "tags": []
   },
   "outputs": [
    {
     "data": {
      "text/html": [
       "<div>\n",
       "<style scoped>\n",
       "    .dataframe tbody tr th:only-of-type {\n",
       "        vertical-align: middle;\n",
       "    }\n",
       "\n",
       "    .dataframe tbody tr th {\n",
       "        vertical-align: top;\n",
       "    }\n",
       "\n",
       "    .dataframe thead th {\n",
       "        text-align: right;\n",
       "    }\n",
       "</style>\n",
       "<table border=\"1\" class=\"dataframe\">\n",
       "  <thead>\n",
       "    <tr style=\"text-align: right;\">\n",
       "      <th></th>\n",
       "      <th>Unnamed: 0</th>\n",
       "      <th>id</th>\n",
       "      <th>price</th>\n",
       "      <th>bedrooms</th>\n",
       "      <th>bathrooms</th>\n",
       "      <th>sqft_living</th>\n",
       "      <th>sqft_lot</th>\n",
       "      <th>floors</th>\n",
       "      <th>waterfront</th>\n",
       "      <th>view</th>\n",
       "      <th>...</th>\n",
       "      <th>grade</th>\n",
       "      <th>sqft_above</th>\n",
       "      <th>sqft_basement</th>\n",
       "      <th>yr_built</th>\n",
       "      <th>yr_renovated</th>\n",
       "      <th>zipcode</th>\n",
       "      <th>lat</th>\n",
       "      <th>long</th>\n",
       "      <th>sqft_living15</th>\n",
       "      <th>sqft_lot15</th>\n",
       "    </tr>\n",
       "  </thead>\n",
       "  <tbody>\n",
       "    <tr>\n",
       "      <th>count</th>\n",
       "      <td>21613.00000</td>\n",
       "      <td>2.161300e+04</td>\n",
       "      <td>2.161300e+04</td>\n",
       "      <td>21600.000000</td>\n",
       "      <td>21603.000000</td>\n",
       "      <td>21613.000000</td>\n",
       "      <td>2.161300e+04</td>\n",
       "      <td>21613.000000</td>\n",
       "      <td>21613.000000</td>\n",
       "      <td>21613.000000</td>\n",
       "      <td>...</td>\n",
       "      <td>21613.000000</td>\n",
       "      <td>21613.000000</td>\n",
       "      <td>21613.000000</td>\n",
       "      <td>21613.000000</td>\n",
       "      <td>21613.000000</td>\n",
       "      <td>21613.000000</td>\n",
       "      <td>21613.000000</td>\n",
       "      <td>21613.000000</td>\n",
       "      <td>21613.000000</td>\n",
       "      <td>21613.000000</td>\n",
       "    </tr>\n",
       "    <tr>\n",
       "      <th>mean</th>\n",
       "      <td>10806.00000</td>\n",
       "      <td>4.580302e+09</td>\n",
       "      <td>5.400881e+05</td>\n",
       "      <td>3.372870</td>\n",
       "      <td>2.115736</td>\n",
       "      <td>2079.899736</td>\n",
       "      <td>1.510697e+04</td>\n",
       "      <td>1.494309</td>\n",
       "      <td>0.007542</td>\n",
       "      <td>0.234303</td>\n",
       "      <td>...</td>\n",
       "      <td>7.656873</td>\n",
       "      <td>1788.390691</td>\n",
       "      <td>291.509045</td>\n",
       "      <td>1971.005136</td>\n",
       "      <td>84.402258</td>\n",
       "      <td>98077.939805</td>\n",
       "      <td>47.560053</td>\n",
       "      <td>-122.213896</td>\n",
       "      <td>1986.552492</td>\n",
       "      <td>12768.455652</td>\n",
       "    </tr>\n",
       "    <tr>\n",
       "      <th>std</th>\n",
       "      <td>6239.28002</td>\n",
       "      <td>2.876566e+09</td>\n",
       "      <td>3.671272e+05</td>\n",
       "      <td>0.926657</td>\n",
       "      <td>0.768996</td>\n",
       "      <td>918.440897</td>\n",
       "      <td>4.142051e+04</td>\n",
       "      <td>0.539989</td>\n",
       "      <td>0.086517</td>\n",
       "      <td>0.766318</td>\n",
       "      <td>...</td>\n",
       "      <td>1.175459</td>\n",
       "      <td>828.090978</td>\n",
       "      <td>442.575043</td>\n",
       "      <td>29.373411</td>\n",
       "      <td>401.679240</td>\n",
       "      <td>53.505026</td>\n",
       "      <td>0.138564</td>\n",
       "      <td>0.140828</td>\n",
       "      <td>685.391304</td>\n",
       "      <td>27304.179631</td>\n",
       "    </tr>\n",
       "    <tr>\n",
       "      <th>min</th>\n",
       "      <td>0.00000</td>\n",
       "      <td>1.000102e+06</td>\n",
       "      <td>7.500000e+04</td>\n",
       "      <td>1.000000</td>\n",
       "      <td>0.500000</td>\n",
       "      <td>290.000000</td>\n",
       "      <td>5.200000e+02</td>\n",
       "      <td>1.000000</td>\n",
       "      <td>0.000000</td>\n",
       "      <td>0.000000</td>\n",
       "      <td>...</td>\n",
       "      <td>1.000000</td>\n",
       "      <td>290.000000</td>\n",
       "      <td>0.000000</td>\n",
       "      <td>1900.000000</td>\n",
       "      <td>0.000000</td>\n",
       "      <td>98001.000000</td>\n",
       "      <td>47.155900</td>\n",
       "      <td>-122.519000</td>\n",
       "      <td>399.000000</td>\n",
       "      <td>651.000000</td>\n",
       "    </tr>\n",
       "    <tr>\n",
       "      <th>25%</th>\n",
       "      <td>5403.00000</td>\n",
       "      <td>2.123049e+09</td>\n",
       "      <td>3.219500e+05</td>\n",
       "      <td>3.000000</td>\n",
       "      <td>1.750000</td>\n",
       "      <td>1427.000000</td>\n",
       "      <td>5.040000e+03</td>\n",
       "      <td>1.000000</td>\n",
       "      <td>0.000000</td>\n",
       "      <td>0.000000</td>\n",
       "      <td>...</td>\n",
       "      <td>7.000000</td>\n",
       "      <td>1190.000000</td>\n",
       "      <td>0.000000</td>\n",
       "      <td>1951.000000</td>\n",
       "      <td>0.000000</td>\n",
       "      <td>98033.000000</td>\n",
       "      <td>47.471000</td>\n",
       "      <td>-122.328000</td>\n",
       "      <td>1490.000000</td>\n",
       "      <td>5100.000000</td>\n",
       "    </tr>\n",
       "    <tr>\n",
       "      <th>50%</th>\n",
       "      <td>10806.00000</td>\n",
       "      <td>3.904930e+09</td>\n",
       "      <td>4.500000e+05</td>\n",
       "      <td>3.000000</td>\n",
       "      <td>2.250000</td>\n",
       "      <td>1910.000000</td>\n",
       "      <td>7.618000e+03</td>\n",
       "      <td>1.500000</td>\n",
       "      <td>0.000000</td>\n",
       "      <td>0.000000</td>\n",
       "      <td>...</td>\n",
       "      <td>7.000000</td>\n",
       "      <td>1560.000000</td>\n",
       "      <td>0.000000</td>\n",
       "      <td>1975.000000</td>\n",
       "      <td>0.000000</td>\n",
       "      <td>98065.000000</td>\n",
       "      <td>47.571800</td>\n",
       "      <td>-122.230000</td>\n",
       "      <td>1840.000000</td>\n",
       "      <td>7620.000000</td>\n",
       "    </tr>\n",
       "    <tr>\n",
       "      <th>75%</th>\n",
       "      <td>16209.00000</td>\n",
       "      <td>7.308900e+09</td>\n",
       "      <td>6.450000e+05</td>\n",
       "      <td>4.000000</td>\n",
       "      <td>2.500000</td>\n",
       "      <td>2550.000000</td>\n",
       "      <td>1.068800e+04</td>\n",
       "      <td>2.000000</td>\n",
       "      <td>0.000000</td>\n",
       "      <td>0.000000</td>\n",
       "      <td>...</td>\n",
       "      <td>8.000000</td>\n",
       "      <td>2210.000000</td>\n",
       "      <td>560.000000</td>\n",
       "      <td>1997.000000</td>\n",
       "      <td>0.000000</td>\n",
       "      <td>98118.000000</td>\n",
       "      <td>47.678000</td>\n",
       "      <td>-122.125000</td>\n",
       "      <td>2360.000000</td>\n",
       "      <td>10083.000000</td>\n",
       "    </tr>\n",
       "    <tr>\n",
       "      <th>max</th>\n",
       "      <td>21612.00000</td>\n",
       "      <td>9.900000e+09</td>\n",
       "      <td>7.700000e+06</td>\n",
       "      <td>33.000000</td>\n",
       "      <td>8.000000</td>\n",
       "      <td>13540.000000</td>\n",
       "      <td>1.651359e+06</td>\n",
       "      <td>3.500000</td>\n",
       "      <td>1.000000</td>\n",
       "      <td>4.000000</td>\n",
       "      <td>...</td>\n",
       "      <td>13.000000</td>\n",
       "      <td>9410.000000</td>\n",
       "      <td>4820.000000</td>\n",
       "      <td>2015.000000</td>\n",
       "      <td>2015.000000</td>\n",
       "      <td>98199.000000</td>\n",
       "      <td>47.777600</td>\n",
       "      <td>-121.315000</td>\n",
       "      <td>6210.000000</td>\n",
       "      <td>871200.000000</td>\n",
       "    </tr>\n",
       "  </tbody>\n",
       "</table>\n",
       "<p>8 rows × 21 columns</p>\n",
       "</div>"
      ],
      "text/plain": [
       "        Unnamed: 0            id         price      bedrooms     bathrooms  \\\n",
       "count  21613.00000  2.161300e+04  2.161300e+04  21600.000000  21603.000000   \n",
       "mean   10806.00000  4.580302e+09  5.400881e+05      3.372870      2.115736   \n",
       "std     6239.28002  2.876566e+09  3.671272e+05      0.926657      0.768996   \n",
       "min        0.00000  1.000102e+06  7.500000e+04      1.000000      0.500000   \n",
       "25%     5403.00000  2.123049e+09  3.219500e+05      3.000000      1.750000   \n",
       "50%    10806.00000  3.904930e+09  4.500000e+05      3.000000      2.250000   \n",
       "75%    16209.00000  7.308900e+09  6.450000e+05      4.000000      2.500000   \n",
       "max    21612.00000  9.900000e+09  7.700000e+06     33.000000      8.000000   \n",
       "\n",
       "        sqft_living      sqft_lot        floors    waterfront          view  \\\n",
       "count  21613.000000  2.161300e+04  21613.000000  21613.000000  21613.000000   \n",
       "mean    2079.899736  1.510697e+04      1.494309      0.007542      0.234303   \n",
       "std      918.440897  4.142051e+04      0.539989      0.086517      0.766318   \n",
       "min      290.000000  5.200000e+02      1.000000      0.000000      0.000000   \n",
       "25%     1427.000000  5.040000e+03      1.000000      0.000000      0.000000   \n",
       "50%     1910.000000  7.618000e+03      1.500000      0.000000      0.000000   \n",
       "75%     2550.000000  1.068800e+04      2.000000      0.000000      0.000000   \n",
       "max    13540.000000  1.651359e+06      3.500000      1.000000      4.000000   \n",
       "\n",
       "       ...         grade    sqft_above  sqft_basement      yr_built  \\\n",
       "count  ...  21613.000000  21613.000000   21613.000000  21613.000000   \n",
       "mean   ...      7.656873   1788.390691     291.509045   1971.005136   \n",
       "std    ...      1.175459    828.090978     442.575043     29.373411   \n",
       "min    ...      1.000000    290.000000       0.000000   1900.000000   \n",
       "25%    ...      7.000000   1190.000000       0.000000   1951.000000   \n",
       "50%    ...      7.000000   1560.000000       0.000000   1975.000000   \n",
       "75%    ...      8.000000   2210.000000     560.000000   1997.000000   \n",
       "max    ...     13.000000   9410.000000    4820.000000   2015.000000   \n",
       "\n",
       "       yr_renovated       zipcode           lat          long  sqft_living15  \\\n",
       "count  21613.000000  21613.000000  21613.000000  21613.000000   21613.000000   \n",
       "mean      84.402258  98077.939805     47.560053   -122.213896    1986.552492   \n",
       "std      401.679240     53.505026      0.138564      0.140828     685.391304   \n",
       "min        0.000000  98001.000000     47.155900   -122.519000     399.000000   \n",
       "25%        0.000000  98033.000000     47.471000   -122.328000    1490.000000   \n",
       "50%        0.000000  98065.000000     47.571800   -122.230000    1840.000000   \n",
       "75%        0.000000  98118.000000     47.678000   -122.125000    2360.000000   \n",
       "max     2015.000000  98199.000000     47.777600   -121.315000    6210.000000   \n",
       "\n",
       "          sqft_lot15  \n",
       "count   21613.000000  \n",
       "mean    12768.455652  \n",
       "std     27304.179631  \n",
       "min       651.000000  \n",
       "25%      5100.000000  \n",
       "50%      7620.000000  \n",
       "75%     10083.000000  \n",
       "max    871200.000000  \n",
       "\n",
       "[8 rows x 21 columns]"
      ]
     },
     "execution_count": 4,
     "metadata": {},
     "output_type": "execute_result"
    }
   ],
   "source": [
    "df.describe()"
   ]
  },
  {
   "cell_type": "markdown",
   "id": "e018965b",
   "metadata": {
    "papermill": {
     "duration": 0.00728,
     "end_time": "2025-03-12T15:12:25.100275",
     "exception": false,
     "start_time": "2025-03-12T15:12:25.092995",
     "status": "completed"
    },
    "tags": []
   },
   "source": [
    "# Module 2: Data Wrangling"
   ]
  },
  {
   "cell_type": "code",
   "execution_count": 5,
   "id": "17c02e3d",
   "metadata": {
    "execution": {
     "iopub.execute_input": "2025-03-12T15:12:25.116369Z",
     "iopub.status.busy": "2025-03-12T15:12:25.116003Z",
     "iopub.status.idle": "2025-03-12T15:12:25.186595Z",
     "shell.execute_reply": "2025-03-12T15:12:25.185388Z"
    },
    "papermill": {
     "duration": 0.081023,
     "end_time": "2025-03-12T15:12:25.188661",
     "exception": false,
     "start_time": "2025-03-12T15:12:25.107638",
     "status": "completed"
    },
    "tags": []
   },
   "outputs": [
    {
     "data": {
      "text/html": [
       "<div>\n",
       "<style scoped>\n",
       "    .dataframe tbody tr th:only-of-type {\n",
       "        vertical-align: middle;\n",
       "    }\n",
       "\n",
       "    .dataframe tbody tr th {\n",
       "        vertical-align: top;\n",
       "    }\n",
       "\n",
       "    .dataframe thead th {\n",
       "        text-align: right;\n",
       "    }\n",
       "</style>\n",
       "<table border=\"1\" class=\"dataframe\">\n",
       "  <thead>\n",
       "    <tr style=\"text-align: right;\">\n",
       "      <th></th>\n",
       "      <th>price</th>\n",
       "      <th>bedrooms</th>\n",
       "      <th>bathrooms</th>\n",
       "      <th>sqft_living</th>\n",
       "      <th>sqft_lot</th>\n",
       "      <th>floors</th>\n",
       "      <th>waterfront</th>\n",
       "      <th>view</th>\n",
       "      <th>condition</th>\n",
       "      <th>grade</th>\n",
       "      <th>sqft_above</th>\n",
       "      <th>sqft_basement</th>\n",
       "      <th>yr_built</th>\n",
       "      <th>yr_renovated</th>\n",
       "      <th>zipcode</th>\n",
       "      <th>lat</th>\n",
       "      <th>long</th>\n",
       "      <th>sqft_living15</th>\n",
       "      <th>sqft_lot15</th>\n",
       "    </tr>\n",
       "  </thead>\n",
       "  <tbody>\n",
       "    <tr>\n",
       "      <th>count</th>\n",
       "      <td>2.161300e+04</td>\n",
       "      <td>21600.000000</td>\n",
       "      <td>21603.000000</td>\n",
       "      <td>21613.000000</td>\n",
       "      <td>2.161300e+04</td>\n",
       "      <td>21613.000000</td>\n",
       "      <td>21613.000000</td>\n",
       "      <td>21613.000000</td>\n",
       "      <td>21613.000000</td>\n",
       "      <td>21613.000000</td>\n",
       "      <td>21613.000000</td>\n",
       "      <td>21613.000000</td>\n",
       "      <td>21613.000000</td>\n",
       "      <td>21613.000000</td>\n",
       "      <td>21613.000000</td>\n",
       "      <td>21613.000000</td>\n",
       "      <td>21613.000000</td>\n",
       "      <td>21613.000000</td>\n",
       "      <td>21613.000000</td>\n",
       "    </tr>\n",
       "    <tr>\n",
       "      <th>mean</th>\n",
       "      <td>5.400881e+05</td>\n",
       "      <td>3.372870</td>\n",
       "      <td>2.115736</td>\n",
       "      <td>2079.899736</td>\n",
       "      <td>1.510697e+04</td>\n",
       "      <td>1.494309</td>\n",
       "      <td>0.007542</td>\n",
       "      <td>0.234303</td>\n",
       "      <td>3.409430</td>\n",
       "      <td>7.656873</td>\n",
       "      <td>1788.390691</td>\n",
       "      <td>291.509045</td>\n",
       "      <td>1971.005136</td>\n",
       "      <td>84.402258</td>\n",
       "      <td>98077.939805</td>\n",
       "      <td>47.560053</td>\n",
       "      <td>-122.213896</td>\n",
       "      <td>1986.552492</td>\n",
       "      <td>12768.455652</td>\n",
       "    </tr>\n",
       "    <tr>\n",
       "      <th>std</th>\n",
       "      <td>3.671272e+05</td>\n",
       "      <td>0.926657</td>\n",
       "      <td>0.768996</td>\n",
       "      <td>918.440897</td>\n",
       "      <td>4.142051e+04</td>\n",
       "      <td>0.539989</td>\n",
       "      <td>0.086517</td>\n",
       "      <td>0.766318</td>\n",
       "      <td>0.650743</td>\n",
       "      <td>1.175459</td>\n",
       "      <td>828.090978</td>\n",
       "      <td>442.575043</td>\n",
       "      <td>29.373411</td>\n",
       "      <td>401.679240</td>\n",
       "      <td>53.505026</td>\n",
       "      <td>0.138564</td>\n",
       "      <td>0.140828</td>\n",
       "      <td>685.391304</td>\n",
       "      <td>27304.179631</td>\n",
       "    </tr>\n",
       "    <tr>\n",
       "      <th>min</th>\n",
       "      <td>7.500000e+04</td>\n",
       "      <td>1.000000</td>\n",
       "      <td>0.500000</td>\n",
       "      <td>290.000000</td>\n",
       "      <td>5.200000e+02</td>\n",
       "      <td>1.000000</td>\n",
       "      <td>0.000000</td>\n",
       "      <td>0.000000</td>\n",
       "      <td>1.000000</td>\n",
       "      <td>1.000000</td>\n",
       "      <td>290.000000</td>\n",
       "      <td>0.000000</td>\n",
       "      <td>1900.000000</td>\n",
       "      <td>0.000000</td>\n",
       "      <td>98001.000000</td>\n",
       "      <td>47.155900</td>\n",
       "      <td>-122.519000</td>\n",
       "      <td>399.000000</td>\n",
       "      <td>651.000000</td>\n",
       "    </tr>\n",
       "    <tr>\n",
       "      <th>25%</th>\n",
       "      <td>3.219500e+05</td>\n",
       "      <td>3.000000</td>\n",
       "      <td>1.750000</td>\n",
       "      <td>1427.000000</td>\n",
       "      <td>5.040000e+03</td>\n",
       "      <td>1.000000</td>\n",
       "      <td>0.000000</td>\n",
       "      <td>0.000000</td>\n",
       "      <td>3.000000</td>\n",
       "      <td>7.000000</td>\n",
       "      <td>1190.000000</td>\n",
       "      <td>0.000000</td>\n",
       "      <td>1951.000000</td>\n",
       "      <td>0.000000</td>\n",
       "      <td>98033.000000</td>\n",
       "      <td>47.471000</td>\n",
       "      <td>-122.328000</td>\n",
       "      <td>1490.000000</td>\n",
       "      <td>5100.000000</td>\n",
       "    </tr>\n",
       "    <tr>\n",
       "      <th>50%</th>\n",
       "      <td>4.500000e+05</td>\n",
       "      <td>3.000000</td>\n",
       "      <td>2.250000</td>\n",
       "      <td>1910.000000</td>\n",
       "      <td>7.618000e+03</td>\n",
       "      <td>1.500000</td>\n",
       "      <td>0.000000</td>\n",
       "      <td>0.000000</td>\n",
       "      <td>3.000000</td>\n",
       "      <td>7.000000</td>\n",
       "      <td>1560.000000</td>\n",
       "      <td>0.000000</td>\n",
       "      <td>1975.000000</td>\n",
       "      <td>0.000000</td>\n",
       "      <td>98065.000000</td>\n",
       "      <td>47.571800</td>\n",
       "      <td>-122.230000</td>\n",
       "      <td>1840.000000</td>\n",
       "      <td>7620.000000</td>\n",
       "    </tr>\n",
       "    <tr>\n",
       "      <th>75%</th>\n",
       "      <td>6.450000e+05</td>\n",
       "      <td>4.000000</td>\n",
       "      <td>2.500000</td>\n",
       "      <td>2550.000000</td>\n",
       "      <td>1.068800e+04</td>\n",
       "      <td>2.000000</td>\n",
       "      <td>0.000000</td>\n",
       "      <td>0.000000</td>\n",
       "      <td>4.000000</td>\n",
       "      <td>8.000000</td>\n",
       "      <td>2210.000000</td>\n",
       "      <td>560.000000</td>\n",
       "      <td>1997.000000</td>\n",
       "      <td>0.000000</td>\n",
       "      <td>98118.000000</td>\n",
       "      <td>47.678000</td>\n",
       "      <td>-122.125000</td>\n",
       "      <td>2360.000000</td>\n",
       "      <td>10083.000000</td>\n",
       "    </tr>\n",
       "    <tr>\n",
       "      <th>max</th>\n",
       "      <td>7.700000e+06</td>\n",
       "      <td>33.000000</td>\n",
       "      <td>8.000000</td>\n",
       "      <td>13540.000000</td>\n",
       "      <td>1.651359e+06</td>\n",
       "      <td>3.500000</td>\n",
       "      <td>1.000000</td>\n",
       "      <td>4.000000</td>\n",
       "      <td>5.000000</td>\n",
       "      <td>13.000000</td>\n",
       "      <td>9410.000000</td>\n",
       "      <td>4820.000000</td>\n",
       "      <td>2015.000000</td>\n",
       "      <td>2015.000000</td>\n",
       "      <td>98199.000000</td>\n",
       "      <td>47.777600</td>\n",
       "      <td>-121.315000</td>\n",
       "      <td>6210.000000</td>\n",
       "      <td>871200.000000</td>\n",
       "    </tr>\n",
       "  </tbody>\n",
       "</table>\n",
       "</div>"
      ],
      "text/plain": [
       "              price      bedrooms     bathrooms   sqft_living      sqft_lot  \\\n",
       "count  2.161300e+04  21600.000000  21603.000000  21613.000000  2.161300e+04   \n",
       "mean   5.400881e+05      3.372870      2.115736   2079.899736  1.510697e+04   \n",
       "std    3.671272e+05      0.926657      0.768996    918.440897  4.142051e+04   \n",
       "min    7.500000e+04      1.000000      0.500000    290.000000  5.200000e+02   \n",
       "25%    3.219500e+05      3.000000      1.750000   1427.000000  5.040000e+03   \n",
       "50%    4.500000e+05      3.000000      2.250000   1910.000000  7.618000e+03   \n",
       "75%    6.450000e+05      4.000000      2.500000   2550.000000  1.068800e+04   \n",
       "max    7.700000e+06     33.000000      8.000000  13540.000000  1.651359e+06   \n",
       "\n",
       "             floors    waterfront          view     condition         grade  \\\n",
       "count  21613.000000  21613.000000  21613.000000  21613.000000  21613.000000   \n",
       "mean       1.494309      0.007542      0.234303      3.409430      7.656873   \n",
       "std        0.539989      0.086517      0.766318      0.650743      1.175459   \n",
       "min        1.000000      0.000000      0.000000      1.000000      1.000000   \n",
       "25%        1.000000      0.000000      0.000000      3.000000      7.000000   \n",
       "50%        1.500000      0.000000      0.000000      3.000000      7.000000   \n",
       "75%        2.000000      0.000000      0.000000      4.000000      8.000000   \n",
       "max        3.500000      1.000000      4.000000      5.000000     13.000000   \n",
       "\n",
       "         sqft_above  sqft_basement      yr_built  yr_renovated       zipcode  \\\n",
       "count  21613.000000   21613.000000  21613.000000  21613.000000  21613.000000   \n",
       "mean    1788.390691     291.509045   1971.005136     84.402258  98077.939805   \n",
       "std      828.090978     442.575043     29.373411    401.679240     53.505026   \n",
       "min      290.000000       0.000000   1900.000000      0.000000  98001.000000   \n",
       "25%     1190.000000       0.000000   1951.000000      0.000000  98033.000000   \n",
       "50%     1560.000000       0.000000   1975.000000      0.000000  98065.000000   \n",
       "75%     2210.000000     560.000000   1997.000000      0.000000  98118.000000   \n",
       "max     9410.000000    4820.000000   2015.000000   2015.000000  98199.000000   \n",
       "\n",
       "                lat          long  sqft_living15     sqft_lot15  \n",
       "count  21613.000000  21613.000000   21613.000000   21613.000000  \n",
       "mean      47.560053   -122.213896    1986.552492   12768.455652  \n",
       "std        0.138564      0.140828     685.391304   27304.179631  \n",
       "min       47.155900   -122.519000     399.000000     651.000000  \n",
       "25%       47.471000   -122.328000    1490.000000    5100.000000  \n",
       "50%       47.571800   -122.230000    1840.000000    7620.000000  \n",
       "75%       47.678000   -122.125000    2360.000000   10083.000000  \n",
       "max       47.777600   -121.315000    6210.000000  871200.000000  "
      ]
     },
     "execution_count": 5,
     "metadata": {},
     "output_type": "execute_result"
    }
   ],
   "source": [
    "df.drop([\"id\", \"Unnamed: 0\"], axis=1, inplace=True, errors='ignore')\n",
    "df.describe()"
   ]
  },
  {
   "cell_type": "markdown",
   "id": "2080e05a",
   "metadata": {
    "papermill": {
     "duration": 0.007639,
     "end_time": "2025-03-12T15:12:25.204488",
     "exception": false,
     "start_time": "2025-03-12T15:12:25.196849",
     "status": "completed"
    },
    "tags": []
   },
   "source": [
    "We can see we have missing values for the columns  bedrooms and  bathrooms "
   ]
  },
  {
   "cell_type": "code",
   "execution_count": 6,
   "id": "11e2e4bf",
   "metadata": {
    "execution": {
     "iopub.execute_input": "2025-03-12T15:12:25.230559Z",
     "iopub.status.busy": "2025-03-12T15:12:25.230182Z",
     "iopub.status.idle": "2025-03-12T15:12:25.239176Z",
     "shell.execute_reply": "2025-03-12T15:12:25.237367Z"
    },
    "papermill": {
     "duration": 0.027591,
     "end_time": "2025-03-12T15:12:25.241614",
     "exception": false,
     "start_time": "2025-03-12T15:12:25.214023",
     "status": "completed"
    },
    "tags": []
   },
   "outputs": [
    {
     "name": "stdout",
     "output_type": "stream",
     "text": [
      "number of NaN values for the column bedrooms : 13\n",
      "number of NaN values for the column bathrooms : 10\n"
     ]
    }
   ],
   "source": [
    "print(\"number of NaN values for the column bedrooms :\", df['bedrooms'].isnull().sum())\n",
    "print(\"number of NaN values for the column bathrooms :\", df['bathrooms'].isnull().sum())"
   ]
  },
  {
   "cell_type": "markdown",
   "id": "92f4ab09",
   "metadata": {
    "papermill": {
     "duration": 0.010519,
     "end_time": "2025-03-12T15:12:25.261850",
     "exception": false,
     "start_time": "2025-03-12T15:12:25.251331",
     "status": "completed"
    },
    "tags": []
   },
   "source": [
    "We can replace the missing values of the column 'bedrooms' with the mean of the column 'bedrooms'  using the method replace()."
   ]
  },
  {
   "cell_type": "code",
   "execution_count": 7,
   "id": "f3062d8f",
   "metadata": {
    "execution": {
     "iopub.execute_input": "2025-03-12T15:12:25.283656Z",
     "iopub.status.busy": "2025-03-12T15:12:25.283296Z",
     "iopub.status.idle": "2025-03-12T15:12:25.290208Z",
     "shell.execute_reply": "2025-03-12T15:12:25.289039Z"
    },
    "papermill": {
     "duration": 0.020279,
     "end_time": "2025-03-12T15:12:25.292235",
     "exception": false,
     "start_time": "2025-03-12T15:12:25.271956",
     "status": "completed"
    },
    "tags": []
   },
   "outputs": [],
   "source": [
    "mean=df['bedrooms'].mean()\n",
    "df['bedrooms'] = df['bedrooms'].replace(np.nan, mean)"
   ]
  },
  {
   "cell_type": "code",
   "execution_count": 8,
   "id": "f639056a",
   "metadata": {
    "execution": {
     "iopub.execute_input": "2025-03-12T15:12:25.309765Z",
     "iopub.status.busy": "2025-03-12T15:12:25.309402Z",
     "iopub.status.idle": "2025-03-12T15:12:25.316006Z",
     "shell.execute_reply": "2025-03-12T15:12:25.314869Z"
    },
    "papermill": {
     "duration": 0.017505,
     "end_time": "2025-03-12T15:12:25.317786",
     "exception": false,
     "start_time": "2025-03-12T15:12:25.300281",
     "status": "completed"
    },
    "tags": []
   },
   "outputs": [],
   "source": [
    "mean=df['bathrooms'].mean()\n",
    "df['bathrooms'] = df['bathrooms'].replace(np.nan, mean)"
   ]
  },
  {
   "cell_type": "code",
   "execution_count": 9,
   "id": "9d575ae9",
   "metadata": {
    "execution": {
     "iopub.execute_input": "2025-03-12T15:12:25.335482Z",
     "iopub.status.busy": "2025-03-12T15:12:25.335111Z",
     "iopub.status.idle": "2025-03-12T15:12:25.343049Z",
     "shell.execute_reply": "2025-03-12T15:12:25.341452Z"
    },
    "papermill": {
     "duration": 0.019056,
     "end_time": "2025-03-12T15:12:25.344982",
     "exception": false,
     "start_time": "2025-03-12T15:12:25.325926",
     "status": "completed"
    },
    "tags": []
   },
   "outputs": [
    {
     "name": "stdout",
     "output_type": "stream",
     "text": [
      "number of NaN values for the column bedrooms : 0\n",
      "number of NaN values for the column bathrooms : 0\n"
     ]
    }
   ],
   "source": [
    "print(\"number of NaN values for the column bedrooms :\", df['bedrooms'].isnull().sum())\n",
    "print(\"number of NaN values for the column bathrooms :\", df['bathrooms'].isnull().sum())"
   ]
  },
  {
   "cell_type": "markdown",
   "id": "9db1c409",
   "metadata": {
    "papermill": {
     "duration": 0.010179,
     "end_time": "2025-03-12T15:12:25.364630",
     "exception": false,
     "start_time": "2025-03-12T15:12:25.354451",
     "status": "completed"
    },
    "tags": []
   },
   "source": [
    "# Module 3: Exploratory Data Analysis"
   ]
  },
  {
   "cell_type": "markdown",
   "id": "45fb7e4d",
   "metadata": {
    "papermill": {
     "duration": 0.009207,
     "end_time": "2025-03-12T15:12:25.388265",
     "exception": false,
     "start_time": "2025-03-12T15:12:25.379058",
     "status": "completed"
    },
    "tags": []
   },
   "source": [
    "Count the number of houses with unique floor values"
   ]
  },
  {
   "cell_type": "code",
   "execution_count": 10,
   "id": "ff128ee1",
   "metadata": {
    "execution": {
     "iopub.execute_input": "2025-03-12T15:12:25.415690Z",
     "iopub.status.busy": "2025-03-12T15:12:25.415083Z",
     "iopub.status.idle": "2025-03-12T15:12:25.436616Z",
     "shell.execute_reply": "2025-03-12T15:12:25.434656Z"
    },
    "papermill": {
     "duration": 0.040148,
     "end_time": "2025-03-12T15:12:25.439898",
     "exception": false,
     "start_time": "2025-03-12T15:12:25.399750",
     "status": "completed"
    },
    "tags": []
   },
   "outputs": [
    {
     "data": {
      "text/html": [
       "<div>\n",
       "<style scoped>\n",
       "    .dataframe tbody tr th:only-of-type {\n",
       "        vertical-align: middle;\n",
       "    }\n",
       "\n",
       "    .dataframe tbody tr th {\n",
       "        vertical-align: top;\n",
       "    }\n",
       "\n",
       "    .dataframe thead th {\n",
       "        text-align: right;\n",
       "    }\n",
       "</style>\n",
       "<table border=\"1\" class=\"dataframe\">\n",
       "  <thead>\n",
       "    <tr style=\"text-align: right;\">\n",
       "      <th></th>\n",
       "      <th>count</th>\n",
       "    </tr>\n",
       "    <tr>\n",
       "      <th>floors</th>\n",
       "      <th></th>\n",
       "    </tr>\n",
       "  </thead>\n",
       "  <tbody>\n",
       "    <tr>\n",
       "      <th>1.0</th>\n",
       "      <td>10680</td>\n",
       "    </tr>\n",
       "    <tr>\n",
       "      <th>2.0</th>\n",
       "      <td>8241</td>\n",
       "    </tr>\n",
       "    <tr>\n",
       "      <th>1.5</th>\n",
       "      <td>1910</td>\n",
       "    </tr>\n",
       "    <tr>\n",
       "      <th>3.0</th>\n",
       "      <td>613</td>\n",
       "    </tr>\n",
       "    <tr>\n",
       "      <th>2.5</th>\n",
       "      <td>161</td>\n",
       "    </tr>\n",
       "    <tr>\n",
       "      <th>3.5</th>\n",
       "      <td>8</td>\n",
       "    </tr>\n",
       "  </tbody>\n",
       "</table>\n",
       "</div>"
      ],
      "text/plain": [
       "        count\n",
       "floors       \n",
       "1.0     10680\n",
       "2.0      8241\n",
       "1.5      1910\n",
       "3.0       613\n",
       "2.5       161\n",
       "3.5         8"
      ]
     },
     "execution_count": 10,
     "metadata": {},
     "output_type": "execute_result"
    }
   ],
   "source": [
    "floor_counts = df['floors'].value_counts().to_frame()\n",
    "floor_counts"
   ]
  },
  {
   "cell_type": "markdown",
   "id": "27b2a68d",
   "metadata": {
    "papermill": {
     "duration": 0.008369,
     "end_time": "2025-03-12T15:12:25.459789",
     "exception": false,
     "start_time": "2025-03-12T15:12:25.451420",
     "status": "completed"
    },
    "tags": []
   },
   "source": [
    "Determine whether houses with a waterfront view or without a waterfront view have more price outliers."
   ]
  },
  {
   "cell_type": "code",
   "execution_count": 11,
   "id": "c04d5460",
   "metadata": {
    "execution": {
     "iopub.execute_input": "2025-03-12T15:12:25.484433Z",
     "iopub.status.busy": "2025-03-12T15:12:25.483924Z",
     "iopub.status.idle": "2025-03-12T15:12:25.793142Z",
     "shell.execute_reply": "2025-03-12T15:12:25.791979Z"
    },
    "papermill": {
     "duration": 0.326808,
     "end_time": "2025-03-12T15:12:25.795073",
     "exception": false,
     "start_time": "2025-03-12T15:12:25.468265",
     "status": "completed"
    },
    "tags": []
   },
   "outputs": [
    {
     "data": {
      "image/png": "[encoded data removed]",
      "text/plain": [
       "<Figure size 1000x600 with 1 Axes>"
      ]
     },
     "metadata": {},
     "output_type": "display_data"
    }
   ],
   "source": [
    "# Set figure size for better visibility\n",
    "plt.figure(figsize=(10, 6))\n",
    "\n",
    "# Create boxplot\n",
    "sns.boxplot(x='waterfront', y='price', data=df)\n",
    "\n",
    "# Add title and labels\n",
    "plt.title('House Prices by Waterfront View')\n",
    "plt.xlabel('Waterfront (0=No, 1=Yes)')\n",
    "plt.ylabel('Price')\n",
    "\n",
    "# Show the plot\n",
    "plt.show()"
   ]
  },
  {
   "cell_type": "markdown",
   "id": "8a8d659e",
   "metadata": {
    "papermill": {
     "duration": 0.008747,
     "end_time": "2025-03-12T15:12:25.812731",
     "exception": false,
     "start_time": "2025-03-12T15:12:25.803984",
     "status": "completed"
    },
    "tags": []
   },
   "source": [
    "Determine if the feature sqft_above is negatively or positively correlated with price"
   ]
  },
  {
   "cell_type": "code",
   "execution_count": 12,
   "id": "8e669776",
   "metadata": {
    "execution": {
     "iopub.execute_input": "2025-03-12T15:12:25.831920Z",
     "iopub.status.busy": "2025-03-12T15:12:25.831463Z",
     "iopub.status.idle": "2025-03-12T15:12:27.008734Z",
     "shell.execute_reply": "2025-03-12T15:12:27.007400Z"
    },
    "papermill": {
     "duration": 1.189278,
     "end_time": "2025-03-12T15:12:27.011151",
     "exception": false,
     "start_time": "2025-03-12T15:12:25.821873",
     "status": "completed"
    },
    "tags": []
   },
   "outputs": [
    {
     "data": {
      "image/png": "[encoded data removed]",
      "text/plain": [
       "<Figure size 640x480 with 1 Axes>"
      ]
     },
     "metadata": {},
     "output_type": "display_data"
    }
   ],
   "source": [
    "# Create regplot\n",
    "sns.regplot(x='sqft_above', y='price', data=df)\n",
    "\n",
    "# Add title and labels\n",
    "plt.title('Relationship Between Square Footage Above Ground and House Price')\n",
    "plt.xlabel('Square Feet Above Ground (sqft_above)')\n",
    "plt.ylabel('Price ($)')\n",
    "\n",
    "# Show the plot\n",
    "plt.tight_layout()\n",
    "plt.show()"
   ]
  },
  {
   "cell_type": "markdown",
   "id": "31a7fe3a",
   "metadata": {
    "papermill": {
     "duration": 0.010157,
     "end_time": "2025-03-12T15:12:27.040946",
     "exception": false,
     "start_time": "2025-03-12T15:12:27.030789",
     "status": "completed"
    },
    "tags": []
   },
   "source": [
    "Find the feature other than price that is most correlated with price."
   ]
  },
  {
   "cell_type": "code",
   "execution_count": 13,
   "id": "99955c4c",
   "metadata": {
    "execution": {
     "iopub.execute_input": "2025-03-12T15:12:27.062501Z",
     "iopub.status.busy": "2025-03-12T15:12:27.062020Z",
     "iopub.status.idle": "2025-03-12T15:12:27.109631Z",
     "shell.execute_reply": "2025-03-12T15:12:27.108117Z"
    },
    "papermill": {
     "duration": 0.060552,
     "end_time": "2025-03-12T15:12:27.111540",
     "exception": false,
     "start_time": "2025-03-12T15:12:27.050988",
     "status": "completed"
    },
    "tags": []
   },
   "outputs": [
    {
     "name": "stdout",
     "output_type": "stream",
     "text": [
      "price            1.000000\n",
      "sqft_living      0.702035\n",
      "grade            0.667434\n",
      "sqft_above       0.605567\n",
      "sqft_living15    0.585379\n",
      "bathrooms        0.525738\n",
      "view             0.397293\n",
      "sqft_basement    0.323816\n",
      "bedrooms         0.308797\n",
      "lat              0.307003\n",
      "waterfront       0.266369\n",
      "floors           0.256794\n",
      "yr_renovated     0.126434\n",
      "sqft_lot         0.089661\n",
      "sqft_lot15       0.082447\n",
      "yr_built         0.054012\n",
      "condition        0.036362\n",
      "long             0.021626\n",
      "zipcode         -0.053203\n",
      "Name: price, dtype: float64\n"
     ]
    }
   ],
   "source": [
    "# Select only numeric columns\n",
    "numeric_df = df.select_dtypes(include=['float64', 'int64'])\n",
    "\n",
    "# Calculate correlation\n",
    "correlation_matrix = numeric_df.corr()\n",
    "\n",
    "# Sort correlations with price\n",
    "price_correlations = correlation_matrix['price'].sort_values(ascending=False)\n",
    "\n",
    "# Display results\n",
    "print(price_correlations)"
   ]
  },
  {
   "cell_type": "markdown",
   "id": "9c914349",
   "metadata": {
    "papermill": {
     "duration": 0.010296,
     "end_time": "2025-03-12T15:12:27.132641",
     "exception": false,
     "start_time": "2025-03-12T15:12:27.122345",
     "status": "completed"
    },
    "tags": []
   },
   "source": [
    "# Module 4: Model Development"
   ]
  },
  {
   "cell_type": "markdown",
   "id": "ea74670c",
   "metadata": {
    "papermill": {
     "duration": 0.0102,
     "end_time": "2025-03-12T15:12:27.153436",
     "exception": false,
     "start_time": "2025-03-12T15:12:27.143236",
     "status": "completed"
    },
    "tags": []
   },
   "source": [
    "Feature 'long' and caculate the R^2"
   ]
  },
  {
   "cell_type": "code",
   "execution_count": 14,
   "id": "1221a3a4",
   "metadata": {
    "execution": {
     "iopub.execute_input": "2025-03-12T15:12:27.180302Z",
     "iopub.status.busy": "2025-03-12T15:12:27.179753Z",
     "iopub.status.idle": "2025-03-12T15:12:27.216701Z",
     "shell.execute_reply": "2025-03-12T15:12:27.215323Z"
    },
    "papermill": {
     "duration": 0.054712,
     "end_time": "2025-03-12T15:12:27.218684",
     "exception": false,
     "start_time": "2025-03-12T15:12:27.163972",
     "status": "completed"
    },
    "tags": []
   },
   "outputs": [
    {
     "name": "stdout",
     "output_type": "stream",
     "text": [
      "R² score: 0.00046769430149007363\n"
     ]
    }
   ],
   "source": [
    "X = df[['long']]\n",
    "Y = df['price']\n",
    "lm = LinearRegression()\n",
    "lm.fit(X,Y)\n",
    "r_squared = lm.score(X, Y)\n",
    "print(f\"R² score: {r_squared}\")"
   ]
  },
  {
   "cell_type": "markdown",
   "id": "7c9c0ff2",
   "metadata": {
    "papermill": {
     "duration": 0.010114,
     "end_time": "2025-03-12T15:12:27.240116",
     "exception": false,
     "start_time": "2025-03-12T15:12:27.230002",
     "status": "completed"
    },
    "tags": []
   },
   "source": [
    "predict the 'price' using the feature 'sqft_living' then calculate the R^2"
   ]
  },
  {
   "cell_type": "code",
   "execution_count": 15,
   "id": "7120f5e4",
   "metadata": {
    "execution": {
     "iopub.execute_input": "2025-03-12T15:12:27.263653Z",
     "iopub.status.busy": "2025-03-12T15:12:27.263243Z",
     "iopub.status.idle": "2025-03-12T15:12:27.276942Z",
     "shell.execute_reply": "2025-03-12T15:12:27.275507Z"
    },
    "papermill": {
     "duration": 0.027406,
     "end_time": "2025-03-12T15:12:27.278924",
     "exception": false,
     "start_time": "2025-03-12T15:12:27.251518",
     "status": "completed"
    },
    "tags": []
   },
   "outputs": [
    {
     "name": "stdout",
     "output_type": "stream",
     "text": [
      "R² score: 0.4928532179037931\n"
     ]
    }
   ],
   "source": [
    "# Prepare data: X needs to be 2D array, hence the double brackets\n",
    "X = df[['sqft_living']]\n",
    "y = df['price']\n",
    "\n",
    "# Create and fit the model\n",
    "model = LinearRegression()\n",
    "model.fit(X, y)\n",
    "\n",
    "# Calculate R² score\n",
    "r_squared = model.score(X, y)\n",
    "print(f\"R² score: {r_squared}\")"
   ]
  },
  {
   "cell_type": "markdown",
   "id": "48171bd7",
   "metadata": {
    "papermill": {
     "duration": 0.010815,
     "end_time": "2025-03-12T15:12:27.302852",
     "exception": false,
     "start_time": "2025-03-12T15:12:27.292037",
     "status": "completed"
    },
    "tags": []
   },
   "source": [
    "predict the 'price' using a list of features"
   ]
  },
  {
   "cell_type": "code",
   "execution_count": 16,
   "id": "24a0ecbb",
   "metadata": {
    "execution": {
     "iopub.execute_input": "2025-03-12T15:12:27.326170Z",
     "iopub.status.busy": "2025-03-12T15:12:27.325771Z",
     "iopub.status.idle": "2025-03-12T15:12:27.330580Z",
     "shell.execute_reply": "2025-03-12T15:12:27.329337Z"
    },
    "papermill": {
     "duration": 0.018786,
     "end_time": "2025-03-12T15:12:27.332681",
     "exception": false,
     "start_time": "2025-03-12T15:12:27.313895",
     "status": "completed"
    },
    "tags": []
   },
   "outputs": [],
   "source": [
    "features =[\"floors\", \"waterfront\",\"lat\" ,\"bedrooms\" ,\"sqft_basement\" ,\"view\" ,\"bathrooms\",\"sqft_living15\",\"sqft_above\",\"grade\",\"sqft_living\"]    "
   ]
  },
  {
   "cell_type": "code",
   "execution_count": 17,
   "id": "945ffaf4",
   "metadata": {
    "execution": {
     "iopub.execute_input": "2025-03-12T15:12:27.359653Z",
     "iopub.status.busy": "2025-03-12T15:12:27.359127Z",
     "iopub.status.idle": "2025-03-12T15:12:27.415775Z",
     "shell.execute_reply": "2025-03-12T15:12:27.414619Z"
    },
    "papermill": {
     "duration": 0.070365,
     "end_time": "2025-03-12T15:12:27.417691",
     "exception": false,
     "start_time": "2025-03-12T15:12:27.347326",
     "status": "completed"
    },
    "tags": []
   },
   "outputs": [
    {
     "name": "stdout",
     "output_type": "stream",
     "text": [
      "R² score: 0.6576913270233171\n"
     ]
    }
   ],
   "source": [
    "# Prepare the feature matrix X and target variable y\n",
    "X = df[features]  # Use all features in the list\n",
    "y = df['price']\n",
    "\n",
    "# Create and fit the model\n",
    "model = LinearRegression()\n",
    "model.fit(X, y)\n",
    "\n",
    "# Calculate R² score\n",
    "r_squared = model.score(X, y)\n",
    "print(f\"R² score: {r_squared}\")"
   ]
  },
  {
   "cell_type": "code",
   "execution_count": 18,
   "id": "402af356",
   "metadata": {
    "execution": {
     "iopub.execute_input": "2025-03-12T15:12:27.442497Z",
     "iopub.status.busy": "2025-03-12T15:12:27.442142Z",
     "iopub.status.idle": "2025-03-12T15:12:27.633447Z",
     "shell.execute_reply": "2025-03-12T15:12:27.632022Z"
    },
    "papermill": {
     "duration": 0.205077,
     "end_time": "2025-03-12T15:12:27.635341",
     "exception": false,
     "start_time": "2025-03-12T15:12:27.430264",
     "status": "completed"
    },
    "tags": []
   },
   "outputs": [
    {
     "name": "stdout",
     "output_type": "stream",
     "text": [
      "R² score: 0.7507441092811101\n"
     ]
    }
   ],
   "source": [
    "# Define the pipeline steps\n",
    "Input = [\n",
    "    ('scale', StandardScaler()),\n",
    "    ('polynomial', PolynomialFeatures(include_bias=False)),\n",
    "    ('model', LinearRegression())\n",
    "]\n",
    "\n",
    "# Create the pipeline\n",
    "pipeline = Pipeline(Input)\n",
    "\n",
    "# Prepare data\n",
    "X = df[features]\n",
    "y = df['price']\n",
    "\n",
    "# Fit the pipeline\n",
    "pipeline.fit(X, y)\n",
    "\n",
    "# Calculate R² score\n",
    "r_squared = pipeline.score(X, y)\n",
    "print(f\"R² score: {r_squared}\")"
   ]
  },
  {
   "cell_type": "markdown",
   "id": "6d369fb3",
   "metadata": {
    "papermill": {
     "duration": 0.010329,
     "end_time": "2025-03-12T15:12:27.656177",
     "exception": false,
     "start_time": "2025-03-12T15:12:27.645848",
     "status": "completed"
    },
    "tags": []
   },
   "source": [
    "# Module 5: Model Evaluation and Refinement"
   ]
  },
  {
   "cell_type": "code",
   "execution_count": 19,
   "id": "205a7b5b",
   "metadata": {
    "execution": {
     "iopub.execute_input": "2025-03-12T15:12:27.677970Z",
     "iopub.status.busy": "2025-03-12T15:12:27.677547Z",
     "iopub.status.idle": "2025-03-12T15:12:27.683254Z",
     "shell.execute_reply": "2025-03-12T15:12:27.681983Z"
    },
    "papermill": {
     "duration": 0.01864,
     "end_time": "2025-03-12T15:12:27.685085",
     "exception": false,
     "start_time": "2025-03-12T15:12:27.666445",
     "status": "completed"
    },
    "tags": []
   },
   "outputs": [
    {
     "name": "stdout",
     "output_type": "stream",
     "text": [
      "done\n"
     ]
    }
   ],
   "source": [
    "from sklearn.model_selection import cross_val_score\n",
    "from sklearn.model_selection import train_test_split\n",
    "print(\"done\")"
   ]
  },
  {
   "cell_type": "markdown",
   "id": "00d57e46",
   "metadata": {
    "papermill": {
     "duration": 0.010142,
     "end_time": "2025-03-12T15:12:27.706103",
     "exception": false,
     "start_time": "2025-03-12T15:12:27.695961",
     "status": "completed"
    },
    "tags": []
   },
   "source": [
    "split the data into training and testing sets:"
   ]
  },
  {
   "cell_type": "code",
   "execution_count": 20,
   "id": "866e5ff3",
   "metadata": {
    "execution": {
     "iopub.execute_input": "2025-03-12T15:12:27.729364Z",
     "iopub.status.busy": "2025-03-12T15:12:27.728872Z",
     "iopub.status.idle": "2025-03-12T15:12:27.744621Z",
     "shell.execute_reply": "2025-03-12T15:12:27.743248Z"
    },
    "papermill": {
     "duration": 0.029803,
     "end_time": "2025-03-12T15:12:27.746803",
     "exception": false,
     "start_time": "2025-03-12T15:12:27.717000",
     "status": "completed"
    },
    "tags": []
   },
   "outputs": [
    {
     "name": "stdout",
     "output_type": "stream",
     "text": [
      "number of test samples: 3242\n",
      "number of training samples: 18371\n"
     ]
    }
   ],
   "source": [
    "features = [\"floors\", \"waterfront\", \"lat\", \"bedrooms\", \"sqft_basement\", \"view\", \"bathrooms\", \"sqft_living15\", \"sqft_above\", \"grade\", \"sqft_living\"]\n",
    "X = df[features]\n",
    "Y = df['price']\n",
    "\n",
    "X_train, X_test, y_train, y_test = train_test_split(X, Y, test_size=0.15, random_state=1)\n",
    "\n",
    "print(\"number of test samples:\", X_test.shape[0])\n",
    "print(\"number of training samples:\", X_train.shape[0])"
   ]
  },
  {
   "cell_type": "code",
   "execution_count": 21,
   "id": "5d15ba9b",
   "metadata": {
    "execution": {
     "iopub.execute_input": "2025-03-12T15:12:27.769594Z",
     "iopub.status.busy": "2025-03-12T15:12:27.769115Z",
     "iopub.status.idle": "2025-03-12T15:12:27.792263Z",
     "shell.execute_reply": "2025-03-12T15:12:27.790772Z"
    },
    "papermill": {
     "duration": 0.036598,
     "end_time": "2025-03-12T15:12:27.794093",
     "exception": false,
     "start_time": "2025-03-12T15:12:27.757495",
     "status": "completed"
    },
    "tags": []
   },
   "outputs": [
    {
     "name": "stdout",
     "output_type": "stream",
     "text": [
      "Ridge Regression R² on test data: 0.6478759163939113\n"
     ]
    }
   ],
   "source": [
    "from sklearn.linear_model import Ridge\n",
    "\n",
    "# Create a Ridge regression object with alpha=0.1\n",
    "ridge_model = Ridge(alpha=0.1)\n",
    "\n",
    "# Fit the model using the training data\n",
    "ridge_model.fit(X_train, y_train)\n",
    "\n",
    "# Calculate R^2 using the test data\n",
    "r_squared = ridge_model.score(X_test, y_test)\n",
    "print(f\"Ridge Regression R² on test data: {r_squared}\")"
   ]
  },
  {
   "cell_type": "code",
   "execution_count": 22,
   "id": "eb7e1360",
   "metadata": {
    "execution": {
     "iopub.execute_input": "2025-03-12T15:12:27.816648Z",
     "iopub.status.busy": "2025-03-12T15:12:27.816286Z",
     "iopub.status.idle": "2025-03-12T15:12:27.939323Z",
     "shell.execute_reply": "2025-03-12T15:12:27.938013Z"
    },
    "papermill": {
     "duration": 0.136626,
     "end_time": "2025-03-12T15:12:27.941342",
     "exception": false,
     "start_time": "2025-03-12T15:12:27.804716",
     "status": "completed"
    },
    "tags": []
   },
   "outputs": [
    {
     "name": "stdout",
     "output_type": "stream",
     "text": [
      "Ridge Regression with Polynomial Features R² on test data: 0.7002744280687769\n"
     ]
    }
   ],
   "source": [
    "# Create a polynomial transformer for second-order features\n",
    "poly = PolynomialFeatures(degree=2)\n",
    "\n",
    "# Transform both training and testing data\n",
    "X_train_poly = poly.fit_transform(X_train)\n",
    "X_test_poly = poly.transform(X_test)\n",
    "\n",
    "# Create Ridge model with alpha=0.1\n",
    "ridge_model = Ridge(alpha=0.1)\n",
    "\n",
    "# Fit the model on polynomial-transformed training data\n",
    "ridge_model.fit(X_train_poly, y_train)\n",
    "\n",
    "# Calculate R² on polynomial-transformed test data\n",
    "r_squared = ridge_model.score(X_test_poly, y_test)\n",
    "print(f\"Ridge Regression with Polynomial Features R² on test data: {r_squared}\")"
   ]
  }
 ],
 "metadata": {
  "kaggle": {
   "accelerator": "none",
   "dataSources": [
    {
     "datasetId": 128,
     "sourceId": 270,
     "sourceType": "datasetVersion"
    }
   ],
   "dockerImageVersionId": 30918,
   "isGpuEnabled": false,
   "isInternetEnabled": true,
   "language": "python",
   "sourceType": "notebook"
  },
  "kernelspec": {
   "display_name": "Python 3",
   "language": "python",
   "name": "python3"
  },
  "language_info": {
   "codemirror_mode": {
    "name": "ipython",
    "version": 3
   },
   "file_extension": ".py",
   "mimetype": "text/x-python",
   "name": "python",
   "nbconvert_exporter": "python",
   "pygments_lexer": "ipython3",
   "version": "3.10.12"
  },
  "papermill": {
   "default_parameters": {},
   "duration": 10.940841,
   "end_time": "2025-03-12T15:12:28.772690",
   "environment_variables": {},
   "exception": null,
   "input_path": "__notebook__.ipynb",
   "output_path": "__notebook__.ipynb",
   "parameters": {},
   "start_time": "2025-03-12T15:12:17.831849",
   "version": "2.6.0"
  }
 },
 "nbformat": 4,
 "nbformat_minor": 5
}
