{
 "cells": [
  {
   "cell_type": "markdown",
   "id": "0b69f809",
   "metadata": {
    "papermill": {
     "duration": 0.0098,
     "end_time": "2024-10-03T12:35:39.860189",
     "exception": false,
     "start_time": "2024-10-03T12:35:39.850389",
     "status": "completed"
    },
    "tags": []
   },
   "source": [
    "# Introduction\n",
    "\n",
    "In herer I will construct my own XGBoost classification model. I will be presenting a business scenario and a dataset to build on the skills and techniques I learned in the Decision Tree and Random Forest lessons. I will practice training, tuning, and evaluation an XGBoost model and compare its performance to previous models' to decide which model is best. "
   ]
  },
  {
   "cell_type": "markdown",
   "id": "7ca96a16",
   "metadata": {
    "papermill": {
     "duration": 0.008179,
     "end_time": "2024-10-03T12:35:39.877002",
     "exception": false,
     "start_time": "2024-10-03T12:35:39.868823",
     "status": "completed"
    },
    "tags": []
   },
   "source": [
    "**Data Dictionary**\n",
    "\n",
    "This activity uses a dataset called \n",
    "*Invistico_Airline.csv*\n",
    ". It represents the details of customer feedback for Invistico Airlines (a fictional name). \n",
    "\n",
    "**The dataset contains**: 23 columns of customer feedback, each row representing one customer’s responses.\n",
    "\n",
    "**The dataset contains**:\n",
    "\n",
    "129,880 rows – each row is a different customer response \n",
    "\n",
    "23 columns"
   ]
  },
  {
   "cell_type": "markdown",
   "id": "5068a43d",
   "metadata": {
    "papermill": {
     "duration": 0.008117,
     "end_time": "2024-10-03T12:35:39.893579",
     "exception": false,
     "start_time": "2024-10-03T12:35:39.885462",
     "status": "completed"
    },
    "tags": []
   },
   "source": [
    "# Step 1: Imports\n",
    "\n",
    "**Import packages**\n",
    "\n",
    "Import *pandas, numpy*, and *matplotlib* for data preparation. Import *scikit-learn* (sklearn) for model preparation and evaluation. And, import *xgboost*, which provides the classification algorithm to implement to formulate of my predictive model."
   ]
  },
  {
   "cell_type": "code",
   "execution_count": 1,
   "id": "ff7c6ec8",
   "metadata": {
    "execution": {
     "iopub.execute_input": "2024-10-03T12:35:39.912210Z",
     "iopub.status.busy": "2024-10-03T12:35:39.911773Z",
     "iopub.status.idle": "2024-10-03T12:35:42.317921Z",
     "shell.execute_reply": "2024-10-03T12:35:42.316910Z"
    },
    "papermill": {
     "duration": 2.418953,
     "end_time": "2024-10-03T12:35:42.320986",
     "exception": false,
     "start_time": "2024-10-03T12:35:39.902033",
     "status": "completed"
    },
    "tags": []
   },
   "outputs": [],
   "source": [
    "# Import relevant libraries and modules.\n",
    "\n",
    "import numpy as np\n",
    "import pandas as pd\n",
    "\n",
    "# This is the classifier\n",
    "from xgboost import XGBClassifier\n",
    "\n",
    "# This is the function that helps plot feature importance \n",
    "from xgboost import plot_importance\n",
    "\n",
    "from sklearn.model_selection import GridSearchCV, train_test_split\n",
    "from sklearn.metrics import accuracy_score, precision_score, recall_score,\\\n",
    "f1_score, confusion_matrix, ConfusionMatrixDisplay, RocCurveDisplay\n",
    "\n",
    "import matplotlib.pyplot as plt\n",
    "\n",
    "# This displays all of the columns, preventing Juptyer from redacting them.\n",
    "pd.set_option('display.max_columns', None)\n",
    "\n",
    "# This module lets us save our models once we fit them.\n",
    "import pickle"
   ]
  },
  {
   "cell_type": "markdown",
   "id": "8e13a338",
   "metadata": {
    "papermill": {
     "duration": 0.008418,
     "end_time": "2024-10-03T12:35:42.338291",
     "exception": false,
     "start_time": "2024-10-03T12:35:42.329873",
     "status": "completed"
    },
    "tags": []
   },
   "source": [
    "**Load the dataset**\n",
    "\n",
    "To formulate your model, *pandas* is used to import a csv of airline passenger satisfaction data called *Invistico_Airline.csv*. This DataFrame is called *airline_data*."
   ]
  },
  {
   "cell_type": "code",
   "execution_count": 2,
   "id": "ce68199b",
   "metadata": {
    "execution": {
     "iopub.execute_input": "2024-10-03T12:35:42.358265Z",
     "iopub.status.busy": "2024-10-03T12:35:42.357723Z",
     "iopub.status.idle": "2024-10-03T12:35:42.960847Z",
     "shell.execute_reply": "2024-10-03T12:35:42.959733Z"
    },
    "papermill": {
     "duration": 0.616888,
     "end_time": "2024-10-03T12:35:42.963708",
     "exception": false,
     "start_time": "2024-10-03T12:35:42.346820",
     "status": "completed"
    },
    "tags": []
   },
   "outputs": [],
   "source": [
    "airline_data = pd.read_csv('/kaggle/input/aviation-satisfaction-data/Invistico_Airline.csv')"
   ]
  },
  {
   "cell_type": "markdown",
   "id": "a6e12989",
   "metadata": {
    "papermill": {
     "duration": 0.008395,
     "end_time": "2024-10-03T12:35:42.980720",
     "exception": false,
     "start_time": "2024-10-03T12:35:42.972325",
     "status": "completed"
    },
    "tags": []
   },
   "source": [
    "**Display the data**\n",
    "\n",
    "Examine the first 10 rows of data."
   ]
  },
  {
   "cell_type": "code",
   "execution_count": 3,
   "id": "fb956b99",
   "metadata": {
    "execution": {
     "iopub.execute_input": "2024-10-03T12:35:42.999878Z",
     "iopub.status.busy": "2024-10-03T12:35:42.999434Z",
     "iopub.status.idle": "2024-10-03T12:35:43.036631Z",
     "shell.execute_reply": "2024-10-03T12:35:43.035465Z"
    },
    "papermill": {
     "duration": 0.050003,
     "end_time": "2024-10-03T12:35:43.039477",
     "exception": false,
     "start_time": "2024-10-03T12:35:42.989474",
     "status": "completed"
    },
    "tags": []
   },
   "outputs": [
    {
     "data": {
      "text/html": [
       "<div>\n",
       "<style scoped>\n",
       "    .dataframe tbody tr th:only-of-type {\n",
       "        vertical-align: middle;\n",
       "    }\n",
       "\n",
       "    .dataframe tbody tr th {\n",
       "        vertical-align: top;\n",
       "    }\n",
       "\n",
       "    .dataframe thead th {\n",
       "        text-align: right;\n",
       "    }\n",
       "</style>\n",
       "<table border=\"1\" class=\"dataframe\">\n",
       "  <thead>\n",
       "    <tr style=\"text-align: right;\">\n",
       "      <th></th>\n",
       "      <th>satisfaction</th>\n",
       "      <th>Customer Type</th>\n",
       "      <th>Age</th>\n",
       "      <th>Type of Travel</th>\n",
       "      <th>Class</th>\n",
       "      <th>Flight Distance</th>\n",
       "      <th>Seat comfort</th>\n",
       "      <th>Departure/Arrival time convenient</th>\n",
       "      <th>Food and drink</th>\n",
       "      <th>Gate location</th>\n",
       "      <th>Inflight wifi service</th>\n",
       "      <th>Inflight entertainment</th>\n",
       "      <th>Online support</th>\n",
       "      <th>Ease of Online booking</th>\n",
       "      <th>On-board service</th>\n",
       "      <th>Leg room service</th>\n",
       "      <th>Baggage handling</th>\n",
       "      <th>Checkin service</th>\n",
       "      <th>Cleanliness</th>\n",
       "      <th>Online boarding</th>\n",
       "      <th>Departure Delay in Minutes</th>\n",
       "      <th>Arrival Delay in Minutes</th>\n",
       "    </tr>\n",
       "  </thead>\n",
       "  <tbody>\n",
       "    <tr>\n",
       "      <th>0</th>\n",
       "      <td>satisfied</td>\n",
       "      <td>Loyal Customer</td>\n",
       "      <td>65</td>\n",
       "      <td>Personal Travel</td>\n",
       "      <td>Eco</td>\n",
       "      <td>265</td>\n",
       "      <td>0</td>\n",
       "      <td>0</td>\n",
       "      <td>0</td>\n",
       "      <td>2</td>\n",
       "      <td>2</td>\n",
       "      <td>4</td>\n",
       "      <td>2</td>\n",
       "      <td>3</td>\n",
       "      <td>3</td>\n",
       "      <td>0</td>\n",
       "      <td>3</td>\n",
       "      <td>5</td>\n",
       "      <td>3</td>\n",
       "      <td>2</td>\n",
       "      <td>0</td>\n",
       "      <td>0.0</td>\n",
       "    </tr>\n",
       "    <tr>\n",
       "      <th>1</th>\n",
       "      <td>satisfied</td>\n",
       "      <td>Loyal Customer</td>\n",
       "      <td>47</td>\n",
       "      <td>Personal Travel</td>\n",
       "      <td>Business</td>\n",
       "      <td>2464</td>\n",
       "      <td>0</td>\n",
       "      <td>0</td>\n",
       "      <td>0</td>\n",
       "      <td>3</td>\n",
       "      <td>0</td>\n",
       "      <td>2</td>\n",
       "      <td>2</td>\n",
       "      <td>3</td>\n",
       "      <td>4</td>\n",
       "      <td>4</td>\n",
       "      <td>4</td>\n",
       "      <td>2</td>\n",
       "      <td>3</td>\n",
       "      <td>2</td>\n",
       "      <td>310</td>\n",
       "      <td>305.0</td>\n",
       "    </tr>\n",
       "    <tr>\n",
       "      <th>2</th>\n",
       "      <td>satisfied</td>\n",
       "      <td>Loyal Customer</td>\n",
       "      <td>15</td>\n",
       "      <td>Personal Travel</td>\n",
       "      <td>Eco</td>\n",
       "      <td>2138</td>\n",
       "      <td>0</td>\n",
       "      <td>0</td>\n",
       "      <td>0</td>\n",
       "      <td>3</td>\n",
       "      <td>2</td>\n",
       "      <td>0</td>\n",
       "      <td>2</td>\n",
       "      <td>2</td>\n",
       "      <td>3</td>\n",
       "      <td>3</td>\n",
       "      <td>4</td>\n",
       "      <td>4</td>\n",
       "      <td>4</td>\n",
       "      <td>2</td>\n",
       "      <td>0</td>\n",
       "      <td>0.0</td>\n",
       "    </tr>\n",
       "    <tr>\n",
       "      <th>3</th>\n",
       "      <td>satisfied</td>\n",
       "      <td>Loyal Customer</td>\n",
       "      <td>60</td>\n",
       "      <td>Personal Travel</td>\n",
       "      <td>Eco</td>\n",
       "      <td>623</td>\n",
       "      <td>0</td>\n",
       "      <td>0</td>\n",
       "      <td>0</td>\n",
       "      <td>3</td>\n",
       "      <td>3</td>\n",
       "      <td>4</td>\n",
       "      <td>3</td>\n",
       "      <td>1</td>\n",
       "      <td>1</td>\n",
       "      <td>0</td>\n",
       "      <td>1</td>\n",
       "      <td>4</td>\n",
       "      <td>1</td>\n",
       "      <td>3</td>\n",
       "      <td>0</td>\n",
       "      <td>0.0</td>\n",
       "    </tr>\n",
       "    <tr>\n",
       "      <th>4</th>\n",
       "      <td>satisfied</td>\n",
       "      <td>Loyal Customer</td>\n",
       "      <td>70</td>\n",
       "      <td>Personal Travel</td>\n",
       "      <td>Eco</td>\n",
       "      <td>354</td>\n",
       "      <td>0</td>\n",
       "      <td>0</td>\n",
       "      <td>0</td>\n",
       "      <td>3</td>\n",
       "      <td>4</td>\n",
       "      <td>3</td>\n",
       "      <td>4</td>\n",
       "      <td>2</td>\n",
       "      <td>2</td>\n",
       "      <td>0</td>\n",
       "      <td>2</td>\n",
       "      <td>4</td>\n",
       "      <td>2</td>\n",
       "      <td>5</td>\n",
       "      <td>0</td>\n",
       "      <td>0.0</td>\n",
       "    </tr>\n",
       "    <tr>\n",
       "      <th>5</th>\n",
       "      <td>satisfied</td>\n",
       "      <td>Loyal Customer</td>\n",
       "      <td>30</td>\n",
       "      <td>Personal Travel</td>\n",
       "      <td>Eco</td>\n",
       "      <td>1894</td>\n",
       "      <td>0</td>\n",
       "      <td>0</td>\n",
       "      <td>0</td>\n",
       "      <td>3</td>\n",
       "      <td>2</td>\n",
       "      <td>0</td>\n",
       "      <td>2</td>\n",
       "      <td>2</td>\n",
       "      <td>5</td>\n",
       "      <td>4</td>\n",
       "      <td>5</td>\n",
       "      <td>5</td>\n",
       "      <td>4</td>\n",
       "      <td>2</td>\n",
       "      <td>0</td>\n",
       "      <td>0.0</td>\n",
       "    </tr>\n",
       "    <tr>\n",
       "      <th>6</th>\n",
       "      <td>satisfied</td>\n",
       "      <td>Loyal Customer</td>\n",
       "      <td>66</td>\n",
       "      <td>Personal Travel</td>\n",
       "      <td>Eco</td>\n",
       "      <td>227</td>\n",
       "      <td>0</td>\n",
       "      <td>0</td>\n",
       "      <td>0</td>\n",
       "      <td>3</td>\n",
       "      <td>2</td>\n",
       "      <td>5</td>\n",
       "      <td>5</td>\n",
       "      <td>5</td>\n",
       "      <td>5</td>\n",
       "      <td>0</td>\n",
       "      <td>5</td>\n",
       "      <td>5</td>\n",
       "      <td>5</td>\n",
       "      <td>3</td>\n",
       "      <td>17</td>\n",
       "      <td>15.0</td>\n",
       "    </tr>\n",
       "    <tr>\n",
       "      <th>7</th>\n",
       "      <td>satisfied</td>\n",
       "      <td>Loyal Customer</td>\n",
       "      <td>10</td>\n",
       "      <td>Personal Travel</td>\n",
       "      <td>Eco</td>\n",
       "      <td>1812</td>\n",
       "      <td>0</td>\n",
       "      <td>0</td>\n",
       "      <td>0</td>\n",
       "      <td>3</td>\n",
       "      <td>2</td>\n",
       "      <td>0</td>\n",
       "      <td>2</td>\n",
       "      <td>2</td>\n",
       "      <td>3</td>\n",
       "      <td>3</td>\n",
       "      <td>4</td>\n",
       "      <td>5</td>\n",
       "      <td>4</td>\n",
       "      <td>2</td>\n",
       "      <td>0</td>\n",
       "      <td>0.0</td>\n",
       "    </tr>\n",
       "    <tr>\n",
       "      <th>8</th>\n",
       "      <td>satisfied</td>\n",
       "      <td>Loyal Customer</td>\n",
       "      <td>56</td>\n",
       "      <td>Personal Travel</td>\n",
       "      <td>Business</td>\n",
       "      <td>73</td>\n",
       "      <td>0</td>\n",
       "      <td>0</td>\n",
       "      <td>0</td>\n",
       "      <td>3</td>\n",
       "      <td>5</td>\n",
       "      <td>3</td>\n",
       "      <td>5</td>\n",
       "      <td>4</td>\n",
       "      <td>4</td>\n",
       "      <td>0</td>\n",
       "      <td>1</td>\n",
       "      <td>5</td>\n",
       "      <td>4</td>\n",
       "      <td>4</td>\n",
       "      <td>0</td>\n",
       "      <td>0.0</td>\n",
       "    </tr>\n",
       "    <tr>\n",
       "      <th>9</th>\n",
       "      <td>satisfied</td>\n",
       "      <td>Loyal Customer</td>\n",
       "      <td>22</td>\n",
       "      <td>Personal Travel</td>\n",
       "      <td>Eco</td>\n",
       "      <td>1556</td>\n",
       "      <td>0</td>\n",
       "      <td>0</td>\n",
       "      <td>0</td>\n",
       "      <td>3</td>\n",
       "      <td>2</td>\n",
       "      <td>0</td>\n",
       "      <td>2</td>\n",
       "      <td>2</td>\n",
       "      <td>2</td>\n",
       "      <td>4</td>\n",
       "      <td>5</td>\n",
       "      <td>3</td>\n",
       "      <td>4</td>\n",
       "      <td>2</td>\n",
       "      <td>30</td>\n",
       "      <td>26.0</td>\n",
       "    </tr>\n",
       "  </tbody>\n",
       "</table>\n",
       "</div>"
      ],
      "text/plain": [
       "  satisfaction   Customer Type  Age   Type of Travel     Class  \\\n",
       "0    satisfied  Loyal Customer   65  Personal Travel       Eco   \n",
       "1    satisfied  Loyal Customer   47  Personal Travel  Business   \n",
       "2    satisfied  Loyal Customer   15  Personal Travel       Eco   \n",
       "3    satisfied  Loyal Customer   60  Personal Travel       Eco   \n",
       "4    satisfied  Loyal Customer   70  Personal Travel       Eco   \n",
       "5    satisfied  Loyal Customer   30  Personal Travel       Eco   \n",
       "6    satisfied  Loyal Customer   66  Personal Travel       Eco   \n",
       "7    satisfied  Loyal Customer   10  Personal Travel       Eco   \n",
       "8    satisfied  Loyal Customer   56  Personal Travel  Business   \n",
       "9    satisfied  Loyal Customer   22  Personal Travel       Eco   \n",
       "\n",
       "   Flight Distance  Seat comfort  Departure/Arrival time convenient  \\\n",
       "0              265             0                                  0   \n",
       "1             2464             0                                  0   \n",
       "2             2138             0                                  0   \n",
       "3              623             0                                  0   \n",
       "4              354             0                                  0   \n",
       "5             1894             0                                  0   \n",
       "6              227             0                                  0   \n",
       "7             1812             0                                  0   \n",
       "8               73             0                                  0   \n",
       "9             1556             0                                  0   \n",
       "\n",
       "   Food and drink  Gate location  Inflight wifi service  \\\n",
       "0               0              2                      2   \n",
       "1               0              3                      0   \n",
       "2               0              3                      2   \n",
       "3               0              3                      3   \n",
       "4               0              3                      4   \n",
       "5               0              3                      2   \n",
       "6               0              3                      2   \n",
       "7               0              3                      2   \n",
       "8               0              3                      5   \n",
       "9               0              3                      2   \n",
       "\n",
       "   Inflight entertainment  Online support  Ease of Online booking  \\\n",
       "0                       4               2                       3   \n",
       "1                       2               2                       3   \n",
       "2                       0               2                       2   \n",
       "3                       4               3                       1   \n",
       "4                       3               4                       2   \n",
       "5                       0               2                       2   \n",
       "6                       5               5                       5   \n",
       "7                       0               2                       2   \n",
       "8                       3               5                       4   \n",
       "9                       0               2                       2   \n",
       "\n",
       "   On-board service  Leg room service  Baggage handling  Checkin service  \\\n",
       "0                 3                 0                 3                5   \n",
       "1                 4                 4                 4                2   \n",
       "2                 3                 3                 4                4   \n",
       "3                 1                 0                 1                4   \n",
       "4                 2                 0                 2                4   \n",
       "5                 5                 4                 5                5   \n",
       "6                 5                 0                 5                5   \n",
       "7                 3                 3                 4                5   \n",
       "8                 4                 0                 1                5   \n",
       "9                 2                 4                 5                3   \n",
       "\n",
       "   Cleanliness  Online boarding  Departure Delay in Minutes  \\\n",
       "0            3                2                           0   \n",
       "1            3                2                         310   \n",
       "2            4                2                           0   \n",
       "3            1                3                           0   \n",
       "4            2                5                           0   \n",
       "5            4                2                           0   \n",
       "6            5                3                          17   \n",
       "7            4                2                           0   \n",
       "8            4                4                           0   \n",
       "9            4                2                          30   \n",
       "\n",
       "   Arrival Delay in Minutes  \n",
       "0                       0.0  \n",
       "1                     305.0  \n",
       "2                       0.0  \n",
       "3                       0.0  \n",
       "4                       0.0  \n",
       "5                       0.0  \n",
       "6                      15.0  \n",
       "7                       0.0  \n",
       "8                       0.0  \n",
       "9                      26.0  "
      ]
     },
     "execution_count": 3,
     "metadata": {},
     "output_type": "execute_result"
    }
   ],
   "source": [
    "airline_data.head(10)"
   ]
  },
  {
   "cell_type": "markdown",
   "id": "2494ce33",
   "metadata": {
    "papermill": {
     "duration": 0.008864,
     "end_time": "2024-10-03T12:35:43.057735",
     "exception": false,
     "start_time": "2024-10-03T12:35:43.048871",
     "status": "completed"
    },
    "tags": []
   },
   "source": [
    "**Display the data type for each column**\n",
    "\n",
    "Observe the types of data present within this dataset."
   ]
  },
  {
   "cell_type": "code",
   "execution_count": 4,
   "id": "c32f1da8",
   "metadata": {
    "execution": {
     "iopub.execute_input": "2024-10-03T12:35:43.078435Z",
     "iopub.status.busy": "2024-10-03T12:35:43.077980Z",
     "iopub.status.idle": "2024-10-03T12:35:43.158852Z",
     "shell.execute_reply": "2024-10-03T12:35:43.157561Z"
    },
    "papermill": {
     "duration": 0.094369,
     "end_time": "2024-10-03T12:35:43.161632",
     "exception": false,
     "start_time": "2024-10-03T12:35:43.067263",
     "status": "completed"
    },
    "tags": []
   },
   "outputs": [
    {
     "name": "stdout",
     "output_type": "stream",
     "text": [
      "<class 'pandas.core.frame.DataFrame'>\n",
      "RangeIndex: 129880 entries, 0 to 129879\n",
      "Data columns (total 22 columns):\n",
      " #   Column                             Non-Null Count   Dtype  \n",
      "---  ------                             --------------   -----  \n",
      " 0   satisfaction                       129880 non-null  object \n",
      " 1   Customer Type                      129880 non-null  object \n",
      " 2   Age                                129880 non-null  int64  \n",
      " 3   Type of Travel                     129880 non-null  object \n",
      " 4   Class                              129880 non-null  object \n",
      " 5   Flight Distance                    129880 non-null  int64  \n",
      " 6   Seat comfort                       129880 non-null  int64  \n",
      " 7   Departure/Arrival time convenient  129880 non-null  int64  \n",
      " 8   Food and drink                     129880 non-null  int64  \n",
      " 9   Gate location                      129880 non-null  int64  \n",
      " 10  Inflight wifi service              129880 non-null  int64  \n",
      " 11  Inflight entertainment             129880 non-null  int64  \n",
      " 12  Online support                     129880 non-null  int64  \n",
      " 13  Ease of Online booking             129880 non-null  int64  \n",
      " 14  On-board service                   129880 non-null  int64  \n",
      " 15  Leg room service                   129880 non-null  int64  \n",
      " 16  Baggage handling                   129880 non-null  int64  \n",
      " 17  Checkin service                    129880 non-null  int64  \n",
      " 18  Cleanliness                        129880 non-null  int64  \n",
      " 19  Online boarding                    129880 non-null  int64  \n",
      " 20  Departure Delay in Minutes         129880 non-null  int64  \n",
      " 21  Arrival Delay in Minutes           129487 non-null  float64\n",
      "dtypes: float64(1), int64(17), object(4)\n",
      "memory usage: 21.8+ MB\n"
     ]
    }
   ],
   "source": [
    "airline_data.info()"
   ]
  },
  {
   "cell_type": "markdown",
   "id": "52228416",
   "metadata": {
    "papermill": {
     "duration": 0.009732,
     "end_time": "2024-10-03T12:35:43.180762",
     "exception": false,
     "start_time": "2024-10-03T12:35:43.171030",
     "status": "completed"
    },
    "tags": []
   },
   "source": [
    "The target (or predicted) variable for passenger satisfaction is **satisfaction**.\n",
    "\n",
    "Here are my initial hypotheses about which variables will be valuable in predicting satisfaction:\n",
    "\n",
    "* **Customer Type:** The type of customer (e.g., loyalty member, first-time flyer) may influence satisfaction.\n",
    "* **Class:** The class of service (e.g., economy, business, first) may affect satisfaction.\n",
    "* **Flight Distance:** Longer flights might lead to higher expectations and potentially lower satisfaction if not met.\n",
    "* **Seat comfort:** A comfortable seat is likely to contribute to higher satisfaction.\n",
    "* **Departure/Arrival time convenient:** If the flight times are convenient for the customer, they may be more satisfied.\n",
    "* **Food and drink:** The quality and variety of food and drink options could impact satisfaction.\n",
    "* **Inflight wifi service, Inflight entertainment, Online support:** These amenities could influence satisfaction, especially for long flights.\n",
    "* **On-board service, Leg room service, Baggage handling, Checkin service:** Good service in these areas could enhance satisfaction.\n",
    "* **Cleanliness:** A clean aircraft is likely to contribute to higher satisfaction.\n",
    "* **Online boarding:** A smooth online boarding experience could improve satisfaction.\n",
    "* **Departure Delay in Minutes, Arrival Delay in Minutes:** Delays could negatively impact satisfaction.\n",
    "\n",
    "It's important to note that these are just initial hypotheses, and the actual importance of each variable in predicting satisfaction will need to be determined through model training and evaluation.\n",
    "\n",
    "\n",
    "# Step 2: Model preparation\n",
    "\n",
    "**Prepare data for predictions**"
   ]
  },
  {
   "cell_type": "code",
   "execution_count": 5,
   "id": "d2e585a3",
   "metadata": {
    "execution": {
     "iopub.execute_input": "2024-10-03T12:35:43.201445Z",
     "iopub.status.busy": "2024-10-03T12:35:43.200980Z",
     "iopub.status.idle": "2024-10-03T12:35:43.294605Z",
     "shell.execute_reply": "2024-10-03T12:35:43.293645Z"
    },
    "papermill": {
     "duration": 0.107306,
     "end_time": "2024-10-03T12:35:43.297413",
     "exception": false,
     "start_time": "2024-10-03T12:35:43.190107",
     "status": "completed"
    },
    "tags": []
   },
   "outputs": [],
   "source": [
    "# Convert the object predictor variables to numerical dummies.\n",
    "\n",
    "airline_data_dummies = pd.get_dummies(airline_data, \n",
    "                                         columns=['satisfaction','Customer Type','Type of Travel','Class'])"
   ]
  },
  {
   "cell_type": "markdown",
   "id": "fbb142db",
   "metadata": {
    "papermill": {
     "duration": 0.008923,
     "end_time": "2024-10-03T12:35:43.315771",
     "exception": false,
     "start_time": "2024-10-03T12:35:43.306848",
     "status": "completed"
    },
    "tags": []
   },
   "source": [
    "**Isolate your target and predictor variables**\n",
    "\n",
    "Separately define the target variable (*satisfaction*) and the features."
   ]
  },
  {
   "cell_type": "code",
   "execution_count": 6,
   "id": "fd576a65",
   "metadata": {
    "execution": {
     "iopub.execute_input": "2024-10-03T12:35:43.335992Z",
     "iopub.status.busy": "2024-10-03T12:35:43.335572Z",
     "iopub.status.idle": "2024-10-03T12:35:43.345611Z",
     "shell.execute_reply": "2024-10-03T12:35:43.344707Z"
    },
    "papermill": {
     "duration": 0.023071,
     "end_time": "2024-10-03T12:35:43.348019",
     "exception": false,
     "start_time": "2024-10-03T12:35:43.324948",
     "status": "completed"
    },
    "tags": []
   },
   "outputs": [],
   "source": [
    "# Define the y (target) variable.\n",
    "\n",
    "y = airline_data_dummies['satisfaction_satisfied']\n",
    "\n",
    "# Define the X (predictor) variables.\n",
    "\n",
    "X = airline_data_dummies.drop(['satisfaction_satisfied','satisfaction_dissatisfied'], axis = 1)"
   ]
  },
  {
   "cell_type": "markdown",
   "id": "c22bcdd4",
   "metadata": {
    "papermill": {
     "duration": 0.009272,
     "end_time": "2024-10-03T12:35:43.367241",
     "exception": false,
     "start_time": "2024-10-03T12:35:43.357969",
     "status": "completed"
    },
    "tags": []
   },
   "source": [
    "**Divide your data**\n",
    "\n",
    "Divide data into a training set (75% of the data) and test set (25% of the data). This is an important step in the process, as it allows me to reserve a part of the data that the model has not used to test how well the model generalizes (or performs) on new data."
   ]
  },
  {
   "cell_type": "code",
   "execution_count": 7,
   "id": "f082e3c7",
   "metadata": {
    "execution": {
     "iopub.execute_input": "2024-10-03T12:35:43.388396Z",
     "iopub.status.busy": "2024-10-03T12:35:43.387957Z",
     "iopub.status.idle": "2024-10-03T12:35:43.472369Z",
     "shell.execute_reply": "2024-10-03T12:35:43.471224Z"
    },
    "papermill": {
     "duration": 0.098015,
     "end_time": "2024-10-03T12:35:43.475073",
     "exception": false,
     "start_time": "2024-10-03T12:35:43.377058",
     "status": "completed"
    },
    "tags": []
   },
   "outputs": [],
   "source": [
    "# Perform the split operation on your data.\n",
    "# Assign the outputs as follows: X_train, X_test, y_train, y_test.\n",
    "\n",
    "X_train, X_test, y_train, y_test = train_test_split(X, y, test_size=0.25, \n",
    "                                                    stratify=y, random_state=42)"
   ]
  },
  {
   "cell_type": "markdown",
   "id": "53976bf5",
   "metadata": {
    "papermill": {
     "duration": 0.009167,
     "end_time": "2024-10-03T12:35:43.493972",
     "exception": false,
     "start_time": "2024-10-03T12:35:43.484805",
     "status": "completed"
    },
    "tags": []
   },
   "source": [
    "# Step 3: Model building\n",
    "\n",
    "**\"Instantiate\" your XGBClassifer**\n",
    "\n",
    "Before I fit my model to my airline dataset, first I need to create the XGB Classifier model and define its objective. I'll use this model to fit and score different hyperparameters during the GridSearch cross-validation process."
   ]
  },
  {
   "cell_type": "code",
   "execution_count": 8,
   "id": "09bcf132",
   "metadata": {
    "execution": {
     "iopub.execute_input": "2024-10-03T12:35:43.515135Z",
     "iopub.status.busy": "2024-10-03T12:35:43.514684Z",
     "iopub.status.idle": "2024-10-03T12:35:43.519967Z",
     "shell.execute_reply": "2024-10-03T12:35:43.518825Z"
    },
    "papermill": {
     "duration": 0.018328,
     "end_time": "2024-10-03T12:35:43.522202",
     "exception": false,
     "start_time": "2024-10-03T12:35:43.503874",
     "status": "completed"
    },
    "tags": []
   },
   "outputs": [],
   "source": [
    "# Define xgb to be your XGBClassifier.\n",
    "\n",
    "xgb = XGBClassifier(objective='binary:logistic', random_state=0)"
   ]
  },
  {
   "cell_type": "markdown",
   "id": "5d155803",
   "metadata": {
    "papermill": {
     "duration": 0.00898,
     "end_time": "2024-10-03T12:35:43.540475",
     "exception": false,
     "start_time": "2024-10-03T12:35:43.531495",
     "status": "completed"
    },
    "tags": []
   },
   "source": [
    "**Define the parameters for hyperparameter tuning**\n",
    "\n",
    "To identify suitable parameters for your xgboost model, first define the parameters for hyperparameter tuning. Specifically, consider tuning max_depth, min_child_weight, learning_rate, n_estimators, subsample, and/or colsample_bytree"
   ]
  },
  {
   "cell_type": "code",
   "execution_count": 9,
   "id": "76b6fb87",
   "metadata": {
    "execution": {
     "iopub.execute_input": "2024-10-03T12:35:43.561265Z",
     "iopub.status.busy": "2024-10-03T12:35:43.560260Z",
     "iopub.status.idle": "2024-10-03T12:35:43.566317Z",
     "shell.execute_reply": "2024-10-03T12:35:43.565269Z"
    },
    "papermill": {
     "duration": 0.019076,
     "end_time": "2024-10-03T12:35:43.568738",
     "exception": false,
     "start_time": "2024-10-03T12:35:43.549662",
     "status": "completed"
    },
    "tags": []
   },
   "outputs": [],
   "source": [
    "# Define parameters for tuning as `cv_params`.\n",
    "\n",
    "cv_params = {'max_depth': [4],\n",
    "                'min_child_weight': [3],\n",
    "                'learning_rate': [0.1],\n",
    "                'n_estimators': [5],\n",
    "                'subsample': [0.7],\n",
    "                'colsample_bytree': [0.7]\n",
    "            }"
   ]
  },
  {
   "cell_type": "markdown",
   "id": "6e2c9bd0",
   "metadata": {
    "papermill": {
     "duration": 0.009006,
     "end_time": "2024-10-03T12:35:43.587250",
     "exception": false,
     "start_time": "2024-10-03T12:35:43.578244",
     "status": "completed"
    },
    "tags": []
   },
   "source": [
    "**Define how the models will be evaluated**\n",
    "\n",
    "Define how the models will be evaluated for hyperparameter tuning. To yield the best understanding of model performance, utilize a suite of metrics."
   ]
  },
  {
   "cell_type": "code",
   "execution_count": 10,
   "id": "cf92d462",
   "metadata": {
    "execution": {
     "iopub.execute_input": "2024-10-03T12:35:43.607718Z",
     "iopub.status.busy": "2024-10-03T12:35:43.607266Z",
     "iopub.status.idle": "2024-10-03T12:35:43.612432Z",
     "shell.execute_reply": "2024-10-03T12:35:43.611296Z"
    },
    "papermill": {
     "duration": 0.018198,
     "end_time": "2024-10-03T12:35:43.614746",
     "exception": false,
     "start_time": "2024-10-03T12:35:43.596548",
     "status": "completed"
    },
    "tags": []
   },
   "outputs": [],
   "source": [
    "# Define your criteria as `scoring`.\n",
    "\n",
    "scoring = {'accuracy', 'precision', 'recall', 'f1'}"
   ]
  },
  {
   "cell_type": "markdown",
   "id": "70a244af",
   "metadata": {
    "papermill": {
     "duration": 0.0089,
     "end_time": "2024-10-03T12:35:43.633090",
     "exception": false,
     "start_time": "2024-10-03T12:35:43.624190",
     "status": "completed"
    },
    "tags": []
   },
   "source": [
    "**Construct the GridSearch cross-validation**\n",
    "\n",
    "Construct the GridSearch cross-validation using the model, parameters, and scoring metrics I defined. Additionally, define the number of folds and specify which metric from above will guide the refit strategy."
   ]
  },
  {
   "cell_type": "code",
   "execution_count": 11,
   "id": "ca0578d0",
   "metadata": {
    "execution": {
     "iopub.execute_input": "2024-10-03T12:35:43.653606Z",
     "iopub.status.busy": "2024-10-03T12:35:43.653170Z",
     "iopub.status.idle": "2024-10-03T12:35:43.658713Z",
     "shell.execute_reply": "2024-10-03T12:35:43.657453Z"
    },
    "papermill": {
     "duration": 0.018943,
     "end_time": "2024-10-03T12:35:43.661209",
     "exception": false,
     "start_time": "2024-10-03T12:35:43.642266",
     "status": "completed"
    },
    "tags": []
   },
   "outputs": [],
   "source": [
    "# Construct your GridSearch.\n",
    "\n",
    "xgb_cv = GridSearchCV(xgb, cv_params, scoring=scoring, cv=5, refit='f1')"
   ]
  },
  {
   "cell_type": "markdown",
   "id": "766b690a",
   "metadata": {
    "papermill": {
     "duration": 0.009319,
     "end_time": "2024-10-03T12:35:43.680179",
     "exception": false,
     "start_time": "2024-10-03T12:35:43.670860",
     "status": "completed"
    },
    "tags": []
   },
   "source": [
    "**Fit the GridSearch model to your training data**"
   ]
  },
  {
   "cell_type": "code",
   "execution_count": 12,
   "id": "d2935efd",
   "metadata": {
    "execution": {
     "iopub.execute_input": "2024-10-03T12:35:43.701053Z",
     "iopub.status.busy": "2024-10-03T12:35:43.700163Z",
     "iopub.status.idle": "2024-10-03T12:35:47.216272Z",
     "shell.execute_reply": "2024-10-03T12:35:47.215079Z"
    },
    "papermill": {
     "duration": 3.52945,
     "end_time": "2024-10-03T12:35:47.218846",
     "exception": false,
     "start_time": "2024-10-03T12:35:43.689396",
     "status": "completed"
    },
    "tags": []
   },
   "outputs": [
    {
     "name": "stdout",
     "output_type": "stream",
     "text": [
      "CPU times: user 7.16 s, sys: 58.4 ms, total: 7.22 s\n",
      "Wall time: 3.49 s\n"
     ]
    },
    {
     "data": {
      "text/html": [
       "<style>#sk-container-id-1 {color: black;background-color: white;}#sk-container-id-1 pre{padding: 0;}#sk-container-id-1 div.sk-toggleable {background-color: white;}#sk-container-id-1 label.sk-toggleable__label {cursor: pointer;display: block;width: 100%;margin-bottom: 0;padding: 0.3em;box-sizing: border-box;text-align: center;}#sk-container-id-1 label.sk-toggleable__label-arrow:before {content: \"▸\";float: left;margin-right: 0.25em;color: #696969;}#sk-container-id-1 label.sk-toggleable__label-arrow:hover:before {color: black;}#sk-container-id-1 div.sk-estimator:hover label.sk-toggleable__label-arrow:before {color: black;}#sk-container-id-1 div.sk-toggleable__content {max-height: 0;max-width: 0;overflow: hidden;text-align: left;background-color: #f0f8ff;}#sk-container-id-1 div.sk-toggleable__content pre {margin: 0.2em;color: black;border-radius: 0.25em;background-color: #f0f8ff;}#sk-container-id-1 input.sk-toggleable__control:checked~div.sk-toggleable__content {max-height: 200px;max-width: 100%;overflow: auto;}#sk-container-id-1 input.sk-toggleable__control:checked~label.sk-toggleable__label-arrow:before {content: \"▾\";}#sk-container-id-1 div.sk-estimator input.sk-toggleable__control:checked~label.sk-toggleable__label {background-color: #d4ebff;}#sk-container-id-1 div.sk-label input.sk-toggleable__control:checked~label.sk-toggleable__label {background-color: #d4ebff;}#sk-container-id-1 input.sk-hidden--visually {border: 0;clip: rect(1px 1px 1px 1px);clip: rect(1px, 1px, 1px, 1px);height: 1px;margin: -1px;overflow: hidden;padding: 0;position: absolute;width: 1px;}#sk-container-id-1 div.sk-estimator {font-family: monospace;background-color: #f0f8ff;border: 1px dotted black;border-radius: 0.25em;box-sizing: border-box;margin-bottom: 0.5em;}#sk-container-id-1 div.sk-estimator:hover {background-color: #d4ebff;}#sk-container-id-1 div.sk-parallel-item::after {content: \"\";width: 100%;border-bottom: 1px solid gray;flex-grow: 1;}#sk-container-id-1 div.sk-label:hover label.sk-toggleable__label {background-color: #d4ebff;}#sk-container-id-1 div.sk-serial::before {content: \"\";position: absolute;border-left: 1px solid gray;box-sizing: border-box;top: 0;bottom: 0;left: 50%;z-index: 0;}#sk-container-id-1 div.sk-serial {display: flex;flex-direction: column;align-items: center;background-color: white;padding-right: 0.2em;padding-left: 0.2em;position: relative;}#sk-container-id-1 div.sk-item {position: relative;z-index: 1;}#sk-container-id-1 div.sk-parallel {display: flex;align-items: stretch;justify-content: center;background-color: white;position: relative;}#sk-container-id-1 div.sk-item::before, #sk-container-id-1 div.sk-parallel-item::before {content: \"\";position: absolute;border-left: 1px solid gray;box-sizing: border-box;top: 0;bottom: 0;left: 50%;z-index: -1;}#sk-container-id-1 div.sk-parallel-item {display: flex;flex-direction: column;z-index: 1;position: relative;background-color: white;}#sk-container-id-1 div.sk-parallel-item:first-child::after {align-self: flex-end;width: 50%;}#sk-container-id-1 div.sk-parallel-item:last-child::after {align-self: flex-start;width: 50%;}#sk-container-id-1 div.sk-parallel-item:only-child::after {width: 0;}#sk-container-id-1 div.sk-dashed-wrapped {border: 1px dashed gray;margin: 0 0.4em 0.5em 0.4em;box-sizing: border-box;padding-bottom: 0.4em;background-color: white;}#sk-container-id-1 div.sk-label label {font-family: monospace;font-weight: bold;display: inline-block;line-height: 1.2em;}#sk-container-id-1 div.sk-label-container {text-align: center;}#sk-container-id-1 div.sk-container {/* jupyter's `normalize.less` sets `[hidden] { display: none; }` but bootstrap.min.css set `[hidden] { display: none !important; }` so we also need the `!important` here to be able to override the default hidden behavior on the sphinx rendered scikit-learn.org. See: https://github.com/scikit-learn/scikit-learn/issues/21755 */display: inline-block !important;position: relative;}#sk-container-id-1 div.sk-text-repr-fallback {display: none;}</style><div id=\"sk-container-id-1\" class=\"sk-top-container\"><div class=\"sk-text-repr-fallback\"><pre>GridSearchCV(cv=5,\n",
       "             estimator=XGBClassifier(base_score=None, booster=None,\n",
       "                                     callbacks=None, colsample_bylevel=None,\n",
       "                                     colsample_bynode=None,\n",
       "                                     colsample_bytree=None, device=None,\n",
       "                                     early_stopping_rounds=None,\n",
       "                                     enable_categorical=False, eval_metric=None,\n",
       "                                     feature_types=None, gamma=None,\n",
       "                                     grow_policy=None, importance_type=None,\n",
       "                                     interaction_constraints=None,\n",
       "                                     learning_rate=None,...\n",
       "                                     max_leaves=None, min_child_weight=None,\n",
       "                                     missing=nan, monotone_constraints=None,\n",
       "                                     multi_strategy=None, n_estimators=None,\n",
       "                                     n_jobs=None, num_parallel_tree=None,\n",
       "                                     random_state=0, ...),\n",
       "             param_grid={&#x27;colsample_bytree&#x27;: [0.7], &#x27;learning_rate&#x27;: [0.1],\n",
       "                         &#x27;max_depth&#x27;: [4], &#x27;min_child_weight&#x27;: [3],\n",
       "                         &#x27;n_estimators&#x27;: [5], &#x27;subsample&#x27;: [0.7]},\n",
       "             refit=&#x27;f1&#x27;, scoring={&#x27;accuracy&#x27;, &#x27;recall&#x27;, &#x27;f1&#x27;, &#x27;precision&#x27;})</pre><b>In a Jupyter environment, please rerun this cell to show the HTML representation or trust the notebook. <br />On GitHub, the HTML representation is unable to render, please try loading this page with nbviewer.org.</b></div><div class=\"sk-container\" hidden><div class=\"sk-item sk-dashed-wrapped\"><div class=\"sk-label-container\"><div class=\"sk-label sk-toggleable\"><input class=\"sk-toggleable__control sk-hidden--visually\" id=\"sk-estimator-id-1\" type=\"checkbox\" ><label for=\"sk-estimator-id-1\" class=\"sk-toggleable__label sk-toggleable__label-arrow\">GridSearchCV</label><div class=\"sk-toggleable__content\"><pre>GridSearchCV(cv=5,\n",
       "             estimator=XGBClassifier(base_score=None, booster=None,\n",
       "                                     callbacks=None, colsample_bylevel=None,\n",
       "                                     colsample_bynode=None,\n",
       "                                     colsample_bytree=None, device=None,\n",
       "                                     early_stopping_rounds=None,\n",
       "                                     enable_categorical=False, eval_metric=None,\n",
       "                                     feature_types=None, gamma=None,\n",
       "                                     grow_policy=None, importance_type=None,\n",
       "                                     interaction_constraints=None,\n",
       "                                     learning_rate=None,...\n",
       "                                     max_leaves=None, min_child_weight=None,\n",
       "                                     missing=nan, monotone_constraints=None,\n",
       "                                     multi_strategy=None, n_estimators=None,\n",
       "                                     n_jobs=None, num_parallel_tree=None,\n",
       "                                     random_state=0, ...),\n",
       "             param_grid={&#x27;colsample_bytree&#x27;: [0.7], &#x27;learning_rate&#x27;: [0.1],\n",
       "                         &#x27;max_depth&#x27;: [4], &#x27;min_child_weight&#x27;: [3],\n",
       "                         &#x27;n_estimators&#x27;: [5], &#x27;subsample&#x27;: [0.7]},\n",
       "             refit=&#x27;f1&#x27;, scoring={&#x27;accuracy&#x27;, &#x27;recall&#x27;, &#x27;f1&#x27;, &#x27;precision&#x27;})</pre></div></div></div><div class=\"sk-parallel\"><div class=\"sk-parallel-item\"><div class=\"sk-item\"><div class=\"sk-label-container\"><div class=\"sk-label sk-toggleable\"><input class=\"sk-toggleable__control sk-hidden--visually\" id=\"sk-estimator-id-2\" type=\"checkbox\" ><label for=\"sk-estimator-id-2\" class=\"sk-toggleable__label sk-toggleable__label-arrow\">estimator: XGBClassifier</label><div class=\"sk-toggleable__content\"><pre>XGBClassifier(base_score=None, booster=None, callbacks=None,\n",
       "              colsample_bylevel=None, colsample_bynode=None,\n",
       "              colsample_bytree=None, device=None, early_stopping_rounds=None,\n",
       "              enable_categorical=False, eval_metric=None, feature_types=None,\n",
       "              gamma=None, grow_policy=None, importance_type=None,\n",
       "              interaction_constraints=None, learning_rate=None, max_bin=None,\n",
       "              max_cat_threshold=None, max_cat_to_onehot=None,\n",
       "              max_delta_step=None, max_depth=None, max_leaves=None,\n",
       "              min_child_weight=None, missing=nan, monotone_constraints=None,\n",
       "              multi_strategy=None, n_estimators=None, n_jobs=None,\n",
       "              num_parallel_tree=None, random_state=0, ...)</pre></div></div></div><div class=\"sk-serial\"><div class=\"sk-item\"><div class=\"sk-estimator sk-toggleable\"><input class=\"sk-toggleable__control sk-hidden--visually\" id=\"sk-estimator-id-3\" type=\"checkbox\" ><label for=\"sk-estimator-id-3\" class=\"sk-toggleable__label sk-toggleable__label-arrow\">XGBClassifier</label><div class=\"sk-toggleable__content\"><pre>XGBClassifier(base_score=None, booster=None, callbacks=None,\n",
       "              colsample_bylevel=None, colsample_bynode=None,\n",
       "              colsample_bytree=None, device=None, early_stopping_rounds=None,\n",
       "              enable_categorical=False, eval_metric=None, feature_types=None,\n",
       "              gamma=None, grow_policy=None, importance_type=None,\n",
       "              interaction_constraints=None, learning_rate=None, max_bin=None,\n",
       "              max_cat_threshold=None, max_cat_to_onehot=None,\n",
       "              max_delta_step=None, max_depth=None, max_leaves=None,\n",
       "              min_child_weight=None, missing=nan, monotone_constraints=None,\n",
       "              multi_strategy=None, n_estimators=None, n_jobs=None,\n",
       "              num_parallel_tree=None, random_state=0, ...)</pre></div></div></div></div></div></div></div></div></div></div>"
      ],
      "text/plain": [
       "GridSearchCV(cv=5,\n",
       "             estimator=XGBClassifier(base_score=None, booster=None,\n",
       "                                     callbacks=None, colsample_bylevel=None,\n",
       "                                     colsample_bynode=None,\n",
       "                                     colsample_bytree=None, device=None,\n",
       "                                     early_stopping_rounds=None,\n",
       "                                     enable_categorical=False, eval_metric=None,\n",
       "                                     feature_types=None, gamma=None,\n",
       "                                     grow_policy=None, importance_type=None,\n",
       "                                     interaction_constraints=None,\n",
       "                                     learning_rate=None,...\n",
       "                                     max_leaves=None, min_child_weight=None,\n",
       "                                     missing=nan, monotone_constraints=None,\n",
       "                                     multi_strategy=None, n_estimators=None,\n",
       "                                     n_jobs=None, num_parallel_tree=None,\n",
       "                                     random_state=0, ...),\n",
       "             param_grid={'colsample_bytree': [0.7], 'learning_rate': [0.1],\n",
       "                         'max_depth': [4], 'min_child_weight': [3],\n",
       "                         'n_estimators': [5], 'subsample': [0.7]},\n",
       "             refit='f1', scoring={'accuracy', 'recall', 'f1', 'precision'})"
      ]
     },
     "execution_count": 12,
     "metadata": {},
     "output_type": "execute_result"
    }
   ],
   "source": [
    "%%time\n",
    "# fit the GridSearch model to training data\n",
    "\n",
    "xgb_cv.fit(X_train, y_train)"
   ]
  },
  {
   "cell_type": "markdown",
   "id": "d5d87ce5",
   "metadata": {
    "papermill": {
     "duration": 0.009606,
     "end_time": "2024-10-03T12:35:47.238679",
     "exception": false,
     "start_time": "2024-10-03T12:35:47.229073",
     "status": "completed"
    },
    "tags": []
   },
   "source": [
    "The optimal set of parameters yielded by the GridSearchCV is:\n",
    "\n",
    "* **colsample_bytree**: 0.7\n",
    "* **learning_rate**: 0.1\n",
    "* **max_depth**: 4\n",
    "* **min_child_weight**: 3\n",
    "* **n_estimators**: 5\n",
    "* **subsample**: 0.7\n",
    "\n",
    "This set of parameters was likely chosen based on the scoring metric specified in the `scoring` parameter of GridSearchCV, which in this case is a dictionary containing 'accuracy', 'recall', 'f1', and 'precision'. The `refit` parameter set to 'f1' indicates that the final model will be refitted using the parameters that achieved the highest F1-score.\n"
   ]
  },
  {
   "cell_type": "markdown",
   "id": "6d51b862",
   "metadata": {
    "papermill": {
     "duration": 0.009714,
     "end_time": "2024-10-03T12:35:47.258261",
     "exception": false,
     "start_time": "2024-10-03T12:35:47.248547",
     "status": "completed"
    },
    "tags": []
   },
   "source": [
    "**Save your model for reference using pickle**\n",
    "\n",
    "Use the *pickle* library to save the output of this model."
   ]
  },
  {
   "cell_type": "code",
   "execution_count": 13,
   "id": "fb1236d3",
   "metadata": {
    "execution": {
     "iopub.execute_input": "2024-10-03T12:35:47.280323Z",
     "iopub.status.busy": "2024-10-03T12:35:47.279900Z",
     "iopub.status.idle": "2024-10-03T12:35:47.291083Z",
     "shell.execute_reply": "2024-10-03T12:35:47.289954Z"
    },
    "papermill": {
     "duration": 0.027428,
     "end_time": "2024-10-03T12:35:47.295600",
     "exception": false,
     "start_time": "2024-10-03T12:35:47.268172",
     "status": "completed"
    },
    "tags": []
   },
   "outputs": [],
   "source": [
    "# Use `pickle` to save the trained model.\n",
    "\n",
    "with open('/kaggle/working/' + 'xgb_cv_model.pickle', 'wb') as to_write:\n",
    "    pickle.dump(xgb_cv, to_write) "
   ]
  },
  {
   "cell_type": "markdown",
   "id": "47804335",
   "metadata": {
    "papermill": {
     "duration": 0.009889,
     "end_time": "2024-10-03T12:35:47.316971",
     "exception": false,
     "start_time": "2024-10-03T12:35:47.307082",
     "status": "completed"
    },
    "tags": []
   },
   "source": [
    "# Step 4: Results and evaluation\n",
    "\n",
    "**Formulate predictions on my test set**\n",
    "\n",
    "To evaluate the predictions yielded from my model, leverage a series of metrics and evaluation techniques from scikit-learn by examining the actual observed values in the test set relative to my model's prediction."
   ]
  }
 ],
 "metadata": {
  "kaggle": {
   "accelerator": "none",
   "dataSources": [
    {
     "datasetId": 4106956,
     "sourceId": 7120541,
     "sourceType": "datasetVersion"
    }
   ],
   "dockerImageVersionId": 30775,
   "isGpuEnabled": false,
   "isInternetEnabled": true,
   "language": "python",
   "sourceType": "notebook"
  },
  "kernelspec": {
   "display_name": "Python 3",
   "language": "python",
   "name": "python3"
  },
  "language_info": {
   "codemirror_mode": {
    "name": "ipython",
    "version": 3
   },
   "file_extension": ".py",
   "mimetype": "text/x-python",
   "name": "python",
   "nbconvert_exporter": "python",
   "pygments_lexer": "ipython3",
   "version": "3.10.14"
  },
  "papermill": {
   "default_parameters": {},
   "duration": 11.072785,
   "end_time": "2024-10-03T12:35:47.948189",
   "environment_variables": {},
   "exception": null,
   "input_path": "__notebook__.ipynb",
   "output_path": "__notebook__.ipynb",
   "parameters": {},
   "start_time": "2024-10-03T12:35:36.875404",
   "version": "2.6.0"
  }
 },
 "nbformat": 4,
 "nbformat_minor": 5
}
