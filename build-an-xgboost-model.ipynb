{
 "cells": [
  {
   "cell_type": "markdown",
   "id": "90d37803",
   "metadata": {
    "papermill": {
     "duration": 0.012656,
     "end_time": "2024-10-03T15:11:38.704984",
     "exception": false,
     "start_time": "2024-10-03T15:11:38.692328",
     "status": "completed"
    },
    "tags": []
   },
   "source": [
    "# Introduction\n",
    "\n",
    "In herer I will construct my own XGBoost classification model. I will be presenting a business scenario and a dataset to build on the skills and techniques I learned in the Decision Tree and Random Forest lessons. I will practice training, tuning, and evaluation an XGBoost model and compare its performance to previous models' to decide which model is best. "
   ]
  },
  {
   "cell_type": "markdown",
   "id": "d640ceb8",
   "metadata": {
    "papermill": {
     "duration": 0.011238,
     "end_time": "2024-10-03T15:11:38.728040",
     "exception": false,
     "start_time": "2024-10-03T15:11:38.716802",
     "status": "completed"
    },
    "tags": []
   },
   "source": [
    "**Data Dictionary**\n",
    "\n",
    "This activity uses a dataset called \n",
    "*Invistico_Airline.csv*\n",
    ". It represents the details of customer feedback for Invistico Airlines (a fictional name). \n",
    "\n",
    "**The dataset contains**: 23 columns of customer feedback, each row representing one customer’s responses.\n",
    "\n",
    "**The dataset contains**:\n",
    "\n",
    "129,880 rows – each row is a different customer response \n",
    "\n",
    "23 columns"
   ]
  },
  {
   "cell_type": "markdown",
   "id": "b41493fc",
   "metadata": {
    "papermill": {
     "duration": 0.011094,
     "end_time": "2024-10-03T15:11:38.751642",
     "exception": false,
     "start_time": "2024-10-03T15:11:38.740548",
     "status": "completed"
    },
    "tags": []
   },
   "source": [
    "# Step 1: Imports\n",
    "\n",
    "**Import packages**\n",
    "\n",
    "Import *pandas, numpy*, and *matplotlib* for data preparation. Import *scikit-learn* (sklearn) for model preparation and evaluation. And, import *xgboost*, which provides the classification algorithm to implement to formulate of my predictive model."
   ]
  },
  {
   "cell_type": "code",
   "execution_count": 1,
   "id": "eea4f382",
   "metadata": {
    "execution": {
     "iopub.execute_input": "2024-10-03T15:11:38.776395Z",
     "iopub.status.busy": "2024-10-03T15:11:38.775789Z",
     "iopub.status.idle": "2024-10-03T15:11:41.534149Z",
     "shell.execute_reply": "2024-10-03T15:11:41.532606Z"
    },
    "papermill": {
     "duration": 2.774487,
     "end_time": "2024-10-03T15:11:41.537460",
     "exception": false,
     "start_time": "2024-10-03T15:11:38.762973",
     "status": "completed"
    },
    "tags": []
   },
   "outputs": [],
   "source": [
    "# Import relevant libraries and modules.\n",
    "\n",
    "import numpy as np\n",
    "import pandas as pd\n",
    "\n",
    "# This is the classifier\n",
    "from xgboost import XGBClassifier\n",
    "\n",
    "# This is the function that helps plot feature importance \n",
    "from xgboost import plot_importance\n",
    "\n",
    "from sklearn.model_selection import GridSearchCV, train_test_split\n",
    "from sklearn.metrics import accuracy_score, precision_score, recall_score,\\\n",
    "f1_score, confusion_matrix, ConfusionMatrixDisplay, RocCurveDisplay\n",
    "\n",
    "import matplotlib.pyplot as plt\n",
    "\n",
    "# This displays all of the columns, preventing Juptyer from redacting them.\n",
    "pd.set_option('display.max_columns', None)\n",
    "\n",
    "# This module lets us save our models once we fit them.\n",
    "import pickle"
   ]
  },
  {
   "cell_type": "markdown",
   "id": "f760b32f",
   "metadata": {
    "papermill": {
     "duration": 0.011008,
     "end_time": "2024-10-03T15:11:41.561468",
     "exception": false,
     "start_time": "2024-10-03T15:11:41.550460",
     "status": "completed"
    },
    "tags": []
   },
   "source": [
    "**Load the dataset**\n",
    "\n",
    "To formulate your model, *pandas* is used to import a csv of airline passenger satisfaction data called *Invistico_Airline.csv*. This DataFrame is called *airline_data*."
   ]
  },
  {
   "cell_type": "code",
   "execution_count": 2,
   "id": "9d33962f",
   "metadata": {
    "execution": {
     "iopub.execute_input": "2024-10-03T15:11:41.586964Z",
     "iopub.status.busy": "2024-10-03T15:11:41.585803Z",
     "iopub.status.idle": "2024-10-03T15:11:42.289744Z",
     "shell.execute_reply": "2024-10-03T15:11:42.288196Z"
    },
    "papermill": {
     "duration": 0.719939,
     "end_time": "2024-10-03T15:11:42.292815",
     "exception": false,
     "start_time": "2024-10-03T15:11:41.572876",
     "status": "completed"
    },
    "tags": []
   },
   "outputs": [],
   "source": [
    "airline_data = pd.read_csv('/kaggle/input/aviation-satisfaction-data/Invistico_Airline.csv')"
   ]
  },
  {
   "cell_type": "markdown",
   "id": "8f7bf133",
   "metadata": {
    "papermill": {
     "duration": 0.010832,
     "end_time": "2024-10-03T15:11:42.315266",
     "exception": false,
     "start_time": "2024-10-03T15:11:42.304434",
     "status": "completed"
    },
    "tags": []
   },
   "source": [
    "**Display the data**\n",
    "\n",
    "Examine the first 10 rows of data."
   ]
  },
  {
   "cell_type": "code",
   "execution_count": 3,
   "id": "0c256fec",
   "metadata": {
    "execution": {
     "iopub.execute_input": "2024-10-03T15:11:42.339429Z",
     "iopub.status.busy": "2024-10-03T15:11:42.338890Z",
     "iopub.status.idle": "2024-10-03T15:11:42.377823Z",
     "shell.execute_reply": "2024-10-03T15:11:42.376225Z"
    },
    "papermill": {
     "duration": 0.054276,
     "end_time": "2024-10-03T15:11:42.380555",
     "exception": false,
     "start_time": "2024-10-03T15:11:42.326279",
     "status": "completed"
    },
    "tags": []
   },
   "outputs": [
    {
     "data": {
      "text/html": [
       "<div>\n",
       "<style scoped>\n",
       "    .dataframe tbody tr th:only-of-type {\n",
       "        vertical-align: middle;\n",
       "    }\n",
       "\n",
       "    .dataframe tbody tr th {\n",
       "        vertical-align: top;\n",
       "    }\n",
       "\n",
       "    .dataframe thead th {\n",
       "        text-align: right;\n",
       "    }\n",
       "</style>\n",
       "<table border=\"1\" class=\"dataframe\">\n",
       "  <thead>\n",
       "    <tr style=\"text-align: right;\">\n",
       "      <th></th>\n",
       "      <th>satisfaction</th>\n",
       "      <th>Customer Type</th>\n",
       "      <th>Age</th>\n",
       "      <th>Type of Travel</th>\n",
       "      <th>Class</th>\n",
       "      <th>Flight Distance</th>\n",
       "      <th>Seat comfort</th>\n",
       "      <th>Departure/Arrival time convenient</th>\n",
       "      <th>Food and drink</th>\n",
       "      <th>Gate location</th>\n",
       "      <th>Inflight wifi service</th>\n",
       "      <th>Inflight entertainment</th>\n",
       "      <th>Online support</th>\n",
       "      <th>Ease of Online booking</th>\n",
       "      <th>On-board service</th>\n",
       "      <th>Leg room service</th>\n",
       "      <th>Baggage handling</th>\n",
       "      <th>Checkin service</th>\n",
       "      <th>Cleanliness</th>\n",
       "      <th>Online boarding</th>\n",
       "      <th>Departure Delay in Minutes</th>\n",
       "      <th>Arrival Delay in Minutes</th>\n",
       "    </tr>\n",
       "  </thead>\n",
       "  <tbody>\n",
       "    <tr>\n",
       "      <th>0</th>\n",
       "      <td>satisfied</td>\n",
       "      <td>Loyal Customer</td>\n",
       "      <td>65</td>\n",
       "      <td>Personal Travel</td>\n",
       "      <td>Eco</td>\n",
       "      <td>265</td>\n",
       "      <td>0</td>\n",
       "      <td>0</td>\n",
       "      <td>0</td>\n",
       "      <td>2</td>\n",
       "      <td>2</td>\n",
       "      <td>4</td>\n",
       "      <td>2</td>\n",
       "      <td>3</td>\n",
       "      <td>3</td>\n",
       "      <td>0</td>\n",
       "      <td>3</td>\n",
       "      <td>5</td>\n",
       "      <td>3</td>\n",
       "      <td>2</td>\n",
       "      <td>0</td>\n",
       "      <td>0.0</td>\n",
       "    </tr>\n",
       "    <tr>\n",
       "      <th>1</th>\n",
       "      <td>satisfied</td>\n",
       "      <td>Loyal Customer</td>\n",
       "      <td>47</td>\n",
       "      <td>Personal Travel</td>\n",
       "      <td>Business</td>\n",
       "      <td>2464</td>\n",
       "      <td>0</td>\n",
       "      <td>0</td>\n",
       "      <td>0</td>\n",
       "      <td>3</td>\n",
       "      <td>0</td>\n",
       "      <td>2</td>\n",
       "      <td>2</td>\n",
       "      <td>3</td>\n",
       "      <td>4</td>\n",
       "      <td>4</td>\n",
       "      <td>4</td>\n",
       "      <td>2</td>\n",
       "      <td>3</td>\n",
       "      <td>2</td>\n",
       "      <td>310</td>\n",
       "      <td>305.0</td>\n",
       "    </tr>\n",
       "    <tr>\n",
       "      <th>2</th>\n",
       "      <td>satisfied</td>\n",
       "      <td>Loyal Customer</td>\n",
       "      <td>15</td>\n",
       "      <td>Personal Travel</td>\n",
       "      <td>Eco</td>\n",
       "      <td>2138</td>\n",
       "      <td>0</td>\n",
       "      <td>0</td>\n",
       "      <td>0</td>\n",
       "      <td>3</td>\n",
       "      <td>2</td>\n",
       "      <td>0</td>\n",
       "      <td>2</td>\n",
       "      <td>2</td>\n",
       "      <td>3</td>\n",
       "      <td>3</td>\n",
       "      <td>4</td>\n",
       "      <td>4</td>\n",
       "      <td>4</td>\n",
       "      <td>2</td>\n",
       "      <td>0</td>\n",
       "      <td>0.0</td>\n",
       "    </tr>\n",
       "    <tr>\n",
       "      <th>3</th>\n",
       "      <td>satisfied</td>\n",
       "      <td>Loyal Customer</td>\n",
       "      <td>60</td>\n",
       "      <td>Personal Travel</td>\n",
       "      <td>Eco</td>\n",
       "      <td>623</td>\n",
       "      <td>0</td>\n",
       "      <td>0</td>\n",
       "      <td>0</td>\n",
       "      <td>3</td>\n",
       "      <td>3</td>\n",
       "      <td>4</td>\n",
       "      <td>3</td>\n",
       "      <td>1</td>\n",
       "      <td>1</td>\n",
       "      <td>0</td>\n",
       "      <td>1</td>\n",
       "      <td>4</td>\n",
       "      <td>1</td>\n",
       "      <td>3</td>\n",
       "      <td>0</td>\n",
       "      <td>0.0</td>\n",
       "    </tr>\n",
       "    <tr>\n",
       "      <th>4</th>\n",
       "      <td>satisfied</td>\n",
       "      <td>Loyal Customer</td>\n",
       "      <td>70</td>\n",
       "      <td>Personal Travel</td>\n",
       "      <td>Eco</td>\n",
       "      <td>354</td>\n",
       "      <td>0</td>\n",
       "      <td>0</td>\n",
       "      <td>0</td>\n",
       "      <td>3</td>\n",
       "      <td>4</td>\n",
       "      <td>3</td>\n",
       "      <td>4</td>\n",
       "      <td>2</td>\n",
       "      <td>2</td>\n",
       "      <td>0</td>\n",
       "      <td>2</td>\n",
       "      <td>4</td>\n",
       "      <td>2</td>\n",
       "      <td>5</td>\n",
       "      <td>0</td>\n",
       "      <td>0.0</td>\n",
       "    </tr>\n",
       "    <tr>\n",
       "      <th>5</th>\n",
       "      <td>satisfied</td>\n",
       "      <td>Loyal Customer</td>\n",
       "      <td>30</td>\n",
       "      <td>Personal Travel</td>\n",
       "      <td>Eco</td>\n",
       "      <td>1894</td>\n",
       "      <td>0</td>\n",
       "      <td>0</td>\n",
       "      <td>0</td>\n",
       "      <td>3</td>\n",
       "      <td>2</td>\n",
       "      <td>0</td>\n",
       "      <td>2</td>\n",
       "      <td>2</td>\n",
       "      <td>5</td>\n",
       "      <td>4</td>\n",
       "      <td>5</td>\n",
       "      <td>5</td>\n",
       "      <td>4</td>\n",
       "      <td>2</td>\n",
       "      <td>0</td>\n",
       "      <td>0.0</td>\n",
       "    </tr>\n",
       "    <tr>\n",
       "      <th>6</th>\n",
       "      <td>satisfied</td>\n",
       "      <td>Loyal Customer</td>\n",
       "      <td>66</td>\n",
       "      <td>Personal Travel</td>\n",
       "      <td>Eco</td>\n",
       "      <td>227</td>\n",
       "      <td>0</td>\n",
       "      <td>0</td>\n",
       "      <td>0</td>\n",
       "      <td>3</td>\n",
       "      <td>2</td>\n",
       "      <td>5</td>\n",
       "      <td>5</td>\n",
       "      <td>5</td>\n",
       "      <td>5</td>\n",
       "      <td>0</td>\n",
       "      <td>5</td>\n",
       "      <td>5</td>\n",
       "      <td>5</td>\n",
       "      <td>3</td>\n",
       "      <td>17</td>\n",
       "      <td>15.0</td>\n",
       "    </tr>\n",
       "    <tr>\n",
       "      <th>7</th>\n",
       "      <td>satisfied</td>\n",
       "      <td>Loyal Customer</td>\n",
       "      <td>10</td>\n",
       "      <td>Personal Travel</td>\n",
       "      <td>Eco</td>\n",
       "      <td>1812</td>\n",
       "      <td>0</td>\n",
       "      <td>0</td>\n",
       "      <td>0</td>\n",
       "      <td>3</td>\n",
       "      <td>2</td>\n",
       "      <td>0</td>\n",
       "      <td>2</td>\n",
       "      <td>2</td>\n",
       "      <td>3</td>\n",
       "      <td>3</td>\n",
       "      <td>4</td>\n",
       "      <td>5</td>\n",
       "      <td>4</td>\n",
       "      <td>2</td>\n",
       "      <td>0</td>\n",
       "      <td>0.0</td>\n",
       "    </tr>\n",
       "    <tr>\n",
       "      <th>8</th>\n",
       "      <td>satisfied</td>\n",
       "      <td>Loyal Customer</td>\n",
       "      <td>56</td>\n",
       "      <td>Personal Travel</td>\n",
       "      <td>Business</td>\n",
       "      <td>73</td>\n",
       "      <td>0</td>\n",
       "      <td>0</td>\n",
       "      <td>0</td>\n",
       "      <td>3</td>\n",
       "      <td>5</td>\n",
       "      <td>3</td>\n",
       "      <td>5</td>\n",
       "      <td>4</td>\n",
       "      <td>4</td>\n",
       "      <td>0</td>\n",
       "      <td>1</td>\n",
       "      <td>5</td>\n",
       "      <td>4</td>\n",
       "      <td>4</td>\n",
       "      <td>0</td>\n",
       "      <td>0.0</td>\n",
       "    </tr>\n",
       "    <tr>\n",
       "      <th>9</th>\n",
       "      <td>satisfied</td>\n",
       "      <td>Loyal Customer</td>\n",
       "      <td>22</td>\n",
       "      <td>Personal Travel</td>\n",
       "      <td>Eco</td>\n",
       "      <td>1556</td>\n",
       "      <td>0</td>\n",
       "      <td>0</td>\n",
       "      <td>0</td>\n",
       "      <td>3</td>\n",
       "      <td>2</td>\n",
       "      <td>0</td>\n",
       "      <td>2</td>\n",
       "      <td>2</td>\n",
       "      <td>2</td>\n",
       "      <td>4</td>\n",
       "      <td>5</td>\n",
       "      <td>3</td>\n",
       "      <td>4</td>\n",
       "      <td>2</td>\n",
       "      <td>30</td>\n",
       "      <td>26.0</td>\n",
       "    </tr>\n",
       "  </tbody>\n",
       "</table>\n",
       "</div>"
      ],
      "text/plain": [
       "  satisfaction   Customer Type  Age   Type of Travel     Class  \\\n",
       "0    satisfied  Loyal Customer   65  Personal Travel       Eco   \n",
       "1    satisfied  Loyal Customer   47  Personal Travel  Business   \n",
       "2    satisfied  Loyal Customer   15  Personal Travel       Eco   \n",
       "3    satisfied  Loyal Customer   60  Personal Travel       Eco   \n",
       "4    satisfied  Loyal Customer   70  Personal Travel       Eco   \n",
       "5    satisfied  Loyal Customer   30  Personal Travel       Eco   \n",
       "6    satisfied  Loyal Customer   66  Personal Travel       Eco   \n",
       "7    satisfied  Loyal Customer   10  Personal Travel       Eco   \n",
       "8    satisfied  Loyal Customer   56  Personal Travel  Business   \n",
       "9    satisfied  Loyal Customer   22  Personal Travel       Eco   \n",
       "\n",
       "   Flight Distance  Seat comfort  Departure/Arrival time convenient  \\\n",
       "0              265             0                                  0   \n",
       "1             2464             0                                  0   \n",
       "2             2138             0                                  0   \n",
       "3              623             0                                  0   \n",
       "4              354             0                                  0   \n",
       "5             1894             0                                  0   \n",
       "6              227             0                                  0   \n",
       "7             1812             0                                  0   \n",
       "8               73             0                                  0   \n",
       "9             1556             0                                  0   \n",
       "\n",
       "   Food and drink  Gate location  Inflight wifi service  \\\n",
       "0               0              2                      2   \n",
       "1               0              3                      0   \n",
       "2               0              3                      2   \n",
       "3               0              3                      3   \n",
       "4               0              3                      4   \n",
       "5               0              3                      2   \n",
       "6               0              3                      2   \n",
       "7               0              3                      2   \n",
       "8               0              3                      5   \n",
       "9               0              3                      2   \n",
       "\n",
       "   Inflight entertainment  Online support  Ease of Online booking  \\\n",
       "0                       4               2                       3   \n",
       "1                       2               2                       3   \n",
       "2                       0               2                       2   \n",
       "3                       4               3                       1   \n",
       "4                       3               4                       2   \n",
       "5                       0               2                       2   \n",
       "6                       5               5                       5   \n",
       "7                       0               2                       2   \n",
       "8                       3               5                       4   \n",
       "9                       0               2                       2   \n",
       "\n",
       "   On-board service  Leg room service  Baggage handling  Checkin service  \\\n",
       "0                 3                 0                 3                5   \n",
       "1                 4                 4                 4                2   \n",
       "2                 3                 3                 4                4   \n",
       "3                 1                 0                 1                4   \n",
       "4                 2                 0                 2                4   \n",
       "5                 5                 4                 5                5   \n",
       "6                 5                 0                 5                5   \n",
       "7                 3                 3                 4                5   \n",
       "8                 4                 0                 1                5   \n",
       "9                 2                 4                 5                3   \n",
       "\n",
       "   Cleanliness  Online boarding  Departure Delay in Minutes  \\\n",
       "0            3                2                           0   \n",
       "1            3                2                         310   \n",
       "2            4                2                           0   \n",
       "3            1                3                           0   \n",
       "4            2                5                           0   \n",
       "5            4                2                           0   \n",
       "6            5                3                          17   \n",
       "7            4                2                           0   \n",
       "8            4                4                           0   \n",
       "9            4                2                          30   \n",
       "\n",
       "   Arrival Delay in Minutes  \n",
       "0                       0.0  \n",
       "1                     305.0  \n",
       "2                       0.0  \n",
       "3                       0.0  \n",
       "4                       0.0  \n",
       "5                       0.0  \n",
       "6                      15.0  \n",
       "7                       0.0  \n",
       "8                       0.0  \n",
       "9                      26.0  "
      ]
     },
     "execution_count": 3,
     "metadata": {},
     "output_type": "execute_result"
    }
   ],
   "source": [
    "airline_data.head(10)"
   ]
  },
  {
   "cell_type": "markdown",
   "id": "b0a39de9",
   "metadata": {
    "papermill": {
     "duration": 0.011221,
     "end_time": "2024-10-03T15:11:42.403598",
     "exception": false,
     "start_time": "2024-10-03T15:11:42.392377",
     "status": "completed"
    },
    "tags": []
   },
   "source": [
    "**Display the data type for each column**\n",
    "\n",
    "Observe the types of data present within this dataset."
   ]
  },
  {
   "cell_type": "code",
   "execution_count": 4,
   "id": "b3744408",
   "metadata": {
    "execution": {
     "iopub.execute_input": "2024-10-03T15:11:42.429192Z",
     "iopub.status.busy": "2024-10-03T15:11:42.428643Z",
     "iopub.status.idle": "2024-10-03T15:11:42.517208Z",
     "shell.execute_reply": "2024-10-03T15:11:42.516036Z"
    },
    "papermill": {
     "duration": 0.105175,
     "end_time": "2024-10-03T15:11:42.520360",
     "exception": false,
     "start_time": "2024-10-03T15:11:42.415185",
     "status": "completed"
    },
    "tags": []
   },
   "outputs": [
    {
     "name": "stdout",
     "output_type": "stream",
     "text": [
      "<class 'pandas.core.frame.DataFrame'>\n",
      "RangeIndex: 129880 entries, 0 to 129879\n",
      "Data columns (total 22 columns):\n",
      " #   Column                             Non-Null Count   Dtype  \n",
      "---  ------                             --------------   -----  \n",
      " 0   satisfaction                       129880 non-null  object \n",
      " 1   Customer Type                      129880 non-null  object \n",
      " 2   Age                                129880 non-null  int64  \n",
      " 3   Type of Travel                     129880 non-null  object \n",
      " 4   Class                              129880 non-null  object \n",
      " 5   Flight Distance                    129880 non-null  int64  \n",
      " 6   Seat comfort                       129880 non-null  int64  \n",
      " 7   Departure/Arrival time convenient  129880 non-null  int64  \n",
      " 8   Food and drink                     129880 non-null  int64  \n",
      " 9   Gate location                      129880 non-null  int64  \n",
      " 10  Inflight wifi service              129880 non-null  int64  \n",
      " 11  Inflight entertainment             129880 non-null  int64  \n",
      " 12  Online support                     129880 non-null  int64  \n",
      " 13  Ease of Online booking             129880 non-null  int64  \n",
      " 14  On-board service                   129880 non-null  int64  \n",
      " 15  Leg room service                   129880 non-null  int64  \n",
      " 16  Baggage handling                   129880 non-null  int64  \n",
      " 17  Checkin service                    129880 non-null  int64  \n",
      " 18  Cleanliness                        129880 non-null  int64  \n",
      " 19  Online boarding                    129880 non-null  int64  \n",
      " 20  Departure Delay in Minutes         129880 non-null  int64  \n",
      " 21  Arrival Delay in Minutes           129487 non-null  float64\n",
      "dtypes: float64(1), int64(17), object(4)\n",
      "memory usage: 21.8+ MB\n"
     ]
    }
   ],
   "source": [
    "airline_data.info()"
   ]
  },
  {
   "cell_type": "markdown",
   "id": "215a9fcd",
   "metadata": {
    "papermill": {
     "duration": 0.011748,
     "end_time": "2024-10-03T15:11:42.544411",
     "exception": false,
     "start_time": "2024-10-03T15:11:42.532663",
     "status": "completed"
    },
    "tags": []
   },
   "source": [
    "The target (or predicted) variable for passenger satisfaction is **satisfaction**.\n",
    "\n",
    "Here are my initial hypotheses about which variables will be valuable in predicting satisfaction:\n",
    "\n",
    "* **Customer Type:** The type of customer (e.g., loyalty member, first-time flyer) may influence satisfaction.\n",
    "* **Class:** The class of service (e.g., economy, business, first) may affect satisfaction.\n",
    "* **Flight Distance:** Longer flights might lead to higher expectations and potentially lower satisfaction if not met.\n",
    "* **Seat comfort:** A comfortable seat is likely to contribute to higher satisfaction.\n",
    "* **Departure/Arrival time convenient:** If the flight times are convenient for the customer, they may be more satisfied.\n",
    "* **Food and drink:** The quality and variety of food and drink options could impact satisfaction.\n",
    "* **Inflight wifi service, Inflight entertainment, Online support:** These amenities could influence satisfaction, especially for long flights.\n",
    "* **On-board service, Leg room service, Baggage handling, Checkin service:** Good service in these areas could enhance satisfaction.\n",
    "* **Cleanliness:** A clean aircraft is likely to contribute to higher satisfaction.\n",
    "* **Online boarding:** A smooth online boarding experience could improve satisfaction.\n",
    "* **Departure Delay in Minutes, Arrival Delay in Minutes:** Delays could negatively impact satisfaction.\n",
    "\n",
    "It's important to note that these are just initial hypotheses, and the actual importance of each variable in predicting satisfaction will need to be determined through model training and evaluation.\n",
    "\n",
    "\n",
    "# Step 2: Model preparation\n",
    "\n",
    "**Prepare data for predictions**"
   ]
  },
  {
   "cell_type": "code",
   "execution_count": 5,
   "id": "a7ae3016",
   "metadata": {
    "execution": {
     "iopub.execute_input": "2024-10-03T15:11:42.570709Z",
     "iopub.status.busy": "2024-10-03T15:11:42.570261Z",
     "iopub.status.idle": "2024-10-03T15:11:42.662634Z",
     "shell.execute_reply": "2024-10-03T15:11:42.661479Z"
    },
    "papermill": {
     "duration": 0.109265,
     "end_time": "2024-10-03T15:11:42.665902",
     "exception": false,
     "start_time": "2024-10-03T15:11:42.556637",
     "status": "completed"
    },
    "tags": []
   },
   "outputs": [],
   "source": [
    "# Convert the object predictor variables to numerical dummies.\n",
    "\n",
    "airline_data_dummies = pd.get_dummies(airline_data, \n",
    "                                         columns=['satisfaction','Customer Type','Type of Travel','Class'])"
   ]
  },
  {
   "cell_type": "markdown",
   "id": "4fe9963b",
   "metadata": {
    "papermill": {
     "duration": 0.011864,
     "end_time": "2024-10-03T15:11:42.689940",
     "exception": false,
     "start_time": "2024-10-03T15:11:42.678076",
     "status": "completed"
    },
    "tags": []
   },
   "source": [
    "**Isolate your target and predictor variables**\n",
    "\n",
    "Separately define the target variable (*satisfaction*) and the features."
   ]
  },
  {
   "cell_type": "code",
   "execution_count": 6,
   "id": "f17bf98e",
   "metadata": {
    "execution": {
     "iopub.execute_input": "2024-10-03T15:11:42.716382Z",
     "iopub.status.busy": "2024-10-03T15:11:42.715351Z",
     "iopub.status.idle": "2024-10-03T15:11:42.726850Z",
     "shell.execute_reply": "2024-10-03T15:11:42.725676Z"
    },
    "papermill": {
     "duration": 0.028087,
     "end_time": "2024-10-03T15:11:42.729917",
     "exception": false,
     "start_time": "2024-10-03T15:11:42.701830",
     "status": "completed"
    },
    "tags": []
   },
   "outputs": [],
   "source": [
    "# Define the y (target) variable.\n",
    "\n",
    "y = airline_data_dummies['satisfaction_satisfied']\n",
    "\n",
    "# Define the X (predictor) variables.\n",
    "\n",
    "X = airline_data_dummies.drop(['satisfaction_satisfied','satisfaction_dissatisfied'], axis = 1)"
   ]
  },
  {
   "cell_type": "markdown",
   "id": "74237dba",
   "metadata": {
    "papermill": {
     "duration": 0.014033,
     "end_time": "2024-10-03T15:11:42.756686",
     "exception": false,
     "start_time": "2024-10-03T15:11:42.742653",
     "status": "completed"
    },
    "tags": []
   },
   "source": [
    "**Divide your data**\n",
    "\n",
    "Divide data into a training set (75% of the data) and test set (25% of the data). This is an important step in the process, as it allows me to reserve a part of the data that the model has not used to test how well the model generalizes (or performs) on new data."
   ]
  },
  {
   "cell_type": "code",
   "execution_count": 7,
   "id": "d2912b96",
   "metadata": {
    "execution": {
     "iopub.execute_input": "2024-10-03T15:11:42.783939Z",
     "iopub.status.busy": "2024-10-03T15:11:42.783430Z",
     "iopub.status.idle": "2024-10-03T15:11:42.873256Z",
     "shell.execute_reply": "2024-10-03T15:11:42.871934Z"
    },
    "papermill": {
     "duration": 0.107118,
     "end_time": "2024-10-03T15:11:42.876476",
     "exception": false,
     "start_time": "2024-10-03T15:11:42.769358",
     "status": "completed"
    },
    "tags": []
   },
   "outputs": [],
   "source": [
    "# Perform the split operation on your data.\n",
    "# Assign the outputs as follows: X_train, X_test, y_train, y_test.\n",
    "\n",
    "X_train, X_test, y_train, y_test = train_test_split(X, y, test_size=0.25, \n",
    "                                                    stratify=y, random_state=42)"
   ]
  },
  {
   "cell_type": "markdown",
   "id": "163dfa88",
   "metadata": {
    "papermill": {
     "duration": 0.011682,
     "end_time": "2024-10-03T15:11:42.900756",
     "exception": false,
     "start_time": "2024-10-03T15:11:42.889074",
     "status": "completed"
    },
    "tags": []
   },
   "source": [
    "# Step 3: Model building\n",
    "\n",
    "**\"Instantiate\" your XGBClassifer**\n",
    "\n",
    "Before I fit my model to my airline dataset, first I need to create the XGB Classifier model and define its objective. I'll use this model to fit and score different hyperparameters during the GridSearch cross-validation process."
   ]
  },
  {
   "cell_type": "code",
   "execution_count": 8,
   "id": "7ec0717e",
   "metadata": {
    "execution": {
     "iopub.execute_input": "2024-10-03T15:11:42.927401Z",
     "iopub.status.busy": "2024-10-03T15:11:42.926934Z",
     "iopub.status.idle": "2024-10-03T15:11:42.932940Z",
     "shell.execute_reply": "2024-10-03T15:11:42.931488Z"
    },
    "papermill": {
     "duration": 0.022824,
     "end_time": "2024-10-03T15:11:42.935976",
     "exception": false,
     "start_time": "2024-10-03T15:11:42.913152",
     "status": "completed"
    },
    "tags": []
   },
   "outputs": [],
   "source": [
    "# Define xgb to be your XGBClassifier.\n",
    "\n",
    "xgb = XGBClassifier(objective='binary:logistic', random_state=0)"
   ]
  },
  {
   "cell_type": "markdown",
   "id": "7b446e91",
   "metadata": {
    "papermill": {
     "duration": 0.011538,
     "end_time": "2024-10-03T15:11:42.959432",
     "exception": false,
     "start_time": "2024-10-03T15:11:42.947894",
     "status": "completed"
    },
    "tags": []
   },
   "source": [
    "**Define the parameters for hyperparameter tuning**\n",
    "\n",
    "To identify suitable parameters for your xgboost model, first define the parameters for hyperparameter tuning. Specifically, consider tuning max_depth, min_child_weight, learning_rate, n_estimators, subsample, and/or colsample_bytree"
   ]
  },
  {
   "cell_type": "code",
   "execution_count": 9,
   "id": "0d13515b",
   "metadata": {
    "execution": {
     "iopub.execute_input": "2024-10-03T15:11:42.985151Z",
     "iopub.status.busy": "2024-10-03T15:11:42.984581Z",
     "iopub.status.idle": "2024-10-03T15:11:42.991715Z",
     "shell.execute_reply": "2024-10-03T15:11:42.990100Z"
    },
    "papermill": {
     "duration": 0.023364,
     "end_time": "2024-10-03T15:11:42.994536",
     "exception": false,
     "start_time": "2024-10-03T15:11:42.971172",
     "status": "completed"
    },
    "tags": []
   },
   "outputs": [],
   "source": [
    "# Define parameters for tuning as `cv_params`.\n",
    "\n",
    "cv_params = {'max_depth': [4],\n",
    "                'min_child_weight': [3],\n",
    "                'learning_rate': [0.1],\n",
    "                'n_estimators': [5],\n",
    "                'subsample': [0.7],\n",
    "                'colsample_bytree': [0.7]\n",
    "            }"
   ]
  },
  {
   "cell_type": "markdown",
   "id": "e14ef873",
   "metadata": {
    "papermill": {
     "duration": 0.01243,
     "end_time": "2024-10-03T15:11:43.020054",
     "exception": false,
     "start_time": "2024-10-03T15:11:43.007624",
     "status": "completed"
    },
    "tags": []
   },
   "source": [
    "**Define how the models will be evaluated**\n",
    "\n",
    "Define how the models will be evaluated for hyperparameter tuning. To yield the best understanding of model performance, utilize a suite of metrics."
   ]
  },
  {
   "cell_type": "code",
   "execution_count": 10,
   "id": "65b79378",
   "metadata": {
    "execution": {
     "iopub.execute_input": "2024-10-03T15:11:43.046572Z",
     "iopub.status.busy": "2024-10-03T15:11:43.046100Z",
     "iopub.status.idle": "2024-10-03T15:11:43.051829Z",
     "shell.execute_reply": "2024-10-03T15:11:43.050669Z"
    },
    "papermill": {
     "duration": 0.022232,
     "end_time": "2024-10-03T15:11:43.054484",
     "exception": false,
     "start_time": "2024-10-03T15:11:43.032252",
     "status": "completed"
    },
    "tags": []
   },
   "outputs": [],
   "source": [
    "# Define your criteria as `scoring`.\n",
    "\n",
    "scoring = {'accuracy', 'precision', 'recall', 'f1'}"
   ]
  },
  {
   "cell_type": "markdown",
   "id": "afd104c8",
   "metadata": {
    "papermill": {
     "duration": 0.011822,
     "end_time": "2024-10-03T15:11:43.078407",
     "exception": false,
     "start_time": "2024-10-03T15:11:43.066585",
     "status": "completed"
    },
    "tags": []
   },
   "source": [
    "**Construct the GridSearch cross-validation**\n",
    "\n",
    "Construct the GridSearch cross-validation using the model, parameters, and scoring metrics I defined. Additionally, define the number of folds and specify which metric from above will guide the refit strategy."
   ]
  },
  {
   "cell_type": "code",
   "execution_count": 11,
   "id": "708e0d77",
   "metadata": {
    "execution": {
     "iopub.execute_input": "2024-10-03T15:11:43.105141Z",
     "iopub.status.busy": "2024-10-03T15:11:43.104618Z",
     "iopub.status.idle": "2024-10-03T15:11:43.110870Z",
     "shell.execute_reply": "2024-10-03T15:11:43.109526Z"
    },
    "papermill": {
     "duration": 0.022878,
     "end_time": "2024-10-03T15:11:43.113662",
     "exception": false,
     "start_time": "2024-10-03T15:11:43.090784",
     "status": "completed"
    },
    "tags": []
   },
   "outputs": [],
   "source": [
    "# Construct your GridSearch.\n",
    "\n",
    "xgb_cv = GridSearchCV(xgb, cv_params, scoring=scoring, cv=5, refit='f1')"
   ]
  },
  {
   "cell_type": "markdown",
   "id": "e8bcd161",
   "metadata": {
    "papermill": {
     "duration": 0.011731,
     "end_time": "2024-10-03T15:11:43.137680",
     "exception": false,
     "start_time": "2024-10-03T15:11:43.125949",
     "status": "completed"
    },
    "tags": []
   },
   "source": [
    "**Fit the GridSearch model to your training data**"
   ]
  },
  {
   "cell_type": "code",
   "execution_count": 12,
   "id": "95ecd9bf",
   "metadata": {
    "execution": {
     "iopub.execute_input": "2024-10-03T15:11:43.164159Z",
     "iopub.status.busy": "2024-10-03T15:11:43.163591Z",
     "iopub.status.idle": "2024-10-03T15:11:46.972576Z",
     "shell.execute_reply": "2024-10-03T15:11:46.971171Z"
    },
    "papermill": {
     "duration": 3.825985,
     "end_time": "2024-10-03T15:11:46.975475",
     "exception": false,
     "start_time": "2024-10-03T15:11:43.149490",
     "status": "completed"
    },
    "tags": []
   },
   "outputs": [
    {
     "name": "stdout",
     "output_type": "stream",
     "text": [
      "CPU times: user 7.9 s, sys: 83.1 ms, total: 7.98 s\n",
      "Wall time: 3.78 s\n"
     ]
    },
    {
     "data": {
      "text/html": [
       "<style>#sk-container-id-1 {color: black;background-color: white;}#sk-container-id-1 pre{padding: 0;}#sk-container-id-1 div.sk-toggleable {background-color: white;}#sk-container-id-1 label.sk-toggleable__label {cursor: pointer;display: block;width: 100%;margin-bottom: 0;padding: 0.3em;box-sizing: border-box;text-align: center;}#sk-container-id-1 label.sk-toggleable__label-arrow:before {content: \"▸\";float: left;margin-right: 0.25em;color: #696969;}#sk-container-id-1 label.sk-toggleable__label-arrow:hover:before {color: black;}#sk-container-id-1 div.sk-estimator:hover label.sk-toggleable__label-arrow:before {color: black;}#sk-container-id-1 div.sk-toggleable__content {max-height: 0;max-width: 0;overflow: hidden;text-align: left;background-color: #f0f8ff;}#sk-container-id-1 div.sk-toggleable__content pre {margin: 0.2em;color: black;border-radius: 0.25em;background-color: #f0f8ff;}#sk-container-id-1 input.sk-toggleable__control:checked~div.sk-toggleable__content {max-height: 200px;max-width: 100%;overflow: auto;}#sk-container-id-1 input.sk-toggleable__control:checked~label.sk-toggleable__label-arrow:before {content: \"▾\";}#sk-container-id-1 div.sk-estimator input.sk-toggleable__control:checked~label.sk-toggleable__label {background-color: #d4ebff;}#sk-container-id-1 div.sk-label input.sk-toggleable__control:checked~label.sk-toggleable__label {background-color: #d4ebff;}#sk-container-id-1 input.sk-hidden--visually {border: 0;clip: rect(1px 1px 1px 1px);clip: rect(1px, 1px, 1px, 1px);height: 1px;margin: -1px;overflow: hidden;padding: 0;position: absolute;width: 1px;}#sk-container-id-1 div.sk-estimator {font-family: monospace;background-color: #f0f8ff;border: 1px dotted black;border-radius: 0.25em;box-sizing: border-box;margin-bottom: 0.5em;}#sk-container-id-1 div.sk-estimator:hover {background-color: #d4ebff;}#sk-container-id-1 div.sk-parallel-item::after {content: \"\";width: 100%;border-bottom: 1px solid gray;flex-grow: 1;}#sk-container-id-1 div.sk-label:hover label.sk-toggleable__label {background-color: #d4ebff;}#sk-container-id-1 div.sk-serial::before {content: \"\";position: absolute;border-left: 1px solid gray;box-sizing: border-box;top: 0;bottom: 0;left: 50%;z-index: 0;}#sk-container-id-1 div.sk-serial {display: flex;flex-direction: column;align-items: center;background-color: white;padding-right: 0.2em;padding-left: 0.2em;position: relative;}#sk-container-id-1 div.sk-item {position: relative;z-index: 1;}#sk-container-id-1 div.sk-parallel {display: flex;align-items: stretch;justify-content: center;background-color: white;position: relative;}#sk-container-id-1 div.sk-item::before, #sk-container-id-1 div.sk-parallel-item::before {content: \"\";position: absolute;border-left: 1px solid gray;box-sizing: border-box;top: 0;bottom: 0;left: 50%;z-index: -1;}#sk-container-id-1 div.sk-parallel-item {display: flex;flex-direction: column;z-index: 1;position: relative;background-color: white;}#sk-container-id-1 div.sk-parallel-item:first-child::after {align-self: flex-end;width: 50%;}#sk-container-id-1 div.sk-parallel-item:last-child::after {align-self: flex-start;width: 50%;}#sk-container-id-1 div.sk-parallel-item:only-child::after {width: 0;}#sk-container-id-1 div.sk-dashed-wrapped {border: 1px dashed gray;margin: 0 0.4em 0.5em 0.4em;box-sizing: border-box;padding-bottom: 0.4em;background-color: white;}#sk-container-id-1 div.sk-label label {font-family: monospace;font-weight: bold;display: inline-block;line-height: 1.2em;}#sk-container-id-1 div.sk-label-container {text-align: center;}#sk-container-id-1 div.sk-container {/* jupyter's `normalize.less` sets `[hidden] { display: none; }` but bootstrap.min.css set `[hidden] { display: none !important; }` so we also need the `!important` here to be able to override the default hidden behavior on the sphinx rendered scikit-learn.org. See: https://github.com/scikit-learn/scikit-learn/issues/21755 */display: inline-block !important;position: relative;}#sk-container-id-1 div.sk-text-repr-fallback {display: none;}</style><div id=\"sk-container-id-1\" class=\"sk-top-container\"><div class=\"sk-text-repr-fallback\"><pre>GridSearchCV(cv=5,\n",
       "             estimator=XGBClassifier(base_score=None, booster=None,\n",
       "                                     callbacks=None, colsample_bylevel=None,\n",
       "                                     colsample_bynode=None,\n",
       "                                     colsample_bytree=None, device=None,\n",
       "                                     early_stopping_rounds=None,\n",
       "                                     enable_categorical=False, eval_metric=None,\n",
       "                                     feature_types=None, gamma=None,\n",
       "                                     grow_policy=None, importance_type=None,\n",
       "                                     interaction_constraints=None,\n",
       "                                     learning_rate=None,...\n",
       "                                     max_leaves=None, min_child_weight=None,\n",
       "                                     missing=nan, monotone_constraints=None,\n",
       "                                     multi_strategy=None, n_estimators=None,\n",
       "                                     n_jobs=None, num_parallel_tree=None,\n",
       "                                     random_state=0, ...),\n",
       "             param_grid={&#x27;colsample_bytree&#x27;: [0.7], &#x27;learning_rate&#x27;: [0.1],\n",
       "                         &#x27;max_depth&#x27;: [4], &#x27;min_child_weight&#x27;: [3],\n",
       "                         &#x27;n_estimators&#x27;: [5], &#x27;subsample&#x27;: [0.7]},\n",
       "             refit=&#x27;f1&#x27;, scoring={&#x27;recall&#x27;, &#x27;f1&#x27;, &#x27;precision&#x27;, &#x27;accuracy&#x27;})</pre><b>In a Jupyter environment, please rerun this cell to show the HTML representation or trust the notebook. <br />On GitHub, the HTML representation is unable to render, please try loading this page with nbviewer.org.</b></div><div class=\"sk-container\" hidden><div class=\"sk-item sk-dashed-wrapped\"><div class=\"sk-label-container\"><div class=\"sk-label sk-toggleable\"><input class=\"sk-toggleable__control sk-hidden--visually\" id=\"sk-estimator-id-1\" type=\"checkbox\" ><label for=\"sk-estimator-id-1\" class=\"sk-toggleable__label sk-toggleable__label-arrow\">GridSearchCV</label><div class=\"sk-toggleable__content\"><pre>GridSearchCV(cv=5,\n",
       "             estimator=XGBClassifier(base_score=None, booster=None,\n",
       "                                     callbacks=None, colsample_bylevel=None,\n",
       "                                     colsample_bynode=None,\n",
       "                                     colsample_bytree=None, device=None,\n",
       "                                     early_stopping_rounds=None,\n",
       "                                     enable_categorical=False, eval_metric=None,\n",
       "                                     feature_types=None, gamma=None,\n",
       "                                     grow_policy=None, importance_type=None,\n",
       "                                     interaction_constraints=None,\n",
       "                                     learning_rate=None,...\n",
       "                                     max_leaves=None, min_child_weight=None,\n",
       "                                     missing=nan, monotone_constraints=None,\n",
       "                                     multi_strategy=None, n_estimators=None,\n",
       "                                     n_jobs=None, num_parallel_tree=None,\n",
       "                                     random_state=0, ...),\n",
       "             param_grid={&#x27;colsample_bytree&#x27;: [0.7], &#x27;learning_rate&#x27;: [0.1],\n",
       "                         &#x27;max_depth&#x27;: [4], &#x27;min_child_weight&#x27;: [3],\n",
       "                         &#x27;n_estimators&#x27;: [5], &#x27;subsample&#x27;: [0.7]},\n",
       "             refit=&#x27;f1&#x27;, scoring={&#x27;recall&#x27;, &#x27;f1&#x27;, &#x27;precision&#x27;, &#x27;accuracy&#x27;})</pre></div></div></div><div class=\"sk-parallel\"><div class=\"sk-parallel-item\"><div class=\"sk-item\"><div class=\"sk-label-container\"><div class=\"sk-label sk-toggleable\"><input class=\"sk-toggleable__control sk-hidden--visually\" id=\"sk-estimator-id-2\" type=\"checkbox\" ><label for=\"sk-estimator-id-2\" class=\"sk-toggleable__label sk-toggleable__label-arrow\">estimator: XGBClassifier</label><div class=\"sk-toggleable__content\"><pre>XGBClassifier(base_score=None, booster=None, callbacks=None,\n",
       "              colsample_bylevel=None, colsample_bynode=None,\n",
       "              colsample_bytree=None, device=None, early_stopping_rounds=None,\n",
       "              enable_categorical=False, eval_metric=None, feature_types=None,\n",
       "              gamma=None, grow_policy=None, importance_type=None,\n",
       "              interaction_constraints=None, learning_rate=None, max_bin=None,\n",
       "              max_cat_threshold=None, max_cat_to_onehot=None,\n",
       "              max_delta_step=None, max_depth=None, max_leaves=None,\n",
       "              min_child_weight=None, missing=nan, monotone_constraints=None,\n",
       "              multi_strategy=None, n_estimators=None, n_jobs=None,\n",
       "              num_parallel_tree=None, random_state=0, ...)</pre></div></div></div><div class=\"sk-serial\"><div class=\"sk-item\"><div class=\"sk-estimator sk-toggleable\"><input class=\"sk-toggleable__control sk-hidden--visually\" id=\"sk-estimator-id-3\" type=\"checkbox\" ><label for=\"sk-estimator-id-3\" class=\"sk-toggleable__label sk-toggleable__label-arrow\">XGBClassifier</label><div class=\"sk-toggleable__content\"><pre>XGBClassifier(base_score=None, booster=None, callbacks=None,\n",
       "              colsample_bylevel=None, colsample_bynode=None,\n",
       "              colsample_bytree=None, device=None, early_stopping_rounds=None,\n",
       "              enable_categorical=False, eval_metric=None, feature_types=None,\n",
       "              gamma=None, grow_policy=None, importance_type=None,\n",
       "              interaction_constraints=None, learning_rate=None, max_bin=None,\n",
       "              max_cat_threshold=None, max_cat_to_onehot=None,\n",
       "              max_delta_step=None, max_depth=None, max_leaves=None,\n",
       "              min_child_weight=None, missing=nan, monotone_constraints=None,\n",
       "              multi_strategy=None, n_estimators=None, n_jobs=None,\n",
       "              num_parallel_tree=None, random_state=0, ...)</pre></div></div></div></div></div></div></div></div></div></div>"
      ],
      "text/plain": [
       "GridSearchCV(cv=5,\n",
       "             estimator=XGBClassifier(base_score=None, booster=None,\n",
       "                                     callbacks=None, colsample_bylevel=None,\n",
       "                                     colsample_bynode=None,\n",
       "                                     colsample_bytree=None, device=None,\n",
       "                                     early_stopping_rounds=None,\n",
       "                                     enable_categorical=False, eval_metric=None,\n",
       "                                     feature_types=None, gamma=None,\n",
       "                                     grow_policy=None, importance_type=None,\n",
       "                                     interaction_constraints=None,\n",
       "                                     learning_rate=None,...\n",
       "                                     max_leaves=None, min_child_weight=None,\n",
       "                                     missing=nan, monotone_constraints=None,\n",
       "                                     multi_strategy=None, n_estimators=None,\n",
       "                                     n_jobs=None, num_parallel_tree=None,\n",
       "                                     random_state=0, ...),\n",
       "             param_grid={'colsample_bytree': [0.7], 'learning_rate': [0.1],\n",
       "                         'max_depth': [4], 'min_child_weight': [3],\n",
       "                         'n_estimators': [5], 'subsample': [0.7]},\n",
       "             refit='f1', scoring={'recall', 'f1', 'precision', 'accuracy'})"
      ]
     },
     "execution_count": 12,
     "metadata": {},
     "output_type": "execute_result"
    }
   ],
   "source": [
    "%%time\n",
    "# fit the GridSearch model to training data\n",
    "\n",
    "xgb_cv.fit(X_train, y_train)"
   ]
  },
  {
   "cell_type": "markdown",
   "id": "6e7e02b2",
   "metadata": {
    "papermill": {
     "duration": 0.012541,
     "end_time": "2024-10-03T15:11:47.000899",
     "exception": false,
     "start_time": "2024-10-03T15:11:46.988358",
     "status": "completed"
    },
    "tags": []
   },
   "source": [
    "The optimal set of parameters yielded by the GridSearchCV is:\n",
    "\n",
    "* **colsample_bytree**: 0.7\n",
    "* **learning_rate**: 0.1\n",
    "* **max_depth**: 4\n",
    "* **min_child_weight**: 3\n",
    "* **n_estimators**: 5\n",
    "* **subsample**: 0.7\n",
    "\n",
    "This set of parameters was likely chosen based on the scoring metric specified in the `scoring` parameter of GridSearchCV, which in this case is a dictionary containing 'accuracy', 'recall', 'f1', and 'precision'. The `refit` parameter set to 'f1' indicates that the final model will be refitted using the parameters that achieved the highest F1-score.\n"
   ]
  },
  {
   "cell_type": "markdown",
   "id": "925d2fb0",
   "metadata": {
    "papermill": {
     "duration": 0.012337,
     "end_time": "2024-10-03T15:11:47.026194",
     "exception": false,
     "start_time": "2024-10-03T15:11:47.013857",
     "status": "completed"
    },
    "tags": []
   },
   "source": [
    "**Save your model for reference using pickle**\n",
    "\n",
    "Use the *pickle* library to save the output of this model."
   ]
  },
  {
   "cell_type": "code",
   "execution_count": 13,
   "id": "0e71be98",
   "metadata": {
    "execution": {
     "iopub.execute_input": "2024-10-03T15:11:47.053643Z",
     "iopub.status.busy": "2024-10-03T15:11:47.052671Z",
     "iopub.status.idle": "2024-10-03T15:11:47.061661Z",
     "shell.execute_reply": "2024-10-03T15:11:47.060681Z"
    },
    "papermill": {
     "duration": 0.025489,
     "end_time": "2024-10-03T15:11:47.064011",
     "exception": false,
     "start_time": "2024-10-03T15:11:47.038522",
     "status": "completed"
    },
    "tags": []
   },
   "outputs": [],
   "source": [
    "# Use `pickle` to save the trained model.\n",
    "\n",
    "with open('/kaggle/working/' + 'xgb_cv_model.pickle', 'wb') as to_write:\n",
    "    pickle.dump(xgb_cv, to_write) "
   ]
  },
  {
   "cell_type": "markdown",
   "id": "d7320044",
   "metadata": {
    "papermill": {
     "duration": 0.011844,
     "end_time": "2024-10-03T15:11:47.089485",
     "exception": false,
     "start_time": "2024-10-03T15:11:47.077641",
     "status": "completed"
    },
    "tags": []
   },
   "source": [
    "# Step 4: Results and evaluation\n",
    "\n",
    "**Formulate predictions on my test set**\n",
    "\n",
    "To evaluate the predictions yielded from my model, leverage a series of metrics and evaluation techniques from scikit-learn by examining the actual observed values in the test set relative to my model's prediction."
   ]
  },
  {
   "cell_type": "code",
   "execution_count": 14,
   "id": "0b5114e0",
   "metadata": {
    "execution": {
     "iopub.execute_input": "2024-10-03T15:11:47.116464Z",
     "iopub.status.busy": "2024-10-03T15:11:47.115640Z",
     "iopub.status.idle": "2024-10-03T15:11:47.234527Z",
     "shell.execute_reply": "2024-10-03T15:11:47.233304Z"
    },
    "papermill": {
     "duration": 0.136002,
     "end_time": "2024-10-03T15:11:47.237792",
     "exception": false,
     "start_time": "2024-10-03T15:11:47.101790",
     "status": "completed"
    },
    "tags": []
   },
   "outputs": [],
   "source": [
    "# Apply your model to predict on your test data. Call this output \"y_pred\".\n",
    "\n",
    "y_pred = xgb_cv.best_estimator_.predict(X_test)"
   ]
  },
  {
   "cell_type": "markdown",
   "id": "198f2b68",
   "metadata": {
    "papermill": {
     "duration": 0.011881,
     "end_time": "2024-10-03T15:11:47.263433",
     "exception": false,
     "start_time": "2024-10-03T15:11:47.251552",
     "status": "completed"
    },
    "tags": []
   },
   "source": [
    "**Leverage metrics to evaluate your model's performance**\n",
    "\n",
    "Apply a series of metrics from scikit-learn to assess my model. Specifically, print the accuracy score, precision score, recall score, and f1 score associated with your test data and predicted values."
   ]
  },
  {
   "cell_type": "code",
   "execution_count": 15,
   "id": "86bd2cbc",
   "metadata": {
    "execution": {
     "iopub.execute_input": "2024-10-03T15:11:47.289692Z",
     "iopub.status.busy": "2024-10-03T15:11:47.289273Z",
     "iopub.status.idle": "2024-10-03T15:11:47.351918Z",
     "shell.execute_reply": "2024-10-03T15:11:47.350045Z"
    },
    "papermill": {
     "duration": 0.079045,
     "end_time": "2024-10-03T15:11:47.354675",
     "exception": false,
     "start_time": "2024-10-03T15:11:47.275630",
     "status": "completed"
    },
    "tags": []
   },
   "outputs": [
    {
     "name": "stdout",
     "output_type": "stream",
     "text": [
      "Accuracy: 0.8821989528795812\n",
      "Precision: 0.8664669714646066\n",
      "Recall: 0.9277515192437542\n",
      "F1-score: 0.896062606994375\n"
     ]
    }
   ],
   "source": [
    "# 1. Print your accuracy score.\n",
    "print(\"Accuracy:\", accuracy_score(y_test, y_pred))\n",
    "\n",
    "# 2. Print your precision score.\n",
    "print(\"Precision:\", precision_score(y_test, y_pred))\n",
    "\n",
    "# 3. Print your recall score.\n",
    "print(\"Recall:\", recall_score(y_test, y_pred))\n",
    "\n",
    "# 4. Print your f1 score.\n",
    "print(\"F1-score:\", f1_score(y_test, y_pred))"
   ]
  },
  {
   "cell_type": "markdown",
   "id": "986c5c38",
   "metadata": {
    "papermill": {
     "duration": 0.011944,
     "end_time": "2024-10-03T15:11:47.379097",
     "exception": false,
     "start_time": "2024-10-03T15:11:47.367153",
     "status": "completed"
    },
    "tags": []
   },
   "source": [
    "* Accuracy is a straightforward metric that measures the overall proportion of correct predictions. In your case, an accuracy of 0.8744 means that your model correctly predicted the outcome for approximately 87.44% of the data points in the test set.\n",
    "* Precision: Measures the proportion of positive predictions that were actually correct. A high precision indicates that your model is good at identifying positive instances when it predicts a positive. In your case, a precision of 0.8725 means that out of all the instances your model predicted as positive, 87.25% were indeed positive.\n",
    "* Recall: Measures the proportion of actual positive instances that your model correctly identified. A high recall indicates that your model is good at capturing most of the positive instances. In your case, a recall of 0.9024 means that your model correctly identified 90.24% of the actual positive instances.\n",
    "\n",
    "Neither precision nor recall is inherently \"more accurate\" than the other. The relative importance of precision and recall depends on the specific problem and the consequences of false positives and false negatives. For example, in a medical diagnosis context, you might prioritize recall (avoiding false negatives) to ensure that all potential cases are identified.\n",
    "\n",
    "* F1-score is a harmonic mean of precision and recall, providing a single metric that balances both. It's particularly useful when you want to consider both precision and recall in a single evaluation. In your case, an F1-score of 0.8872 indicates a good balance between precision and recall.\n",
    "\n",
    "In summary:\n",
    "\n",
    "* Accuracy: Gives an overall sense of model performance.\n",
    "* Precision: Measures the accuracy of positive predictions.\n",
    "* Recall: Measures the ability to capture all positive instances.\n",
    "* F1-score: Provides a balanced metric considering both precision and recall."
   ]
  },
  {
   "cell_type": "markdown",
   "id": "d5dfaa77",
   "metadata": {
    "papermill": {
     "duration": 0.012064,
     "end_time": "2024-10-03T15:11:47.403831",
     "exception": false,
     "start_time": "2024-10-03T15:11:47.391767",
     "status": "completed"
    },
    "tags": []
   },
   "source": [
    "**Gain clarity with the confusion matrix**\n",
    "\n",
    "Recall that a confusion matrix is a graphic that shows a model's true and false positives and true and false negatives. It helps to create a visual representation of the components feeding into the metrics above."
   ]
  },
  {
   "cell_type": "code",
   "execution_count": 16,
   "id": "7ca2dfed",
   "metadata": {
    "execution": {
     "iopub.execute_input": "2024-10-03T15:11:47.430977Z",
     "iopub.status.busy": "2024-10-03T15:11:47.430450Z",
     "iopub.status.idle": "2024-10-03T15:11:47.896466Z",
     "shell.execute_reply": "2024-10-03T15:11:47.894885Z"
    },
    "papermill": {
     "duration": 0.482789,
     "end_time": "2024-10-03T15:11:47.899298",
     "exception": false,
     "start_time": "2024-10-03T15:11:47.416509",
     "status": "completed"
    },
    "tags": []
   },
   "outputs": [
    {
     "data": {
      "image/png": "[encoded data removed]",
      "text/plain": [
       "<Figure size 640x480 with 2 Axes>"
      ]
     },
     "metadata": {},
     "output_type": "display_data"
    }
   ],
   "source": [
    "# Construct and display your confusion matrix.\n",
    "# Construct the confusion matrix for your predicted and test values.\n",
    "# Create the display for your confusion matrix.\n",
    "def conf_matrix_plot(model, x_data, y_data):\n",
    "    '''\n",
    "    Accepts as argument model object, X data (test or validate), and y data (test or validate). \n",
    "    Returns a plot of confusion matrix for predictions on y data.\n",
    "    ''' \n",
    "    model_pred = model.predict(x_data)\n",
    "    cm = confusion_matrix(y_data, model_pred, labels=model.classes_)\n",
    "    disp = ConfusionMatrixDisplay(confusion_matrix=cm,\n",
    "                             display_labels=model.classes_)\n",
    "  \n",
    "    disp.plot()\n",
    "    plt.show()\n",
    "\n",
    "# Plot the visual in-line.\n",
    "conf_matrix_plot(xgb_cv, X_test, y_test)"
   ]
  },
  {
   "cell_type": "markdown",
   "id": "20625525",
   "metadata": {
    "papermill": {
     "duration": 0.012923,
     "end_time": "2024-10-03T15:11:47.925451",
     "exception": false,
     "start_time": "2024-10-03T15:11:47.912528",
     "status": "completed"
    },
    "tags": []
   },
   "source": [
    "## Analyzing the Confusion Matrix\n",
    "\n",
    "**Observations from the Confusion Matrix:**\n",
    "\n",
    "* **Class 0 (True Negative):** 12157 instances were correctly predicted as negative.\n",
    "* **Class 0 (False Positive):** 2541 instances were incorrectly predicted as positive.\n",
    "* **Class 1 (False Negative):** 1284 instances were incorrectly predicted as negative.\n",
    "* **Class 1 (True Positive):** 16488 instances were correctly predicted as positive.\n",
    "\n",
    "**Correlation with Other Calculations:**\n",
    "\n",
    "* **Precision:** A high precision would suggest that the model is good at identifying positive instances. In this case, the confusion matrix shows that there are relatively fewer false positives, which would contribute to a higher precision.\n",
    "* **Recall:** A high recall would suggest that the model is good at capturing most of the positive instances. In this case, the confusion matrix shows that there are relatively fewer false negatives, which would contribute to a higher recall.\n",
    "* **F1-score:** As F1-score is a balanced metric considering both precision and recall, the confusion matrix provides insights into both aspects. A high F1-score would indicate that the model is performing well in terms of both identifying positive instances and capturing most of the actual positive instances.\n",
    "\n",
    "**Overall, the confusion matrix confirms the findings from the precision, recall, and F1-score calculations.** The relatively low number of false positives and false negatives suggests that the model is performing well in terms of both identifying positive instances and capturing most of the actual positive instances.\n"
   ]
  },
  {
   "cell_type": "markdown",
   "id": "fef2c24f",
   "metadata": {
    "papermill": {
     "duration": 0.012614,
     "end_time": "2024-10-03T15:11:47.951392",
     "exception": false,
     "start_time": "2024-10-03T15:11:47.938778",
     "status": "completed"
    },
    "tags": []
   },
   "source": [
    "**Visualize most important features**\n",
    "\n",
    "xgboost has a built-in function to visualize the relative importance of the features in the model using matplotlib. Output and examine the feature importance of your model."
   ]
  },
  {
   "cell_type": "code",
   "execution_count": 17,
   "id": "e9d5bbfd",
   "metadata": {
    "execution": {
     "iopub.execute_input": "2024-10-03T15:11:47.980092Z",
     "iopub.status.busy": "2024-10-03T15:11:47.979540Z",
     "iopub.status.idle": "2024-10-03T15:11:48.559227Z",
     "shell.execute_reply": "2024-10-03T15:11:48.557662Z"
    },
    "papermill": {
     "duration": 0.597944,
     "end_time": "2024-10-03T15:11:48.562779",
     "exception": false,
     "start_time": "2024-10-03T15:11:47.964835",
     "status": "completed"
    },
    "tags": []
   },
   "outputs": [
    {
     "data": {
      "image/png": "[encoded data removed]",
      "text/plain": [
       "<Figure size 640x480 with 1 Axes>"
      ]
     },
     "metadata": {},
     "output_type": "display_data"
    }
   ],
   "source": [
    "# Plot the relative feature importance of the predictor variables in your model.\n",
    "plot_importance(xgb_cv.best_estimator_);"
   ]
  },
  {
   "cell_type": "markdown",
   "id": "de9099ee",
   "metadata": {
    "papermill": {
     "duration": 0.014307,
     "end_time": "2024-10-03T15:11:48.592056",
     "exception": false,
     "start_time": "2024-10-03T15:11:48.577749",
     "status": "completed"
    },
    "tags": []
   },
   "source": [
    "## Analyzing Feature Importances\n",
    "\n",
    "**Observations from the Feature Importances:**\n",
    "\n",
    "* **Seat comfort:** This feature has the highest importance, suggesting that it strongly influences customer satisfaction.\n",
    "* **Inflight entertainment, Food and drink, Leg room service:** These features also have relatively high importance, indicating their significant contributions to customer satisfaction.\n",
    "* **Ease of Online booking, Class_Business, Customer Type_Loyal Customer, Checkin service, On-board service:** These features have moderate importance, suggesting that they play a role in determining customer satisfaction.\n",
    "* **Inflight wifi service, Type of Travel_Personal Travel, Type of Travel_Business travel, Online support:** These features have lower importance, suggesting that they may have a smaller impact on customer satisfaction.\n",
    "* **Customer Type_disloyal Customer, Online boarding, Baggage handling, Departure/Arrival time convenient, Age:** These features have the lowest importance, suggesting that they may have little or no impact on customer satisfaction.\n",
    "\n",
    "**Surprises:**\n",
    "\n",
    "* **Seat comfort:** While it's intuitive that comfortable seats would contribute to satisfaction, the extent to which it outperforms other features might be surprising.\n",
    "* **Class_Business:** Given the higher cost associated with business class, it's reasonable to expect it to have a higher importance. However, its importance is relatively moderate compared to some other features.\n",
    "* **Customer Type_disloyal Customer:** It might be surprising that this feature has such a low importance, as one might expect disloyal customers to have lower satisfaction levels. This could be due to various factors, such as the nature of their dissatisfaction or the limited data available on disloyal customers.\n",
    "\n",
    "**Overall, the feature importances align with our initial hypotheses.** The most important features are related to the in-flight experience, such as seat comfort, entertainment, and food and drink. This suggests that focusing on improving these aspects could significantly enhance customer satisfaction.\n"
   ]
  }
 ],
 "metadata": {
  "kaggle": {
   "accelerator": "none",
   "dataSources": [
    {
     "datasetId": 4106956,
     "sourceId": 7120541,
     "sourceType": "datasetVersion"
    }
   ],
   "dockerImageVersionId": 30775,
   "isGpuEnabled": false,
   "isInternetEnabled": true,
   "language": "python",
   "sourceType": "notebook"
  },
  "kernelspec": {
   "display_name": "Python 3",
   "language": "python",
   "name": "python3"
  },
  "language_info": {
   "codemirror_mode": {
    "name": "ipython",
    "version": 3
   },
   "file_extension": ".py",
   "mimetype": "text/x-python",
   "name": "python",
   "nbconvert_exporter": "python",
   "pygments_lexer": "ipython3",
   "version": "3.10.14"
  },
  "papermill": {
   "default_parameters": {},
   "duration": 13.889096,
   "end_time": "2024-10-03T15:11:49.331691",
   "environment_variables": {},
   "exception": null,
   "input_path": "__notebook__.ipynb",
   "output_path": "__notebook__.ipynb",
   "parameters": {},
   "start_time": "2024-10-03T15:11:35.442595",
   "version": "2.6.0"
  }
 },
 "nbformat": 4,
 "nbformat_minor": 5
}
